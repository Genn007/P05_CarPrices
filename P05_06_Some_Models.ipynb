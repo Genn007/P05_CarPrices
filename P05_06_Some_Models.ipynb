{
 "nbformat": 4,
 "nbformat_minor": 0,
 "metadata": {
  "kernelspec": {
   "display_name": "Python 3",
   "language": "python",
   "name": "python3"
  },
  "language_info": {
   "codemirror_mode": {
    "name": "ipython",
    "version": 2
   },
   "file_extension": ".py",
   "mimetype": "text/x-python",
   "name": "python",
   "nbconvert_exporter": "python",
   "pygments_lexer": "ipython2",
   "version": "2.7.6"
  },
  "colab": {
   "name": "P05_06_Some_Models.ipynb",
   "provenance": [],
   "collapsed_sections": []
  }
 },
 "cells": [
  {
   "cell_type": "markdown",
   "metadata": {
    "collapsed": false,
    "id": "ayBIRYHtrpWo"
   },
   "source": [
    "# Расчет цены на автомобиль\n",
    "### Книга 06 - тестирование моделей\n",
    "\n",
    "Постановка задачи:\n",
    "Необходимо разработать модель, которая бы рассчитывала цену на выставленный на продажу автомобиль.  По условиям учебной задачи обучающих данных в явном виде не предоставлено. Только тестовые, собранные на авто-ру больше года назад. Необходимо самостоятельно разработать программу, которая бы собирала данные по объявлениям на том же сайте авто.ру. Дополнительная сложность - количество данных. Оцениваться работа будет по порядка 35к записей. Необходимо собрать порядка 140 тыс записей.  На самом сайте автору сейчас актуально порядка 90к объявлений.\n",
    "\n",
    "Краткие итоги предыдущей работы:\n",
    "- С сайта авто.ру загружен набор предложений по 12 брендам автомобилей (как в тестовом наборе), размером порядка 42к записей.\n",
    "- Корректировка инфляции показала что эффективнее всего просто домножать результат текущего прогнозирования цен на мультипликатор. Текущее значение мультипликатора 0.72\n",
    "- Признаки подгружены из внешнего файла и созданы на основе существующих.\n",
    "- В ходе экспериментов целевое колидование высококардинальных признаков оказалось предпочтительным.\n",
    "- Опробован ряд моделей ML.\n",
    "\n",
    "Задача книги:\n",
    "\n",
    "- Попробовать модели LGBMRegressor и XGBRegressor.\n",
    "\n",
    "\n"
   ]
  },
  {
   "cell_type": "code",
   "metadata": {
    "colab": {
     "base_uri": "https://localhost:8080/"
    },
    "id": "BjAav3aBrvhK",
    "executionInfo": {
     "status": "ok",
     "timestamp": 1638507994330,
     "user_tz": -180,
     "elapsed": 48149,
     "user": {
      "displayName": "Gennady Booth",
      "photoUrl": "https://lh3.googleusercontent.com/a-/AOh14GgnNwi4zrwzxzF-UnSEXRlOL1p9rxyGxMAR6PGg0A=s64",
      "userId": "04619241264380861816"
     }
    },
    "outputId": "6838a55c-c9ae-4a56-dd95-52bb84278500"
   },
   "source": [
    "from google.colab import drive\n",
    "drive.mount('/content/drive')"
   ],
   "execution_count": 1,
   "outputs": [
    {
     "output_type": "stream",
     "name": "stdout",
     "text": [
      "Mounted at /content/drive\n"
     ]
    }
   ]
  },
  {
   "cell_type": "code",
   "metadata": {
    "pycharm": {
     "name": "#%%\n"
    },
    "id": "g439woeIrpWt",
    "executionInfo": {
     "status": "ok",
     "timestamp": 1638508182848,
     "user_tz": -180,
     "elapsed": 407,
     "user": {
      "displayName": "Gennady Booth",
      "photoUrl": "https://lh3.googleusercontent.com/a-/AOh14GgnNwi4zrwzxzF-UnSEXRlOL1p9rxyGxMAR6PGg0A=s64",
      "userId": "04619241264380861816"
     }
    }
   },
   "source": [
    "import numpy as np\n",
    "import pandas as pd\n",
    "import time\n",
    "import matplotlib.pyplot as plt\n",
    "import seaborn as sns\n",
    "from importlib import reload\n",
    "\n",
    "from sklearn.model_selection import KFold\n",
    "from sklearn.ensemble import RandomForestRegressor, ExtraTreesRegressor, AdaBoostRegressor, GradientBoostingRegressor\n",
    "from sklearn.feature_selection import mutual_info_regression\n",
    "# import category_encoders as ce\n",
    "from sklearn.model_selection import RandomizedSearchCV\n",
    "# from catboost import CatBoostRegressor\n",
    "from lightgbm import LGBMRegressor\n",
    "from xgboost import XGBRegressor\n",
    "\n",
    "# import P05_01_lib as p05 # Модули с предыдущих рабочих листов в виде отдельной библиотеки\n",
    "RANDOM_SEED = 42"
   ],
   "execution_count": 4,
   "outputs": []
  },
  {
   "cell_type": "markdown",
   "metadata": {
    "collapsed": false,
    "id": "LaqdQqQ5rpWu"
   },
   "source": [
    "Определение (вместо обычного импорта) нескольких функций"
   ]
  },
  {
   "cell_type": "code",
   "metadata": {
    "pycharm": {
     "name": "#%%\n"
    },
    "id": "amK9j9Y6rpWv",
    "executionInfo": {
     "status": "ok",
     "timestamp": 1638508190328,
     "user_tz": -180,
     "elapsed": 387,
     "user": {
      "displayName": "Gennady Booth",
      "photoUrl": "https://lh3.googleusercontent.com/a-/AOh14GgnNwi4zrwzxzF-UnSEXRlOL1p9rxyGxMAR6PGg0A=s64",
      "userId": "04619241264380861816"
     }
    }
   },
   "source": [
    "def mape(y_true, y_pred):\n",
    "    return np.mean(np.abs((y_pred - y_true) / y_true))"
   ],
   "execution_count": 5,
   "outputs": []
  },
  {
   "cell_type": "code",
   "metadata": {
    "pycharm": {
     "name": "#%%\n"
    },
    "id": "qCKg8V0hrpWv",
    "executionInfo": {
     "status": "ok",
     "timestamp": 1638508192301,
     "user_tz": -180,
     "elapsed": 3,
     "user": {
      "displayName": "Gennady Booth",
      "photoUrl": "https://lh3.googleusercontent.com/a-/AOh14GgnNwi4zrwzxzF-UnSEXRlOL1p9rxyGxMAR6PGg0A=s64",
      "userId": "04619241264380861816"
     }
    }
   },
   "source": [
    "def eval_model(Xdf,ydf,model):\n",
    "    was = time.perf_counter()\n",
    "    X = Xdf.to_numpy()\n",
    "    y = ydf.to_numpy()\n",
    "    metric = 0\n",
    "    N = 5\n",
    "    # print('Eval:', end=' ')\n",
    "    kf = KFold(n_splits=N, shuffle=True, random_state=RANDOM_SEED)\n",
    "    for trn_index, tt_index in kf.split(X):\n",
    "        X_trn = X[trn_index] ; X_tt =  X[tt_index]\n",
    "        y_trn = y[trn_index] ; y_tt =  y[tt_index]\n",
    "        model.fit(X_trn, np.log(y_trn))\n",
    "        y_prd = np.exp(model.predict(X_tt))\n",
    "        metric += mape(y_tt, y_prd) * 100.0\n",
    "    metric /= N\n",
    "    print('done. {:.4f} sec'.format(time.perf_counter() - was))\n",
    "    return metric\n"
   ],
   "execution_count": 6,
   "outputs": []
  },
  {
   "cell_type": "markdown",
   "metadata": {
    "collapsed": false,
    "id": "mtZH2mp4rpWw"
   },
   "source": [
    "### Загрузка данных\n"
   ]
  },
  {
   "cell_type": "code",
   "metadata": {
    "id": "oVQSjK6XsIQr",
    "executionInfo": {
     "status": "ok",
     "timestamp": 1638508196796,
     "user_tz": -180,
     "elapsed": 376,
     "user": {
      "displayName": "Gennady Booth",
      "photoUrl": "https://lh3.googleusercontent.com/a-/AOh14GgnNwi4zrwzxzF-UnSEXRlOL1p9rxyGxMAR6PGg0A=s64",
      "userId": "04619241264380861816"
     }
    }
   },
   "source": [
    "path = '/content/drive/MyDrive/ML05/'"
   ],
   "execution_count": 7,
   "outputs": []
  },
  {
   "cell_type": "code",
   "metadata": {
    "pycharm": {
     "name": "#%%\n"
    },
    "colab": {
     "base_uri": "https://localhost:8080/",
     "height": 261
    },
    "id": "mAMrKvk5rpWw",
    "executionInfo": {
     "status": "ok",
     "timestamp": 1638508437499,
     "user_tz": -180,
     "elapsed": 2824,
     "user": {
      "displayName": "Gennady Booth",
      "photoUrl": "https://lh3.googleusercontent.com/a-/AOh14GgnNwi4zrwzxzF-UnSEXRlOL1p9rxyGxMAR6PGg0A=s64",
      "userId": "04619241264380861816"
     }
    },
    "outputId": "1fc0477d-098b-40c4-d7d2-a9966e48b0c8"
   },
   "source": [
    "df = pd.read_csv(path+'211203_Train_Test.csv')\n",
    "df.head()"
   ],
   "execution_count": 14,
   "outputs": [
    {
     "output_type": "stream",
     "name": "stderr",
     "text": [
      "/usr/local/lib/python3.7/dist-packages/IPython/core/interactiveshell.py:2718: DtypeWarning: Columns (3) have mixed types.Specify dtype option on import or set low_memory=False.\n",
      "  interactivity=interactivity, compiler=compiler, result=result)\n"
     ]
    },
    {
     "output_type": "execute_result",
     "data": {
      "text/html": [
       "<div>\n",
       "<style scoped>\n",
       "    .dataframe tbody tr th:only-of-type {\n",
       "        vertical-align: middle;\n",
       "    }\n",
       "\n",
       "    .dataframe tbody tr th {\n",
       "        vertical-align: top;\n",
       "    }\n",
       "\n",
       "    .dataframe thead th {\n",
       "        text-align: right;\n",
       "    }\n",
       "</style>\n",
       "<table border=\"1\" class=\"dataframe\">\n",
       "  <thead>\n",
       "    <tr style=\"text-align: right;\">\n",
       "      <th></th>\n",
       "      <th>power</th>\n",
       "      <th>mileage</th>\n",
       "      <th>doors</th>\n",
       "      <th>sell_id</th>\n",
       "      <th>num_owners</th>\n",
       "      <th>price</th>\n",
       "      <th>train</th>\n",
       "      <th>orig_license</th>\n",
       "      <th>left_steering</th>\n",
       "      <th>size_cat</th>\n",
       "      <th>sport_car</th>\n",
       "      <th>euro_car</th>\n",
       "      <th>premium</th>\n",
       "      <th>age</th>\n",
       "      <th>ann_mil</th>\n",
       "      <th>intensity</th>\n",
       "      <th>power_size</th>\n",
       "      <th>vol_power</th>\n",
       "      <th>fuel_B</th>\n",
       "      <th>fuel_D</th>\n",
       "      <th>fuel_E</th>\n",
       "      <th>fuel_G</th>\n",
       "      <th>fuel_H</th>\n",
       "      <th>transmission_AMT</th>\n",
       "      <th>transmission_AT</th>\n",
       "      <th>transmission_CVT</th>\n",
       "      <th>transmission_MT</th>\n",
       "      <th>gear_AWD</th>\n",
       "      <th>gear_FWD</th>\n",
       "      <th>gear_RWD</th>\n",
       "      <th>body_type_MPV</th>\n",
       "      <th>body_type_SUV</th>\n",
       "      <th>body_type_coupe</th>\n",
       "      <th>body_type_f_back</th>\n",
       "      <th>body_type_sedan</th>\n",
       "      <th>body_type_wagon</th>\n",
       "      <th>brand_tgt</th>\n",
       "      <th>color_tgt</th>\n",
       "      <th>model_tgt</th>\n",
       "    </tr>\n",
       "  </thead>\n",
       "  <tbody>\n",
       "    <tr>\n",
       "      <th>0</th>\n",
       "      <td>105.0</td>\n",
       "      <td>74000.0</td>\n",
       "      <td>5</td>\n",
       "      <td>1100575026</td>\n",
       "      <td>3</td>\n",
       "      <td>0</td>\n",
       "      <td>0</td>\n",
       "      <td>1</td>\n",
       "      <td>1</td>\n",
       "      <td>3</td>\n",
       "      <td>0</td>\n",
       "      <td>1</td>\n",
       "      <td>0</td>\n",
       "      <td>6.0</td>\n",
       "      <td>12333.333333</td>\n",
       "      <td>0</td>\n",
       "      <td>35.000000</td>\n",
       "      <td>87.500000</td>\n",
       "      <td>1</td>\n",
       "      <td>0</td>\n",
       "      <td>0</td>\n",
       "      <td>0</td>\n",
       "      <td>0</td>\n",
       "      <td>1</td>\n",
       "      <td>0</td>\n",
       "      <td>0</td>\n",
       "      <td>0</td>\n",
       "      <td>0</td>\n",
       "      <td>1</td>\n",
       "      <td>0</td>\n",
       "      <td>0</td>\n",
       "      <td>0</td>\n",
       "      <td>0</td>\n",
       "      <td>1</td>\n",
       "      <td>0</td>\n",
       "      <td>0</td>\n",
       "      <td>-0.221593</td>\n",
       "      <td>0.230733</td>\n",
       "      <td>-0.060526</td>\n",
       "    </tr>\n",
       "    <tr>\n",
       "      <th>1</th>\n",
       "      <td>110.0</td>\n",
       "      <td>60563.0</td>\n",
       "      <td>5</td>\n",
       "      <td>1100549428</td>\n",
       "      <td>1</td>\n",
       "      <td>0</td>\n",
       "      <td>0</td>\n",
       "      <td>1</td>\n",
       "      <td>1</td>\n",
       "      <td>3</td>\n",
       "      <td>0</td>\n",
       "      <td>1</td>\n",
       "      <td>0</td>\n",
       "      <td>3.0</td>\n",
       "      <td>20187.666667</td>\n",
       "      <td>1</td>\n",
       "      <td>36.666667</td>\n",
       "      <td>68.750000</td>\n",
       "      <td>1</td>\n",
       "      <td>0</td>\n",
       "      <td>0</td>\n",
       "      <td>0</td>\n",
       "      <td>0</td>\n",
       "      <td>0</td>\n",
       "      <td>0</td>\n",
       "      <td>0</td>\n",
       "      <td>1</td>\n",
       "      <td>0</td>\n",
       "      <td>1</td>\n",
       "      <td>0</td>\n",
       "      <td>0</td>\n",
       "      <td>0</td>\n",
       "      <td>0</td>\n",
       "      <td>1</td>\n",
       "      <td>0</td>\n",
       "      <td>0</td>\n",
       "      <td>-0.221593</td>\n",
       "      <td>0.566096</td>\n",
       "      <td>-0.060526</td>\n",
       "    </tr>\n",
       "    <tr>\n",
       "      <th>2</th>\n",
       "      <td>152.0</td>\n",
       "      <td>88000.0</td>\n",
       "      <td>5</td>\n",
       "      <td>1100658222</td>\n",
       "      <td>1</td>\n",
       "      <td>0</td>\n",
       "      <td>0</td>\n",
       "      <td>1</td>\n",
       "      <td>1</td>\n",
       "      <td>4</td>\n",
       "      <td>0</td>\n",
       "      <td>1</td>\n",
       "      <td>0</td>\n",
       "      <td>6.0</td>\n",
       "      <td>14666.666667</td>\n",
       "      <td>0</td>\n",
       "      <td>38.000000</td>\n",
       "      <td>84.444444</td>\n",
       "      <td>1</td>\n",
       "      <td>0</td>\n",
       "      <td>0</td>\n",
       "      <td>0</td>\n",
       "      <td>0</td>\n",
       "      <td>1</td>\n",
       "      <td>0</td>\n",
       "      <td>0</td>\n",
       "      <td>0</td>\n",
       "      <td>0</td>\n",
       "      <td>1</td>\n",
       "      <td>0</td>\n",
       "      <td>0</td>\n",
       "      <td>0</td>\n",
       "      <td>0</td>\n",
       "      <td>1</td>\n",
       "      <td>0</td>\n",
       "      <td>0</td>\n",
       "      <td>-0.221593</td>\n",
       "      <td>0.325289</td>\n",
       "      <td>0.276302</td>\n",
       "    </tr>\n",
       "    <tr>\n",
       "      <th>3</th>\n",
       "      <td>110.0</td>\n",
       "      <td>95000.0</td>\n",
       "      <td>5</td>\n",
       "      <td>1100937408</td>\n",
       "      <td>1</td>\n",
       "      <td>0</td>\n",
       "      <td>0</td>\n",
       "      <td>1</td>\n",
       "      <td>1</td>\n",
       "      <td>3</td>\n",
       "      <td>0</td>\n",
       "      <td>1</td>\n",
       "      <td>0</td>\n",
       "      <td>6.0</td>\n",
       "      <td>15833.333333</td>\n",
       "      <td>1</td>\n",
       "      <td>36.666667</td>\n",
       "      <td>68.750000</td>\n",
       "      <td>1</td>\n",
       "      <td>0</td>\n",
       "      <td>0</td>\n",
       "      <td>0</td>\n",
       "      <td>0</td>\n",
       "      <td>0</td>\n",
       "      <td>1</td>\n",
       "      <td>0</td>\n",
       "      <td>0</td>\n",
       "      <td>0</td>\n",
       "      <td>1</td>\n",
       "      <td>0</td>\n",
       "      <td>0</td>\n",
       "      <td>0</td>\n",
       "      <td>0</td>\n",
       "      <td>1</td>\n",
       "      <td>0</td>\n",
       "      <td>0</td>\n",
       "      <td>-0.221593</td>\n",
       "      <td>0.367085</td>\n",
       "      <td>-0.060526</td>\n",
       "    </tr>\n",
       "    <tr>\n",
       "      <th>4</th>\n",
       "      <td>152.0</td>\n",
       "      <td>58536.0</td>\n",
       "      <td>5</td>\n",
       "      <td>1101037972</td>\n",
       "      <td>1</td>\n",
       "      <td>0</td>\n",
       "      <td>0</td>\n",
       "      <td>1</td>\n",
       "      <td>1</td>\n",
       "      <td>3</td>\n",
       "      <td>0</td>\n",
       "      <td>1</td>\n",
       "      <td>0</td>\n",
       "      <td>8.0</td>\n",
       "      <td>7317.000000</td>\n",
       "      <td>0</td>\n",
       "      <td>50.666667</td>\n",
       "      <td>84.444444</td>\n",
       "      <td>1</td>\n",
       "      <td>0</td>\n",
       "      <td>0</td>\n",
       "      <td>0</td>\n",
       "      <td>0</td>\n",
       "      <td>0</td>\n",
       "      <td>1</td>\n",
       "      <td>0</td>\n",
       "      <td>0</td>\n",
       "      <td>0</td>\n",
       "      <td>1</td>\n",
       "      <td>0</td>\n",
       "      <td>0</td>\n",
       "      <td>0</td>\n",
       "      <td>0</td>\n",
       "      <td>1</td>\n",
       "      <td>0</td>\n",
       "      <td>0</td>\n",
       "      <td>-0.221593</td>\n",
       "      <td>0.444131</td>\n",
       "      <td>-0.060526</td>\n",
       "    </tr>\n",
       "  </tbody>\n",
       "</table>\n",
       "</div>"
      ],
      "text/plain": [
       "   power  mileage  doors  ... brand_tgt  color_tgt  model_tgt\n",
       "0  105.0  74000.0      5  ... -0.221593   0.230733  -0.060526\n",
       "1  110.0  60563.0      5  ... -0.221593   0.566096  -0.060526\n",
       "2  152.0  88000.0      5  ... -0.221593   0.325289   0.276302\n",
       "3  110.0  95000.0      5  ... -0.221593   0.367085  -0.060526\n",
       "4  152.0  58536.0      5  ... -0.221593   0.444131  -0.060526\n",
       "\n",
       "[5 rows x 39 columns]"
      ]
     },
     "metadata": {},
     "execution_count": 14
    }
   ]
  },
  {
   "cell_type": "code",
   "metadata": {
    "pycharm": {
     "name": "#%%\n"
    },
    "id": "8oSy3Lw3rpWx",
    "executionInfo": {
     "status": "ok",
     "timestamp": 1638508459972,
     "user_tz": -180,
     "elapsed": 390,
     "user": {
      "displayName": "Gennady Booth",
      "photoUrl": "https://lh3.googleusercontent.com/a-/AOh14GgnNwi4zrwzxzF-UnSEXRlOL1p9rxyGxMAR6PGg0A=s64",
      "userId": "04619241264380861816"
     }
    }
   },
   "source": [
    "# df.columns"
   ],
   "execution_count": 16,
   "outputs": []
  },
  {
   "cell_type": "code",
   "metadata": {
    "pycharm": {
     "name": "#%%\n"
    },
    "colab": {
     "base_uri": "https://localhost:8080/"
    },
    "id": "SdWHZxBIrpWy",
    "executionInfo": {
     "status": "ok",
     "timestamp": 1638508467144,
     "user_tz": -180,
     "elapsed": 416,
     "user": {
      "displayName": "Gennady Booth",
      "photoUrl": "https://lh3.googleusercontent.com/a-/AOh14GgnNwi4zrwzxzF-UnSEXRlOL1p9rxyGxMAR6PGg0A=s64",
      "userId": "04619241264380861816"
     }
    },
    "outputId": "09365a74-a7d2-4ee7-c113-4e58127f467b"
   },
   "source": [
    "dig_cat = ['euro_car', 'premium', 'orig_license','left_steering','num_owners', 'doors', 'intensity', 'sport_car', 'size_cat'  ]\n",
    "num_cols = [ 'power', 'mileage', 'age', 'ann_mil',  'vol_power', 'power_size' ]\n",
    "target = ['price']\n",
    "low_card_cat = ['fuel_B', 'fuel_D', 'fuel_E', 'fuel_G', 'fuel_H', 'transmission_AMT', 'transmission_AT', 'transmission_CVT', 'transmission_MT', 'gear_AWD', 'gear_FWD', 'gear_RWD', 'body_type_MPV', 'body_type_SUV', 'body_type_coupe', 'body_type_f_back', 'body_type_sedan', 'body_type_wagon']\n",
    "high_card_cat = ['brand_tgt', 'color_tgt', 'model_tgt']\n",
    "model_cols = num_cols + low_card_cat + dig_cat + high_card_cat; print('Model Columns:', model_cols, '\\n')"
   ],
   "execution_count": 17,
   "outputs": [
    {
     "output_type": "stream",
     "name": "stdout",
     "text": [
      "Model Columns: ['power', 'mileage', 'age', 'ann_mil', 'vol_power', 'power_size', 'fuel_B', 'fuel_D', 'fuel_E', 'fuel_G', 'fuel_H', 'transmission_AMT', 'transmission_AT', 'transmission_CVT', 'transmission_MT', 'gear_AWD', 'gear_FWD', 'gear_RWD', 'body_type_MPV', 'body_type_SUV', 'body_type_coupe', 'body_type_f_back', 'body_type_sedan', 'body_type_wagon', 'euro_car', 'premium', 'orig_license', 'left_steering', 'num_owners', 'doors', 'intensity', 'sport_car', 'size_cat', 'brand_tgt', 'color_tgt', 'model_tgt'] \n",
      "\n"
     ]
    }
   ]
  },
  {
   "cell_type": "code",
   "metadata": {
    "pycharm": {
     "name": "#%%\n"
    },
    "colab": {
     "base_uri": "https://localhost:8080/"
    },
    "id": "l62V3hByrpWy",
    "executionInfo": {
     "status": "ok",
     "timestamp": 1638508469667,
     "user_tz": -180,
     "elapsed": 3,
     "user": {
      "displayName": "Gennady Booth",
      "photoUrl": "https://lh3.googleusercontent.com/a-/AOh14GgnNwi4zrwzxzF-UnSEXRlOL1p9rxyGxMAR6PGg0A=s64",
      "userId": "04619241264380861816"
     }
    },
    "outputId": "289ff5d4-48ec-4e75-d64e-f8a4380831d7"
   },
   "source": [
    "other_cols =  [x for x in list(df.columns) if x not in model_cols]\n",
    "print('Other Columns ', other_cols)"
   ],
   "execution_count": 18,
   "outputs": [
    {
     "output_type": "stream",
     "name": "stdout",
     "text": [
      "Other Columns  ['sell_id', 'price', 'train']\n"
     ]
    }
   ]
  },
  {
   "cell_type": "markdown",
   "metadata": {
    "collapsed": false,
    "id": "Sx9iVe1ZrpWz"
   },
   "source": [
    "### Регрессор LGBMRegressor"
   ]
  },
  {
   "cell_type": "code",
   "metadata": {
    "pycharm": {
     "name": "#%%\n"
    },
    "colab": {
     "base_uri": "https://localhost:8080/"
    },
    "id": "qELE5oi7rpWz",
    "executionInfo": {
     "status": "ok",
     "timestamp": 1638508493261,
     "user_tz": -180,
     "elapsed": 17776,
     "user": {
      "displayName": "Gennady Booth",
      "photoUrl": "https://lh3.googleusercontent.com/a-/AOh14GgnNwi4zrwzxzF-UnSEXRlOL1p9rxyGxMAR6PGg0A=s64",
      "userId": "04619241264380861816"
     }
    },
    "outputId": "8b4009e9-ce59-4b4d-ec9f-09ee02cf6163"
   },
   "source": [
    "# cbr = CatBoostRegressor(iterations = 5000, random_seed = RANDOM_SEED, eval_metric='MAPE', custom_metric=['R2', 'MAE'],  silent=True, )\n",
    "lgbmr = LGBMRegressor(random_state=RANDOM_SEED, max_depth=14, n_estimators=800)\n",
    "\n",
    "eval_model(df.query('train==1')[model_cols], df.query('train==1').price, lgbmr)"
   ],
   "execution_count": 19,
   "outputs": [
    {
     "output_type": "stream",
     "name": "stdout",
     "text": [
      "done. 17.1899 sec\n"
     ]
    },
    {
     "output_type": "execute_result",
     "data": {
      "text/plain": [
       "11.268484239761714"
      ]
     },
     "metadata": {},
     "execution_count": 19
    }
   ]
  },
  {
   "cell_type": "code",
   "metadata": {
    "pycharm": {
     "name": "#%%\n"
    },
    "colab": {
     "base_uri": "https://localhost:8080/",
     "height": 206
    },
    "id": "JpF25AH-rpW0",
    "executionInfo": {
     "status": "ok",
     "timestamp": 1638508680130,
     "user_tz": -180,
     "elapsed": 5428,
     "user": {
      "displayName": "Gennady Booth",
      "photoUrl": "https://lh3.googleusercontent.com/a-/AOh14GgnNwi4zrwzxzF-UnSEXRlOL1p9rxyGxMAR6PGg0A=s64",
      "userId": "04619241264380861816"
     }
    },
    "outputId": "02b045e6-68d0-4ee8-a149-abb6496291c4"
   },
   "source": [
    "lgbmr.fit( df.query('train==1')[model_cols].to_numpy(), np.log(df.query('train==1').price.to_numpy()) )\n",
    "subm = df.query('train==0')[['sell_id', 'price']]\n",
    "subm['price'] = np.exp( lgbmr.predict( df.query('train==0')[model_cols].to_numpy() ))*0.72\n",
    "subm.head()"
   ],
   "execution_count": 20,
   "outputs": [
    {
     "output_type": "execute_result",
     "data": {
      "text/html": [
       "<div>\n",
       "<style scoped>\n",
       "    .dataframe tbody tr th:only-of-type {\n",
       "        vertical-align: middle;\n",
       "    }\n",
       "\n",
       "    .dataframe tbody tr th {\n",
       "        vertical-align: top;\n",
       "    }\n",
       "\n",
       "    .dataframe thead th {\n",
       "        text-align: right;\n",
       "    }\n",
       "</style>\n",
       "<table border=\"1\" class=\"dataframe\">\n",
       "  <thead>\n",
       "    <tr style=\"text-align: right;\">\n",
       "      <th></th>\n",
       "      <th>sell_id</th>\n",
       "      <th>price</th>\n",
       "    </tr>\n",
       "  </thead>\n",
       "  <tbody>\n",
       "    <tr>\n",
       "      <th>0</th>\n",
       "      <td>1100575026</td>\n",
       "      <td>6.341390e+05</td>\n",
       "    </tr>\n",
       "    <tr>\n",
       "      <th>1</th>\n",
       "      <td>1100549428</td>\n",
       "      <td>9.283118e+05</td>\n",
       "    </tr>\n",
       "    <tr>\n",
       "      <th>2</th>\n",
       "      <td>1100658222</td>\n",
       "      <td>1.101823e+06</td>\n",
       "    </tr>\n",
       "    <tr>\n",
       "      <th>3</th>\n",
       "      <td>1100937408</td>\n",
       "      <td>7.882481e+05</td>\n",
       "    </tr>\n",
       "    <tr>\n",
       "      <th>4</th>\n",
       "      <td>1101037972</td>\n",
       "      <td>7.318952e+05</td>\n",
       "    </tr>\n",
       "  </tbody>\n",
       "</table>\n",
       "</div>"
      ],
      "text/plain": [
       "      sell_id         price\n",
       "0  1100575026  6.341390e+05\n",
       "1  1100549428  9.283118e+05\n",
       "2  1100658222  1.101823e+06\n",
       "3  1100937408  7.882481e+05\n",
       "4  1101037972  7.318952e+05"
      ]
     },
     "metadata": {},
     "execution_count": 20
    }
   ]
  },
  {
   "cell_type": "code",
   "metadata": {
    "pycharm": {
     "name": "#%%\n"
    },
    "id": "31c03wejrpW0",
    "executionInfo": {
     "status": "ok",
     "timestamp": 1638508685008,
     "user_tz": -180,
     "elapsed": 377,
     "user": {
      "displayName": "Gennady Booth",
      "photoUrl": "https://lh3.googleusercontent.com/a-/AOh14GgnNwi4zrwzxzF-UnSEXRlOL1p9rxyGxMAR6PGg0A=s64",
      "userId": "04619241264380861816"
     }
    }
   },
   "source": [
    "subm.to_csv(path+'211203_subm_LGBMR.csv', index=False)"
   ],
   "execution_count": 21,
   "outputs": []
  },
  {
   "cell_type": "markdown",
   "metadata": {
    "collapsed": false,
    "id": "OUXw1CJ8rpW0"
   },
   "source": [
    "Kaggle Score 15.13989"
   ]
  },
  {
   "cell_type": "markdown",
   "metadata": {
    "collapsed": false,
    "id": "dIiE9C-HrpW1"
   },
   "source": [
    "### Регрессор XGBRegressor"
   ]
  },
  {
   "cell_type": "code",
   "metadata": {
    "pycharm": {
     "name": "#%%\n"
    },
    "colab": {
     "base_uri": "https://localhost:8080/"
    },
    "id": "4IBqaY4krpW1",
    "executionInfo": {
     "status": "ok",
     "timestamp": 1638509574327,
     "user_tz": -180,
     "elapsed": 457464,
     "user": {
      "displayName": "Gennady Booth",
      "photoUrl": "https://lh3.googleusercontent.com/a-/AOh14GgnNwi4zrwzxzF-UnSEXRlOL1p9rxyGxMAR6PGg0A=s64",
      "userId": "04619241264380861816"
     }
    },
    "outputId": "6074e3a5-6fee-4526-e6d1-36a6e387a52d"
   },
   "source": [
    "xgbr = XGBRegressor(random_state=RANDOM_SEED, max_depth=12, n_estimators=1000, learning_rate=0.03, objective='reg:squarederror', colsample_bytree=0.5, alpha=1)\n",
    "\n",
    "eval_model(df.query('train==1')[model_cols], df.query('train==1').price, xgbr)"
   ],
   "execution_count": 22,
   "outputs": [
    {
     "output_type": "stream",
     "name": "stdout",
     "text": [
      "done. 457.0125 sec\n"
     ]
    },
    {
     "output_type": "execute_result",
     "data": {
      "text/plain": [
       "10.866934348586643"
      ]
     },
     "metadata": {},
     "execution_count": 22
    }
   ]
  },
  {
   "cell_type": "code",
   "metadata": {
    "pycharm": {
     "name": "#%%\n"
    },
    "colab": {
     "base_uri": "https://localhost:8080/",
     "height": 206
    },
    "id": "MsItqRlirpW1",
    "executionInfo": {
     "status": "ok",
     "timestamp": 1638509735780,
     "user_tz": -180,
     "elapsed": 125010,
     "user": {
      "displayName": "Gennady Booth",
      "photoUrl": "https://lh3.googleusercontent.com/a-/AOh14GgnNwi4zrwzxzF-UnSEXRlOL1p9rxyGxMAR6PGg0A=s64",
      "userId": "04619241264380861816"
     }
    },
    "outputId": "dca05292-8419-423c-9bd0-b76d11a1da19"
   },
   "source": [
    "xgbr.fit( df.query('train==1')[model_cols].to_numpy(), np.log(df.query('train==1').price.to_numpy()) )\n",
    "subm = df.query('train==0')[['sell_id', 'price']]\n",
    "subm['price'] = np.exp( xgbr.predict( df.query('train==0')[model_cols].to_numpy() ))*0.72\n",
    "subm.head()"
   ],
   "execution_count": 23,
   "outputs": [
    {
     "output_type": "execute_result",
     "data": {
      "text/html": [
       "<div>\n",
       "<style scoped>\n",
       "    .dataframe tbody tr th:only-of-type {\n",
       "        vertical-align: middle;\n",
       "    }\n",
       "\n",
       "    .dataframe tbody tr th {\n",
       "        vertical-align: top;\n",
       "    }\n",
       "\n",
       "    .dataframe thead th {\n",
       "        text-align: right;\n",
       "    }\n",
       "</style>\n",
       "<table border=\"1\" class=\"dataframe\">\n",
       "  <thead>\n",
       "    <tr style=\"text-align: right;\">\n",
       "      <th></th>\n",
       "      <th>sell_id</th>\n",
       "      <th>price</th>\n",
       "    </tr>\n",
       "  </thead>\n",
       "  <tbody>\n",
       "    <tr>\n",
       "      <th>0</th>\n",
       "      <td>1100575026</td>\n",
       "      <td>665148.6875</td>\n",
       "    </tr>\n",
       "    <tr>\n",
       "      <th>1</th>\n",
       "      <td>1100549428</td>\n",
       "      <td>931233.2500</td>\n",
       "    </tr>\n",
       "    <tr>\n",
       "      <th>2</th>\n",
       "      <td>1100658222</td>\n",
       "      <td>991825.0625</td>\n",
       "    </tr>\n",
       "    <tr>\n",
       "      <th>3</th>\n",
       "      <td>1100937408</td>\n",
       "      <td>804405.6250</td>\n",
       "    </tr>\n",
       "    <tr>\n",
       "      <th>4</th>\n",
       "      <td>1101037972</td>\n",
       "      <td>712425.3750</td>\n",
       "    </tr>\n",
       "  </tbody>\n",
       "</table>\n",
       "</div>"
      ],
      "text/plain": [
       "      sell_id        price\n",
       "0  1100575026  665148.6875\n",
       "1  1100549428  931233.2500\n",
       "2  1100658222  991825.0625\n",
       "3  1100937408  804405.6250\n",
       "4  1101037972  712425.3750"
      ]
     },
     "metadata": {},
     "execution_count": 23
    }
   ]
  },
  {
   "cell_type": "code",
   "metadata": {
    "pycharm": {
     "name": "#%%\n"
    },
    "id": "v4Qlrd89rpW1",
    "executionInfo": {
     "status": "ok",
     "timestamp": 1638509779777,
     "user_tz": -180,
     "elapsed": 394,
     "user": {
      "displayName": "Gennady Booth",
      "photoUrl": "https://lh3.googleusercontent.com/a-/AOh14GgnNwi4zrwzxzF-UnSEXRlOL1p9rxyGxMAR6PGg0A=s64",
      "userId": "04619241264380861816"
     }
    }
   },
   "source": [
    "subm.to_csv(path+'211203_subm_XGBR.csv', index=False)"
   ],
   "execution_count": 24,
   "outputs": []
  },
  {
   "cell_type": "markdown",
   "metadata": {
    "collapsed": false,
    "id": "EhiYN4Z5rpW2"
   },
   "source": [
    "Kaggle Score 14.83517"
   ]
  },
  {
   "cell_type": "markdown",
   "metadata": {
    "collapsed": false,
    "id": "qm4kkqv_rpW2"
   },
   "source": [
    "Выводы:  Модели конечно хорошие.  Но CatBoost от Яндекса работает лучше. "
   ]
  },
  {
   "cell_type": "code",
   "metadata": {
    "pycharm": {
     "name": "#%%\n"
    },
    "id": "HCb5sI6LrpW2"
   },
   "source": [
    ""
   ],
   "execution_count": null,
   "outputs": []
  }
 ]
}