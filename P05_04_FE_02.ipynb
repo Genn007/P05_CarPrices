{
 "cells": [
  {
   "cell_type": "markdown",
   "source": [
    "# Расчет цены на автомобиль\n",
    "### Книга 04 - построение признаков\n",
    "\n",
    "Постановка задачи:\n",
    "Необходимо разработать модель, которая бы рассчитывала цену на выставленный на продажу автомобиль.  По условиям учебной задачи обучающих данных в явном виде не предоставлено. Только тестовые, собранные на авто-ру больше года назад. Необходимо самостоятельно разработать программу, которая бы собирала данные по объявлениям на том же сайте авто.ру. Дополнительная сложность - количество данных. Оцениваться работа будет по порядка 35к записей. Необходимо собрать порядка 140 тыс записей.  На самом сайте автору сейчас актуально порядка 90к объявлений.\n",
    "\n",
    "С сайта авто.ру загружены два набора исходных данных:\n",
    "- набор предложений по 12 брендам автомобилей (как в тестовом наборе), размером порядка 42к записей;\n",
    "- набор предложений по 36 брендам автомобилей (как в данных от авторов задачи), размером порядка 91к записей.\n",
    "\n",
    "Промежуточные выводы:\n",
    "- При обучении по большому набору точность снижается. Использую малый набор.\n",
    "- MAPE для простейшей модели дала довольно низкую точность - 53.46. Необходимо прежде всего скорректировать на инфляцию.\n",
    "\n",
    "Ближайший план работы:\n",
    "- Скорректировать цены на инфляцию.\n",
    "- Сделать новые признаки.\n",
    "- Сделать эксперименты с различными типами кодировщиков категориальных признаков.\n",
    "- ... ?\n",
    "\n",
    "В ходе работы над этим файлом столкнулся с двумя сложностями:\n",
    "- Ошибка чтения файла данных выражалась в отказе от графического представления результатов работы пакетов графики, и пришлось все переписывать еще раз.\n",
    "- Высокое разнообразие исходных данных.  Обучающий и тестовый массивы данных очень сильно отличаются по своему составу в части марок автомобителей. Этих марок всего порядка 5 сотен (высокая кардинальность), и примерно 10% являются уникальными для файла и представлены в нем в 1-2 экземплярах.\n",
    "\n",
    "Я начинал работу с моделью в предположении что делаю функции, которые одинаково легко преобразуют и обучающую и тестовую выборки. Оказалось, что функций здесь мало, необходимы объекты, сохраняющие настройки алгоритма дл последующего повторного использования. Также необходимо посмотреть в то, какие значения признака есть в тестовых данных Для ускорения работы есть смысл перейти к совместной обработке учебного и проверочного массивов - как это и предлагается авторами в baseline-решении.\n",
    "\n",
    "Результаты 21/11/29 - нашел ошибку в кодировщиках.  У меня много кодировщиков в текстовые значения, хотя часть из них представляет собой упорядоченные категории и их необходимо сразу кодировать правильно, а потом не перекодировать повторно. Завтра с утра надо поправить функции кодировки сначала во внешнем модуле, а потом и здесь.\n",
    "\n",
    "Результаты 21/11/30 - прошел все новые признаки, провел их анализ по весомости и корреляции. Затем проверил результаты на Kaggle. Оказалось что Kaggle иногда дает результат лучше, чем рабочий ноутбук.  Добился лучшего результата на GradBoost - надо поднимать количество моделей во внешней функции.  Что еще надо сделать:\n",
    "- внешняя функция добавления новых признаков;\n",
    "- функции кодировки - целевая;\n",
    "Целевая функция кодировки - вместо категориального признака помечается средним значением целевой переменной на этом признаке.\n",
    "\n"
   ],
   "metadata": {
    "collapsed": false
   }
  },
  {
   "cell_type": "code",
   "execution_count": 1,
   "metadata": {
    "collapsed": true
   },
   "outputs": [],
   "source": [
    "import numpy as np\n",
    "import pandas as pd\n",
    "import time\n",
    "import matplotlib.pyplot as plt\n",
    "import seaborn as sns\n",
    "from importlib import reload\n",
    "\n",
    "from sklearn.model_selection import KFold\n",
    "from sklearn.ensemble import RandomForestRegressor, ExtraTreesRegressor, AdaBoostRegressor, GradientBoostingRegressor\n",
    "from sklearn.feature_selection import mutual_info_regression\n",
    "import category_encoders as ce\n",
    "\n",
    "import P05_01_lib as p05 # Модули с предыдущего ноутбука в виде отдельной библиотеки\n",
    "RANDOM_SEED = 42"
   ]
  },
  {
   "cell_type": "markdown",
   "source": [
    "### Слияние двух наборов\n"
   ],
   "metadata": {
    "collapsed": false
   }
  },
  {
   "cell_type": "code",
   "execution_count": 2,
   "outputs": [],
   "source": [
    "train = pd.read_csv('input/211121-12brands.csv')\n",
    "train.drop(['Unnamed: 0'], axis=1, inplace=True)\n",
    "train['train'] = 1\n",
    "test = pd.read_csv('input/test.csv')"
   ],
   "metadata": {
    "collapsed": false,
    "pycharm": {
     "name": "#%%\n"
    }
   }
  },
  {
   "cell_type": "code",
   "execution_count": 3,
   "outputs": [
    {
     "data": {
      "text/plain": "      body  brand                                                url  \\\n0  лифтбек  SKODA  https://auto.ru/cars/used/sale/skoda/octavia/1...   \n1  лифтбек  SKODA  https://auto.ru/cars/used/sale/skoda/octavia/1...   \n2  лифтбек  SKODA  https://auto.ru/cars/used/sale/skoda/superb/11...   \n3  лифтбек  SKODA  https://auto.ru/cars/used/sale/skoda/octavia/1...   \n4  лифтбек  SKODA  https://auto.ru/cars/used/sale/skoda/octavia/1...   \n\n        color  displacement  power fuel  mileage  model_year    model  ...  \\\n0       синий           1.2  105.0    B  74000.0        2013  OCTAVIA  ...   \n1      чёрный           1.6  110.0    B  60563.0        2017  OCTAVIA  ...   \n2       серый           1.8  152.0    B  88000.0        2013   SUPERB  ...   \n3  коричневый           1.6  110.0    B  95000.0        2013  OCTAVIA  ...   \n4       белый           1.8  152.0    B  58536.0        2008  OCTAVIA  ...   \n\n      sell_id  transmission    vendor num_owners gear  price train  body_type  \\\n0  1100575026           AMT  EUROPEAN          3  FWD      0     0     f_back   \n1  1100549428            MT  EUROPEAN          1  FWD      0     0     f_back   \n2  1100658222           AMT  EUROPEAN          1  FWD      0     0     f_back   \n3  1100937408            AT  EUROPEAN          1  FWD      0     0     f_back   \n4  1101037972            AT  EUROPEAN          1  FWD      0     0     f_back   \n\n   orig_license left_steering  \n0             1             1  \n1             1             1  \n2             1             1  \n3             1             1  \n4             1             1  \n\n[5 rows x 22 columns]",
      "text/html": "<div>\n<style scoped>\n    .dataframe tbody tr th:only-of-type {\n        vertical-align: middle;\n    }\n\n    .dataframe tbody tr th {\n        vertical-align: top;\n    }\n\n    .dataframe thead th {\n        text-align: right;\n    }\n</style>\n<table border=\"1\" class=\"dataframe\">\n  <thead>\n    <tr style=\"text-align: right;\">\n      <th></th>\n      <th>body</th>\n      <th>brand</th>\n      <th>url</th>\n      <th>color</th>\n      <th>displacement</th>\n      <th>power</th>\n      <th>fuel</th>\n      <th>mileage</th>\n      <th>model_year</th>\n      <th>model</th>\n      <th>...</th>\n      <th>sell_id</th>\n      <th>transmission</th>\n      <th>vendor</th>\n      <th>num_owners</th>\n      <th>gear</th>\n      <th>price</th>\n      <th>train</th>\n      <th>body_type</th>\n      <th>orig_license</th>\n      <th>left_steering</th>\n    </tr>\n  </thead>\n  <tbody>\n    <tr>\n      <th>0</th>\n      <td>лифтбек</td>\n      <td>SKODA</td>\n      <td>https://auto.ru/cars/used/sale/skoda/octavia/1...</td>\n      <td>синий</td>\n      <td>1.2</td>\n      <td>105.0</td>\n      <td>B</td>\n      <td>74000.0</td>\n      <td>2013</td>\n      <td>OCTAVIA</td>\n      <td>...</td>\n      <td>1100575026</td>\n      <td>AMT</td>\n      <td>EUROPEAN</td>\n      <td>3</td>\n      <td>FWD</td>\n      <td>0</td>\n      <td>0</td>\n      <td>f_back</td>\n      <td>1</td>\n      <td>1</td>\n    </tr>\n    <tr>\n      <th>1</th>\n      <td>лифтбек</td>\n      <td>SKODA</td>\n      <td>https://auto.ru/cars/used/sale/skoda/octavia/1...</td>\n      <td>чёрный</td>\n      <td>1.6</td>\n      <td>110.0</td>\n      <td>B</td>\n      <td>60563.0</td>\n      <td>2017</td>\n      <td>OCTAVIA</td>\n      <td>...</td>\n      <td>1100549428</td>\n      <td>MT</td>\n      <td>EUROPEAN</td>\n      <td>1</td>\n      <td>FWD</td>\n      <td>0</td>\n      <td>0</td>\n      <td>f_back</td>\n      <td>1</td>\n      <td>1</td>\n    </tr>\n    <tr>\n      <th>2</th>\n      <td>лифтбек</td>\n      <td>SKODA</td>\n      <td>https://auto.ru/cars/used/sale/skoda/superb/11...</td>\n      <td>серый</td>\n      <td>1.8</td>\n      <td>152.0</td>\n      <td>B</td>\n      <td>88000.0</td>\n      <td>2013</td>\n      <td>SUPERB</td>\n      <td>...</td>\n      <td>1100658222</td>\n      <td>AMT</td>\n      <td>EUROPEAN</td>\n      <td>1</td>\n      <td>FWD</td>\n      <td>0</td>\n      <td>0</td>\n      <td>f_back</td>\n      <td>1</td>\n      <td>1</td>\n    </tr>\n    <tr>\n      <th>3</th>\n      <td>лифтбек</td>\n      <td>SKODA</td>\n      <td>https://auto.ru/cars/used/sale/skoda/octavia/1...</td>\n      <td>коричневый</td>\n      <td>1.6</td>\n      <td>110.0</td>\n      <td>B</td>\n      <td>95000.0</td>\n      <td>2013</td>\n      <td>OCTAVIA</td>\n      <td>...</td>\n      <td>1100937408</td>\n      <td>AT</td>\n      <td>EUROPEAN</td>\n      <td>1</td>\n      <td>FWD</td>\n      <td>0</td>\n      <td>0</td>\n      <td>f_back</td>\n      <td>1</td>\n      <td>1</td>\n    </tr>\n    <tr>\n      <th>4</th>\n      <td>лифтбек</td>\n      <td>SKODA</td>\n      <td>https://auto.ru/cars/used/sale/skoda/octavia/1...</td>\n      <td>белый</td>\n      <td>1.8</td>\n      <td>152.0</td>\n      <td>B</td>\n      <td>58536.0</td>\n      <td>2008</td>\n      <td>OCTAVIA</td>\n      <td>...</td>\n      <td>1101037972</td>\n      <td>AT</td>\n      <td>EUROPEAN</td>\n      <td>1</td>\n      <td>FWD</td>\n      <td>0</td>\n      <td>0</td>\n      <td>f_back</td>\n      <td>1</td>\n      <td>1</td>\n    </tr>\n  </tbody>\n</table>\n<p>5 rows × 22 columns</p>\n</div>"
     },
     "execution_count": 3,
     "metadata": {},
     "output_type": "execute_result"
    }
   ],
   "source": [
    "test['price'] = 0.0\n",
    "test['train'] = 0\n",
    "df = pd.concat([test, train], join='inner', ignore_index=True)\n",
    "df = p05.initial_transformation(df)\n",
    "df.head()"
   ],
   "metadata": {
    "collapsed": false,
    "pycharm": {
     "name": "#%%\n"
    }
   }
  },
  {
   "cell_type": "markdown",
   "source": [
    "### Обогащение внешними данными\n",
    "\n",
    "Первоначальная версия этой книги предусматривала корректировку на инфляцию, как это описал Ментор А.Дзись во вводном семинаре по проекту - проанализировать цены по каждой марке по внешнему набору и скорректировать по каждой марке индивидуально по соответствующему набору.  Однако цена при это была очень далекой от оптимума.\n",
    "\n",
    "Был предпринят ряд экспериментов (фактически однокоординатный спуск с фиксированным шагом) по MVP модели. Оказалось, что для минимальной оценки результат еще нужно домножать на 1.3. При этом результат улучшился до 22.08486.\n",
    "\n",
    "Team-mate Tatjana предложила просто корректировать на инфляцию разделив текущие скачанные данные на тот же 1.3. В ряде последующих экспериментов было выяснено что оптимальный мультипликатор 0.78. При этом достигнут результат на Kaggle Kaggle 15.89045.\n",
    "\n",
    "Выводы - предложенная ментором проекта методика корректировки на инфляцию по маркам раздельно оказалась хуже, чем простой подбор коэффициента без корректировки цен.  Правильнее будет использовать дальше оригинальные цены, скачанные с сайта авто.ру при работе над проектом и домножать их на поправочный коэффициент 0.78. В этой связи корректировка цен на инфляцию заменилась на обогащение признаками из внешнего файла.\n",
    "\n",
    "При анализе данных выяснилось высокое разнообразие исходных данных.  Обучающий и тестовый массивы данных очень сильно отличаются по своему составу в части марок автомобителей. Этих марок всего порядка 5.5 сотен (высокая кардинальность), и примерно 10% являются уникальными для файла и представлены в нем в 1-2 экземплярах. То есть суммарно два набора отличаются примерно на 100 марок, представленных уникальными комбинациями.\n",
    "\n",
    "Внешний файл представляет собор анализ парка моделей в первую очередь по размеру и типу автомобиля. Исполльзуется примерно европейская классификация - A,B,C,D,E,F причем и для обычных автомобилей, и для внедорожников и для микроавтобусов. Однако есть смешение типов автомобилей классов Grand Touring и спортивных автомобилей для гонок. Все эти автомобили сведены в один тип спортивное купе."
   ],
   "metadata": {
    "collapsed": false
   }
  },
  {
   "cell_type": "code",
   "execution_count": 4,
   "outputs": [
    {
     "data": {
      "text/plain": "  brand model eur_size type segment  geo\n0  AUDI   100        E  Car    Prem  EUR\n1  AUDI   200        E  Car    Prem  EUR\n2  AUDI    80        D  Car    Prem  EUR\n3  AUDI    90        D  Car    Prem  EUR\n4  AUDI   920        D  Car    Prem  EUR",
      "text/html": "<div>\n<style scoped>\n    .dataframe tbody tr th:only-of-type {\n        vertical-align: middle;\n    }\n\n    .dataframe tbody tr th {\n        vertical-align: top;\n    }\n\n    .dataframe thead th {\n        text-align: right;\n    }\n</style>\n<table border=\"1\" class=\"dataframe\">\n  <thead>\n    <tr style=\"text-align: right;\">\n      <th></th>\n      <th>brand</th>\n      <th>model</th>\n      <th>eur_size</th>\n      <th>type</th>\n      <th>segment</th>\n      <th>geo</th>\n    </tr>\n  </thead>\n  <tbody>\n    <tr>\n      <th>0</th>\n      <td>AUDI</td>\n      <td>100</td>\n      <td>E</td>\n      <td>Car</td>\n      <td>Prem</td>\n      <td>EUR</td>\n    </tr>\n    <tr>\n      <th>1</th>\n      <td>AUDI</td>\n      <td>200</td>\n      <td>E</td>\n      <td>Car</td>\n      <td>Prem</td>\n      <td>EUR</td>\n    </tr>\n    <tr>\n      <th>2</th>\n      <td>AUDI</td>\n      <td>80</td>\n      <td>D</td>\n      <td>Car</td>\n      <td>Prem</td>\n      <td>EUR</td>\n    </tr>\n    <tr>\n      <th>3</th>\n      <td>AUDI</td>\n      <td>90</td>\n      <td>D</td>\n      <td>Car</td>\n      <td>Prem</td>\n      <td>EUR</td>\n    </tr>\n    <tr>\n      <th>4</th>\n      <td>AUDI</td>\n      <td>920</td>\n      <td>D</td>\n      <td>Car</td>\n      <td>Prem</td>\n      <td>EUR</td>\n    </tr>\n  </tbody>\n</table>\n</div>"
     },
     "execution_count": 4,
     "metadata": {},
     "output_type": "execute_result"
    }
   ],
   "source": [
    "car_models = pd.read_csv('input/CarModels.csv')\n",
    "# car_models.set_index('model', inplace=True)\n",
    "# По каким-то причинам model привела к дублирующим индексам и вызывала ошибку\n",
    "car_models.head()"
   ],
   "metadata": {
    "collapsed": false,
    "pycharm": {
     "name": "#%%\n"
    }
   }
  },
  {
   "cell_type": "code",
   "execution_count": 5,
   "outputs": [],
   "source": [
    "p05 = reload(p05)"
   ],
   "metadata": {
    "collapsed": false,
    "pycharm": {
     "name": "#%%\n"
    }
   }
  },
  {
   "cell_type": "markdown",
   "source": [
    "Функция обогащения внешними признаками перекочевала во внешнюю библиотеку после написания и отладки."
   ],
   "metadata": {
    "collapsed": false
   }
  },
  {
   "cell_type": "code",
   "execution_count": 6,
   "outputs": [
    {
     "data": {
      "text/plain": "      body  brand                                                url  \\\n0  лифтбек  SKODA  https://auto.ru/cars/used/sale/skoda/octavia/1...   \n1  лифтбек  SKODA  https://auto.ru/cars/used/sale/skoda/octavia/1...   \n2  лифтбек  SKODA  https://auto.ru/cars/used/sale/skoda/superb/11...   \n3  лифтбек  SKODA  https://auto.ru/cars/used/sale/skoda/octavia/1...   \n4  лифтбек  SKODA  https://auto.ru/cars/used/sale/skoda/octavia/1...   \n\n        color  displacement  power fuel  mileage  model_year    model  ...  \\\n0       синий           1.2  105.0    B  74000.0        2013  OCTAVIA  ...   \n1      чёрный           1.6  110.0    B  60563.0        2017  OCTAVIA  ...   \n2       серый           1.8  152.0    B  88000.0        2013   SUPERB  ...   \n3  коричневый           1.6  110.0    B  95000.0        2013  OCTAVIA  ...   \n4       белый           1.8  152.0    B  58536.0        2008  OCTAVIA  ...   \n\n   gear  price train body_type orig_license  left_steering size_cat  \\\n0   FWD      0     0    f_back            1              1        3   \n1   FWD      0     0    f_back            1              1        3   \n2   FWD      0     0    f_back            1              1        4   \n3   FWD      0     0    f_back            1              1        3   \n4   FWD      0     0    f_back            1              1        3   \n\n   sport_car  euro_car premium  \n0          0         1       0  \n1          0         1       0  \n2          0         1       0  \n3          0         1       0  \n4          0         1       0  \n\n[5 rows x 26 columns]",
      "text/html": "<div>\n<style scoped>\n    .dataframe tbody tr th:only-of-type {\n        vertical-align: middle;\n    }\n\n    .dataframe tbody tr th {\n        vertical-align: top;\n    }\n\n    .dataframe thead th {\n        text-align: right;\n    }\n</style>\n<table border=\"1\" class=\"dataframe\">\n  <thead>\n    <tr style=\"text-align: right;\">\n      <th></th>\n      <th>body</th>\n      <th>brand</th>\n      <th>url</th>\n      <th>color</th>\n      <th>displacement</th>\n      <th>power</th>\n      <th>fuel</th>\n      <th>mileage</th>\n      <th>model_year</th>\n      <th>model</th>\n      <th>...</th>\n      <th>gear</th>\n      <th>price</th>\n      <th>train</th>\n      <th>body_type</th>\n      <th>orig_license</th>\n      <th>left_steering</th>\n      <th>size_cat</th>\n      <th>sport_car</th>\n      <th>euro_car</th>\n      <th>premium</th>\n    </tr>\n  </thead>\n  <tbody>\n    <tr>\n      <th>0</th>\n      <td>лифтбек</td>\n      <td>SKODA</td>\n      <td>https://auto.ru/cars/used/sale/skoda/octavia/1...</td>\n      <td>синий</td>\n      <td>1.2</td>\n      <td>105.0</td>\n      <td>B</td>\n      <td>74000.0</td>\n      <td>2013</td>\n      <td>OCTAVIA</td>\n      <td>...</td>\n      <td>FWD</td>\n      <td>0</td>\n      <td>0</td>\n      <td>f_back</td>\n      <td>1</td>\n      <td>1</td>\n      <td>3</td>\n      <td>0</td>\n      <td>1</td>\n      <td>0</td>\n    </tr>\n    <tr>\n      <th>1</th>\n      <td>лифтбек</td>\n      <td>SKODA</td>\n      <td>https://auto.ru/cars/used/sale/skoda/octavia/1...</td>\n      <td>чёрный</td>\n      <td>1.6</td>\n      <td>110.0</td>\n      <td>B</td>\n      <td>60563.0</td>\n      <td>2017</td>\n      <td>OCTAVIA</td>\n      <td>...</td>\n      <td>FWD</td>\n      <td>0</td>\n      <td>0</td>\n      <td>f_back</td>\n      <td>1</td>\n      <td>1</td>\n      <td>3</td>\n      <td>0</td>\n      <td>1</td>\n      <td>0</td>\n    </tr>\n    <tr>\n      <th>2</th>\n      <td>лифтбек</td>\n      <td>SKODA</td>\n      <td>https://auto.ru/cars/used/sale/skoda/superb/11...</td>\n      <td>серый</td>\n      <td>1.8</td>\n      <td>152.0</td>\n      <td>B</td>\n      <td>88000.0</td>\n      <td>2013</td>\n      <td>SUPERB</td>\n      <td>...</td>\n      <td>FWD</td>\n      <td>0</td>\n      <td>0</td>\n      <td>f_back</td>\n      <td>1</td>\n      <td>1</td>\n      <td>4</td>\n      <td>0</td>\n      <td>1</td>\n      <td>0</td>\n    </tr>\n    <tr>\n      <th>3</th>\n      <td>лифтбек</td>\n      <td>SKODA</td>\n      <td>https://auto.ru/cars/used/sale/skoda/octavia/1...</td>\n      <td>коричневый</td>\n      <td>1.6</td>\n      <td>110.0</td>\n      <td>B</td>\n      <td>95000.0</td>\n      <td>2013</td>\n      <td>OCTAVIA</td>\n      <td>...</td>\n      <td>FWD</td>\n      <td>0</td>\n      <td>0</td>\n      <td>f_back</td>\n      <td>1</td>\n      <td>1</td>\n      <td>3</td>\n      <td>0</td>\n      <td>1</td>\n      <td>0</td>\n    </tr>\n    <tr>\n      <th>4</th>\n      <td>лифтбек</td>\n      <td>SKODA</td>\n      <td>https://auto.ru/cars/used/sale/skoda/octavia/1...</td>\n      <td>белый</td>\n      <td>1.8</td>\n      <td>152.0</td>\n      <td>B</td>\n      <td>58536.0</td>\n      <td>2008</td>\n      <td>OCTAVIA</td>\n      <td>...</td>\n      <td>FWD</td>\n      <td>0</td>\n      <td>0</td>\n      <td>f_back</td>\n      <td>1</td>\n      <td>1</td>\n      <td>3</td>\n      <td>0</td>\n      <td>1</td>\n      <td>0</td>\n    </tr>\n  </tbody>\n</table>\n<p>5 rows × 26 columns</p>\n</div>"
     },
     "execution_count": 6,
     "metadata": {},
     "output_type": "execute_result"
    }
   ],
   "source": [
    "df = p05.add_external_features(df, car_models)\n",
    "df.head()"
   ],
   "metadata": {
    "collapsed": false,
    "pycharm": {
     "name": "#%%\n"
    }
   }
  },
  {
   "cell_type": "code",
   "execution_count": 7,
   "outputs": [],
   "source": [
    "df.drop(['vendor'], axis=1, inplace=True)"
   ],
   "metadata": {
    "collapsed": false,
    "pycharm": {
     "name": "#%%\n"
    }
   }
  },
  {
   "cell_type": "code",
   "execution_count": 8,
   "outputs": [
    {
     "data": {
      "text/plain": "Index(['body', 'brand', 'url', 'color', 'displacement', 'power', 'fuel',\n       'mileage', 'model_year', 'model', 'doors', 'manuf_year', 'sell_id',\n       'transmission', 'num_owners', 'gear', 'price', 'train', 'body_type',\n       'orig_license', 'left_steering', 'size_cat', 'sport_car', 'euro_car',\n       'premium'],\n      dtype='object')"
     },
     "execution_count": 8,
     "metadata": {},
     "output_type": "execute_result"
    }
   ],
   "source": [
    "df.columns"
   ],
   "metadata": {
    "collapsed": false,
    "pycharm": {
     "name": "#%%\n"
    }
   }
  },
  {
   "cell_type": "code",
   "execution_count": 9,
   "outputs": [],
   "source": [
    "cat_cols = ['brand', 'color', 'fuel', 'model', 'transmission',  'gear', 'body_type']\n",
    "dig_cat = ['euro_car', 'premium', 'sport_car', 'size_cat', 'orig_license','left_steering','num_owners', 'doors' ]\n",
    "num_cols = [ 'displacement', 'power', 'mileage', 'manuf_year']\n",
    "help_cols = ['sell_id','body','url','model_year', 'price']\n",
    "target = ['price']"
   ],
   "metadata": {
    "collapsed": false,
    "pycharm": {
     "name": "#%%\n"
    }
   }
  },
  {
   "cell_type": "code",
   "execution_count": 10,
   "outputs": [
    {
     "data": {
      "text/plain": "<Figure size 720x360 with 2 Axes>",
      "image/png": "[encoded data removed]"
     },
     "metadata": {
      "needs_background": "light"
     },
     "output_type": "display_data"
    }
   ],
   "source": [
    "plt.figure(figsize=(10, 5))\n",
    "sns.heatmap(df[num_cols+['model_year']].corr().abs(), vmin=0, vmax=1, annot=True)\n",
    "plt.show()"
   ],
   "metadata": {
    "collapsed": false,
    "pycharm": {
     "name": "#%%\n"
    }
   }
  },
  {
   "cell_type": "markdown",
   "source": [
    "Между двумя парами количественных переменных - power & displacement,  mileage & manuf_year есть сильная кореляция. Есть смысл сделать признаки, которые бы выявляли разницу между этими показателями.\n",
    "Между model_year и manuf_year зависимость очень высокая. Практически нет смысла держать второй показатель - модельный год."
   ],
   "metadata": {
    "collapsed": false
   }
  },
  {
   "cell_type": "code",
   "execution_count": 11,
   "outputs": [],
   "source": [
    "rg_enc = p05.parse_ranging_encoder(df,cat_cols)\n",
    "new_cat_cols, df = p05.apply_encoder(df, cat_cols, rg_enc)"
   ],
   "metadata": {
    "collapsed": false,
    "pycharm": {
     "name": "#%%\n"
    }
   }
  },
  {
   "cell_type": "code",
   "execution_count": 12,
   "outputs": [
    {
     "data": {
      "text/plain": "<Figure size 1152x576 with 2 Axes>",
      "image/png": "[encoded data removed]"
     },
     "metadata": {
      "needs_background": "light"
     },
     "output_type": "display_data"
    }
   ],
   "source": [
    "plt.figure(figsize=(16,8))\n",
    "sns.heatmap(df[new_cat_cols+dig_cat].corr().abs(), vmin=0, vmax=1, annot=True)\n",
    "plt.show()"
   ],
   "metadata": {
    "collapsed": false,
    "pycharm": {
     "name": "#%%\n"
    }
   }
  },
  {
   "cell_type": "markdown",
   "source": [
    "Критичных зависимостей между катеориальными признаками нет.  Любопытна корреляция между страной происхождения и сегментом - в выборке европейские машины в основном в премиальном сегменте.  Также любопытна корреляция между названием модели и расположением руля - в данных много предложений по праворульным машинам для японского рынка."
   ],
   "metadata": {
    "collapsed": false
   }
  },
  {
   "cell_type": "code",
   "source": [
    "model_cols = num_cols + dig_cat + new_cat_cols"
   ],
   "metadata": {
    "collapsed": false,
    "pycharm": {
     "name": "#%%\n"
    }
   },
   "execution_count": 85,
   "outputs": []
  },
  {
   "cell_type": "code",
   "execution_count": 86,
   "outputs": [],
   "source": [
    "p05 = reload(p05)"
   ],
   "metadata": {
    "collapsed": false,
    "pycharm": {
     "name": "#%%\n"
    }
   }
  },
  {
   "cell_type": "code",
   "execution_count": 88,
   "outputs": [
    {
     "name": "stdout",
     "output_type": "stream",
     "text": [
      "The MAPE metric for the Random Forest model on ln(price) : 11.6439%.\n"
     ]
    }
   ],
   "source": [
    "X = df.query('train==1')[model_cols].to_numpy()\n",
    "y = df.query('train==1').price.to_numpy()\n",
    "m = 0\n",
    "rfr = RandomForestRegressor(n_estimators=200, random_state=RANDOM_SEED, n_jobs=-1)\n",
    "\n",
    "kf = KFold(n_splits=5, shuffle=True, random_state=RANDOM_SEED)\n",
    "for trn_index, tt_index in kf.split(X):\n",
    "    X_trn = X[trn_index] ; X_tt =  X[tt_index]\n",
    "    y_trn = y[trn_index] ; y_tt =  y[tt_index]\n",
    "    # rfr_log.fit(X_train, np.log(y_train))\n",
    "    # predict_rf_log = np.exp(rfr_log.predict(X_test))\n",
    "    rfr.fit(X_trn, np.log(y_trn))\n",
    "    y_prd = np.exp(rfr.predict(X_tt))\n",
    "    m += p05.mape(y_tt, y_prd) * 100.0\n",
    "m  /= 5\n",
    "\n",
    "print(f\"The MAPE metric for the Random Forest model on ln(price) : {m:0.4f}%.\")"
   ],
   "metadata": {
    "collapsed": false,
    "pycharm": {
     "name": "#%%\n"
    }
   }
  },
  {
   "cell_type": "markdown",
   "source": [
    "На одиночной выборке при 100 деревьях в лесу у меня был результат 11.5912% При использовании кросс-валидации на 5 складках и леса из 200 деревьев при помарочном учете инфляции результат получился 11.7508%. Это может свидетельствовать в пользу необходимости применения целевого кодирования. (Или свидетельствовать о некотором переобучении.) При неизменных ценах и до обогащения результат был 11.7698%.  Сейчас результат после обогащения данными стал 11.6439, что подтверждает правильность и полезность работы по формированию справочника и обогащения признаками с его помощью."
   ],
   "metadata": {
    "collapsed": false
   }
  },
  {
   "cell_type": "code",
   "execution_count": 89,
   "outputs": [
    {
     "data": {
      "text/plain": "RandomForestRegressor(n_estimators=200, n_jobs=-1, random_state=42)"
     },
     "execution_count": 89,
     "metadata": {},
     "output_type": "execute_result"
    }
   ],
   "source": [
    "X = df.query('train==1')[model_cols].to_numpy()\n",
    "y = df.query('train==1').price.to_numpy()\n",
    "rfr.fit(X,np.log(y))"
   ],
   "metadata": {
    "collapsed": false,
    "pycharm": {
     "name": "#%%\n"
    }
   }
  },
  {
   "cell_type": "code",
   "execution_count": 91,
   "outputs": [
    {
     "data": {
      "text/plain": "      sell_id         price\n0  1100575026  6.226812e+05\n1  1100549428  1.090722e+06\n2  1100658222  9.301551e+05\n3  1100937408  7.889522e+05\n4  1101037972  6.844657e+05",
      "text/html": "<div>\n<style scoped>\n    .dataframe tbody tr th:only-of-type {\n        vertical-align: middle;\n    }\n\n    .dataframe tbody tr th {\n        vertical-align: top;\n    }\n\n    .dataframe thead th {\n        text-align: right;\n    }\n</style>\n<table border=\"1\" class=\"dataframe\">\n  <thead>\n    <tr style=\"text-align: right;\">\n      <th></th>\n      <th>sell_id</th>\n      <th>price</th>\n    </tr>\n  </thead>\n  <tbody>\n    <tr>\n      <th>0</th>\n      <td>1100575026</td>\n      <td>6.226812e+05</td>\n    </tr>\n    <tr>\n      <th>1</th>\n      <td>1100549428</td>\n      <td>1.090722e+06</td>\n    </tr>\n    <tr>\n      <th>2</th>\n      <td>1100658222</td>\n      <td>9.301551e+05</td>\n    </tr>\n    <tr>\n      <th>3</th>\n      <td>1100937408</td>\n      <td>7.889522e+05</td>\n    </tr>\n    <tr>\n      <th>4</th>\n      <td>1101037972</td>\n      <td>6.844657e+05</td>\n    </tr>\n  </tbody>\n</table>\n</div>"
     },
     "execution_count": 91,
     "metadata": {},
     "output_type": "execute_result"
    }
   ],
   "source": [
    "Xt = df.query('train==0')[model_cols].to_numpy()\n",
    "subm = df.query('train==0')[['sell_id', 'price']]\n",
    "subm['price'] = np.exp(rfr.predict(Xt))*0.78\n",
    "# subm = tdf[['sell_id','price']]\n",
    "subm.to_csv(f'211130_subm_11.csv', index=False)\n",
    "subm.head(5)"
   ],
   "metadata": {
    "collapsed": false,
    "pycharm": {
     "name": "#%%\n"
    }
   }
  },
  {
   "cell_type": "markdown",
   "source": [
    "Уровень оценки на kaggle первоначально был 30.00270. В ходе поиска удалось снизить значение оценки на kaggle до путем умножения цены на 1.3. Получен счет 22.08486\n",
    " По совету team-mate был произведен переход на корректировку непосредственно текущих цен и результат был получен на уровне 15.8425.\n",
    "\n",
    "Текущий результат на Kaggle 15.71750.  Это также подтверждает правильность подхода по обогащению внешними признаками."
   ],
   "metadata": {
    "collapsed": false
   }
  },
  {
   "cell_type": "markdown",
   "source": [
    "### Анализ влияния цвета\n",
    "Коллега тим-мейт предложила еще отборосить цвет как мало влияющий показатель. Попробую проанализировать влияние цвета."
   ],
   "metadata": {
    "collapsed": false
   }
  },
  {
   "cell_type": "code",
   "execution_count": 58,
   "outputs": [
    {
     "data": {
      "text/plain": "чёрный         23789\nбелый          15125\nсерый           9918\nсеребристый     7549\nсиний           7344\nкоричневый      3398\nкрасный         3342\nзелёный         1934\nбежевый         1404\nголубой          814\nпурпурный        499\nзолотистый       452\nоранжевый        396\nфиолетовый       381\nжёлтый           365\nрозовый           21\nName: color, dtype: int64"
     },
     "execution_count": 58,
     "metadata": {},
     "output_type": "execute_result"
    }
   ],
   "source": [
    "df.color.value_counts(ascending=False)"
   ],
   "metadata": {
    "collapsed": false,
    "pycharm": {
     "name": "#%%\n"
    }
   }
  },
  {
   "cell_type": "code",
   "execution_count": 63,
   "outputs": [],
   "source": [
    "df['log_price'] = np.log1p(df.price)"
   ],
   "metadata": {
    "collapsed": false,
    "pycharm": {
     "name": "#%%\n"
    }
   }
  },
  {
   "cell_type": "code",
   "execution_count": 64,
   "outputs": [
    {
     "data": {
      "text/plain": "<Figure size 1152x864 with 1 Axes>",
      "image/png": "[encoded data removed]"
     },
     "metadata": {
      "needs_background": "light"
     },
     "output_type": "display_data"
    }
   ],
   "source": [
    "plt.figure(figsize = (16,12))\n",
    "sns.boxplot(x= 'log_price', y = 'color', data=df, orient='h')\n",
    "plt.title('Ln(1 + price)', fontsize=15)\n",
    "plt.show();"
   ],
   "metadata": {
    "collapsed": false,
    "pycharm": {
     "name": "#%%\n"
    }
   }
  },
  {
   "cell_type": "markdown",
   "source": [
    "Совет коллеги не подствержден.  Цены даже в среднем существенно различаются в зависимости от цвета. Отбрасывать этот признак не целесообразно. Однако это показатель с высокой кардинальностью."
   ],
   "metadata": {
    "collapsed": false
   }
  },
  {
   "cell_type": "markdown",
   "source": [
    "### Создание рабочей модели\n",
    "\n",
    "В качестве модели для проверки качества на этапе разработки будет использован набор из нескольких моделей. По опыту можно предположить что не все модели одинаково хорошо реагируют на новые признаки. Исходя из предыдущего опыта использованы два варианта случайного леса и два ансамбля с бустингом.\n",
    "\n",
    "В первоначальном варианте я использовал модели с типовыми параметрами. Опыт показал, что количество эстиматоров в моделях бустинга лучше попробовать поднять до 1000.  В ходе экспериментов с данным рабочим листом пришел к выводу, что AdaBst не обеспечивает хорошего результата и закоментировал этот вариант модели.\n",
    "\n",
    "Функция eval_data () вынесена в библиотеку."
   ],
   "metadata": {
    "collapsed": false
   }
  },
  {
   "cell_type": "code",
   "execution_count": 171,
   "outputs": [],
   "source": [
    "p05 = reload(p05)"
   ],
   "metadata": {
    "collapsed": false,
    "pycharm": {
     "name": "#%%\n"
    }
   }
  },
  {
   "cell_type": "code",
   "execution_count": 172,
   "outputs": [
    {
     "name": "stdout",
     "output_type": "stream",
     "text": [
      "Eval: ExtEns AdaBst GradBst RanFrst done. 300.1999 sec\n",
      "ExtEns     11.852852\n",
      "AdaBst     31.723193\n",
      "GradBst    12.087278\n",
      "RanFrst    11.679512\n",
      "Name: IA, dtype: float64\n"
     ]
    }
   ],
   "source": [
    "m = p05.eval_data(df.query('train==1')[model_cols], df.query('train==1').price,'IA')\n",
    "print(m)"
   ],
   "metadata": {
    "collapsed": false,
    "pycharm": {
     "name": "#%%\n"
    }
   }
  },
  {
   "cell_type": "markdown",
   "source": [
    "### Разработка признаков\n",
    "\n",
    "Из общих соображений можно сделать следующие признаки:\n",
    "- Срок владения машиной (разница 2021 и года выпуска)\n",
    "- Пробег в год - интенсивность эксплуатации (логарифм?)\n",
    "- Категорийный признак с интенсивностью пробега в год (до 15к, до 30к, свыше 30к)\n",
    "- Возраст - новая, до 5 лет, до 10 лет, до 50 лет, свыше 50 лет - посмотреть на границы\n",
    "- Новизна модели - разница между годом выпуска и модельным годом (модельный год был устранен)\n",
    "- Сделать тип машинки со следующей классификацией: 0 - купе, 1 - седан, хетчбек или универсал, 2 - внедорожник, 3 - микроавтобус.  Будет сильно коррелировать с типом кузова?\n",
    "\n",
    "Учитывая, что подгружен размер авто по европейской классификации:\n",
    "- сделать энергичность машинки - мощность поделить на размер. Для класса S принять размер равный размеру С (3).\n",
    "- удельный литраж машинки - объем поделить на размер авто.\n",
    "\n",
    "Есть смысл вернуться и переделать классификацию - все спортивные машинки сделать размера C - переделано.\n"
   ],
   "metadata": {
    "collapsed": false
   }
  },
  {
   "cell_type": "markdown",
   "source": [
    "#### Возраст\n",
    "\n",
    "Первоначально я не учел тот факт, что тестовый набор данных собирался больше года назад и в нем физически не может быть автомобилей 2021 года выпуска. Сейчас эта оплошность устранена. Посмотрим, как она повлияет на итоговый результат.\n"
   ],
   "metadata": {
    "collapsed": false
   }
  },
  {
   "cell_type": "code",
   "execution_count": 13,
   "outputs": [
    {
     "name": "stdout",
     "output_type": "stream",
     "text": [
      "0.00      0.0\n",
      "0.25      3.0\n",
      "0.50      8.0\n",
      "0.75     13.0\n",
      "0.95     23.0\n",
      "1.00    116.0\n",
      "Name: age, dtype: float64\n",
      "\n",
      " Low hurdle: -12.0000 high hurdle: 28.0000\n"
     ]
    }
   ],
   "source": [
    "df['age'] = 2020 + df.train - df.manuf_year\n",
    "# train.age.max()\n",
    "p05.show_quantile_hurdle(df.age)"
   ],
   "metadata": {
    "collapsed": false,
    "pycharm": {
     "name": "#%%\n"
    }
   }
  },
  {
   "cell_type": "code",
   "execution_count": 14,
   "outputs": [
    {
     "name": "stdout",
     "output_type": "stream",
     "text": [
      "0.00     0.0\n",
      "0.25     0.0\n",
      "0.50     5.0\n",
      "0.75    10.0\n",
      "0.95    21.0\n",
      "1.00    84.0\n",
      "Name: age, dtype: float64\n",
      "\n",
      " Low hurdle: -15.0000 high hurdle: 25.0000\n"
     ]
    }
   ],
   "source": [
    "p05.show_quantile_hurdle(df.query('train==1').age)"
   ],
   "metadata": {
    "collapsed": false,
    "pycharm": {
     "name": "#%%\n"
    }
   }
  },
  {
   "cell_type": "markdown",
   "source": [
    "Интересно что квартили для обучающих данных из интернета  оказались распределены по \"отраслевой журналистике\" - до 5, до 10, до 21 года и выше.  Для тестовых данных распределение совсем другое.  Есть смысл ограничить возраст сверху 30 годами.  В России старше 30 лет будет антиквариат."
   ],
   "metadata": {
    "collapsed": false,
    "pycharm": {
     "name": "#%% md\n"
    }
   }
  },
  {
   "cell_type": "code",
   "execution_count": 15,
   "outputs": [
    {
     "name": "stdout",
     "output_type": "stream",
     "text": [
      "0.00      0.0\n",
      "0.25      6.0\n",
      "0.50      9.0\n",
      "0.75     14.0\n",
      "0.95     24.0\n",
      "1.00    116.0\n",
      "Name: age, dtype: float64\n",
      "\n",
      " Low hurdle: -6.0000 high hurdle: 26.0000\n"
     ]
    }
   ],
   "source": [
    "p05.show_quantile_hurdle(df.query('train==0').age)\n"
   ],
   "metadata": {
    "collapsed": false,
    "pycharm": {
     "name": "#%%\n"
    }
   }
  },
  {
   "cell_type": "code",
   "execution_count": 18,
   "outputs": [
    {
     "data": {
      "text/plain": "            body          brand  \\\n1777     хэтчбек          SKODA   \n3174       седан           AUDI   \n9495       седан            BMW   \n9625       седан            BMW   \n9819       седан            BMW   \n16891      седан  MERCEDES-BENZ   \n16944  кабриолет  MERCEDES-BENZ   \n33748      седан            BMW   \n35247      седан            BMW   \n70910      седан            BMW   \n\n                                                     url       color  \\\n1777   https://auto.ru/cars/used/sale/skoda/popular/1...      чёрный   \n3174   https://auto.ru/cars/used/sale/audi/920/109152...      чёрный   \n9495   https://auto.ru/cars/used/sale/bmw/321/1093991...      чёрный   \n9625   https://auto.ru/cars/used/sale/bmw/326/1094373...     бежевый   \n9819   https://auto.ru/cars/used/sale/bmw/321/1040149...      чёрный   \n16891  https://auto.ru/cars/used/sale/mercedes/w136/1...     красный   \n16944  https://auto.ru/cars/used/sale/mercedes/simple...       белый   \n33748  https://auto.ru/cars/used/sale/bmw/321/1092197...  коричневый   \n35247  https://auto.ru/cars/used/sale/bmw/321/1106015...      чёрный   \n70910  https://auto.ru/cars/used/sale/bmw/321/1104655...     бежевый   \n\n       displacement  power fuel  mileage  model_year    model  ...  euro_car  \\\n1777            1.1   30.0    B  14000.0        1934  POPULAR  ...         1   \n3174            3.3   75.0    B  90000.0        1938      920  ...         1   \n9495            2.0   46.0    B  25000.0        1937      321  ...         1   \n9625            2.0   51.0    B  16000.0        1936      326  ...         1   \n9819            2.0   46.0    B   4500.0        1937      321  ...         1   \n16891           1.7   38.0    B     10.0        1936     W136  ...         1   \n16944           5.3   32.0    B  48000.0        1904  SIMPLEX  ...         1   \n33748           2.0   46.0    B     10.0        1937      321  ...         1   \n35247           2.0   46.0    B  30000.0        1937      321  ...         1   \n70910           2.0   46.0    B   4500.0        1937      321  ...         1   \n\n       premium brand_enc color_enc  fuel_enc model_enc  transmission_enc  \\\n1777         0         5        15         4        64                 2   \n3174         1         6        15         4        71                 2   \n9495         1        10        15         4       193                 2   \n9625         1        10         7         4        45                 2   \n9819         1        10        15         4       193                 2   \n16891        1        11         9         4       120                 2   \n16944        1        11        14         4        27                 2   \n33748        1        10        10         4       193                 2   \n35247        1        10        15         4       193                 2   \n70910        1        10         7         4       193                 2   \n\n       gear_enc body_type_enc  age  \n1777          0             3   81  \n3174          0             4   82  \n9495          0             4   71  \n9625          0             4   83  \n9819          0             4   83  \n16891         0             4   84  \n16944         0             0  116  \n33748         0             4   72  \n35247         0             4   84  \n70910         0             4   75  \n\n[10 rows x 33 columns]",
      "text/html": "<div>\n<style scoped>\n    .dataframe tbody tr th:only-of-type {\n        vertical-align: middle;\n    }\n\n    .dataframe tbody tr th {\n        vertical-align: top;\n    }\n\n    .dataframe thead th {\n        text-align: right;\n    }\n</style>\n<table border=\"1\" class=\"dataframe\">\n  <thead>\n    <tr style=\"text-align: right;\">\n      <th></th>\n      <th>body</th>\n      <th>brand</th>\n      <th>url</th>\n      <th>color</th>\n      <th>displacement</th>\n      <th>power</th>\n      <th>fuel</th>\n      <th>mileage</th>\n      <th>model_year</th>\n      <th>model</th>\n      <th>...</th>\n      <th>euro_car</th>\n      <th>premium</th>\n      <th>brand_enc</th>\n      <th>color_enc</th>\n      <th>fuel_enc</th>\n      <th>model_enc</th>\n      <th>transmission_enc</th>\n      <th>gear_enc</th>\n      <th>body_type_enc</th>\n      <th>age</th>\n    </tr>\n  </thead>\n  <tbody>\n    <tr>\n      <th>1777</th>\n      <td>хэтчбек</td>\n      <td>SKODA</td>\n      <td>https://auto.ru/cars/used/sale/skoda/popular/1...</td>\n      <td>чёрный</td>\n      <td>1.1</td>\n      <td>30.0</td>\n      <td>B</td>\n      <td>14000.0</td>\n      <td>1934</td>\n      <td>POPULAR</td>\n      <td>...</td>\n      <td>1</td>\n      <td>0</td>\n      <td>5</td>\n      <td>15</td>\n      <td>4</td>\n      <td>64</td>\n      <td>2</td>\n      <td>0</td>\n      <td>3</td>\n      <td>81</td>\n    </tr>\n    <tr>\n      <th>3174</th>\n      <td>седан</td>\n      <td>AUDI</td>\n      <td>https://auto.ru/cars/used/sale/audi/920/109152...</td>\n      <td>чёрный</td>\n      <td>3.3</td>\n      <td>75.0</td>\n      <td>B</td>\n      <td>90000.0</td>\n      <td>1938</td>\n      <td>920</td>\n      <td>...</td>\n      <td>1</td>\n      <td>1</td>\n      <td>6</td>\n      <td>15</td>\n      <td>4</td>\n      <td>71</td>\n      <td>2</td>\n      <td>0</td>\n      <td>4</td>\n      <td>82</td>\n    </tr>\n    <tr>\n      <th>9495</th>\n      <td>седан</td>\n      <td>BMW</td>\n      <td>https://auto.ru/cars/used/sale/bmw/321/1093991...</td>\n      <td>чёрный</td>\n      <td>2.0</td>\n      <td>46.0</td>\n      <td>B</td>\n      <td>25000.0</td>\n      <td>1937</td>\n      <td>321</td>\n      <td>...</td>\n      <td>1</td>\n      <td>1</td>\n      <td>10</td>\n      <td>15</td>\n      <td>4</td>\n      <td>193</td>\n      <td>2</td>\n      <td>0</td>\n      <td>4</td>\n      <td>71</td>\n    </tr>\n    <tr>\n      <th>9625</th>\n      <td>седан</td>\n      <td>BMW</td>\n      <td>https://auto.ru/cars/used/sale/bmw/326/1094373...</td>\n      <td>бежевый</td>\n      <td>2.0</td>\n      <td>51.0</td>\n      <td>B</td>\n      <td>16000.0</td>\n      <td>1936</td>\n      <td>326</td>\n      <td>...</td>\n      <td>1</td>\n      <td>1</td>\n      <td>10</td>\n      <td>7</td>\n      <td>4</td>\n      <td>45</td>\n      <td>2</td>\n      <td>0</td>\n      <td>4</td>\n      <td>83</td>\n    </tr>\n    <tr>\n      <th>9819</th>\n      <td>седан</td>\n      <td>BMW</td>\n      <td>https://auto.ru/cars/used/sale/bmw/321/1040149...</td>\n      <td>чёрный</td>\n      <td>2.0</td>\n      <td>46.0</td>\n      <td>B</td>\n      <td>4500.0</td>\n      <td>1937</td>\n      <td>321</td>\n      <td>...</td>\n      <td>1</td>\n      <td>1</td>\n      <td>10</td>\n      <td>15</td>\n      <td>4</td>\n      <td>193</td>\n      <td>2</td>\n      <td>0</td>\n      <td>4</td>\n      <td>83</td>\n    </tr>\n    <tr>\n      <th>16891</th>\n      <td>седан</td>\n      <td>MERCEDES-BENZ</td>\n      <td>https://auto.ru/cars/used/sale/mercedes/w136/1...</td>\n      <td>красный</td>\n      <td>1.7</td>\n      <td>38.0</td>\n      <td>B</td>\n      <td>10.0</td>\n      <td>1936</td>\n      <td>W136</td>\n      <td>...</td>\n      <td>1</td>\n      <td>1</td>\n      <td>11</td>\n      <td>9</td>\n      <td>4</td>\n      <td>120</td>\n      <td>2</td>\n      <td>0</td>\n      <td>4</td>\n      <td>84</td>\n    </tr>\n    <tr>\n      <th>16944</th>\n      <td>кабриолет</td>\n      <td>MERCEDES-BENZ</td>\n      <td>https://auto.ru/cars/used/sale/mercedes/simple...</td>\n      <td>белый</td>\n      <td>5.3</td>\n      <td>32.0</td>\n      <td>B</td>\n      <td>48000.0</td>\n      <td>1904</td>\n      <td>SIMPLEX</td>\n      <td>...</td>\n      <td>1</td>\n      <td>1</td>\n      <td>11</td>\n      <td>14</td>\n      <td>4</td>\n      <td>27</td>\n      <td>2</td>\n      <td>0</td>\n      <td>0</td>\n      <td>116</td>\n    </tr>\n    <tr>\n      <th>33748</th>\n      <td>седан</td>\n      <td>BMW</td>\n      <td>https://auto.ru/cars/used/sale/bmw/321/1092197...</td>\n      <td>коричневый</td>\n      <td>2.0</td>\n      <td>46.0</td>\n      <td>B</td>\n      <td>10.0</td>\n      <td>1937</td>\n      <td>321</td>\n      <td>...</td>\n      <td>1</td>\n      <td>1</td>\n      <td>10</td>\n      <td>10</td>\n      <td>4</td>\n      <td>193</td>\n      <td>2</td>\n      <td>0</td>\n      <td>4</td>\n      <td>72</td>\n    </tr>\n    <tr>\n      <th>35247</th>\n      <td>седан</td>\n      <td>BMW</td>\n      <td>https://auto.ru/cars/used/sale/bmw/321/1106015...</td>\n      <td>чёрный</td>\n      <td>2.0</td>\n      <td>46.0</td>\n      <td>B</td>\n      <td>30000.0</td>\n      <td>1937</td>\n      <td>321</td>\n      <td>...</td>\n      <td>1</td>\n      <td>1</td>\n      <td>10</td>\n      <td>15</td>\n      <td>4</td>\n      <td>193</td>\n      <td>2</td>\n      <td>0</td>\n      <td>4</td>\n      <td>84</td>\n    </tr>\n    <tr>\n      <th>70910</th>\n      <td>седан</td>\n      <td>BMW</td>\n      <td>https://auto.ru/cars/used/sale/bmw/321/1104655...</td>\n      <td>бежевый</td>\n      <td>2.0</td>\n      <td>46.0</td>\n      <td>B</td>\n      <td>4500.0</td>\n      <td>1937</td>\n      <td>321</td>\n      <td>...</td>\n      <td>1</td>\n      <td>1</td>\n      <td>10</td>\n      <td>7</td>\n      <td>4</td>\n      <td>193</td>\n      <td>2</td>\n      <td>0</td>\n      <td>4</td>\n      <td>75</td>\n    </tr>\n  </tbody>\n</table>\n<p>10 rows × 33 columns</p>\n</div>"
     },
     "execution_count": 18,
     "metadata": {},
     "output_type": "execute_result"
    }
   ],
   "source": [
    "df.loc[df.age>70].head(10)"
   ],
   "metadata": {
    "collapsed": false,
    "pycharm": {
     "name": "#%%\n"
    }
   }
  },
  {
   "cell_type": "markdown",
   "source": [
    "Любопытно, что в тестовом наборе есть а/м 1904 года выпуска, что безусловно является выбросом данных.\n"
   ],
   "metadata": {
    "collapsed": false
   }
  },
  {
   "cell_type": "code",
   "execution_count": 19,
   "outputs": [
    {
     "data": {
      "text/plain": "0    0.386623\n1    0.286455\n2    0.250603\n3    0.076319\nName: age_cat, dtype: float64"
     },
     "execution_count": 19,
     "metadata": {},
     "output_type": "execute_result"
    }
   ],
   "source": [
    "df.age = df.age.apply(lambda x: x if x <=30. else 30.0 )\n",
    "df['age_cat'] = df.age.apply(lambda x: 0 if x<=5 else (1 if x<=10 else ( 2 if x<=20 else 3 )))\n",
    "df.age_cat.value_counts(normalize=True)"
   ],
   "metadata": {
    "collapsed": false,
    "pycharm": {
     "name": "#%%\n"
    }
   }
  },
  {
   "cell_type": "code",
   "execution_count": 20,
   "outputs": [
    {
     "data": {
      "text/plain": "<Figure size 1152x360 with 1 Axes>",
      "image/png": "[encoded data removed]"
     },
     "metadata": {
      "needs_background": "light"
     },
     "output_type": "display_data"
    }
   ],
   "source": [
    "plt.figure(figsize=(16,5))\n",
    "plt.hist(df.query('train==1').age,bins=25,histtype='step',label='train')\n",
    "plt.hist(df.query('train==0').age,bins=25,histtype='step',label='test')\n",
    "plt.legend(loc='best')\n",
    "plt.title('Распределение age');"
   ],
   "metadata": {
    "collapsed": false,
    "pycharm": {
     "name": "#%%\n"
    }
   }
  },
  {
   "cell_type": "markdown",
   "source": [
    "Интересно, что после корректировки формулы возраста распределение у тестовых и обучающих данных изменилось. У тестовой выборки полявились новые а/м."
   ],
   "metadata": {
    "collapsed": false
   }
  },
  {
   "cell_type": "markdown",
   "source": [
    "#### Пробег\n",
    "\n",
    "Годовой пробег и пробег"
   ],
   "metadata": {
    "collapsed": false
   }
  },
  {
   "cell_type": "code",
   "execution_count": 176,
   "outputs": [
    {
     "name": "stdout",
     "output_type": "stream",
     "text": [
      "0.00         0.117647\n",
      "0.25      7666.666667\n",
      "0.50     13125.000000\n",
      "0.75     18066.666667\n",
      "0.95     29285.714286\n",
      "1.00    210000.000000\n",
      "Name: ann_mil, dtype: float64\n",
      "\n",
      " Low hurdle: -7933.3333 high hurdle: 33666.6667\n"
     ]
    }
   ],
   "source": [
    "df['ann_mil'] = df.apply(lambda t: 5 if t['age']<1 else t['mileage']/t['age'], axis=1)\n",
    "p05.show_quantile_hurdle(df.ann_mil)"
   ],
   "metadata": {
    "collapsed": false,
    "pycharm": {
     "name": "#%%\n"
    }
   }
  },
  {
   "cell_type": "markdown",
   "source": [
    "Посчитаем по квартилям наличие выброса сверху."
   ],
   "metadata": {
    "collapsed": false
   }
  },
  {
   "cell_type": "markdown",
   "source": [
    "Существует выброс по годовому пробегу. Имеет смысл ограничить пробег сверху."
   ],
   "metadata": {
    "collapsed": false
   }
  },
  {
   "cell_type": "code",
   "execution_count": 117,
   "outputs": [],
   "source": [
    "df.ann_mil = df.ann_mil.apply(lambda x: x if x < 33800 else 33800)\n",
    "df['intensity'] = df.ann_mil.apply(lambda x: 0 if x <= 15000 else 1 )"
   ],
   "metadata": {
    "collapsed": false,
    "pycharm": {
     "name": "#%%\n"
    }
   }
  },
  {
   "cell_type": "code",
   "execution_count": 177,
   "outputs": [
    {
     "name": "stdout",
     "output_type": "stream",
     "text": [
      "0.00        10.0\n",
      "0.25     40520.5\n",
      "0.50    120000.0\n",
      "0.75    193000.0\n",
      "0.95    324217.0\n",
      "1.00    420000.0\n",
      "Name: mileage, dtype: float64\n",
      "\n",
      " Low hurdle: -188198.7500 high hurdle: 421719.2500\n"
     ]
    }
   ],
   "source": [
    "p05.show_quantile_hurdle(df.mileage)"
   ],
   "metadata": {
    "collapsed": false,
    "pycharm": {
     "name": "#%%\n"
    }
   }
  },
  {
   "cell_type": "markdown",
   "source": [
    "Ограничим пробег сверху на уровне 420000"
   ],
   "metadata": {
    "collapsed": false
   }
  },
  {
   "cell_type": "code",
   "execution_count": 120,
   "outputs": [],
   "source": [
    "df.mileage = df.mileage.apply(lambda m: m if m <420000 else 420000)\n"
   ],
   "metadata": {
    "collapsed": false,
    "pycharm": {
     "name": "#%%\n"
    }
   }
  },
  {
   "cell_type": "markdown",
   "source": [
    "Вспомогательный признак размера пробега автомобиля (степени изношенности его узлов)"
   ],
   "metadata": {
    "collapsed": false
   }
  },
  {
   "cell_type": "code",
   "execution_count": 121,
   "outputs": [],
   "source": [
    "df['tot_mil'] = df.mileage.apply(lambda m: 0 if m <50000 else( 1 if m <100000 else (2 if m <200000 else 3)))"
   ],
   "metadata": {
    "collapsed": false,
    "pycharm": {
     "name": "#%%\n"
    }
   }
  },
  {
   "cell_type": "markdown",
   "source": [
    "####  Мощность и удельная мощность\n",
    "\n",
    "Логарифм мощности, удельная мощность на ед.объема, удельная мощность на размер автомобиля"
   ],
   "metadata": {
    "collapsed": false
   }
  },
  {
   "cell_type": "code",
   "execution_count": 122,
   "outputs": [],
   "source": [
    "df['power_size'] = df.power / df.size_cat"
   ],
   "metadata": {
    "collapsed": false,
    "pycharm": {
     "name": "#%%\n"
    }
   }
  },
  {
   "cell_type": "code",
   "execution_count": 164,
   "outputs": [
    {
     "name": "stdout",
     "output_type": "stream",
     "text": [
      "0.00      7.600000\n",
      "0.25     39.166667\n",
      "0.50     49.000000\n",
      "0.75     61.166667\n",
      "0.95     88.333333\n",
      "1.00    223.333333\n",
      "Name: power_size, dtype: float64\n",
      "\n",
      " Low hurdle: 6.1667 high hurdle: 94.1667\n"
     ]
    }
   ],
   "source": [
    "p05.show_quantile_hurdle(df.power_size)"
   ],
   "metadata": {
    "collapsed": false,
    "pycharm": {
     "name": "#%%\n"
    }
   }
  },
  {
   "cell_type": "code",
   "execution_count": 165,
   "outputs": [
    {
     "name": "stdout",
     "output_type": "stream",
     "text": [
      "0.00     30.0\n",
      "0.25    140.0\n",
      "0.50    170.0\n",
      "0.75    245.0\n",
      "0.95    380.0\n",
      "1.00    800.0\n",
      "Name: power, dtype: float64\n",
      "\n",
      " Low hurdle: -17.5000 high hurdle: 402.5000\n"
     ]
    }
   ],
   "source": [
    "show_quantile_hurdle(df.power)"
   ],
   "metadata": {
    "collapsed": false,
    "pycharm": {
     "name": "#%%\n"
    }
   }
  },
  {
   "cell_type": "markdown",
   "source": [
    "У мощности и удельной мощности очень тяжелый хвост - много значений намного выше границы обычного среднего распределения.  Точнее говоря, наверное есть несколько распределений в зависимости от типа авто"
   ],
   "metadata": {
    "collapsed": false
   }
  },
  {
   "cell_type": "code",
   "execution_count": 125,
   "outputs": [
    {
     "data": {
      "text/plain": "<Figure size 1152x360 with 1 Axes>",
      "image/png": "[encoded data removed]"
     },
     "metadata": {
      "needs_background": "light"
     },
     "output_type": "display_data"
    }
   ],
   "source": [
    "plt.figure(figsize=(16,5))\n",
    "plt.hist(df.query('train==1').power,bins=25,histtype='step',label='train')\n",
    "plt.hist(df.query('train==0').power,bins=25,histtype='step',label='test')\n",
    "plt.legend(loc='best')\n",
    "plt.title('Распределение power');"
   ],
   "metadata": {
    "collapsed": false,
    "pycharm": {
     "name": "#%%\n"
    }
   }
  },
  {
   "cell_type": "code",
   "execution_count": 126,
   "outputs": [
    {
     "data": {
      "text/plain": "<Figure size 1152x360 with 1 Axes>",
      "image/png": "[encoded data removed]"
     },
     "metadata": {
      "needs_background": "light"
     },
     "output_type": "display_data"
    },
    {
     "data": {
      "text/plain": "<Figure size 1152x360 with 1 Axes>",
      "image/png": "[encoded data removed]"
     },
     "metadata": {
      "needs_background": "light"
     },
     "output_type": "display_data"
    }
   ],
   "source": [
    "plt.figure(figsize=(16,5))\n",
    "plt.hist(df.query(\"train==1 & fuel =='B'\").power,bins=25,histtype='step',label='Бензин')\n",
    "plt.hist(df.query(\"train==1 & fuel =='D'\").power,bins=25,histtype='step',label='Дизель')\n",
    "plt.hist(df.query(\"train==1 & fuel =='H'\").power,bins=25,histtype='step',label='Гибрид')\n",
    "plt.hist(df.query(\"train==1 & fuel =='E'\").power,bins=25,histtype='step',label='Электро')\n",
    "plt.hist(df.query(\"train==1 & fuel =='G'\").power,bins=25,histtype='step',label='Газ')\n",
    "plt.legend(loc='best')\n",
    "plt.title('Распределение power в учебных данных');\n",
    "plt.figure(figsize=(16,5))\n",
    "plt.hist(df.query(\"train==0 & fuel =='B'\").power,bins=25,histtype='step',label='Бензин')\n",
    "plt.hist(df.query(\"train==0 & fuel =='D'\").power,bins=25,histtype='step',label='Дизель')\n",
    "plt.hist(df.query(\"train==0 & fuel =='H'\").power,bins=25,histtype='step',label='Гибрид')\n",
    "plt.hist(df.query(\"train==0 & fuel =='E'\").power,bins=25,histtype='step',label='Электро')\n",
    "plt.hist(df.query(\"train==0 & fuel =='G'\").power,bins=25,histtype='step',label='Газ')\n",
    "plt.legend(loc='best')\n",
    "plt.title('Распределение power в тестовых данных');"
   ],
   "metadata": {
    "collapsed": false,
    "pycharm": {
     "name": "#%%\n"
    }
   }
  },
  {
   "cell_type": "markdown",
   "source": [
    "Существует очень длинный хвост у распределений значений признака power.  Явной зависимости от типа двигателя не найдено.\n"
   ],
   "metadata": {
    "collapsed": false
   }
  },
  {
   "cell_type": "code",
   "execution_count": 127,
   "outputs": [],
   "source": [
    "df['log_power'] = np.log10(df.power)\n"
   ],
   "metadata": {
    "collapsed": false,
    "pycharm": {
     "name": "#%%\n"
    }
   }
  },
  {
   "cell_type": "code",
   "execution_count": 128,
   "outputs": [
    {
     "data": {
      "text/plain": "<Figure size 1152x360 with 1 Axes>",
      "image/png": "[encoded data removed]"
     },
     "metadata": {
      "needs_background": "light"
     },
     "output_type": "display_data"
    }
   ],
   "source": [
    "plt.figure(figsize=(16,5))\n",
    "plt.hist(df.query('train==1').log_power,bins=25,histtype='step',label='train')\n",
    "plt.hist(df.query('train==0').log_power,bins=25,histtype='step',label='test')\n",
    "plt.legend(loc='best')\n",
    "plt.title('Распределение log10 power');"
   ],
   "metadata": {
    "collapsed": false,
    "pycharm": {
     "name": "#%%\n"
    }
   }
  },
  {
   "cell_type": "code",
   "execution_count": 166,
   "outputs": [
    {
     "name": "stdout",
     "output_type": "stream",
     "text": [
      "0.00    1.781600\n",
      "0.25    2.146128\n",
      "0.50    2.230449\n",
      "0.75    2.389166\n",
      "0.95    2.579784\n",
      "1.00    2.753700\n",
      "Name: log_power, dtype: float64\n",
      "\n",
      " Low hurdle: 1.7816 high hurdle: 2.7537\n"
     ]
    }
   ],
   "source": [
    "show_quantile_hurdle(df.log_power)"
   ],
   "metadata": {
    "collapsed": false,
    "pycharm": {
     "name": "#%%\n"
    }
   }
  },
  {
   "cell_type": "markdown",
   "source": [
    "После 10-тичного логарифмирования распределение стало гораздо сильнее напоминать нормальное.  Ограничим логарифм мощность от выбросов сверху и снизу."
   ],
   "metadata": {
    "collapsed": false
   }
  },
  {
   "cell_type": "code",
   "execution_count": 132,
   "outputs": [],
   "source": [
    "df.log_power = df.log_power.apply(lambda x: 1.7816 if x <1.7816 else (x if x < 2.7537 else 2.7537))\n"
   ],
   "metadata": {
    "collapsed": false,
    "pycharm": {
     "name": "#%%\n"
    }
   }
  },
  {
   "cell_type": "code",
   "execution_count": 133,
   "outputs": [],
   "source": [
    "df['vol_power'] = df.apply(lambda t: 0 if t['displacement']<0.1 else t['power']/t['displacement'], axis=1)"
   ],
   "metadata": {
    "collapsed": false,
    "pycharm": {
     "name": "#%%\n"
    }
   }
  },
  {
   "cell_type": "code",
   "execution_count": 134,
   "outputs": [
    {
     "data": {
      "text/plain": "<Figure size 1152x360 with 1 Axes>",
      "image/png": "[encoded data removed]"
     },
     "metadata": {
      "needs_background": "light"
     },
     "output_type": "display_data"
    }
   ],
   "source": [
    "plt.figure(figsize=(16,5))\n",
    "plt.hist(df.query('train==1').vol_power,bins=25,histtype='step',label='train')\n",
    "plt.hist(df.query('train==0').vol_power,bins=25,histtype='step',label='test')\n",
    "plt.legend(loc='best')\n",
    "plt.title('Распределение удельной мощности');"
   ],
   "metadata": {
    "collapsed": false,
    "pycharm": {
     "name": "#%%\n"
    }
   }
  },
  {
   "cell_type": "code",
   "execution_count": 167,
   "outputs": [
    {
     "name": "stdout",
     "output_type": "stream",
     "text": [
      "0.00      0.000000\n",
      "0.25     68.750000\n",
      "0.50     76.000000\n",
      "0.75     92.000000\n",
      "0.95    124.500000\n",
      "1.00    306.666667\n",
      "Name: vol_power, dtype: float64\n",
      "\n",
      " Low hurdle: 33.8750 high hurdle: 126.8750\n"
     ]
    }
   ],
   "source": [
    "show_quantile_hurdle(df.vol_power)"
   ],
   "metadata": {
    "collapsed": false,
    "pycharm": {
     "name": "#%%\n"
    }
   }
  },
  {
   "cell_type": "code",
   "execution_count": 136,
   "outputs": [],
   "source": [
    "df['log_vol_power'] =  np.log10(df.vol_power+1)"
   ],
   "metadata": {
    "collapsed": false,
    "pycharm": {
     "name": "#%%\n"
    }
   }
  },
  {
   "cell_type": "code",
   "execution_count": 137,
   "outputs": [
    {
     "data": {
      "text/plain": "<Figure size 1152x360 with 1 Axes>",
      "image/png": "[encoded data removed]"
     },
     "metadata": {
      "needs_background": "light"
     },
     "output_type": "display_data"
    }
   ],
   "source": [
    "plt.figure(figsize=(16,5))\n",
    "plt.hist(df.query('train==1').log_vol_power,bins=25,histtype='step',label='train')\n",
    "plt.hist(df.query('train==0').log_vol_power,bins=25,histtype='step',label='test')\n",
    "plt.legend(loc='best')\n",
    "plt.title('Распределение  lg+1 удельной мощности');"
   ],
   "metadata": {
    "collapsed": false,
    "pycharm": {
     "name": "#%%\n"
    }
   }
  },
  {
   "cell_type": "code",
   "execution_count": 168,
   "outputs": [
    {
     "name": "stdout",
     "output_type": "stream",
     "text": [
      "0.00    0.000000\n",
      "0.25    1.843544\n",
      "0.50    1.886491\n",
      "0.75    1.968483\n",
      "0.95    2.098644\n",
      "1.00    2.160000\n",
      "Name: log_vol_power, dtype: float64\n",
      "\n",
      " Low hurdle: 1.6561 high hurdle: 2.1559\n"
     ]
    }
   ],
   "source": [
    "show_quantile_hurdle(df.log_vol_power)"
   ],
   "metadata": {
    "collapsed": false,
    "pycharm": {
     "name": "#%%\n"
    }
   }
  },
  {
   "cell_type": "markdown",
   "source": [
    "Есть большое желание ограничить этот показатель снизу. Но для электромобилей этот показатель естественно равен нулю.  Оставлю без ограничения снизу."
   ],
   "metadata": {
    "collapsed": false
   }
  },
  {
   "cell_type": "code",
   "source": [
    "# df.log_vol_power = df.log_vol_power.apply(lambda x: 1.656 if x <1.656 else (x if x < 2.156 else 2.156))\n",
    "df.log_vol_power = df.log_vol_power.apply(lambda x: x if x < 2.156 else 2.16)\n"
   ],
   "metadata": {
    "collapsed": false,
    "pycharm": {
     "name": "#%%\n"
    }
   },
   "execution_count": 141,
   "outputs": []
  },
  {
   "cell_type": "markdown",
   "source": [
    "#### Проверка значимости и взаимной корреляции признаков"
   ],
   "metadata": {
    "collapsed": false
   }
  },
  {
   "cell_type": "code",
   "execution_count": 142,
   "outputs": [
    {
     "data": {
      "text/plain": "Index(['body', 'brand', 'url', 'color', 'displacement', 'power', 'fuel',\n       'mileage', 'model_year', 'model', 'doors', 'manuf_year', 'sell_id',\n       'transmission', 'num_owners', 'car_license', 'gear', 'steering',\n       'price', 'train', 'body_type', 'orig_license', 'left_steering',\n       'size_cat', 'sport_car', 'euro_car', 'premium', 'brand_enc',\n       'color_enc', 'fuel_enc', 'model_enc', 'transmission_enc', 'gear_enc',\n       'body_type_enc', 'power_size', 'age', 'age_cat', 'ann_mil', 'intensity',\n       'tot_mil', 'log_power', 'vol_power', 'log_vol_power'],\n      dtype='object')"
     },
     "execution_count": 142,
     "metadata": {},
     "output_type": "execute_result"
    }
   ],
   "source": [
    "df.columns"
   ],
   "metadata": {
    "collapsed": false,
    "pycharm": {
     "name": "#%%\n"
    }
   }
  },
  {
   "cell_type": "markdown",
   "source": [
    "cat_cols = ['brand', 'color', 'fuel', 'model', 'transmission',  'gear', 'body_type']\n",
    "dig_cat = ['euro_car', 'premium', 'sport_car', 'size_cat', 'orig_license','left_steering','num_owners', 'doors' ]\n",
    "num_cols = [ 'displacement', 'power', 'mileage', 'manuf_year']\n",
    "help_cols = ['sell_id','body','url','model_year', 'price']\n",
    "target = ['price']"
   ],
   "metadata": {
    "collapsed": false,
    "pycharm": {
     "name": "#%% md\n"
    }
   }
  },
  {
   "cell_type": "code",
   "execution_count": 149,
   "outputs": [],
   "source": [
    "cat_cols = ['brand', 'color', 'fuel', 'model', 'transmission',  'gear', 'body_type']\n",
    "dig_cat = ['euro_car', 'premium', 'sport_car', 'size_cat', 'orig_license','left_steering','num_owners', 'doors', 'age_cat', 'intensity', 'tot_mil' ]\n",
    "num_cols = [ 'displacement', 'power', 'mileage', 'manuf_year']\n",
    "num_cols2 = [ 'age', 'ann_mil', 'log_power', 'vol_power', 'log_vol_power', 'power_size']\n",
    "help_cols = ['sell_id','body','url','model_year', 'price20']\n",
    "target = ['price']"
   ],
   "metadata": {
    "collapsed": false,
    "pycharm": {
     "name": "#%%\n"
    }
   }
  },
  {
   "cell_type": "code",
   "execution_count": 150,
   "outputs": [
    {
     "name": "stdout",
     "output_type": "stream",
     "text": [
      "['brand_enc', 'color_enc', 'fuel_enc', 'model_enc', 'transmission_enc', 'gear_enc', 'body_type_enc']\n"
     ]
    }
   ],
   "source": [
    "print(new_cat_cols)"
   ],
   "metadata": {
    "collapsed": false,
    "pycharm": {
     "name": "#%%\n"
    }
   }
  },
  {
   "cell_type": "markdown",
   "source": [
    "Необходимо проверить значимость и корреляцию по новым признакам."
   ],
   "metadata": {
    "collapsed": false
   }
  },
  {
   "cell_type": "code",
   "execution_count": 151,
   "outputs": [
    {
     "name": "stdout",
     "output_type": "stream",
     "text": [
      "['brand_enc', 'color_enc', 'fuel_enc', 'model_enc', 'transmission_enc', 'gear_enc', 'body_type_enc', 'euro_car', 'premium', 'sport_car', 'size_cat', 'orig_license', 'left_steering', 'num_owners', 'doors', 'age_cat', 'intensity', 'tot_mil', 'displacement', 'power', 'mileage', 'manuf_year', 'age', 'ann_mil', 'log_power', 'vol_power', 'log_vol_power', 'power_size']\n"
     ]
    }
   ],
   "source": [
    "all_model_cols = new_cat_cols + dig_cat + num_cols + num_cols2\n",
    "print(all_model_cols)"
   ],
   "metadata": {
    "collapsed": false,
    "pycharm": {
     "name": "#%%\n"
    }
   }
  },
  {
   "cell_type": "code",
   "execution_count": 152,
   "outputs": [
    {
     "data": {
      "text/plain": "<Figure size 1440x864 with 1 Axes>",
      "image/png": "[encoded data removed]"
     },
     "metadata": {
      "needs_background": "light"
     },
     "output_type": "display_data"
    }
   ],
   "source": [
    "\n",
    "plt.figure(figsize=(20, 12))\n",
    "#imp_cat = Series(mutual_info_regression(df[all_model_cols], data['default']), index=model_cols)\n",
    "imp_cat = pd.Series(mutual_info_regression(df.query('train==1')[all_model_cols],df.query('train==1').price),index=all_model_cols)\n",
    "imp_cat.sort_values(inplace=True)\n",
    "imp_cat.plot(kind='barh');"
   ],
   "metadata": {
    "collapsed": false,
    "pycharm": {
     "name": "#%%\n"
    }
   }
  },
  {
   "cell_type": "markdown",
   "source": [
    "Практически все признаки значимые. А что с корреляцией?\n"
   ],
   "metadata": {
    "collapsed": false
   }
  },
  {
   "cell_type": "code",
   "execution_count": 153,
   "outputs": [
    {
     "data": {
      "text/plain": "<Figure size 1440x864 with 2 Axes>",
      "image/png": "[encoded data removed]"
     },
     "metadata": {
      "needs_background": "light"
     },
     "output_type": "display_data"
    }
   ],
   "source": [
    "plt.figure(figsize=(20, 12))\n",
    "sns.heatmap(df[all_model_cols].corr().abs(), vmin=0, vmax=1, annot = False);"
   ],
   "metadata": {
    "collapsed": false,
    "pycharm": {
     "name": "#%%\n"
    }
   }
  },
  {
   "cell_type": "markdown",
   "source": [
    "Довольно много признаков с высокой корреляцией.  Выделим их"
   ],
   "metadata": {
    "collapsed": false
   }
  },
  {
   "cell_type": "code",
   "execution_count": 178,
   "outputs": [
    {
     "data": {
      "text/plain": "manuf_year     age              1.000000\nage            manuf_year       1.000000\npower          log_power        0.953307\nlog_power      power            0.953307\nage            age_cat          0.931516\nage_cat        age              0.931516\n               manuf_year       0.931516\nmanuf_year     age_cat          0.931516\ntot_mil        mileage          0.921843\nmileage        tot_mil          0.921843\nvol_power      log_vol_power    0.813639\nlog_vol_power  vol_power        0.813639\ndisplacement   power            0.786829\npower          displacement     0.786829\nmileage        age_cat          0.783581\nage_cat        mileage          0.783581\ndisplacement   log_power        0.778991\nlog_power      displacement     0.778991\nage            mileage          0.778355\nmileage        age              0.778355\nmanuf_year     mileage          0.778355\nmileage        manuf_year       0.778355\nage_cat        tot_mil          0.769394\ntot_mil        age_cat          0.769394\nage            tot_mil          0.743651\ntot_mil        age              0.743651\n               manuf_year       0.743651\nmanuf_year     tot_mil          0.743651\npower          power_size       0.739868\npower_size     power            0.739868\nintensity      ann_mil          0.718861\nann_mil        intensity        0.718861\nnum_owners     tot_mil          0.702160\ntot_mil        num_owners       0.702160\ndtype: float64"
     },
     "execution_count": 178,
     "metadata": {},
     "output_type": "execute_result"
    }
   ],
   "source": [
    "corr = df[all_model_cols].corr().abs()\n",
    "corr_table = corr.unstack()\n",
    "corr_table_sorted = corr_table.sort_values(kind=\"quicksort\", ascending=False)\n",
    "corr_exclude_ones = corr_table_sorted[corr_table_sorted != 1]\n",
    "corr_exclude_ones[corr_exclude_ones >= 0.70]  #0.85\n"
   ],
   "metadata": {
    "collapsed": false,
    "pycharm": {
     "name": "#%%\n"
    }
   }
  },
  {
   "cell_type": "markdown",
   "source": [
    "В основном высокая корреляция связывает про новые и старые признаки, а также количественные признаки и категориальные на их основе.  Надо исключить то, что представляется менее важным для обучения модели (см график-торнадо выше)."
   ],
   "metadata": {
    "collapsed": false
   }
  },
  {
   "cell_type": "code",
   "execution_count": 21,
   "outputs": [],
   "source": [
    "p05 = reload(p05)"
   ],
   "metadata": {
    "collapsed": false,
    "pycharm": {
     "name": "#%%\n"
    }
   }
  },
  {
   "cell_type": "markdown",
   "source": [
    "Построим и выведем во внешнюю библиотеку функцию создания новых признаков."
   ],
   "metadata": {
    "collapsed": false
   }
  },
  {
   "cell_type": "code",
   "execution_count": 22,
   "outputs": [],
   "source": [
    "df = p05.engineer_features(df)"
   ],
   "metadata": {
    "collapsed": false,
    "pycharm": {
     "name": "#%%\n"
    }
   }
  },
  {
   "cell_type": "code",
   "execution_count": 23,
   "outputs": [
    {
     "data": {
      "text/plain": "Index(['body', 'brand', 'url', 'color', 'displacement', 'power', 'fuel',\n       'mileage', 'model_year', 'model', 'doors', 'manuf_year', 'sell_id',\n       'transmission', 'num_owners', 'gear', 'price', 'train', 'body_type',\n       'orig_license', 'left_steering', 'size_cat', 'sport_car', 'euro_car',\n       'premium', 'brand_enc', 'color_enc', 'fuel_enc', 'model_enc',\n       'transmission_enc', 'gear_enc', 'body_type_enc', 'age', 'age_cat',\n       'ann_mil', 'intensity', 'power_size', 'vol_power'],\n      dtype='object')"
     },
     "execution_count": 23,
     "metadata": {},
     "output_type": "execute_result"
    }
   ],
   "source": [
    "df.columns"
   ],
   "metadata": {
    "collapsed": false,
    "pycharm": {
     "name": "#%%\n"
    }
   }
  },
  {
   "cell_type": "code",
   "execution_count": 24,
   "outputs": [
    {
     "name": "stdout",
     "output_type": "stream",
     "text": [
      "['brand_enc', 'color_enc', 'fuel_enc', 'model_enc', 'transmission_enc', 'gear_enc', 'body_type_enc']\n"
     ]
    }
   ],
   "source": [
    "rg_enc = p05.parse_ranging_encoder(df,cat_cols)\n",
    "new_cat_cols, df = p05.apply_encoder(df, cat_cols, rg_enc)\n",
    "print(new_cat_cols)"
   ],
   "metadata": {
    "collapsed": false,
    "pycharm": {
     "name": "#%%\n"
    }
   }
  },
  {
   "cell_type": "code",
   "execution_count": 25,
   "outputs": [],
   "source": [
    "cat_cols = ['brand', 'color', 'fuel', 'model', 'transmission',  'gear', 'body_type']\n",
    "dig_cat = ['euro_car', 'premium', 'orig_license','left_steering','num_owners', 'doors', 'intensity'  ]\n",
    "num_cols = [ 'power', 'mileage', 'age', 'ann_mil',  'vol_power', 'power_size' ]\n",
    "help_cols = ['sell_id','body','url','model_year']\n",
    "wrong_cols = ['displacement','manuf_year', 'log_power', 'log_vol_power', 'age_cat', 'tot_mil' ]\n",
    "target = ['price']"
   ],
   "metadata": {
    "collapsed": false,
    "pycharm": {
     "name": "#%%\n"
    }
   }
  },
  {
   "cell_type": "markdown",
   "source": [
    "Оценим новые признаки на рабочей модели."
   ],
   "metadata": {
    "collapsed": false
   }
  },
  {
   "cell_type": "code",
   "execution_count": 26,
   "outputs": [
    {
     "name": "stdout",
     "output_type": "stream",
     "text": [
      "Eval: ExtEns AdaBst GradBst RanFrst done. 365.8865 sec\n",
      "ExtEns     11.970694\n",
      "AdaBst     36.694128\n",
      "GradBst    12.000450\n",
      "RanFrst    11.777999\n",
      "Name: FE01, dtype: float64\n"
     ]
    }
   ],
   "source": [
    "model_cols = num_cols + new_cat_cols + dig_cat\n",
    "print(p05.eval_data(df.query('train==1')[model_cols],df.query('train==1').price,'FE01'))"
   ],
   "metadata": {
    "collapsed": false,
    "pycharm": {
     "name": "#%%\n"
    }
   }
  },
  {
   "cell_type": "code",
   "execution_count": 27,
   "outputs": [
    {
     "data": {
      "text/plain": "RandomForestRegressor(n_estimators=200, n_jobs=-1, random_state=42)"
     },
     "execution_count": 27,
     "metadata": {},
     "output_type": "execute_result"
    }
   ],
   "source": [
    "rfr21 = RandomForestRegressor(n_estimators=200, random_state=RANDOM_SEED, n_jobs=-1)\n",
    "X = df.query('train==1')[model_cols].to_numpy()\n",
    "y = df.query('train==1').price.to_numpy()\n",
    "rfr21.fit(X,np.log(y))"
   ],
   "metadata": {
    "collapsed": false,
    "pycharm": {
     "name": "#%%\n"
    }
   }
  },
  {
   "cell_type": "code",
   "execution_count": 28,
   "outputs": [
    {
     "data": {
      "text/plain": "      sell_id         price\n0  1100575026  6.269527e+05\n1  1100549428  1.075122e+06\n2  1100658222  1.263223e+06\n3  1100937408  8.675356e+05\n4  1101037972  7.241352e+05",
      "text/html": "<div>\n<style scoped>\n    .dataframe tbody tr th:only-of-type {\n        vertical-align: middle;\n    }\n\n    .dataframe tbody tr th {\n        vertical-align: top;\n    }\n\n    .dataframe thead th {\n        text-align: right;\n    }\n</style>\n<table border=\"1\" class=\"dataframe\">\n  <thead>\n    <tr style=\"text-align: right;\">\n      <th></th>\n      <th>sell_id</th>\n      <th>price</th>\n    </tr>\n  </thead>\n  <tbody>\n    <tr>\n      <th>0</th>\n      <td>1100575026</td>\n      <td>6.269527e+05</td>\n    </tr>\n    <tr>\n      <th>1</th>\n      <td>1100549428</td>\n      <td>1.075122e+06</td>\n    </tr>\n    <tr>\n      <th>2</th>\n      <td>1100658222</td>\n      <td>1.263223e+06</td>\n    </tr>\n    <tr>\n      <th>3</th>\n      <td>1100937408</td>\n      <td>8.675356e+05</td>\n    </tr>\n    <tr>\n      <th>4</th>\n      <td>1101037972</td>\n      <td>7.241352e+05</td>\n    </tr>\n  </tbody>\n</table>\n</div>"
     },
     "execution_count": 28,
     "metadata": {},
     "output_type": "execute_result"
    }
   ],
   "source": [
    "Xt = df.query('train==0')[model_cols].to_numpy()\n",
    "subm = df.query('train==0')[['sell_id', 'price']]\n",
    "subm['price'] = np.exp(rfr21.predict(Xt))*0.78\n",
    "# subm = tdf[['sell_id','price']]\n",
    "subm.to_csv(f'211202_subm_01.csv', index=False)\n",
    "subm.head()"
   ],
   "metadata": {
    "collapsed": false,
    "pycharm": {
     "name": "#%%\n"
    }
   }
  },
  {
   "cell_type": "markdown",
   "source": [
    "Kaggle Score 17.9970"
   ],
   "metadata": {
    "collapsed": false
   }
  },
  {
   "cell_type": "code",
   "execution_count": 34,
   "outputs": [
    {
     "data": {
      "text/plain": "      sell_id         price\n0  1100575026  5.787256e+05\n1  1100549428  9.924205e+05\n2  1100658222  1.166052e+06\n3  1100937408  8.008021e+05\n4  1101037972  6.684325e+05",
      "text/html": "<div>\n<style scoped>\n    .dataframe tbody tr th:only-of-type {\n        vertical-align: middle;\n    }\n\n    .dataframe tbody tr th {\n        vertical-align: top;\n    }\n\n    .dataframe thead th {\n        text-align: right;\n    }\n</style>\n<table border=\"1\" class=\"dataframe\">\n  <thead>\n    <tr style=\"text-align: right;\">\n      <th></th>\n      <th>sell_id</th>\n      <th>price</th>\n    </tr>\n  </thead>\n  <tbody>\n    <tr>\n      <th>0</th>\n      <td>1100575026</td>\n      <td>5.787256e+05</td>\n    </tr>\n    <tr>\n      <th>1</th>\n      <td>1100549428</td>\n      <td>9.924205e+05</td>\n    </tr>\n    <tr>\n      <th>2</th>\n      <td>1100658222</td>\n      <td>1.166052e+06</td>\n    </tr>\n    <tr>\n      <th>3</th>\n      <td>1100937408</td>\n      <td>8.008021e+05</td>\n    </tr>\n    <tr>\n      <th>4</th>\n      <td>1101037972</td>\n      <td>6.684325e+05</td>\n    </tr>\n  </tbody>\n</table>\n</div>"
     },
     "execution_count": 34,
     "metadata": {},
     "output_type": "execute_result"
    }
   ],
   "source": [
    "subm['price'] = np.exp(rfr21.predict(Xt))*0.72\n",
    "subm.to_csv(f'./submissions/211202_subm_06.csv', index=False)\n",
    "subm.head()"
   ],
   "metadata": {
    "collapsed": false,
    "pycharm": {
     "name": "#%%\n"
    }
   }
  },
  {
   "cell_type": "markdown",
   "source": [
    "Kaggle Score 16.414"
   ],
   "metadata": {
    "collapsed": false
   }
  },
  {
   "cell_type": "markdown",
   "source": [
    "Текущий Kaggle Score после исправления ошибки с годом 16.414 (с поправкой 0.72) Были до исправления ошибки в этой точке 15.70981, 15.8257 и 15.8425."
   ],
   "metadata": {
    "collapsed": false
   }
  },
  {
   "cell_type": "markdown",
   "source": [
    "### Проверка обоснованности предположения по моделям\n",
    "\n",
    "Для проверки обучу две модели ExtraTreesRegressor, и GradientBoostingRegressor на полной обучающей выборке и проверю на тесте путем подачи данных на Каггл."
   ],
   "metadata": {
    "collapsed": false
   }
  },
  {
   "cell_type": "code",
   "execution_count": 41,
   "outputs": [
    {
     "name": "stderr",
     "output_type": "stream",
     "text": [
      "[Parallel(n_jobs=-1)]: Using backend ThreadingBackend with 8 concurrent workers.\n",
      "[Parallel(n_jobs=-1)]: Done  34 tasks      | elapsed:    1.6s\n",
      "[Parallel(n_jobs=-1)]: Done 184 tasks      | elapsed:    7.1s\n",
      "[Parallel(n_jobs=-1)]: Done 200 out of 200 | elapsed:    7.5s finished\n",
      "[Parallel(n_jobs=8)]: Using backend ThreadingBackend with 8 concurrent workers.\n",
      "[Parallel(n_jobs=8)]: Done  34 tasks      | elapsed:    0.1s\n",
      "[Parallel(n_jobs=8)]: Done 184 tasks      | elapsed:    0.3s\n",
      "[Parallel(n_jobs=8)]: Done 200 out of 200 | elapsed:    0.3s finished\n"
     ]
    },
    {
     "data": {
      "text/plain": "      sell_id         price\n0  1100575026  6.530041e+05\n1  1100549428  9.410952e+05\n2  1100658222  1.066791e+06\n3  1100937408  7.959560e+05\n4  1101037972  6.683829e+05",
      "text/html": "<div>\n<style scoped>\n    .dataframe tbody tr th:only-of-type {\n        vertical-align: middle;\n    }\n\n    .dataframe tbody tr th {\n        vertical-align: top;\n    }\n\n    .dataframe thead th {\n        text-align: right;\n    }\n</style>\n<table border=\"1\" class=\"dataframe\">\n  <thead>\n    <tr style=\"text-align: right;\">\n      <th></th>\n      <th>sell_id</th>\n      <th>price</th>\n    </tr>\n  </thead>\n  <tbody>\n    <tr>\n      <th>0</th>\n      <td>1100575026</td>\n      <td>6.530041e+05</td>\n    </tr>\n    <tr>\n      <th>1</th>\n      <td>1100549428</td>\n      <td>9.410952e+05</td>\n    </tr>\n    <tr>\n      <th>2</th>\n      <td>1100658222</td>\n      <td>1.066791e+06</td>\n    </tr>\n    <tr>\n      <th>3</th>\n      <td>1100937408</td>\n      <td>7.959560e+05</td>\n    </tr>\n    <tr>\n      <th>4</th>\n      <td>1101037972</td>\n      <td>6.683829e+05</td>\n    </tr>\n  </tbody>\n</table>\n</div>"
     },
     "execution_count": 41,
     "metadata": {},
     "output_type": "execute_result"
    }
   ],
   "source": [
    "etr = ExtraTreesRegressor(n_estimators=200, random_state=RANDOM_SEED, n_jobs=-1, verbose=1)\n",
    "X = df.query('train==1')[model_cols].to_numpy()\n",
    "y = df.query('train==1').price.to_numpy()\n",
    "etr.fit(X,np.log(y))\n",
    "Xt = df.query('train==0')[model_cols].to_numpy()\n",
    "subm = df.query('train==0')[['sell_id', 'price']]\n",
    "subm['price'] = np.exp(etr.predict(Xt))*0.72\n",
    "subm.to_csv('./submissions/211202_subm_10.csv', index=False)\n",
    "subm.head()"
   ],
   "metadata": {
    "collapsed": false,
    "pycharm": {
     "name": "#%%\n"
    }
   }
  },
  {
   "cell_type": "markdown",
   "source": [
    "Kaggle Score 16.452. Чуда не произошло, однако это наверное хороший кандидат на включение в стэкинг.\n",
    "\n",
    "Еще один участник из стандартного пакета."
   ],
   "metadata": {
    "collapsed": false
   }
  },
  {
   "cell_type": "code",
   "execution_count": 42,
   "outputs": [
    {
     "name": "stdout",
     "output_type": "stream",
     "text": [
      "      Iter       Train Loss   Remaining Time \n",
      "         1           0.9082            2.53m\n",
      "         2           0.7749            2.42m\n",
      "         3           0.6649            2.26m\n",
      "         4           0.5735            2.21m\n",
      "         5           0.4985            2.22m\n",
      "         6           0.4332            2.21m\n",
      "         7           0.3797            2.19m\n",
      "         8           0.3347            2.17m\n",
      "         9           0.2982            2.18m\n",
      "        10           0.2668            2.14m\n",
      "        20           0.1208            2.25m\n",
      "        30           0.0836            2.42m\n",
      "        40           0.0705            2.35m\n",
      "        50           0.0633            2.49m\n",
      "        60           0.0584            2.39m\n",
      "        70           0.0552            2.37m\n",
      "        80           0.0523            2.33m\n",
      "        90           0.0500            2.31m\n",
      "       100           0.0481            2.28m\n",
      "       200           0.0393            2.05m\n",
      "       300           0.0349            1.84m\n",
      "       400           0.0323            1.72m\n",
      "       500           0.0301            1.59m\n",
      "       600           0.0287            1.46m\n",
      "       700           0.0274            1.34m\n",
      "       800           0.0263            1.23m\n",
      "       900           0.0254            1.12m\n",
      "      1000           0.0247            1.01m\n",
      "      2000           0.0198            0.00s\n"
     ]
    },
    {
     "data": {
      "text/plain": "      sell_id         price\n0  1100575026  7.483781e+05\n1  1100549428  1.025337e+06\n2  1100658222  1.154330e+06\n3  1100937408  8.654280e+05\n4  1101037972  7.717938e+05",
      "text/html": "<div>\n<style scoped>\n    .dataframe tbody tr th:only-of-type {\n        vertical-align: middle;\n    }\n\n    .dataframe tbody tr th {\n        vertical-align: top;\n    }\n\n    .dataframe thead th {\n        text-align: right;\n    }\n</style>\n<table border=\"1\" class=\"dataframe\">\n  <thead>\n    <tr style=\"text-align: right;\">\n      <th></th>\n      <th>sell_id</th>\n      <th>price</th>\n    </tr>\n  </thead>\n  <tbody>\n    <tr>\n      <th>0</th>\n      <td>1100575026</td>\n      <td>7.483781e+05</td>\n    </tr>\n    <tr>\n      <th>1</th>\n      <td>1100549428</td>\n      <td>1.025337e+06</td>\n    </tr>\n    <tr>\n      <th>2</th>\n      <td>1100658222</td>\n      <td>1.154330e+06</td>\n    </tr>\n    <tr>\n      <th>3</th>\n      <td>1100937408</td>\n      <td>8.654280e+05</td>\n    </tr>\n    <tr>\n      <th>4</th>\n      <td>1101037972</td>\n      <td>7.717938e+05</td>\n    </tr>\n  </tbody>\n</table>\n</div>"
     },
     "execution_count": 42,
     "metadata": {},
     "output_type": "execute_result"
    }
   ],
   "source": [
    "gbr = GradientBoostingRegressor(n_estimators=2000,   random_state=RANDOM_SEED, verbose=1)\n",
    "X = df.query('train==1')[model_cols].to_numpy()\n",
    "y = df.query('train==1').price.to_numpy()\n",
    "gbr.fit(X,np.log(y))\n",
    "Xt = df.query('train==0')[model_cols].to_numpy()\n",
    "subm = df.query('train==0')[['sell_id', 'price']]\n",
    "subm['price'] = np.exp(gbr.predict(Xt))*0.78\n",
    "subm.to_csv('./submissions/211202_subm_11.csv', index=False)\n",
    "subm.head()"
   ],
   "metadata": {
    "collapsed": false,
    "pycharm": {
     "name": "#%%\n"
    }
   }
  },
  {
   "cell_type": "markdown",
   "source": [
    "Kaggle Score 17.388"
   ],
   "metadata": {
    "collapsed": false
   }
  },
  {
   "cell_type": "code",
   "execution_count": 43,
   "outputs": [
    {
     "data": {
      "text/plain": "      sell_id         price\n0  1100575026  6.908105e+05\n1  1100549428  9.464646e+05\n2  1100658222  1.065536e+06\n3  1100937408  7.988566e+05\n4  1101037972  7.124250e+05",
      "text/html": "<div>\n<style scoped>\n    .dataframe tbody tr th:only-of-type {\n        vertical-align: middle;\n    }\n\n    .dataframe tbody tr th {\n        vertical-align: top;\n    }\n\n    .dataframe thead th {\n        text-align: right;\n    }\n</style>\n<table border=\"1\" class=\"dataframe\">\n  <thead>\n    <tr style=\"text-align: right;\">\n      <th></th>\n      <th>sell_id</th>\n      <th>price</th>\n    </tr>\n  </thead>\n  <tbody>\n    <tr>\n      <th>0</th>\n      <td>1100575026</td>\n      <td>6.908105e+05</td>\n    </tr>\n    <tr>\n      <th>1</th>\n      <td>1100549428</td>\n      <td>9.464646e+05</td>\n    </tr>\n    <tr>\n      <th>2</th>\n      <td>1100658222</td>\n      <td>1.065536e+06</td>\n    </tr>\n    <tr>\n      <th>3</th>\n      <td>1100937408</td>\n      <td>7.988566e+05</td>\n    </tr>\n    <tr>\n      <th>4</th>\n      <td>1101037972</td>\n      <td>7.124250e+05</td>\n    </tr>\n  </tbody>\n</table>\n</div>"
     },
     "execution_count": 43,
     "metadata": {},
     "output_type": "execute_result"
    }
   ],
   "source": [
    "subm['price'] = np.exp(gbr.predict(Xt))*0.72\n",
    "subm.to_csv('./submissions/211202_subm_12.csv', index=False)\n",
    "subm.head()"
   ],
   "metadata": {
    "collapsed": false,
    "pycharm": {
     "name": "#%%\n"
    }
   }
  },
  {
   "cell_type": "markdown",
   "source": [
    "Kaggle Score 15.31618 (Было до исправления ошибки 15.30687) Разрыв после исправления ошибки практически сократился.  Гипотеза о необходимости проверки результатов путем подачи предсказания на kagglе подтвердилась."
   ],
   "metadata": {
    "collapsed": false
   }
  },
  {
   "cell_type": "markdown",
   "source": [
    "### Эксперименты с кодировщиками категорий\n",
    "\n",
    "Во время постановки задачи ментор упомянул библиотеку category encoders. Этот кандидат для включения в scikit-learn содержит некоторое количество моделей для кодировки категориальных признаков.  Особенность некоторых признаков в задаче - их высокая кардинальность.  В этой связи возникло желание опробовать в деле несколько функций из этой библиотеки.\n"
   ],
   "metadata": {
    "collapsed": false
   }
  },
  {
   "cell_type": "code",
   "execution_count": 45,
   "outputs": [
    {
     "data": {
      "text/plain": "brand            12\ncolor            16\nfuel              5\nmodel           607\ntransmission      4\ngear              3\nbody_type         6\ndtype: int64"
     },
     "execution_count": 45,
     "metadata": {},
     "output_type": "execute_result"
    }
   ],
   "source": [
    "df[cat_cols].nunique()"
   ],
   "metadata": {
    "collapsed": false,
    "pycharm": {
     "name": "#%%\n"
    }
   }
  },
  {
   "cell_type": "markdown",
   "source": [
    " В пространстве необработанных категорийных признаков осталось 3 признака с высокой кардинальностью и четыре признака с низкой кардинальностью, которые вполне могут быть эффективно преобразованы в набор индексных признаков."
   ],
   "metadata": {
    "collapsed": false
   }
  },
  {
   "cell_type": "code",
   "execution_count": 47,
   "outputs": [
    {
     "name": "stdout",
     "output_type": "stream",
     "text": [
      "['brand_enc', 'color_enc', 'fuel_enc', 'model_enc', 'transmission_enc', 'gear_enc', 'body_type_enc']\n"
     ]
    }
   ],
   "source": [
    "print(new_cat_cols)"
   ],
   "metadata": {
    "collapsed": false,
    "pycharm": {
     "name": "#%%\n"
    }
   }
  },
  {
   "cell_type": "code",
   "execution_count": 49,
   "outputs": [],
   "source": [
    "high_card_cat = ['brand', 'color', 'model']\n",
    "high_card_cat_enc = ['brand_enc', 'color_enc', 'model_enc']\n",
    "low_card_cat = ['fuel',  'transmission',  'gear', 'body_type']"
   ],
   "metadata": {
    "collapsed": false,
    "pycharm": {
     "name": "#%%\n"
    }
   }
  },
  {
   "cell_type": "code",
   "execution_count": 50,
   "outputs": [
    {
     "name": "stdout",
     "output_type": "stream",
     "text": [
      "Index(['fuel_B', 'fuel_D', 'fuel_E', 'fuel_G', 'fuel_H', 'transmission_AMT',\n",
      "       'transmission_AT', 'transmission_CVT', 'transmission_MT', 'gear_AWD',\n",
      "       'gear_FWD', 'gear_RWD', 'body_type_MPV', 'body_type_SUV',\n",
      "       'body_type_coupe', 'body_type_f_back', 'body_type_sedan',\n",
      "       'body_type_wagon'],\n",
      "      dtype='object')\n"
     ]
    }
   ],
   "source": [
    "dummies = pd.get_dummies(df[low_card_cat])\n",
    "dum_cat = list(dummies.columns); print(dum_cat)"
   ],
   "metadata": {
    "collapsed": false,
    "pycharm": {
     "name": "#%%\n"
    }
   }
  },
  {
   "cell_type": "code",
   "execution_count": 51,
   "outputs": [],
   "source": [
    "df = pd.concat([df, dummies], axis=1)"
   ],
   "metadata": {
    "collapsed": false,
    "pycharm": {
     "name": "#%%\n"
    }
   }
  },
  {
   "cell_type": "code",
   "execution_count": 53,
   "outputs": [],
   "source": [
    "dum_cat = list(dum_cat)"
   ],
   "metadata": {
    "collapsed": false,
    "pycharm": {
     "name": "#%%\n"
    }
   }
  },
  {
   "cell_type": "code",
   "execution_count": 57,
   "outputs": [],
   "source": [
    "p05 = reload(p05)"
   ],
   "metadata": {
    "collapsed": false,
    "pycharm": {
     "name": "#%%\n"
    }
   }
  },
  {
   "cell_type": "code",
   "execution_count": 54,
   "outputs": [
    {
     "name": "stdout",
     "output_type": "stream",
     "text": [
      "Eval: ExtEns AdaBst GradBst RanFrst done. 462.5962 sec\n",
      "ExtEns     12.000214\n",
      "AdaBst     35.590512\n",
      "GradBst    11.973071\n",
      "RanFrst    11.816702\n",
      "Name: FE01, dtype: float64\n"
     ]
    }
   ],
   "source": [
    "model_cols = num_cols + dum_cat + high_card_cat_enc + dig_cat\n",
    "X = df.query('train==1')[model_cols]\n",
    "y = df.query('train==1').price\n",
    "print(p05.eval_data(X,y,'FE01'))"
   ],
   "metadata": {
    "collapsed": false,
    "pycharm": {
     "name": "#%%\n"
    }
   }
  },
  {
   "cell_type": "markdown",
   "source": [
    "Введение индексных признаков оказало позитивное влияние на GradBst и негативное на ансамбли. А что на Kaggle?"
   ],
   "metadata": {
    "collapsed": false
   }
  },
  {
   "cell_type": "code",
   "execution_count": 55,
   "outputs": [
    {
     "data": {
      "text/plain": "      sell_id         price\n0  1100575026  5.883123e+05\n1  1100549428  9.940007e+05\n2  1100658222  1.181236e+06\n3  1100937408  7.934301e+05\n4  1101037972  6.647247e+05",
      "text/html": "<div>\n<style scoped>\n    .dataframe tbody tr th:only-of-type {\n        vertical-align: middle;\n    }\n\n    .dataframe tbody tr th {\n        vertical-align: top;\n    }\n\n    .dataframe thead th {\n        text-align: right;\n    }\n</style>\n<table border=\"1\" class=\"dataframe\">\n  <thead>\n    <tr style=\"text-align: right;\">\n      <th></th>\n      <th>sell_id</th>\n      <th>price</th>\n    </tr>\n  </thead>\n  <tbody>\n    <tr>\n      <th>0</th>\n      <td>1100575026</td>\n      <td>5.883123e+05</td>\n    </tr>\n    <tr>\n      <th>1</th>\n      <td>1100549428</td>\n      <td>9.940007e+05</td>\n    </tr>\n    <tr>\n      <th>2</th>\n      <td>1100658222</td>\n      <td>1.181236e+06</td>\n    </tr>\n    <tr>\n      <th>3</th>\n      <td>1100937408</td>\n      <td>7.934301e+05</td>\n    </tr>\n    <tr>\n      <th>4</th>\n      <td>1101037972</td>\n      <td>6.647247e+05</td>\n    </tr>\n  </tbody>\n</table>\n</div>"
     },
     "execution_count": 55,
     "metadata": {},
     "output_type": "execute_result"
    }
   ],
   "source": [
    "rfr = RandomForestRegressor(n_estimators=200, random_state=RANDOM_SEED, n_jobs=-1)\n",
    "X = df.query('train==1')[model_cols].to_numpy()\n",
    "y = df.query('train==1').price.to_numpy()\n",
    "rfr.fit(X,np.log(y))\n",
    "Xt = df.query('train==0')[model_cols].to_numpy()\n",
    "subm = df.query('train==0')[['sell_id', 'price']]\n",
    "subm['price'] = np.exp(rfr.predict(Xt))*0.72\n",
    "subm.to_csv('./submissions/211202_subm_13.csv', index=False)\n",
    "subm.head()"
   ],
   "metadata": {
    "collapsed": false,
    "pycharm": {
     "name": "#%%\n"
    }
   }
  },
  {
   "cell_type": "markdown",
   "source": [
    "Kaggle 16.4412  Направление изменения признака сохраняется и на kaggle."
   ],
   "metadata": {
    "collapsed": false
   }
  },
  {
   "cell_type": "code",
   "execution_count": 56,
   "outputs": [
    {
     "name": "stdout",
     "output_type": "stream",
     "text": [
      "      Iter       Train Loss   Remaining Time \n",
      "         1           0.9082            3.44m\n",
      "         2           0.7745            3.01m\n",
      "         3           0.6638            2.88m\n",
      "         4           0.5716            2.83m\n",
      "         5           0.4959            2.86m\n",
      "         6           0.4335            2.84m\n",
      "         7           0.3783            2.82m\n",
      "         8           0.3329            2.80m\n",
      "         9           0.2949            2.76m\n",
      "        10           0.2633            2.76m\n",
      "        20           0.1180            2.64m\n",
      "        30           0.0809            2.62m\n",
      "        40           0.0680            2.56m\n",
      "        50           0.0607            2.49m\n",
      "        60           0.0566            2.48m\n",
      "        70           0.0535            2.57m\n",
      "        80           0.0512            2.54m\n",
      "        90           0.0493            2.49m\n",
      "       100           0.0476            2.45m\n",
      "       200           0.0386            2.52m\n",
      "       300           0.0346            2.24m\n",
      "       400           0.0320            2.04m\n",
      "       500           0.0300            1.88m\n",
      "       600           0.0286            1.74m\n",
      "       700           0.0274            1.64m\n",
      "       800           0.0262            1.53m\n",
      "       900           0.0253            1.40m\n",
      "      1000           0.0245            1.28m\n",
      "      2000           0.0197            0.00s\n"
     ]
    },
    {
     "data": {
      "text/plain": "      sell_id         price\n0  1100575026  7.047561e+05\n1  1100549428  9.607980e+05\n2  1100658222  1.058303e+06\n3  1100937408  7.943815e+05\n4  1101037972  7.177123e+05",
      "text/html": "<div>\n<style scoped>\n    .dataframe tbody tr th:only-of-type {\n        vertical-align: middle;\n    }\n\n    .dataframe tbody tr th {\n        vertical-align: top;\n    }\n\n    .dataframe thead th {\n        text-align: right;\n    }\n</style>\n<table border=\"1\" class=\"dataframe\">\n  <thead>\n    <tr style=\"text-align: right;\">\n      <th></th>\n      <th>sell_id</th>\n      <th>price</th>\n    </tr>\n  </thead>\n  <tbody>\n    <tr>\n      <th>0</th>\n      <td>1100575026</td>\n      <td>7.047561e+05</td>\n    </tr>\n    <tr>\n      <th>1</th>\n      <td>1100549428</td>\n      <td>9.607980e+05</td>\n    </tr>\n    <tr>\n      <th>2</th>\n      <td>1100658222</td>\n      <td>1.058303e+06</td>\n    </tr>\n    <tr>\n      <th>3</th>\n      <td>1100937408</td>\n      <td>7.943815e+05</td>\n    </tr>\n    <tr>\n      <th>4</th>\n      <td>1101037972</td>\n      <td>7.177123e+05</td>\n    </tr>\n  </tbody>\n</table>\n</div>"
     },
     "execution_count": 56,
     "metadata": {},
     "output_type": "execute_result"
    }
   ],
   "source": [
    "gbr = GradientBoostingRegressor(n_estimators=2000,   random_state=RANDOM_SEED, verbose=1)\n",
    "X = df.query('train==1')[model_cols].to_numpy()\n",
    "y = df.query('train==1').price.to_numpy()\n",
    "gbr.fit(X,np.log(y))\n",
    "Xt = df.query('train==0')[model_cols].to_numpy()\n",
    "subm = df.query('train==0')[['sell_id', 'price']]\n",
    "subm['price'] = np.exp(gbr.predict(Xt))*0.72\n",
    "subm.to_csv('./submissions/211202_subm_14.csv', index=False)\n",
    "subm.head()"
   ],
   "metadata": {
    "collapsed": false,
    "pycharm": {
     "name": "#%%\n"
    }
   }
  },
  {
   "cell_type": "markdown",
   "source": [
    "Kaggle 15.2194  Это пока лучший результат."
   ],
   "metadata": {
    "collapsed": false
   }
  },
  {
   "cell_type": "code",
   "execution_count": 95,
   "outputs": [],
   "source": [
    "def target_encode(data,col,enc):\n",
    "    tgt_name = col +'_tgt'\n",
    "    x_col = dict()\n",
    "    data[tgt_name] = 0\n",
    "    column = data.query('train==1')[col].to_numpy()\n",
    "    target = np.log(data.query('train==1').price.to_numpy())\n",
    "    i = 0\n",
    "    kf = KFold(n_splits=3, shuffle=True, random_state=RANDOM_SEED)\n",
    "    for trn_index, _ in kf.split(column):\n",
    "        enc.fit( column[trn_index], target[trn_index] )\n",
    "        x_col[i] = enc.transform(data[col].to_numpy())\n",
    "        i += 1\n",
    "    data[tgt_name] = (x_col[0] + x_col[1] + x_col[2])/3\n",
    "    return tgt_name, data"
   ],
   "metadata": {
    "collapsed": false,
    "pycharm": {
     "name": "#%%\n"
    }
   }
  },
  {
   "cell_type": "markdown",
   "source": [
    "Функция расчета значения целевых признаков перекочевала в библиотеку функций после отладки.  С целевой кодировкой есть проблема переобучения.  Чтобы ее избежать, и генерировать признак отдельно заранее я решил сделать кросс-валидацию на 3 складках.  Кодировщик обучался на 2/3 обучающей выборки, затем делал вариант кодировки признака для полной обучающей и тестовой выборок одновременно. Этот вариант запоминался для последующего усреднения.  Итоговый вариант значений целевой кодировки получился усреднением трех вариантов целевой кодировки."
   ],
   "metadata": {
    "collapsed": false
   }
  },
  {
   "cell_type": "code",
   "execution_count": 84,
   "outputs": [],
   "source": [
    "enc = ce.MEstimateEncoder(m=5)\n",
    "new_name, df = p05.target_encode(df, 'brand', enc )"
   ],
   "metadata": {
    "collapsed": false,
    "pycharm": {
     "name": "#%%\n"
    }
   }
  },
  {
   "cell_type": "code",
   "execution_count": 85,
   "outputs": [
    {
     "name": "stdout",
     "output_type": "stream",
     "text": [
      "Eval: ExtEns GradBst RanFrst done. 345.6992 sec\n",
      "ExtEns     11.945598\n",
      "GradBst    12.022838\n",
      "RanFrst    11.793123\n",
      "Name: FE01, dtype: float64\n"
     ]
    }
   ],
   "source": [
    "model_cols = num_cols + dum_cat +  dig_cat + ['color_enc', 'model_enc'] + [new_name]\n",
    "X = df.query('train==1')[model_cols]\n",
    "y = df.query('train==1').price\n",
    "print(p05.eval_data(X,y,'FE01'))"
   ],
   "metadata": {
    "collapsed": false,
    "pycharm": {
     "name": "#%%\n"
    }
   }
  },
  {
   "cell_type": "markdown",
   "source": [
    "Сравним разные модели целевых кодировщиков из пакета category_encorders."
   ],
   "metadata": {
    "collapsed": false
   }
  },
  {
   "cell_type": "code",
   "execution_count": 86,
   "outputs": [
    {
     "name": "stdout",
     "output_type": "stream",
     "text": [
      "Encoding CatBst\n",
      "Eval: ExtEns GradBst RanFrst done. 347.9786 sec\n",
      "Encoding MEst\n",
      "Eval: ExtEns GradBst RanFrst done. 346.9738 sec\n",
      "Encoding GLMM\n",
      "Eval: ExtEns GradBst RanFrst done. 347.7319 sec\n"
     ]
    }
   ],
   "source": [
    "enc_models = { 'CatBst': ce.CatBoostEncoder(random_state=RANDOM_SEED),\n",
    "               'MEst': ce.MEstimateEncoder(random_state=RANDOM_SEED, m=5),\n",
    "               'GLMM':  ce.GLMMEncoder(random_state=RANDOM_SEED) }\n",
    "\n",
    "eval = dict()\n",
    "for enc_n in enc_models.keys():\n",
    "    print('Encoding',enc_n )\n",
    "    new_name, df = target_encode(df, 'brand', enc_models[enc_n])\n",
    "    model_cols = num_cols + dum_cat + dig_cat + ['color_enc', 'model_enc'] + [new_name]\n",
    "    X = df.query('train==1')[model_cols]\n",
    "    y = df.query('train==1').price\n",
    "    eval_n = 'CE_'+enc_n\n",
    "    eval[eval_n] = p05.eval_data(X, y, eval_n)\n"
   ],
   "metadata": {
    "collapsed": false,
    "pycharm": {
     "name": "#%%\n"
    }
   }
  },
  {
   "cell_type": "code",
   "execution_count": 90,
   "outputs": [
    {
     "name": "stdout",
     "output_type": "stream",
     "text": [
      "          CECatBst     CEMEst     CEGLMM\n",
      "ExtEns   11.957177  11.945598  11.945111\n",
      "GradBst  12.022838  12.022838  12.022838\n",
      "RanFrst  11.793123  11.793123  11.793123\n"
     ]
    }
   ],
   "source": [
    "print(pd.concat(eval, axis=1))"
   ],
   "metadata": {
    "collapsed": false,
    "pycharm": {
     "name": "#%%\n"
    }
   }
  },
  {
   "cell_type": "markdown",
   "source": [
    "Можно предположить, что Generalized Linear Mixed Model Encoder обеспечивает наиболее интересный результат.  Результат работы этого кодировщика остался последним в датафрейме.   Результаты работы кодировщика мне понравились тем, что кроме положительных целевых статистик в признаке есть и отрицательные. Кодировщик явно помогает подгонять будущие модели.\n",
    "\n",
    "\n",
    "Посмотрим на kaggle c моделью Случайного леса.  На обучающих данных изменений не заметно.\n"
   ],
   "metadata": {
    "collapsed": false
   }
  },
  {
   "cell_type": "code",
   "execution_count": 91,
   "outputs": [
    {
     "data": {
      "text/plain": "      sell_id         price\n0  1100575026  5.893299e+05\n1  1100549428  9.847821e+05\n2  1100658222  1.174207e+06\n3  1100937408  7.924749e+05\n4  1101037972  6.628054e+05",
      "text/html": "<div>\n<style scoped>\n    .dataframe tbody tr th:only-of-type {\n        vertical-align: middle;\n    }\n\n    .dataframe tbody tr th {\n        vertical-align: top;\n    }\n\n    .dataframe thead th {\n        text-align: right;\n    }\n</style>\n<table border=\"1\" class=\"dataframe\">\n  <thead>\n    <tr style=\"text-align: right;\">\n      <th></th>\n      <th>sell_id</th>\n      <th>price</th>\n    </tr>\n  </thead>\n  <tbody>\n    <tr>\n      <th>0</th>\n      <td>1100575026</td>\n      <td>5.893299e+05</td>\n    </tr>\n    <tr>\n      <th>1</th>\n      <td>1100549428</td>\n      <td>9.847821e+05</td>\n    </tr>\n    <tr>\n      <th>2</th>\n      <td>1100658222</td>\n      <td>1.174207e+06</td>\n    </tr>\n    <tr>\n      <th>3</th>\n      <td>1100937408</td>\n      <td>7.924749e+05</td>\n    </tr>\n    <tr>\n      <th>4</th>\n      <td>1101037972</td>\n      <td>6.628054e+05</td>\n    </tr>\n  </tbody>\n</table>\n</div>"
     },
     "execution_count": 91,
     "metadata": {},
     "output_type": "execute_result"
    }
   ],
   "source": [
    "rfr = RandomForestRegressor(n_estimators=200, random_state=RANDOM_SEED, n_jobs=-1)\n",
    "X = df.query('train==1')[model_cols].to_numpy()\n",
    "y = df.query('train==1').price.to_numpy()\n",
    "rfr.fit(X,np.log(y))\n",
    "Xt = df.query('train==0')[model_cols].to_numpy()\n",
    "subm = df.query('train==0')[['sell_id', 'price']]\n",
    "subm['price'] = np.exp(rfr.predict(Xt))*0.72\n",
    "subm.to_csv('./submissions/211202_subm_15.csv', index=False)\n",
    "subm.head()"
   ],
   "metadata": {
    "collapsed": false,
    "pycharm": {
     "name": "#%%\n"
    }
   }
  },
  {
   "cell_type": "markdown",
   "source": [
    "Kaggle  16.33197  Тенденция к улучшению есть."
   ],
   "metadata": {
    "collapsed": false
   }
  },
  {
   "cell_type": "code",
   "execution_count": 92,
   "outputs": [
    {
     "name": "stdout",
     "output_type": "stream",
     "text": [
      "      Iter       Train Loss   Remaining Time \n",
      "         1           0.9082            3.48m\n",
      "         2           0.7745            4.12m\n",
      "         3           0.6638            3.67m\n",
      "         4           0.5716            3.77m\n",
      "         5           0.4959            3.81m\n",
      "         6           0.4335            3.91m\n",
      "         7           0.3783            3.86m\n",
      "         8           0.3329            3.77m\n",
      "         9           0.2946            3.65m\n",
      "        10           0.2629            3.52m\n",
      "        20           0.1156            3.25m\n",
      "        30           0.0782            3.25m\n",
      "        40           0.0649            3.30m\n",
      "        50           0.0582            3.23m\n",
      "        60           0.0542            3.21m\n",
      "        70           0.0514            3.13m\n",
      "        80           0.0494            3.02m\n",
      "        90           0.0479            2.96m\n",
      "       100           0.0465            2.90m\n",
      "       200           0.0385            2.55m\n",
      "       300           0.0346            2.26m\n",
      "       400           0.0321            2.06m\n",
      "       500           0.0301            1.89m\n",
      "       600           0.0286            1.73m\n",
      "       700           0.0273            1.60m\n",
      "       800           0.0263            1.49m\n",
      "       900           0.0254            1.37m\n",
      "      1000           0.0248            1.23m\n",
      "      2000           0.0198            0.00s\n"
     ]
    },
    {
     "data": {
      "text/plain": "      sell_id         price\n0  1100575026  6.836358e+05\n1  1100549428  9.481225e+05\n2  1100658222  1.050360e+06\n3  1100937408  7.877044e+05\n4  1101037972  7.252634e+05",
      "text/html": "<div>\n<style scoped>\n    .dataframe tbody tr th:only-of-type {\n        vertical-align: middle;\n    }\n\n    .dataframe tbody tr th {\n        vertical-align: top;\n    }\n\n    .dataframe thead th {\n        text-align: right;\n    }\n</style>\n<table border=\"1\" class=\"dataframe\">\n  <thead>\n    <tr style=\"text-align: right;\">\n      <th></th>\n      <th>sell_id</th>\n      <th>price</th>\n    </tr>\n  </thead>\n  <tbody>\n    <tr>\n      <th>0</th>\n      <td>1100575026</td>\n      <td>6.836358e+05</td>\n    </tr>\n    <tr>\n      <th>1</th>\n      <td>1100549428</td>\n      <td>9.481225e+05</td>\n    </tr>\n    <tr>\n      <th>2</th>\n      <td>1100658222</td>\n      <td>1.050360e+06</td>\n    </tr>\n    <tr>\n      <th>3</th>\n      <td>1100937408</td>\n      <td>7.877044e+05</td>\n    </tr>\n    <tr>\n      <th>4</th>\n      <td>1101037972</td>\n      <td>7.252634e+05</td>\n    </tr>\n  </tbody>\n</table>\n</div>"
     },
     "execution_count": 92,
     "metadata": {},
     "output_type": "execute_result"
    }
   ],
   "source": [
    "gbr = GradientBoostingRegressor(n_estimators=2000,   random_state=RANDOM_SEED, verbose=1)\n",
    "X = df.query('train==1')[model_cols].to_numpy()\n",
    "y = df.query('train==1').price.to_numpy()\n",
    "gbr.fit(X,np.log(y))\n",
    "Xt = df.query('train==0')[model_cols].to_numpy()\n",
    "subm = df.query('train==0')[['sell_id', 'price']]\n",
    "subm['price'] = np.exp(gbr.predict(Xt))*0.72\n",
    "subm.to_csv('./submissions/211202_subm_16.csv', index=False)\n",
    "subm.head()"
   ],
   "metadata": {
    "collapsed": false,
    "pycharm": {
     "name": "#%%\n"
    }
   }
  },
  {
   "cell_type": "markdown",
   "source": [
    "Kaggle = 15.29843 А здесь результат похуже будет, чем в прошлой итерации.  Похоже, что GradBust не нравятся целевые кодировщики.  Радует то, что результаты локального моделирования и проверки качества на Kaggle двигаются в одном направлении. Попробую закодировать все три высококардинальных признака."
   ],
   "metadata": {
    "collapsed": false
   }
  },
  {
   "cell_type": "code",
   "execution_count": 96,
   "outputs": [],
   "source": [
    "p05 = reload(p05)"
   ],
   "metadata": {
    "collapsed": false,
    "pycharm": {
     "name": "#%%\n"
    }
   }
  },
  {
   "cell_type": "code",
   "execution_count": 97,
   "outputs": [
    {
     "name": "stdout",
     "output_type": "stream",
     "text": [
      "['brand_tgt', 'color_tgt', 'model_tgt']\n"
     ]
    }
   ],
   "source": [
    "enc = ce.GLMMEncoder(random_state=RANDOM_SEED)\n",
    "nn01, df = p05.target_encode(df, 'color', enc )\n",
    "nn02, df = p05.target_encode(df, 'model', enc )\n",
    "tgt_enc = [new_name, nn01, nn02]; print(tgt_enc)"
   ],
   "metadata": {
    "collapsed": false,
    "pycharm": {
     "name": "#%%\n"
    }
   }
  },
  {
   "cell_type": "code",
   "execution_count": 98,
   "outputs": [
    {
     "name": "stdout",
     "output_type": "stream",
     "text": [
      "Eval: ExtEns GradBst RanFrst done. 359.4121 sec\n"
     ]
    },
    {
     "data": {
      "text/plain": "ExtEns     11.684297\nGradBst    11.828017\nRanFrst    11.550701\nName: CE02, dtype: float64"
     },
     "execution_count": 98,
     "metadata": {},
     "output_type": "execute_result"
    }
   ],
   "source": [
    "model_cols = num_cols + dum_cat + dig_cat + tgt_enc\n",
    "p05.eval_data(df.query('train==1')[model_cols], df.query('train==1').price , 'CE02')"
   ],
   "metadata": {
    "collapsed": false,
    "pycharm": {
     "name": "#%%\n"
    }
   }
  },
  {
   "cell_type": "code",
   "execution_count": 99,
   "outputs": [
    {
     "data": {
      "text/plain": "      sell_id         price\n0  1100575026  6.782847e+05\n1  1100549428  1.012053e+06\n2  1100658222  1.150659e+06\n3  1100937408  7.996145e+05\n4  1101037972  6.793145e+05",
      "text/html": "<div>\n<style scoped>\n    .dataframe tbody tr th:only-of-type {\n        vertical-align: middle;\n    }\n\n    .dataframe tbody tr th {\n        vertical-align: top;\n    }\n\n    .dataframe thead th {\n        text-align: right;\n    }\n</style>\n<table border=\"1\" class=\"dataframe\">\n  <thead>\n    <tr style=\"text-align: right;\">\n      <th></th>\n      <th>sell_id</th>\n      <th>price</th>\n    </tr>\n  </thead>\n  <tbody>\n    <tr>\n      <th>0</th>\n      <td>1100575026</td>\n      <td>6.782847e+05</td>\n    </tr>\n    <tr>\n      <th>1</th>\n      <td>1100549428</td>\n      <td>1.012053e+06</td>\n    </tr>\n    <tr>\n      <th>2</th>\n      <td>1100658222</td>\n      <td>1.150659e+06</td>\n    </tr>\n    <tr>\n      <th>3</th>\n      <td>1100937408</td>\n      <td>7.996145e+05</td>\n    </tr>\n    <tr>\n      <th>4</th>\n      <td>1101037972</td>\n      <td>6.793145e+05</td>\n    </tr>\n  </tbody>\n</table>\n</div>"
     },
     "execution_count": 99,
     "metadata": {},
     "output_type": "execute_result"
    }
   ],
   "source": [
    "rfr = RandomForestRegressor(n_estimators=200, random_state=RANDOM_SEED, n_jobs=-1)\n",
    "X = df.query('train==1')[model_cols].to_numpy()\n",
    "y = df.query('train==1').price.to_numpy()\n",
    "rfr.fit(X,np.log(y))\n",
    "Xt = df.query('train==0')[model_cols].to_numpy()\n",
    "subm = df.query('train==0')[['sell_id', 'price']]\n",
    "subm['price'] = np.exp(rfr.predict(Xt))*0.72\n",
    "subm.to_csv('./submissions/211202_subm_17.csv', index=False)\n",
    "subm.head()"
   ],
   "metadata": {
    "collapsed": false,
    "pycharm": {
     "name": "#%%\n"
    }
   }
  },
  {
   "cell_type": "markdown",
   "source": [
    "Kaggle Score 16.1782,"
   ],
   "metadata": {
    "collapsed": false
   }
  },
  {
   "cell_type": "code",
   "execution_count": 100,
   "outputs": [
    {
     "name": "stdout",
     "output_type": "stream",
     "text": [
      "      Iter       Train Loss   Remaining Time \n",
      "         1           0.9063            4.02m\n",
      "         2           0.7693            3.20m\n",
      "         3           0.6576            2.94m\n",
      "         4           0.5661            2.86m\n",
      "         5           0.4869            2.83m\n",
      "         6           0.4199            2.76m\n",
      "         7           0.3642            2.80m\n",
      "         8           0.3188            2.77m\n",
      "         9           0.2798            2.73m\n",
      "        10           0.2475            2.71m\n",
      "        20           0.1021            2.53m\n",
      "        30           0.0695            2.46m\n",
      "        40           0.0590            2.39m\n",
      "        50           0.0539            2.34m\n",
      "        60           0.0504            2.30m\n",
      "        70           0.0482            2.27m\n",
      "        80           0.0464            2.40m\n",
      "        90           0.0450            2.48m\n",
      "       100           0.0436            2.45m\n",
      "       200           0.0363            2.21m\n",
      "       300           0.0328            2.03m\n",
      "       400           0.0306            1.89m\n",
      "       500           0.0290            1.77m\n",
      "       600           0.0277            1.65m\n",
      "       700           0.0265            1.57m\n",
      "       800           0.0255            1.47m\n",
      "       900           0.0247            1.35m\n",
      "      1000           0.0239            1.23m\n",
      "      2000           0.0191            0.00s\n"
     ]
    },
    {
     "data": {
      "text/plain": "      sell_id         price\n0  1100575026  7.002192e+05\n1  1100549428  9.361855e+05\n2  1100658222  1.033615e+06\n3  1100937408  7.695458e+05\n4  1101037972  7.382029e+05",
      "text/html": "<div>\n<style scoped>\n    .dataframe tbody tr th:only-of-type {\n        vertical-align: middle;\n    }\n\n    .dataframe tbody tr th {\n        vertical-align: top;\n    }\n\n    .dataframe thead th {\n        text-align: right;\n    }\n</style>\n<table border=\"1\" class=\"dataframe\">\n  <thead>\n    <tr style=\"text-align: right;\">\n      <th></th>\n      <th>sell_id</th>\n      <th>price</th>\n    </tr>\n  </thead>\n  <tbody>\n    <tr>\n      <th>0</th>\n      <td>1100575026</td>\n      <td>7.002192e+05</td>\n    </tr>\n    <tr>\n      <th>1</th>\n      <td>1100549428</td>\n      <td>9.361855e+05</td>\n    </tr>\n    <tr>\n      <th>2</th>\n      <td>1100658222</td>\n      <td>1.033615e+06</td>\n    </tr>\n    <tr>\n      <th>3</th>\n      <td>1100937408</td>\n      <td>7.695458e+05</td>\n    </tr>\n    <tr>\n      <th>4</th>\n      <td>1101037972</td>\n      <td>7.382029e+05</td>\n    </tr>\n  </tbody>\n</table>\n</div>"
     },
     "execution_count": 100,
     "metadata": {},
     "output_type": "execute_result"
    }
   ],
   "source": [
    "gbr = GradientBoostingRegressor(n_estimators=2000,   random_state=RANDOM_SEED, verbose=1)\n",
    "X = df.query('train==1')[model_cols].to_numpy()\n",
    "y = df.query('train==1').price.to_numpy()\n",
    "gbr.fit(X,np.log(y))\n",
    "Xt = df.query('train==0')[model_cols].to_numpy()\n",
    "subm = df.query('train==0')[['sell_id', 'price']]\n",
    "subm['price'] = np.exp(gbr.predict(Xt))*0.72\n",
    "subm.to_csv('./submissions/211202_subm_18.csv', index=False)\n",
    "subm.head()"
   ],
   "metadata": {
    "collapsed": false,
    "pycharm": {
     "name": "#%%\n"
    }
   }
  },
  {
   "cell_type": "markdown",
   "source": [
    "Kaggle Score 15.1890  Удалось улучшить общий результат."
   ],
   "metadata": {
    "collapsed": false
   }
  },
  {
   "cell_type": "markdown",
   "source": [
    "#### Промежуточные выводы\n",
    "\n",
    "Разраотан набор признаков. Излишне коррелирующие признаки (к-т Корреляции > 0.85) устранены исходя из выбора более важного показателя.\n",
    "Проведены эксперименты и разработана модель целевой кодировки на основе пакета category_encorders. Особенность модели - новые признаки создаются один раз и снижается риск их потери при дальнейшей работе.  Функции созданы в библиотеке как encode_high_cardinal_categories и encode_low_cardinal_categories. Они будут отработаны на следующем рабочем листе.\n",
    "\n",
    "Можно переходить к завершающей части работы - настройке и выбору моделей."
   ],
   "metadata": {
    "collapsed": false,
    "pycharm": {
     "name": "#%% md\n"
    }
   }
  }
 ],
 "metadata": {
  "kernelspec": {
   "display_name": "Python 3",
   "language": "python",
   "name": "python3"
  },
  "language_info": {
   "codemirror_mode": {
    "name": "ipython",
    "version": 2
   },
   "file_extension": ".py",
   "mimetype": "text/x-python",
   "name": "python",
   "nbconvert_exporter": "python",
   "pygments_lexer": "ipython2",
   "version": "2.7.6"
  }
 },
 "nbformat": 4,
 "nbformat_minor": 0
}