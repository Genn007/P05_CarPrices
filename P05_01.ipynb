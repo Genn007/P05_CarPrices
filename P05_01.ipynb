{
 "cells": [
  {
   "cell_type": "markdown",
   "source": [
    "# Расчет цены на автомобиль\n",
    "\n",
    "Постановка задачи:\n",
    "Необходимо разработать модель, которая бы рассчитывала цену на выставленный на продажу автомобиль.  По условиям учебной задачи обучающих данных в явном виде не предоставлено. Только тестовые, собранные на авто-ру больше года назад. Необходимо самостоятельно разработать программу, которая бы собирала данные по объявлениям на том же сайте авто.ру.\n",
    "Дополнительная сложность - количество данных. Оцениваться работа будет по порядка 35к записей. Необходимо собрать порядка 140 тыс записей.  На самом сайте автору сейчас актуально порядка 90к объявлений.\n",
    "\n",
    "\n",
    "Решение задачи будет разделено на несколько этапов:\n",
    "- EDA\n",
    "- FE\n",
    "- ...\n"
   ],
   "metadata": {
    "collapsed": false
   }
  },
  {
   "cell_type": "code",
   "execution_count": 1,
   "metadata": {
    "collapsed": true
   },
   "outputs": [],
   "source": [
    "import pandas as pd"
   ]
  },
  {
   "cell_type": "markdown",
   "source": [
    "## Знакомство с данными"
   ],
   "metadata": {
    "collapsed": false
   }
  },
  {
   "cell_type": "markdown",
   "source": [
    "На сайте kaggle имеются тестовый набор данных и набор данных от сентября 2020 года.  Попробуем проанализировать их."
   ],
   "metadata": {
    "collapsed": false
   }
  },
  {
   "cell_type": "code",
   "execution_count": 2,
   "outputs": [
    {
     "data": {
      "text/plain": "(89378, 26)"
     },
     "execution_count": 2,
     "metadata": {},
     "output_type": "execute_result"
    }
   ],
   "source": [
    "train = pd.read_csv('input/all_auto_ru_09_09_2020.csv')\n",
    "train.shape"
   ],
   "metadata": {
    "collapsed": false,
    "pycharm": {
     "name": "#%%\n"
    }
   }
  },
  {
   "cell_type": "code",
   "execution_count": 3,
   "outputs": [
    {
     "data": {
      "text/plain": "(34686, 32)"
     },
     "execution_count": 3,
     "metadata": {},
     "output_type": "execute_result"
    }
   ],
   "source": [
    "test = pd.read_csv('input/test.csv')\n",
    "test.shape"
   ],
   "metadata": {
    "collapsed": false,
    "pycharm": {
     "name": "#%%\n"
    }
   }
  },
  {
   "cell_type": "code",
   "execution_count": 5,
   "outputs": [
    {
     "data": {
      "text/plain": "Index(['bodyType', 'brand', 'color', 'fuelType', 'modelDate', 'name',\n       'numberOfDoors', 'productionDate', 'vehicleConfiguration',\n       'vehicleTransmission', 'engineDisplacement', 'enginePower',\n       'description', 'mileage', 'Комплектация', 'Привод', 'Руль', 'Состояние',\n       'Владельцы', 'ПТС', 'Таможня', 'Владение', 'price', 'start_date',\n       'hidden', 'model'],\n      dtype='object')"
     },
     "execution_count": 5,
     "metadata": {},
     "output_type": "execute_result"
    }
   ],
   "source": [
    "train.columns"
   ],
   "metadata": {
    "collapsed": false,
    "pycharm": {
     "name": "#%%\n"
    }
   }
  },
  {
   "cell_type": "code",
   "execution_count": 6,
   "outputs": [
    {
     "data": {
      "text/plain": "Index(['bodyType', 'brand', 'car_url', 'color', 'complectation_dict',\n       'description', 'engineDisplacement', 'enginePower', 'equipment_dict',\n       'fuelType', 'image', 'mileage', 'modelDate', 'model_info', 'model_name',\n       'name', 'numberOfDoors', 'parsing_unixtime', 'priceCurrency',\n       'productionDate', 'sell_id', 'super_gen', 'vehicleConfiguration',\n       'vehicleTransmission', 'vendor', 'Владельцы', 'Владение', 'ПТС',\n       'Привод', 'Руль', 'Состояние', 'Таможня'],\n      dtype='object')"
     },
     "execution_count": 6,
     "metadata": {},
     "output_type": "execute_result"
    }
   ],
   "source": [
    "test.columns"
   ],
   "metadata": {
    "collapsed": false,
    "pycharm": {
     "name": "#%%\n"
    }
   }
  },
  {
   "cell_type": "code",
   "execution_count": 7,
   "outputs": [
    {
     "data": {
      "text/plain": "['SKODA',\n 'AUDI',\n 'HONDA',\n 'VOLVO',\n 'BMW',\n 'NISSAN',\n 'INFINITI',\n 'MERCEDES',\n 'TOYOTA',\n 'LEXUS',\n 'VOLKSWAGEN',\n 'MITSUBISHI']"
     },
     "execution_count": 7,
     "metadata": {},
     "output_type": "execute_result"
    }
   ],
   "source": [
    "list(test.brand.unique())"
   ],
   "metadata": {
    "collapsed": false,
    "pycharm": {
     "name": "#%%\n"
    }
   }
  },
  {
   "cell_type": "code",
   "execution_count": 8,
   "outputs": [
    {
     "data": {
      "text/plain": "['AUDI',\n 'BMW',\n 'CADILLAC',\n 'CHERY',\n 'CHEVROLET',\n 'CHRYSLER',\n 'CITROEN',\n 'DAEWOO',\n 'DODGE',\n 'FORD',\n 'GEELY',\n 'HONDA',\n 'HYUNDAI',\n 'INFINITI',\n 'JAGUAR',\n 'JEEP',\n 'KIA',\n 'LEXUS',\n 'MAZDA',\n 'MINI',\n 'MITSUBISHI',\n 'NISSAN',\n 'OPEL',\n 'PEUGEOT',\n 'PORSCHE',\n 'RENAULT',\n 'SKODA',\n 'SUBARU',\n 'SUZUKI',\n 'TOYOTA',\n 'VOLKSWAGEN',\n 'VOLVO',\n 'GREAT_WALL',\n 'LAND_ROVER',\n 'MERCEDES',\n 'SSANG_YONG']"
     },
     "execution_count": 8,
     "metadata": {},
     "output_type": "execute_result"
    }
   ],
   "source": [
    "list(train.brand.unique())"
   ],
   "metadata": {
    "collapsed": false,
    "pycharm": {
     "name": "#%%\n"
    }
   }
  },
  {
   "cell_type": "markdown",
   "source": [
    "Данные существенно отличаются по составу (названиям) столбцов и количеству брендов в наборах.  Выгружу данные для совместного исследования возможности объединения таблиц в Excel."
   ],
   "metadata": {
    "collapsed": false
   }
  },
  {
   "cell_type": "code",
   "execution_count": 14,
   "outputs": [
    {
     "name": "stderr",
     "output_type": "stream",
     "text": [
      "/var/folders/gb/vp2kjpjj7kxgkxk0ltq2p87h0000gn/T/ipykernel_81330/2826245866.py:1: FutureWarning: As the xlwt package is no longer maintained, the xlwt engine will be removed in a future version of pandas. This is the only engine in pandas that supports writing in the xls format. Install openpyxl and write to an xlsx file instead. You can set the option io.excel.xls.writer to 'xlwt' to silence this warning. While this option is deprecated and will also raise a warning, it can be globally set and the warning suppressed.\n",
      "  train.head(1).to_excel('train01.xls')\n",
      "/var/folders/gb/vp2kjpjj7kxgkxk0ltq2p87h0000gn/T/ipykernel_81330/2826245866.py:2: FutureWarning: As the xlwt package is no longer maintained, the xlwt engine will be removed in a future version of pandas. This is the only engine in pandas that supports writing in the xls format. Install openpyxl and write to an xlsx file instead. You can set the option io.excel.xls.writer to 'xlwt' to silence this warning. While this option is deprecated and will also raise a warning, it can be globally set and the warning suppressed.\n",
      "  test.head(1).to_excel('test01.xls')\n"
     ]
    }
   ],
   "source": [
    "train.head(1).to_excel('train01.xls')\n",
    "test.head(1).to_excel('test01.xls')\n",
    "train.groupby(['brand','model']).price.count().to_excel('Train_Brand.xls')\n",
    "test.groupby(['brand', 'model_name']).parsing_unixtime.count().to_excel('TestBrand.xls')"
   ],
   "metadata": {
    "collapsed": false,
    "pycharm": {
     "name": "#%%\n"
    }
   }
  },
  {
   "cell_type": "markdown",
   "source": [
    "### Предварительные выводы"
   ],
   "metadata": {
    "collapsed": false
   }
  },
  {
   "cell_type": "markdown",
   "source": [
    "Исследование структуры таблиц в Excel показало сложность приведения форматов двух таблиц к единому знаменателю. Кроме того, на вводной постановке задачи Ментор настоятельно рекомендовал собрать данные самостоятельно.  Попробую собрать данные с использованием решения, унаследованного от предыдущих студентов и найденого на kaggle/git_hub.\n",
    "\n",
    "Для сбора данных с сайта выделена отдельная книга P05_02_AutoRu Parser.\n",
    "\n",
    "При сборе данных возникнет еще одна проблема - временной характер цен, изменяющихся с течением времени. Необходимо где-то взять данные за прошлый период и сделать поправку на изменение цен. В ходе постановки задачи было предложено скорректировать цены, например на инфляцию.  Попробую вытащить средние цены по маркам из набора данных с сайта kaggle и в дальнейшем как-то учесть эту информацию."
   ],
   "metadata": {
    "collapsed": false
   }
  },
  {
   "cell_type": "code",
   "execution_count": 12,
   "outputs": [],
   "source": [
    "train.groupby(['brand']).price.mean().to_csv('200909-BrandPrices.csv')\n"
   ],
   "metadata": {
    "collapsed": false,
    "pycharm": {
     "name": "#%%\n"
    }
   }
  },
  {
   "cell_type": "markdown",
   "source": [],
   "metadata": {
    "collapsed": false
   }
  },
  {
   "cell_type": "code",
   "source": [],
   "metadata": {
    "collapsed": false,
    "pycharm": {
     "name": "#%%\n"
    }
   },
   "execution_count": 12,
   "outputs": []
  },
  {
   "cell_type": "code",
   "execution_count": null,
   "outputs": [],
   "source": [],
   "metadata": {
    "collapsed": false,
    "pycharm": {
     "name": "#%%\n"
    }
   }
  }
 ],
 "metadata": {
  "kernelspec": {
   "display_name": "Python 3",
   "language": "python",
   "name": "python3"
  },
  "language_info": {
   "codemirror_mode": {
    "name": "ipython",
    "version": 2
   },
   "file_extension": ".py",
   "mimetype": "text/x-python",
   "name": "python",
   "nbconvert_exporter": "python",
   "pygments_lexer": "ipython2",
   "version": "2.7.6"
  }
 },
 "nbformat": 4,
 "nbformat_minor": 0
}