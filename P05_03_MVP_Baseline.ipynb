{
 "cells": [
  {
   "cell_type": "markdown",
   "source": [
    "# Расчет цены на автомобиль\n",
    "### Книга 03 - разработка прототипа модели для оценки автомобилей.\n",
    "\n",
    "Постановка задачи:\n",
    "Необходимо разработать модель, которая бы рассчитывала цену на выставленный на продажу автомобиль.  По условиям учебной задачи обучающих данных в явном виде не предоставлено. Только тестовые, собранные на авто-ру больше года назад. Необходимо самостоятельно разработать программу, которая бы собирала данные по объявлениям на том же сайте авто.ру. Дополнительная сложность - количество данных. Оцениваться работа будет по порядка 35к записей. Необходимо собрать порядка 140 тыс записей.  На самом сайте автору сейчас актуально порядка 90к объявлений.\n",
    "\n",
    "С сайта авто.ру загружены два набора исходных данных:\n",
    "- набор предложений по 12 брендам автомобилей (как в тестовом наборе), размером порядка 42к записей;\n",
    "- набор предложений по 36 брендам автомобилей (как в данных от авторов задачи), размером порядка 91к записей.\n",
    "\n",
    "Ближайший план работы:\n",
    "- Перенести предлагаемое авторами решение baseline и сделать на его основе MVP. Для MVP взять данные из набора по 12 брендам, как и предлагают авторы.\n",
    "- Обработку данных сделать в виде трансформера. Взять данные по 36 брендам и сравнить качество модели при увеличении набора данных.\n",
    "- ... ?"
   ],
   "metadata": {
    "collapsed": false
   }
  },
  {
   "cell_type": "markdown",
   "source": [
    " ### Построение MVP\n",
    "\n",
    "За основу взято baseline решение от авторов условий. Задача - повторить результат."
   ],
   "metadata": {
    "collapsed": false,
    "pycharm": {
     "name": "#%% md\n"
    }
   }
  },
  {
   "cell_type": "code",
   "execution_count": 41,
   "outputs": [],
   "source": [
    "import numpy as np\n",
    "import pandas as pd\n",
    "from ast import literal_eval\n",
    "\n",
    "import re\n",
    "import sys\n",
    "import itertools\n",
    "import datetime\n",
    "from tqdm.notebook import tqdm\n",
    "import pandas_profiling\n",
    "\n",
    "import seaborn as sns\n",
    "import matplotlib.pyplot as plt\n",
    "\n",
    "from sklearn.preprocessing import LabelEncoder, OneHotEncoder, StandardScaler, PolynomialFeatures\n",
    "from sklearn.feature_selection import f_regression, mutual_info_regression\n",
    "from sklearn.model_selection import train_test_split, KFold, RandomizedSearchCV, cross_val_score\n",
    "from sklearn.ensemble import RandomForestRegressor, BaggingRegressor, ExtraTreesRegressor, AdaBoostRegressor, GradientBoostingRegressor, StackingRegressor\n",
    "from sklearn.linear_model import LinearRegression\n",
    "from sklearn.metrics import mean_squared_error, make_scorer"
   ],
   "metadata": {
    "collapsed": false,
    "pycharm": {
     "name": "#%%\n"
    }
   }
  },
  {
   "cell_type": "code",
   "execution_count": 2,
   "outputs": [],
   "source": [
    "# зафиксируем версию пакетов, чтобы эксперименты были воспроизводимы:\n",
    "# !pip freeze > requirements.txt\n",
    "# всегда фиксируйте RANDOM_SEED, чтобы ваши эксперименты были воспроизводимы!\n",
    "RANDOM_SEED = 42\n",
    "\n",
    "def mape(y_true, y_pred):\n",
    "    return np.mean(np.abs((y_pred - y_true) / y_true))"
   ],
   "metadata": {
    "collapsed": false,
    "pycharm": {
     "name": "#%%\n"
    }
   }
  },
  {
   "cell_type": "code",
   "execution_count": 105,
   "outputs": [
    {
     "name": "stderr",
     "output_type": "stream",
     "text": [
      "/opt/anaconda3/lib/python3.8/site-packages/IPython/core/interactiveshell.py:3444: DtypeWarning: Columns (14,15,19,20,22,28,33,34,35) have mixed types.Specify dtype option on import or set low_memory=False.\n",
      "  exec(code_obj, self.user_global_ns, self.user_ns)\n"
     ]
    }
   ],
   "source": [
    "train =  pd.read_csv('input/211121-12brands.csv')\n",
    "test = pd.read_csv('input/test.csv')\n"
   ],
   "metadata": {
    "collapsed": false,
    "pycharm": {
     "name": "#%%\n"
    }
   }
  },
  {
   "cell_type": "code",
   "execution_count": 106,
   "outputs": [
    {
     "data": {
      "text/plain": "   Unnamed: 0  index           bodyType brand  \\\n0           0      0  Внедорожник 5 дв.   BMW   \n1           1      1              Седан   BMW   \n2           2      2              Седан   BMW   \n3           3      3               Купе   BMW   \n4           4      4              Седан   BMW   \n\n                                             car_url   color  \\\n0  https://auto.ru/cars/used/sale/bmw/x5/11057182...  040001   \n1  https://auto.ru/cars/used/sale/bmw/3er/1106015...  040001   \n2  https://auto.ru/cars/used/sale/bmw/m5/11057329...  CACECB   \n3  https://auto.ru/cars/used/sale/bmw/3er/1103184...  EE1D19   \n4  https://auto.ru/cars/used/sale/bmw/7er/1105925...  040001   \n\n                                  complectation_dict  \\\n0                                        {'id': '0'}   \n1  {'id': '9361242', 'name': '316i SE', 'availabl...   \n2                                        {'id': '0'}   \n3                                        {'id': '0'}   \n4                                        {'id': '0'}   \n\n                                         description engineDisplacement  \\\n0  Автомобиль приобретался новым и с тех пор нахо...            3.0 LTR   \n1  Юридически чистый и технически обслуженный авт...            1.6 LTR   \n2  Продажа указанного БМВ осуществляется в формат...            4.4 LTR   \n3  Бмв 316 по документам 1.8\\nПо факту был устано...            1.8 LTR   \n4  Автомобиль в достойном состоянии. Чистый, не к...            4.8 LTR   \n\n  enginePower  ... vehicleTransmission    vendor Владельцы  \\\n0     249 N12  ...           AUTOMATIC  EUROPEAN         2   \n1     136 N12  ...           AUTOMATIC  EUROPEAN         3   \n2     600 N12  ...               ROBOT  EUROPEAN         1   \n3      90 N12  ...          MECHANICAL  EUROPEAN         4   \n4     367 N12  ...           AUTOMATIC  EUROPEAN         2   \n\n                      Владение        ПТС           Привод  Руль Состояние  \\\n0   {'year': 2017, 'month': 5}   ORIGINAL  ALL_WHEEL_DRIVE  LEFT      True   \n1   {'year': 2020, 'month': 5}   ORIGINAL       REAR_DRIVE  LEFT      True   \n2  {'year': 2014, 'month': 12}   ORIGINAL       REAR_DRIVE  LEFT      True   \n3   {'year': 2017, 'month': 7}  DUPLICATE       REAR_DRIVE  LEFT      True   \n4   {'year': 2019, 'month': 1}   ORIGINAL       REAR_DRIVE  LEFT      True   \n\n  Таможня     price  \n0    True   4350000  \n1    True   1420000  \n2    True  80000000  \n3    True    990000  \n4    True    645000  \n\n[5 rows x 36 columns]",
      "text/html": "<div>\n<style scoped>\n    .dataframe tbody tr th:only-of-type {\n        vertical-align: middle;\n    }\n\n    .dataframe tbody tr th {\n        vertical-align: top;\n    }\n\n    .dataframe thead th {\n        text-align: right;\n    }\n</style>\n<table border=\"1\" class=\"dataframe\">\n  <thead>\n    <tr style=\"text-align: right;\">\n      <th></th>\n      <th>Unnamed: 0</th>\n      <th>index</th>\n      <th>bodyType</th>\n      <th>brand</th>\n      <th>car_url</th>\n      <th>color</th>\n      <th>complectation_dict</th>\n      <th>description</th>\n      <th>engineDisplacement</th>\n      <th>enginePower</th>\n      <th>...</th>\n      <th>vehicleTransmission</th>\n      <th>vendor</th>\n      <th>Владельцы</th>\n      <th>Владение</th>\n      <th>ПТС</th>\n      <th>Привод</th>\n      <th>Руль</th>\n      <th>Состояние</th>\n      <th>Таможня</th>\n      <th>price</th>\n    </tr>\n  </thead>\n  <tbody>\n    <tr>\n      <th>0</th>\n      <td>0</td>\n      <td>0</td>\n      <td>Внедорожник 5 дв.</td>\n      <td>BMW</td>\n      <td>https://auto.ru/cars/used/sale/bmw/x5/11057182...</td>\n      <td>040001</td>\n      <td>{'id': '0'}</td>\n      <td>Автомобиль приобретался новым и с тех пор нахо...</td>\n      <td>3.0 LTR</td>\n      <td>249 N12</td>\n      <td>...</td>\n      <td>AUTOMATIC</td>\n      <td>EUROPEAN</td>\n      <td>2</td>\n      <td>{'year': 2017, 'month': 5}</td>\n      <td>ORIGINAL</td>\n      <td>ALL_WHEEL_DRIVE</td>\n      <td>LEFT</td>\n      <td>True</td>\n      <td>True</td>\n      <td>4350000</td>\n    </tr>\n    <tr>\n      <th>1</th>\n      <td>1</td>\n      <td>1</td>\n      <td>Седан</td>\n      <td>BMW</td>\n      <td>https://auto.ru/cars/used/sale/bmw/3er/1106015...</td>\n      <td>040001</td>\n      <td>{'id': '9361242', 'name': '316i SE', 'availabl...</td>\n      <td>Юридически чистый и технически обслуженный авт...</td>\n      <td>1.6 LTR</td>\n      <td>136 N12</td>\n      <td>...</td>\n      <td>AUTOMATIC</td>\n      <td>EUROPEAN</td>\n      <td>3</td>\n      <td>{'year': 2020, 'month': 5}</td>\n      <td>ORIGINAL</td>\n      <td>REAR_DRIVE</td>\n      <td>LEFT</td>\n      <td>True</td>\n      <td>True</td>\n      <td>1420000</td>\n    </tr>\n    <tr>\n      <th>2</th>\n      <td>2</td>\n      <td>2</td>\n      <td>Седан</td>\n      <td>BMW</td>\n      <td>https://auto.ru/cars/used/sale/bmw/m5/11057329...</td>\n      <td>CACECB</td>\n      <td>{'id': '0'}</td>\n      <td>Продажа указанного БМВ осуществляется в формат...</td>\n      <td>4.4 LTR</td>\n      <td>600 N12</td>\n      <td>...</td>\n      <td>ROBOT</td>\n      <td>EUROPEAN</td>\n      <td>1</td>\n      <td>{'year': 2014, 'month': 12}</td>\n      <td>ORIGINAL</td>\n      <td>REAR_DRIVE</td>\n      <td>LEFT</td>\n      <td>True</td>\n      <td>True</td>\n      <td>80000000</td>\n    </tr>\n    <tr>\n      <th>3</th>\n      <td>3</td>\n      <td>3</td>\n      <td>Купе</td>\n      <td>BMW</td>\n      <td>https://auto.ru/cars/used/sale/bmw/3er/1103184...</td>\n      <td>EE1D19</td>\n      <td>{'id': '0'}</td>\n      <td>Бмв 316 по документам 1.8\\nПо факту был устано...</td>\n      <td>1.8 LTR</td>\n      <td>90 N12</td>\n      <td>...</td>\n      <td>MECHANICAL</td>\n      <td>EUROPEAN</td>\n      <td>4</td>\n      <td>{'year': 2017, 'month': 7}</td>\n      <td>DUPLICATE</td>\n      <td>REAR_DRIVE</td>\n      <td>LEFT</td>\n      <td>True</td>\n      <td>True</td>\n      <td>990000</td>\n    </tr>\n    <tr>\n      <th>4</th>\n      <td>4</td>\n      <td>4</td>\n      <td>Седан</td>\n      <td>BMW</td>\n      <td>https://auto.ru/cars/used/sale/bmw/7er/1105925...</td>\n      <td>040001</td>\n      <td>{'id': '0'}</td>\n      <td>Автомобиль в достойном состоянии. Чистый, не к...</td>\n      <td>4.8 LTR</td>\n      <td>367 N12</td>\n      <td>...</td>\n      <td>AUTOMATIC</td>\n      <td>EUROPEAN</td>\n      <td>2</td>\n      <td>{'year': 2019, 'month': 1}</td>\n      <td>ORIGINAL</td>\n      <td>REAR_DRIVE</td>\n      <td>LEFT</td>\n      <td>True</td>\n      <td>True</td>\n      <td>645000</td>\n    </tr>\n  </tbody>\n</table>\n<p>5 rows × 36 columns</p>\n</div>"
     },
     "execution_count": 106,
     "metadata": {},
     "output_type": "execute_result"
    }
   ],
   "source": [
    "train.head()"
   ],
   "metadata": {
    "collapsed": false,
    "pycharm": {
     "name": "#%%\n"
    }
   }
  },
  {
   "cell_type": "code",
   "execution_count": 107,
   "outputs": [
    {
     "data": {
      "text/plain": "  bodyType  brand                                            car_url  \\\n0  лифтбек  SKODA  https://auto.ru/cars/used/sale/skoda/octavia/1...   \n1  лифтбек  SKODA  https://auto.ru/cars/used/sale/skoda/octavia/1...   \n2  лифтбек  SKODA  https://auto.ru/cars/used/sale/skoda/superb/11...   \n3  лифтбек  SKODA  https://auto.ru/cars/used/sale/skoda/octavia/1...   \n4  лифтбек  SKODA  https://auto.ru/cars/used/sale/skoda/octavia/1...   \n\n        color                                 complectation_dict  \\\n0       синий                                                NaN   \n1      чёрный                                                NaN   \n2       серый  {\"id\":\"20026336\",\"name\":\"Ambition\",\"available_...   \n3  коричневый  {\"id\":\"20803582\",\"name\":\"Ambition\",\"available_...   \n4       белый                                                NaN   \n\n                                         description engineDisplacement  \\\n0  Все автомобили, представленные в продаже, прох...            1.2 LTR   \n1  ЛОТ: 01217195\\nАвтопрага Север\\nДанный автомоб...            1.6 LTR   \n2  Все автомобили, представленные в продаже, прох...            1.8 LTR   \n3  КОМПЛЕКТ ЗИМНЕЙ (ЛЕТНЕЙ) РЕЗИНЫ ПО СЕЗОНУ В ПО...            1.6 LTR   \n4  ЛОТ: 01220889\\nАвтопрага Север\\n\\nВы можете по...            1.8 LTR   \n\n  enginePower                                     equipment_dict fuelType  \\\n0     105 N12  {\"engine-proof\":true,\"tinted-glass\":true,\"airb...   бензин   \n1     110 N12  {\"cruise-control\":true,\"asr\":true,\"esp\":true,\"...   бензин   \n2     152 N12  {\"cruise-control\":true,\"tinted-glass\":true,\"es...   бензин   \n3     110 N12  {\"cruise-control\":true,\"roller-blind-for-rear-...   бензин   \n4     152 N12  {\"cruise-control\":true,\"asr\":true,\"esp\":true,\"...   бензин   \n\n   ...     vehicleConfiguration  vehicleTransmission    vendor    Владельцы  \\\n0  ...       LIFTBACK ROBOT 1.2     роботизированная  EUROPEAN  3 или более   \n1  ...  LIFTBACK MECHANICAL 1.6         механическая  EUROPEAN   1 владелец   \n2  ...       LIFTBACK ROBOT 1.8     роботизированная  EUROPEAN   1 владелец   \n3  ...   LIFTBACK AUTOMATIC 1.6       автоматическая  EUROPEAN   1 владелец   \n4  ...   LIFTBACK AUTOMATIC 1.8       автоматическая  EUROPEAN   1 владелец   \n\n  Владение       ПТС    Привод   Руль           Состояние     Таможня  \n0      NaN  Оригинал  передний  Левый  Не требует ремонта  Растаможен  \n1      NaN  Оригинал  передний  Левый  Не требует ремонта  Растаможен  \n2      NaN  Оригинал  передний  Левый  Не требует ремонта  Растаможен  \n3      NaN  Оригинал  передний  Левый  Не требует ремонта  Растаможен  \n4      NaN  Оригинал  передний  Левый  Не требует ремонта  Растаможен  \n\n[5 rows x 32 columns]",
      "text/html": "<div>\n<style scoped>\n    .dataframe tbody tr th:only-of-type {\n        vertical-align: middle;\n    }\n\n    .dataframe tbody tr th {\n        vertical-align: top;\n    }\n\n    .dataframe thead th {\n        text-align: right;\n    }\n</style>\n<table border=\"1\" class=\"dataframe\">\n  <thead>\n    <tr style=\"text-align: right;\">\n      <th></th>\n      <th>bodyType</th>\n      <th>brand</th>\n      <th>car_url</th>\n      <th>color</th>\n      <th>complectation_dict</th>\n      <th>description</th>\n      <th>engineDisplacement</th>\n      <th>enginePower</th>\n      <th>equipment_dict</th>\n      <th>fuelType</th>\n      <th>...</th>\n      <th>vehicleConfiguration</th>\n      <th>vehicleTransmission</th>\n      <th>vendor</th>\n      <th>Владельцы</th>\n      <th>Владение</th>\n      <th>ПТС</th>\n      <th>Привод</th>\n      <th>Руль</th>\n      <th>Состояние</th>\n      <th>Таможня</th>\n    </tr>\n  </thead>\n  <tbody>\n    <tr>\n      <th>0</th>\n      <td>лифтбек</td>\n      <td>SKODA</td>\n      <td>https://auto.ru/cars/used/sale/skoda/octavia/1...</td>\n      <td>синий</td>\n      <td>NaN</td>\n      <td>Все автомобили, представленные в продаже, прох...</td>\n      <td>1.2 LTR</td>\n      <td>105 N12</td>\n      <td>{\"engine-proof\":true,\"tinted-glass\":true,\"airb...</td>\n      <td>бензин</td>\n      <td>...</td>\n      <td>LIFTBACK ROBOT 1.2</td>\n      <td>роботизированная</td>\n      <td>EUROPEAN</td>\n      <td>3 или более</td>\n      <td>NaN</td>\n      <td>Оригинал</td>\n      <td>передний</td>\n      <td>Левый</td>\n      <td>Не требует ремонта</td>\n      <td>Растаможен</td>\n    </tr>\n    <tr>\n      <th>1</th>\n      <td>лифтбек</td>\n      <td>SKODA</td>\n      <td>https://auto.ru/cars/used/sale/skoda/octavia/1...</td>\n      <td>чёрный</td>\n      <td>NaN</td>\n      <td>ЛОТ: 01217195\\nАвтопрага Север\\nДанный автомоб...</td>\n      <td>1.6 LTR</td>\n      <td>110 N12</td>\n      <td>{\"cruise-control\":true,\"asr\":true,\"esp\":true,\"...</td>\n      <td>бензин</td>\n      <td>...</td>\n      <td>LIFTBACK MECHANICAL 1.6</td>\n      <td>механическая</td>\n      <td>EUROPEAN</td>\n      <td>1 владелец</td>\n      <td>NaN</td>\n      <td>Оригинал</td>\n      <td>передний</td>\n      <td>Левый</td>\n      <td>Не требует ремонта</td>\n      <td>Растаможен</td>\n    </tr>\n    <tr>\n      <th>2</th>\n      <td>лифтбек</td>\n      <td>SKODA</td>\n      <td>https://auto.ru/cars/used/sale/skoda/superb/11...</td>\n      <td>серый</td>\n      <td>{\"id\":\"20026336\",\"name\":\"Ambition\",\"available_...</td>\n      <td>Все автомобили, представленные в продаже, прох...</td>\n      <td>1.8 LTR</td>\n      <td>152 N12</td>\n      <td>{\"cruise-control\":true,\"tinted-glass\":true,\"es...</td>\n      <td>бензин</td>\n      <td>...</td>\n      <td>LIFTBACK ROBOT 1.8</td>\n      <td>роботизированная</td>\n      <td>EUROPEAN</td>\n      <td>1 владелец</td>\n      <td>NaN</td>\n      <td>Оригинал</td>\n      <td>передний</td>\n      <td>Левый</td>\n      <td>Не требует ремонта</td>\n      <td>Растаможен</td>\n    </tr>\n    <tr>\n      <th>3</th>\n      <td>лифтбек</td>\n      <td>SKODA</td>\n      <td>https://auto.ru/cars/used/sale/skoda/octavia/1...</td>\n      <td>коричневый</td>\n      <td>{\"id\":\"20803582\",\"name\":\"Ambition\",\"available_...</td>\n      <td>КОМПЛЕКТ ЗИМНЕЙ (ЛЕТНЕЙ) РЕЗИНЫ ПО СЕЗОНУ В ПО...</td>\n      <td>1.6 LTR</td>\n      <td>110 N12</td>\n      <td>{\"cruise-control\":true,\"roller-blind-for-rear-...</td>\n      <td>бензин</td>\n      <td>...</td>\n      <td>LIFTBACK AUTOMATIC 1.6</td>\n      <td>автоматическая</td>\n      <td>EUROPEAN</td>\n      <td>1 владелец</td>\n      <td>NaN</td>\n      <td>Оригинал</td>\n      <td>передний</td>\n      <td>Левый</td>\n      <td>Не требует ремонта</td>\n      <td>Растаможен</td>\n    </tr>\n    <tr>\n      <th>4</th>\n      <td>лифтбек</td>\n      <td>SKODA</td>\n      <td>https://auto.ru/cars/used/sale/skoda/octavia/1...</td>\n      <td>белый</td>\n      <td>NaN</td>\n      <td>ЛОТ: 01220889\\nАвтопрага Север\\n\\nВы можете по...</td>\n      <td>1.8 LTR</td>\n      <td>152 N12</td>\n      <td>{\"cruise-control\":true,\"asr\":true,\"esp\":true,\"...</td>\n      <td>бензин</td>\n      <td>...</td>\n      <td>LIFTBACK AUTOMATIC 1.8</td>\n      <td>автоматическая</td>\n      <td>EUROPEAN</td>\n      <td>1 владелец</td>\n      <td>NaN</td>\n      <td>Оригинал</td>\n      <td>передний</td>\n      <td>Левый</td>\n      <td>Не требует ремонта</td>\n      <td>Растаможен</td>\n    </tr>\n  </tbody>\n</table>\n<p>5 rows × 32 columns</p>\n</div>"
     },
     "execution_count": 107,
     "metadata": {},
     "output_type": "execute_result"
    }
   ],
   "source": [
    "test.head()"
   ],
   "metadata": {
    "collapsed": false,
    "pycharm": {
     "name": "#%%\n"
    }
   }
  },
  {
   "cell_type": "markdown",
   "source": [
    "Удалим два \"производственных\" столбца, возникших при слиянии наборов."
   ],
   "metadata": {
    "collapsed": false
   }
  },
  {
   "cell_type": "code",
   "execution_count": 108,
   "outputs": [],
   "source": [
    "train.drop(['Unnamed: 0', 'index'], axis=1, inplace=True)"
   ],
   "metadata": {
    "collapsed": false,
    "pycharm": {
     "name": "#%%\n"
    }
   }
  },
  {
   "cell_type": "markdown",
   "source": [
    "Проверим соответствие по столбцам с тестовым набором."
   ],
   "metadata": {
    "collapsed": false
   }
  },
  {
   "cell_type": "code",
   "execution_count": 109,
   "outputs": [
    {
     "data": {
      "text/plain": "set()"
     },
     "execution_count": 109,
     "metadata": {},
     "output_type": "execute_result"
    }
   ],
   "source": [
    "set(test.columns).difference(train.columns)"
   ],
   "metadata": {
    "collapsed": false,
    "pycharm": {
     "name": "#%%\n"
    }
   }
  },
  {
   "cell_type": "markdown",
   "source": [
    "Цель соответствия по столбцам с тестовым набором достигнута. )\n",
    "Удалим и переименуем столбцы."
   ],
   "metadata": {
    "collapsed": false
   }
  },
  {
   "cell_type": "code",
   "execution_count": 110,
   "outputs": [
    {
     "data": {
      "text/plain": "Index(['bodyType', 'brand', 'car_url', 'color', 'complectation_dict',\n       'description', 'engineDisplacement', 'enginePower', 'location',\n       'equipment_dict', 'fuelType', 'image', 'mileage', 'modelDate',\n       'model_info', 'model_name', 'name', 'numberOfDoors', 'parsing_unixtime',\n       'priceCurrency', 'productionDate', 'sell_id', 'super_gen',\n       'vehicleConfiguration', 'vehicleTransmission', 'vendor', 'Владельцы',\n       'Владение', 'ПТС', 'Привод', 'Руль', 'Состояние', 'Таможня', 'price'],\n      dtype='object')"
     },
     "execution_count": 110,
     "metadata": {},
     "output_type": "execute_result"
    }
   ],
   "source": [
    "train.columns"
   ],
   "metadata": {
    "collapsed": false,
    "pycharm": {
     "name": "#%%\n"
    }
   }
  },
  {
   "cell_type": "code",
   "execution_count": 111,
   "outputs": [],
   "source": [
    "train.drop(['image', 'parsing_unixtime'], axis=1, inplace=True)\n"
   ],
   "metadata": {
    "collapsed": false,
    "pycharm": {
     "name": "#%%\n"
    }
   }
  },
  {
   "cell_type": "code",
   "execution_count": 112,
   "outputs": [],
   "source": [
    "test.drop(['image', 'parsing_unixtime'], axis=1, inplace=True)"
   ],
   "metadata": {
    "collapsed": false,
    "pycharm": {
     "name": "#%%\n"
    }
   }
  },
  {
   "cell_type": "markdown",
   "source": [
    "Переименую столбцы в соответствии с моми представлением о прекрасном."
   ],
   "metadata": {
    "collapsed": false
   }
  },
  {
   "cell_type": "code",
   "execution_count": 113,
   "outputs": [],
   "source": [
    "rename_dict= {'bodyType':'body', 'car_url': 'url', 'engineDisplacement':'displacement', 'enginePower':'power',  'fuelType':'fuel', 'modelDate':'model_year', 'model_name':'model', 'numberOfDoors': 'doors', 'priceCurrency':'curr', 'productionDate':'manuf_year', 'vehicleConfiguration' : 'configuration', 'vehicleTransmission': 'transmission', 'Владельцы':'num_owners', 'Владение':'ownership', 'ПТС':'car_license', 'Привод':'gear', 'Руль':'steering', 'Состояние':'condition', 'Таможня':'duties'}\n",
    "train.rename( columns= rename_dict, inplace=True)\n",
    "test.rename(columns=rename_dict, inplace=True)"
   ],
   "metadata": {
    "collapsed": false,
    "pycharm": {
     "name": "#%%\n"
    }
   }
  },
  {
   "cell_type": "code",
   "execution_count": 114,
   "outputs": [
    {
     "data": {
      "text/plain": "                     body brand  \\\n0       Внедорожник 5 дв.   BMW   \n1                   Седан   BMW   \n2                   Седан   BMW   \n3                    Купе   BMW   \n4                   Седан   BMW   \n5       Внедорожник 5 дв.   BMW   \n6                    Купе   BMW   \n7                    Купе   BMW   \n8       Внедорожник 5 дв.   BMW   \n9       Внедорожник 5 дв.   BMW   \n10      Внедорожник 5 дв.   BMW   \n11                  Седан   BMW   \n12  Хэтчбек 3 дв. Compact   BMW   \n13                  Седан   BMW   \n14      Внедорожник 5 дв.   BMW   \n15      Внедорожник 5 дв.   BMW   \n16                  Седан   BMW   \n17                  Седан   BMW   \n18          Хэтчбек 5 дв.   BMW   \n19      Внедорожник 5 дв.   BMW   \n\n                                                  url   color  \\\n0   https://auto.ru/cars/used/sale/bmw/x5/11057182...  040001   \n1   https://auto.ru/cars/used/sale/bmw/3er/1106015...  040001   \n2   https://auto.ru/cars/used/sale/bmw/m5/11057329...  CACECB   \n3   https://auto.ru/cars/used/sale/bmw/3er/1103184...  EE1D19   \n4   https://auto.ru/cars/used/sale/bmw/7er/1105925...  040001   \n5   https://auto.ru/cars/new/sale/bmw/x5/110595336...  4A2197   \n6   https://auto.ru/cars/used/sale/bmw/m4/11056365...  FFD600   \n7   https://auto.ru/cars/used/sale/bmw/6er/1105788...  0000CC   \n8   https://auto.ru/cars/new/sale/bmw/x5/110576161...  97948F   \n9   https://auto.ru/cars/used/sale/bmw/x7/11057179...  97948F   \n10  https://auto.ru/cars/used/sale/bmw/x5_m/110587...  007F00   \n11  https://auto.ru/cars/used/sale/bmw/7er/1105567...  FAFBFB   \n12  https://auto.ru/cars/used/sale/bmw/3er/1105949...  007F00   \n13  https://auto.ru/cars/used/sale/bmw/5er/1103183...  0000CC   \n14  https://auto.ru/cars/new/sale/bmw/x5/110602585...  97948F   \n15  https://auto.ru/cars/used/sale/bmw/x5/11060301...  040001   \n16  https://auto.ru/cars/used/sale/bmw/5er/1105711...  0000CC   \n17  https://auto.ru/cars/used/sale/bmw/7er/1105217...  040001   \n18  https://auto.ru/cars/used/sale/bmw/i3/11060183...  040001   \n19  https://auto.ru/cars/new/sale/bmw/x5/110593983...  97948F   \n\n                                   complectation_dict  \\\n0                                         {'id': '0'}   \n1   {'id': '9361242', 'name': '316i SE', 'availabl...   \n2                                         {'id': '0'}   \n3                                         {'id': '0'}   \n4                                         {'id': '0'}   \n5   {'id': '21579251', 'name': 'M50d M Special', '...   \n6   {'id': '22523789', 'name': 'Competition', 'ava...   \n7   {'id': '20510163', 'name': '640d xDrive', 'ava...   \n8   {'id': '21642384', 'name': 'xDrive30d M Sport ...   \n9   {'id': '21738418', 'name': 'xDrive30d M Sport ...   \n10  {'id': '21732533', 'name': 'X5 M Competition',...   \n11                                        {'id': '0'}   \n12                                        {'id': '0'}   \n13                                        {'id': '0'}   \n14  {'id': '21640936', 'name': 'xDrive30d M Sport ...   \n15                                        {'id': '0'}   \n16                                        {'id': '0'}   \n17                                        {'id': '0'}   \n18                                        {'id': '0'}   \n19  {'id': '21640936', 'name': 'xDrive30d M Sport ...   \n\n                                          description displacement    power  \\\n0   Автомобиль приобретался новым и с тех пор нахо...      3.0 LTR  249 N12   \n1   Юридически чистый и технически обслуженный авт...      1.6 LTR  136 N12   \n2   Продажа указанного БМВ осуществляется в формат...      4.4 LTR  600 N12   \n3   Бмв 316 по документам 1.8\\nПо факту был устано...      1.8 LTR   90 N12   \n4   Автомобиль в достойном состоянии. Чистый, не к...      4.8 LTR  367 N12   \n5   Комплектация: M50d M Special При покупке автом...      3.0 LTR  400 N12   \n6   Доброго времени суток, убедительная просьба, п...      3.0 LTR  510 N12   \n7   Автомобиль был куплен новым у официального дил...      3.0 LTR  313 N12   \n8   Комплектация: xDrive30d M Sport Plus При покуп...      3.0 LTR  249 N12   \n9   Автомобиль был куплен новым у официального дил...      3.0 LTR  249 N12   \n10  В идеальном состоянии. Перед обклеен в плёнку....      4.4 LTR  625 N12   \n11  Автoмoбиль в cоcтoянии нового,езжу очень редко...      3.0 LTR  265 N12   \n12  На ходу сел и поехал есть торг только укапота ...      1.6 LTR  102 N12   \n13                                                NaN      2.5 LTR  192 N12   \n14  Комплектация: xDrive30d M Sport Pro При покупк...      3.0 LTR  249 N12   \n15  Добрый день.\\nПpoдaм БМВ Х5.\\nХорошая комплект...      4.4 LTR  320 N12   \n16  Нужно варить пороги \\nЕсть минусы  \\nВсё-таки ...      2.5 LTR  170 N12   \n17  Автомобиль в идеальном состоянии. Как по кузов...      2.0 LTR  258 N12   \n18  В наличии! Автомобиль куплен в США, у официаль...      0.6 LTR  170 N12   \n19  Комплектация: xDrive30d M Sport Pro При покупк...      3.0 LTR  249 N12   \n\n   location                                     equipment_dict  ...  \\\n0    Москва  {'tinted-glass': True, 'esp': True, 'adaptive-...  ...   \n1   Щелково  {'tinted-glass': True, 'esp': True, 'usb': Tru...  ...   \n2    Москва  {'cruise-control': True, 'roller-blind-for-rea...  ...   \n3    Москва  {'engine-proof': True, 'tinted-glass': True, '...  ...   \n4    Москва  {'cruise-control': True, 'asr': True, 'tinted-...  ...   \n5    Москва  {'sport-seats': True, 'multi-wheel': True, 'au...  ...   \n6    Москва  {'cruise-control': True, 'asr': True, 'tinted-...  ...   \n7    Москва  {'cruise-control': True, 'start-stop-function'...  ...   \n8    Москва  {'cruise-control': True, 'asr': True, 'tinted-...  ...   \n9    Москва  {'asr': True, 'esp': True, 'adaptive-light': T...  ...   \n10   Москва  {'sport-seats': True, 'multi-wheel': True, 'he...  ...   \n11   Москва                                                 {}  ...   \n12   Москва                                                 {}  ...   \n13   Москва  {'tinted-glass': True, 'esp': True, 'airbag-dr...  ...   \n14   Москва  {'cruise-control': True, 'sport-seats': True, ...  ...   \n15   Москва  {'cruise-control': True, 'tinted-glass': True,...  ...   \n16   Москва                                                 {}  ...   \n17   Москва                                                 {}  ...   \n18   Москва  {'glonass': True, 'usb': True, 'aux': True, 'e...  ...   \n19   Москва  {'cruise-control': True, 'sport-seats': True, ...  ...   \n\n   transmission    vendor num_owners                    ownership car_license  \\\n0     AUTOMATIC  EUROPEAN          2   {'year': 2017, 'month': 5}    ORIGINAL   \n1     AUTOMATIC  EUROPEAN          3   {'year': 2020, 'month': 5}    ORIGINAL   \n2         ROBOT  EUROPEAN          1  {'year': 2014, 'month': 12}    ORIGINAL   \n3    MECHANICAL  EUROPEAN          4   {'year': 2017, 'month': 7}   DUPLICATE   \n4     AUTOMATIC  EUROPEAN          2   {'year': 2019, 'month': 1}    ORIGINAL   \n5     AUTOMATIC  EUROPEAN        NaN                          NaN    ORIGINAL   \n6     AUTOMATIC  EUROPEAN          1   {'year': 2021, 'month': 8}    ORIGINAL   \n7     AUTOMATIC  EUROPEAN          4  {'year': 2013, 'month': 11}   DUPLICATE   \n8     AUTOMATIC  EUROPEAN        NaN                          NaN    ORIGINAL   \n9     AUTOMATIC  EUROPEAN          2   {'year': 2020, 'month': 7}    ORIGINAL   \n10    AUTOMATIC  EUROPEAN          1                          NaN    ORIGINAL   \n11    AUTOMATIC  EUROPEAN          2  {'year': 2020, 'month': 11}    ORIGINAL   \n12   MECHANICAL  EUROPEAN          4                          NaN   DUPLICATE   \n13   MECHANICAL  EUROPEAN          4   {'year': 2021, 'month': 1}    ORIGINAL   \n14    AUTOMATIC  EUROPEAN        NaN                          NaN    ORIGINAL   \n15    AUTOMATIC  EUROPEAN          4   {'year': 2020, 'month': 1}    ORIGINAL   \n16   MECHANICAL  EUROPEAN          4                          NaN   DUPLICATE   \n17    AUTOMATIC  EUROPEAN          3                          NaN    ORIGINAL   \n18    AUTOMATIC  EUROPEAN          1   {'year': 2021, 'month': 5}    ORIGINAL   \n19    AUTOMATIC  EUROPEAN        NaN                          NaN    ORIGINAL   \n\n               gear steering condition duties     price  \n0   ALL_WHEEL_DRIVE     LEFT      True   True   4350000  \n1        REAR_DRIVE     LEFT      True   True   1420000  \n2        REAR_DRIVE     LEFT      True   True  80000000  \n3        REAR_DRIVE     LEFT      True   True    990000  \n4        REAR_DRIVE     LEFT      True   True    645000  \n5   ALL_WHEEL_DRIVE     LEFT      True   True  12390000  \n6        REAR_DRIVE     LEFT      True   True   8690000  \n7   ALL_WHEEL_DRIVE     LEFT      True   True   3290000  \n8   ALL_WHEEL_DRIVE     LEFT      True   True   8950000  \n9   ALL_WHEEL_DRIVE     LEFT      True   True   7790000  \n10  ALL_WHEEL_DRIVE     LEFT      True   True  15000000  \n11  ALL_WHEEL_DRIVE     LEFT      True   True   4000000  \n12       REAR_DRIVE     LEFT      True   True    170000  \n13       REAR_DRIVE     LEFT      True   True    380000  \n14  ALL_WHEEL_DRIVE     LEFT      True   True   9980000  \n15  ALL_WHEEL_DRIVE     LEFT      True   True    750000  \n16       REAR_DRIVE     LEFT      True   True    240000  \n17       REAR_DRIVE     LEFT      True   True   2800000  \n18       REAR_DRIVE     LEFT      True   True   1745000  \n19  ALL_WHEEL_DRIVE     LEFT      True   True   9980000  \n\n[20 rows x 32 columns]",
      "text/html": "<div>\n<style scoped>\n    .dataframe tbody tr th:only-of-type {\n        vertical-align: middle;\n    }\n\n    .dataframe tbody tr th {\n        vertical-align: top;\n    }\n\n    .dataframe thead th {\n        text-align: right;\n    }\n</style>\n<table border=\"1\" class=\"dataframe\">\n  <thead>\n    <tr style=\"text-align: right;\">\n      <th></th>\n      <th>body</th>\n      <th>brand</th>\n      <th>url</th>\n      <th>color</th>\n      <th>complectation_dict</th>\n      <th>description</th>\n      <th>displacement</th>\n      <th>power</th>\n      <th>location</th>\n      <th>equipment_dict</th>\n      <th>...</th>\n      <th>transmission</th>\n      <th>vendor</th>\n      <th>num_owners</th>\n      <th>ownership</th>\n      <th>car_license</th>\n      <th>gear</th>\n      <th>steering</th>\n      <th>condition</th>\n      <th>duties</th>\n      <th>price</th>\n    </tr>\n  </thead>\n  <tbody>\n    <tr>\n      <th>0</th>\n      <td>Внедорожник 5 дв.</td>\n      <td>BMW</td>\n      <td>https://auto.ru/cars/used/sale/bmw/x5/11057182...</td>\n      <td>040001</td>\n      <td>{'id': '0'}</td>\n      <td>Автомобиль приобретался новым и с тех пор нахо...</td>\n      <td>3.0 LTR</td>\n      <td>249 N12</td>\n      <td>Москва</td>\n      <td>{'tinted-glass': True, 'esp': True, 'adaptive-...</td>\n      <td>...</td>\n      <td>AUTOMATIC</td>\n      <td>EUROPEAN</td>\n      <td>2</td>\n      <td>{'year': 2017, 'month': 5}</td>\n      <td>ORIGINAL</td>\n      <td>ALL_WHEEL_DRIVE</td>\n      <td>LEFT</td>\n      <td>True</td>\n      <td>True</td>\n      <td>4350000</td>\n    </tr>\n    <tr>\n      <th>1</th>\n      <td>Седан</td>\n      <td>BMW</td>\n      <td>https://auto.ru/cars/used/sale/bmw/3er/1106015...</td>\n      <td>040001</td>\n      <td>{'id': '9361242', 'name': '316i SE', 'availabl...</td>\n      <td>Юридически чистый и технически обслуженный авт...</td>\n      <td>1.6 LTR</td>\n      <td>136 N12</td>\n      <td>Щелково</td>\n      <td>{'tinted-glass': True, 'esp': True, 'usb': Tru...</td>\n      <td>...</td>\n      <td>AUTOMATIC</td>\n      <td>EUROPEAN</td>\n      <td>3</td>\n      <td>{'year': 2020, 'month': 5}</td>\n      <td>ORIGINAL</td>\n      <td>REAR_DRIVE</td>\n      <td>LEFT</td>\n      <td>True</td>\n      <td>True</td>\n      <td>1420000</td>\n    </tr>\n    <tr>\n      <th>2</th>\n      <td>Седан</td>\n      <td>BMW</td>\n      <td>https://auto.ru/cars/used/sale/bmw/m5/11057329...</td>\n      <td>CACECB</td>\n      <td>{'id': '0'}</td>\n      <td>Продажа указанного БМВ осуществляется в формат...</td>\n      <td>4.4 LTR</td>\n      <td>600 N12</td>\n      <td>Москва</td>\n      <td>{'cruise-control': True, 'roller-blind-for-rea...</td>\n      <td>...</td>\n      <td>ROBOT</td>\n      <td>EUROPEAN</td>\n      <td>1</td>\n      <td>{'year': 2014, 'month': 12}</td>\n      <td>ORIGINAL</td>\n      <td>REAR_DRIVE</td>\n      <td>LEFT</td>\n      <td>True</td>\n      <td>True</td>\n      <td>80000000</td>\n    </tr>\n    <tr>\n      <th>3</th>\n      <td>Купе</td>\n      <td>BMW</td>\n      <td>https://auto.ru/cars/used/sale/bmw/3er/1103184...</td>\n      <td>EE1D19</td>\n      <td>{'id': '0'}</td>\n      <td>Бмв 316 по документам 1.8\\nПо факту был устано...</td>\n      <td>1.8 LTR</td>\n      <td>90 N12</td>\n      <td>Москва</td>\n      <td>{'engine-proof': True, 'tinted-glass': True, '...</td>\n      <td>...</td>\n      <td>MECHANICAL</td>\n      <td>EUROPEAN</td>\n      <td>4</td>\n      <td>{'year': 2017, 'month': 7}</td>\n      <td>DUPLICATE</td>\n      <td>REAR_DRIVE</td>\n      <td>LEFT</td>\n      <td>True</td>\n      <td>True</td>\n      <td>990000</td>\n    </tr>\n    <tr>\n      <th>4</th>\n      <td>Седан</td>\n      <td>BMW</td>\n      <td>https://auto.ru/cars/used/sale/bmw/7er/1105925...</td>\n      <td>040001</td>\n      <td>{'id': '0'}</td>\n      <td>Автомобиль в достойном состоянии. Чистый, не к...</td>\n      <td>4.8 LTR</td>\n      <td>367 N12</td>\n      <td>Москва</td>\n      <td>{'cruise-control': True, 'asr': True, 'tinted-...</td>\n      <td>...</td>\n      <td>AUTOMATIC</td>\n      <td>EUROPEAN</td>\n      <td>2</td>\n      <td>{'year': 2019, 'month': 1}</td>\n      <td>ORIGINAL</td>\n      <td>REAR_DRIVE</td>\n      <td>LEFT</td>\n      <td>True</td>\n      <td>True</td>\n      <td>645000</td>\n    </tr>\n    <tr>\n      <th>5</th>\n      <td>Внедорожник 5 дв.</td>\n      <td>BMW</td>\n      <td>https://auto.ru/cars/new/sale/bmw/x5/110595336...</td>\n      <td>4A2197</td>\n      <td>{'id': '21579251', 'name': 'M50d M Special', '...</td>\n      <td>Комплектация: M50d M Special При покупке автом...</td>\n      <td>3.0 LTR</td>\n      <td>400 N12</td>\n      <td>Москва</td>\n      <td>{'sport-seats': True, 'multi-wheel': True, 'au...</td>\n      <td>...</td>\n      <td>AUTOMATIC</td>\n      <td>EUROPEAN</td>\n      <td>NaN</td>\n      <td>NaN</td>\n      <td>ORIGINAL</td>\n      <td>ALL_WHEEL_DRIVE</td>\n      <td>LEFT</td>\n      <td>True</td>\n      <td>True</td>\n      <td>12390000</td>\n    </tr>\n    <tr>\n      <th>6</th>\n      <td>Купе</td>\n      <td>BMW</td>\n      <td>https://auto.ru/cars/used/sale/bmw/m4/11056365...</td>\n      <td>FFD600</td>\n      <td>{'id': '22523789', 'name': 'Competition', 'ava...</td>\n      <td>Доброго времени суток, убедительная просьба, п...</td>\n      <td>3.0 LTR</td>\n      <td>510 N12</td>\n      <td>Москва</td>\n      <td>{'cruise-control': True, 'asr': True, 'tinted-...</td>\n      <td>...</td>\n      <td>AUTOMATIC</td>\n      <td>EUROPEAN</td>\n      <td>1</td>\n      <td>{'year': 2021, 'month': 8}</td>\n      <td>ORIGINAL</td>\n      <td>REAR_DRIVE</td>\n      <td>LEFT</td>\n      <td>True</td>\n      <td>True</td>\n      <td>8690000</td>\n    </tr>\n    <tr>\n      <th>7</th>\n      <td>Купе</td>\n      <td>BMW</td>\n      <td>https://auto.ru/cars/used/sale/bmw/6er/1105788...</td>\n      <td>0000CC</td>\n      <td>{'id': '20510163', 'name': '640d xDrive', 'ava...</td>\n      <td>Автомобиль был куплен новым у официального дил...</td>\n      <td>3.0 LTR</td>\n      <td>313 N12</td>\n      <td>Москва</td>\n      <td>{'cruise-control': True, 'start-stop-function'...</td>\n      <td>...</td>\n      <td>AUTOMATIC</td>\n      <td>EUROPEAN</td>\n      <td>4</td>\n      <td>{'year': 2013, 'month': 11}</td>\n      <td>DUPLICATE</td>\n      <td>ALL_WHEEL_DRIVE</td>\n      <td>LEFT</td>\n      <td>True</td>\n      <td>True</td>\n      <td>3290000</td>\n    </tr>\n    <tr>\n      <th>8</th>\n      <td>Внедорожник 5 дв.</td>\n      <td>BMW</td>\n      <td>https://auto.ru/cars/new/sale/bmw/x5/110576161...</td>\n      <td>97948F</td>\n      <td>{'id': '21642384', 'name': 'xDrive30d M Sport ...</td>\n      <td>Комплектация: xDrive30d M Sport Plus При покуп...</td>\n      <td>3.0 LTR</td>\n      <td>249 N12</td>\n      <td>Москва</td>\n      <td>{'cruise-control': True, 'asr': True, 'tinted-...</td>\n      <td>...</td>\n      <td>AUTOMATIC</td>\n      <td>EUROPEAN</td>\n      <td>NaN</td>\n      <td>NaN</td>\n      <td>ORIGINAL</td>\n      <td>ALL_WHEEL_DRIVE</td>\n      <td>LEFT</td>\n      <td>True</td>\n      <td>True</td>\n      <td>8950000</td>\n    </tr>\n    <tr>\n      <th>9</th>\n      <td>Внедорожник 5 дв.</td>\n      <td>BMW</td>\n      <td>https://auto.ru/cars/used/sale/bmw/x7/11057179...</td>\n      <td>97948F</td>\n      <td>{'id': '21738418', 'name': 'xDrive30d M Sport ...</td>\n      <td>Автомобиль был куплен новым у официального дил...</td>\n      <td>3.0 LTR</td>\n      <td>249 N12</td>\n      <td>Москва</td>\n      <td>{'asr': True, 'esp': True, 'adaptive-light': T...</td>\n      <td>...</td>\n      <td>AUTOMATIC</td>\n      <td>EUROPEAN</td>\n      <td>2</td>\n      <td>{'year': 2020, 'month': 7}</td>\n      <td>ORIGINAL</td>\n      <td>ALL_WHEEL_DRIVE</td>\n      <td>LEFT</td>\n      <td>True</td>\n      <td>True</td>\n      <td>7790000</td>\n    </tr>\n    <tr>\n      <th>10</th>\n      <td>Внедорожник 5 дв.</td>\n      <td>BMW</td>\n      <td>https://auto.ru/cars/used/sale/bmw/x5_m/110587...</td>\n      <td>007F00</td>\n      <td>{'id': '21732533', 'name': 'X5 M Competition',...</td>\n      <td>В идеальном состоянии. Перед обклеен в плёнку....</td>\n      <td>4.4 LTR</td>\n      <td>625 N12</td>\n      <td>Москва</td>\n      <td>{'sport-seats': True, 'multi-wheel': True, 'he...</td>\n      <td>...</td>\n      <td>AUTOMATIC</td>\n      <td>EUROPEAN</td>\n      <td>1</td>\n      <td>NaN</td>\n      <td>ORIGINAL</td>\n      <td>ALL_WHEEL_DRIVE</td>\n      <td>LEFT</td>\n      <td>True</td>\n      <td>True</td>\n      <td>15000000</td>\n    </tr>\n    <tr>\n      <th>11</th>\n      <td>Седан</td>\n      <td>BMW</td>\n      <td>https://auto.ru/cars/used/sale/bmw/7er/1105567...</td>\n      <td>FAFBFB</td>\n      <td>{'id': '0'}</td>\n      <td>Автoмoбиль в cоcтoянии нового,езжу очень редко...</td>\n      <td>3.0 LTR</td>\n      <td>265 N12</td>\n      <td>Москва</td>\n      <td>{}</td>\n      <td>...</td>\n      <td>AUTOMATIC</td>\n      <td>EUROPEAN</td>\n      <td>2</td>\n      <td>{'year': 2020, 'month': 11}</td>\n      <td>ORIGINAL</td>\n      <td>ALL_WHEEL_DRIVE</td>\n      <td>LEFT</td>\n      <td>True</td>\n      <td>True</td>\n      <td>4000000</td>\n    </tr>\n    <tr>\n      <th>12</th>\n      <td>Хэтчбек 3 дв. Compact</td>\n      <td>BMW</td>\n      <td>https://auto.ru/cars/used/sale/bmw/3er/1105949...</td>\n      <td>007F00</td>\n      <td>{'id': '0'}</td>\n      <td>На ходу сел и поехал есть торг только укапота ...</td>\n      <td>1.6 LTR</td>\n      <td>102 N12</td>\n      <td>Москва</td>\n      <td>{}</td>\n      <td>...</td>\n      <td>MECHANICAL</td>\n      <td>EUROPEAN</td>\n      <td>4</td>\n      <td>NaN</td>\n      <td>DUPLICATE</td>\n      <td>REAR_DRIVE</td>\n      <td>LEFT</td>\n      <td>True</td>\n      <td>True</td>\n      <td>170000</td>\n    </tr>\n    <tr>\n      <th>13</th>\n      <td>Седан</td>\n      <td>BMW</td>\n      <td>https://auto.ru/cars/used/sale/bmw/5er/1103183...</td>\n      <td>0000CC</td>\n      <td>{'id': '0'}</td>\n      <td>NaN</td>\n      <td>2.5 LTR</td>\n      <td>192 N12</td>\n      <td>Москва</td>\n      <td>{'tinted-glass': True, 'esp': True, 'airbag-dr...</td>\n      <td>...</td>\n      <td>MECHANICAL</td>\n      <td>EUROPEAN</td>\n      <td>4</td>\n      <td>{'year': 2021, 'month': 1}</td>\n      <td>ORIGINAL</td>\n      <td>REAR_DRIVE</td>\n      <td>LEFT</td>\n      <td>True</td>\n      <td>True</td>\n      <td>380000</td>\n    </tr>\n    <tr>\n      <th>14</th>\n      <td>Внедорожник 5 дв.</td>\n      <td>BMW</td>\n      <td>https://auto.ru/cars/new/sale/bmw/x5/110602585...</td>\n      <td>97948F</td>\n      <td>{'id': '21640936', 'name': 'xDrive30d M Sport ...</td>\n      <td>Комплектация: xDrive30d M Sport Pro При покупк...</td>\n      <td>3.0 LTR</td>\n      <td>249 N12</td>\n      <td>Москва</td>\n      <td>{'cruise-control': True, 'sport-seats': True, ...</td>\n      <td>...</td>\n      <td>AUTOMATIC</td>\n      <td>EUROPEAN</td>\n      <td>NaN</td>\n      <td>NaN</td>\n      <td>ORIGINAL</td>\n      <td>ALL_WHEEL_DRIVE</td>\n      <td>LEFT</td>\n      <td>True</td>\n      <td>True</td>\n      <td>9980000</td>\n    </tr>\n    <tr>\n      <th>15</th>\n      <td>Внедорожник 5 дв.</td>\n      <td>BMW</td>\n      <td>https://auto.ru/cars/used/sale/bmw/x5/11060301...</td>\n      <td>040001</td>\n      <td>{'id': '0'}</td>\n      <td>Добрый день.\\nПpoдaм БМВ Х5.\\nХорошая комплект...</td>\n      <td>4.4 LTR</td>\n      <td>320 N12</td>\n      <td>Москва</td>\n      <td>{'cruise-control': True, 'tinted-glass': True,...</td>\n      <td>...</td>\n      <td>AUTOMATIC</td>\n      <td>EUROPEAN</td>\n      <td>4</td>\n      <td>{'year': 2020, 'month': 1}</td>\n      <td>ORIGINAL</td>\n      <td>ALL_WHEEL_DRIVE</td>\n      <td>LEFT</td>\n      <td>True</td>\n      <td>True</td>\n      <td>750000</td>\n    </tr>\n    <tr>\n      <th>16</th>\n      <td>Седан</td>\n      <td>BMW</td>\n      <td>https://auto.ru/cars/used/sale/bmw/5er/1105711...</td>\n      <td>0000CC</td>\n      <td>{'id': '0'}</td>\n      <td>Нужно варить пороги \\nЕсть минусы  \\nВсё-таки ...</td>\n      <td>2.5 LTR</td>\n      <td>170 N12</td>\n      <td>Москва</td>\n      <td>{}</td>\n      <td>...</td>\n      <td>MECHANICAL</td>\n      <td>EUROPEAN</td>\n      <td>4</td>\n      <td>NaN</td>\n      <td>DUPLICATE</td>\n      <td>REAR_DRIVE</td>\n      <td>LEFT</td>\n      <td>True</td>\n      <td>True</td>\n      <td>240000</td>\n    </tr>\n    <tr>\n      <th>17</th>\n      <td>Седан</td>\n      <td>BMW</td>\n      <td>https://auto.ru/cars/used/sale/bmw/7er/1105217...</td>\n      <td>040001</td>\n      <td>{'id': '0'}</td>\n      <td>Автомобиль в идеальном состоянии. Как по кузов...</td>\n      <td>2.0 LTR</td>\n      <td>258 N12</td>\n      <td>Москва</td>\n      <td>{}</td>\n      <td>...</td>\n      <td>AUTOMATIC</td>\n      <td>EUROPEAN</td>\n      <td>3</td>\n      <td>NaN</td>\n      <td>ORIGINAL</td>\n      <td>REAR_DRIVE</td>\n      <td>LEFT</td>\n      <td>True</td>\n      <td>True</td>\n      <td>2800000</td>\n    </tr>\n    <tr>\n      <th>18</th>\n      <td>Хэтчбек 5 дв.</td>\n      <td>BMW</td>\n      <td>https://auto.ru/cars/used/sale/bmw/i3/11060183...</td>\n      <td>040001</td>\n      <td>{'id': '0'}</td>\n      <td>В наличии! Автомобиль куплен в США, у официаль...</td>\n      <td>0.6 LTR</td>\n      <td>170 N12</td>\n      <td>Москва</td>\n      <td>{'glonass': True, 'usb': True, 'aux': True, 'e...</td>\n      <td>...</td>\n      <td>AUTOMATIC</td>\n      <td>EUROPEAN</td>\n      <td>1</td>\n      <td>{'year': 2021, 'month': 5}</td>\n      <td>ORIGINAL</td>\n      <td>REAR_DRIVE</td>\n      <td>LEFT</td>\n      <td>True</td>\n      <td>True</td>\n      <td>1745000</td>\n    </tr>\n    <tr>\n      <th>19</th>\n      <td>Внедорожник 5 дв.</td>\n      <td>BMW</td>\n      <td>https://auto.ru/cars/new/sale/bmw/x5/110593983...</td>\n      <td>97948F</td>\n      <td>{'id': '21640936', 'name': 'xDrive30d M Sport ...</td>\n      <td>Комплектация: xDrive30d M Sport Pro При покупк...</td>\n      <td>3.0 LTR</td>\n      <td>249 N12</td>\n      <td>Москва</td>\n      <td>{'cruise-control': True, 'sport-seats': True, ...</td>\n      <td>...</td>\n      <td>AUTOMATIC</td>\n      <td>EUROPEAN</td>\n      <td>NaN</td>\n      <td>NaN</td>\n      <td>ORIGINAL</td>\n      <td>ALL_WHEEL_DRIVE</td>\n      <td>LEFT</td>\n      <td>True</td>\n      <td>True</td>\n      <td>9980000</td>\n    </tr>\n  </tbody>\n</table>\n<p>20 rows × 32 columns</p>\n</div>"
     },
     "execution_count": 114,
     "metadata": {},
     "output_type": "execute_result"
    }
   ],
   "source": [
    "train.head(20)"
   ],
   "metadata": {
    "collapsed": false,
    "pycharm": {
     "name": "#%%\n"
    }
   }
  },
  {
   "cell_type": "code",
   "execution_count": 115,
   "outputs": [
    {
     "data": {
      "text/plain": "body                      0\nbrand                     0\nurl                       0\ncolor                     0\ncomplectation_dict        0\ndescription             872\ndisplacement              0\npower                     0\nlocation                  0\nequipment_dict            0\nfuel                      0\nmileage                   0\nmodel_year                0\nmodel_info                0\nmodel                     0\nname                      0\ndoors                     0\ncurr                      0\nmanuf_year                0\nsell_id                   0\nsuper_gen                 0\nconfiguration             0\ntransmission              0\nvendor                    0\nnum_owners            12304\nownership             33786\ncar_license             229\ngear                      0\nsteering                  0\ncondition                 0\nduties                    0\nprice                     0\ndtype: int64"
     },
     "execution_count": 115,
     "metadata": {},
     "output_type": "execute_result"
    }
   ],
   "source": [
    "train.isna().sum()"
   ],
   "metadata": {
    "collapsed": false,
    "pycharm": {
     "name": "#%%\n"
    }
   }
  },
  {
   "cell_type": "code",
   "execution_count": 116,
   "outputs": [
    {
     "data": {
      "text/plain": "body                      0\nbrand                     0\nurl                       0\ncolor                     0\ncomplectation_dict    28268\ndescription               0\ndisplacement              0\npower                     0\nequipment_dict         9996\nfuel                      0\nmileage                   0\nmodel_year                0\nmodel_info                0\nmodel                     0\nname                      0\ndoors                     0\ncurr                      0\nmanuf_year                0\nsell_id                   0\nsuper_gen                 0\nconfiguration             0\ntransmission              0\nvendor                    0\nnum_owners                0\nownership             22691\ncar_license               1\ngear                      0\nsteering                  0\ncondition                 0\nduties                    0\ndtype: int64"
     },
     "execution_count": 116,
     "metadata": {},
     "output_type": "execute_result"
    }
   ],
   "source": [
    "test.isna().sum()"
   ],
   "metadata": {
    "collapsed": false,
    "pycharm": {
     "name": "#%%\n"
    }
   }
  },
  {
   "cell_type": "markdown",
   "source": [
    "В данных есть пропуски, с которым набо разбираться.\n",
    "Структура пропусков сильно отличается - в тестовом наборе практически нет данных в словаре комплектации и очень много пропусков в словаре оборудования.  Восстановить не получится. Вероятно от этих столбцов стоит отказаться.\n",
    "\n",
    "Сгенерируем в отдельный файл отчет об учебном наборе данных."
   ],
   "metadata": {
    "collapsed": false
   }
  },
  {
   "cell_type": "code",
   "execution_count": 117,
   "outputs": [],
   "source": [
    "# train_profile =  train.profile_report()\n",
    "# train_profile.to_file(\"12 Brans Train Review.html\")"
   ],
   "metadata": {
    "collapsed": false,
    "pycharm": {
     "name": "#%%\n"
    }
   }
  },
  {
   "cell_type": "markdown",
   "source": [
    "Отчет сохранен в отдельном файле.\n",
    "**Выводы по отчету**: Набор данных состоит из 30 признаков и 42к объектов; Процент пропущенных значений - 3.5% (сделаем позже). В наборе данных нет дубликатов. В наборе есть 24 категориальных столбца и 8 столбцов имеют неподдерживаемый тип данных. Существует сильная корреляция между некоторыми столбцами. Существует много столбцов с высокой кардинальностью (разнообразием данных)."
   ],
   "metadata": {
    "collapsed": false
   }
  },
  {
   "cell_type": "markdown",
   "source": [
    "### Обработка столбцов и превращение в признаки"
   ],
   "metadata": {
    "collapsed": false
   }
  },
  {
   "cell_type": "code",
   "execution_count": 118,
   "outputs": [
    {
     "data": {
      "text/plain": "внедорожник      0.514508\nседан            0.270656\nлифтбек          0.078485\nхэтчбек          0.048923\nуниверсал        0.026780\nминивэн          0.021025\nкупе             0.017766\nкомпактвэн       0.007967\nпикап            0.006469\nкабриолет        0.002331\nфургон           0.001641\nродстер          0.001427\nкупе-хардтоп     0.001403\nмикровэн         0.000309\nседан-хардтоп    0.000214\nлимузин          0.000071\nbodytype         0.000024\nName: body, dtype: float64"
     },
     "execution_count": 118,
     "metadata": {},
     "output_type": "execute_result"
    }
   ],
   "source": [
    "train.body = train.body.apply(lambda x: x.lower().split()[0].strip() if isinstance(x, str) else x)\n",
    "train.body.value_counts(normalize=True)"
   ],
   "metadata": {
    "collapsed": false,
    "pycharm": {
     "name": "#%%\n"
    }
   }
  },
  {
   "cell_type": "code",
   "execution_count": 119,
   "outputs": [
    {
     "data": {
      "text/plain": "седан            0.379202\nвнедорожник      0.355936\nхэтчбек          0.075218\nлифтбек          0.064349\nуниверсал        0.036787\nминивэн          0.028686\nкупе             0.023756\nкомпактвэн       0.014098\nпикап            0.008361\nкупе-хардтоп     0.004555\nродстер          0.002854\nфургон           0.002797\nкабриолет        0.002595\nседан-хардтоп    0.000346\nмикровэн         0.000202\nлимузин          0.000173\nтарга            0.000058\nфастбек          0.000029\nName: body, dtype: float64"
     },
     "execution_count": 119,
     "metadata": {},
     "output_type": "execute_result"
    }
   ],
   "source": [
    "test.body = test.body.apply(lambda x:x.lower().split()[0].strip() if isinstance(x,str) else x)\n",
    "test.body.value_counts(normalize=True)"
   ],
   "metadata": {
    "collapsed": false,
    "pycharm": {
     "name": "#%%\n"
    }
   }
  },
  {
   "cell_type": "code",
   "execution_count": 120,
   "outputs": [
    {
     "data": {
      "text/plain": "['внедорожник',\n 'седан',\n 'купе',\n 'хэтчбек',\n 'универсал',\n 'родстер',\n 'кабриолет',\n 'компактвэн',\n 'лифтбек',\n 'bodytype',\n 'купе-хардтоп',\n 'минивэн',\n 'пикап',\n 'фургон',\n 'микровэн',\n 'лимузин',\n 'седан-хардтоп']"
     },
     "execution_count": 120,
     "metadata": {},
     "output_type": "execute_result"
    }
   ],
   "source": [
    "body_types=list(train.body.unique()); body_types"
   ],
   "metadata": {
    "collapsed": false,
    "pycharm": {
     "name": "#%%\n"
    }
   }
  },
  {
   "cell_type": "code",
   "execution_count": 121,
   "outputs": [
    {
     "data": {
      "text/plain": "          body  brand      url  color  complectation_dict  description  \\\n1784  bodytype  brand  car_url  color  complectation_dict  description   \n\n            displacement        power  location  equipment_dict  ...  \\\n1784  engineDisplacement  enginePower  location  equipment_dict  ...   \n\n             transmission  vendor num_owners ownership car_license    gear  \\\n1784  vehicleTransmission  vendor  Владельцы  Владение         ПТС  Привод   \n\n     steering  condition   duties  price  \n1784     Руль  Состояние  Таможня  price  \n\n[1 rows x 32 columns]",
      "text/html": "<div>\n<style scoped>\n    .dataframe tbody tr th:only-of-type {\n        vertical-align: middle;\n    }\n\n    .dataframe tbody tr th {\n        vertical-align: top;\n    }\n\n    .dataframe thead th {\n        text-align: right;\n    }\n</style>\n<table border=\"1\" class=\"dataframe\">\n  <thead>\n    <tr style=\"text-align: right;\">\n      <th></th>\n      <th>body</th>\n      <th>brand</th>\n      <th>url</th>\n      <th>color</th>\n      <th>complectation_dict</th>\n      <th>description</th>\n      <th>displacement</th>\n      <th>power</th>\n      <th>location</th>\n      <th>equipment_dict</th>\n      <th>...</th>\n      <th>transmission</th>\n      <th>vendor</th>\n      <th>num_owners</th>\n      <th>ownership</th>\n      <th>car_license</th>\n      <th>gear</th>\n      <th>steering</th>\n      <th>condition</th>\n      <th>duties</th>\n      <th>price</th>\n    </tr>\n  </thead>\n  <tbody>\n    <tr>\n      <th>1784</th>\n      <td>bodytype</td>\n      <td>brand</td>\n      <td>car_url</td>\n      <td>color</td>\n      <td>complectation_dict</td>\n      <td>description</td>\n      <td>engineDisplacement</td>\n      <td>enginePower</td>\n      <td>location</td>\n      <td>equipment_dict</td>\n      <td>...</td>\n      <td>vehicleTransmission</td>\n      <td>vendor</td>\n      <td>Владельцы</td>\n      <td>Владение</td>\n      <td>ПТС</td>\n      <td>Привод</td>\n      <td>Руль</td>\n      <td>Состояние</td>\n      <td>Таможня</td>\n      <td>price</td>\n    </tr>\n  </tbody>\n</table>\n<p>1 rows × 32 columns</p>\n</div>"
     },
     "execution_count": 121,
     "metadata": {},
     "output_type": "execute_result"
    }
   ],
   "source": [
    "train.loc[train.body=='bodytype'].head()"
   ],
   "metadata": {
    "collapsed": false,
    "pycharm": {
     "name": "#%%\n"
    }
   }
  },
  {
   "cell_type": "markdown",
   "source": [
    "Это явный пропуск в данных, возможно сбой программы сбора данных. Устраняю его."
   ],
   "metadata": {
    "collapsed": false
   }
  },
  {
   "cell_type": "code",
   "execution_count": 122,
   "outputs": [],
   "source": [
    "train.drop(train.loc[train.body=='bodytype'].index, inplace=True)"
   ],
   "metadata": {
    "collapsed": false,
    "pycharm": {
     "name": "#%%\n"
    }
   }
  },
  {
   "cell_type": "code",
   "execution_count": 123,
   "outputs": [
    {
     "data": {
      "text/plain": "Empty DataFrame\nColumns: [body, brand, url, color, complectation_dict, description, displacement, power, location, equipment_dict, fuel, mileage, model_year, model_info, model, name, doors, curr, manuf_year, sell_id, super_gen, configuration, transmission, vendor, num_owners, ownership, car_license, gear, steering, condition, duties, price]\nIndex: []\n\n[0 rows x 32 columns]",
      "text/html": "<div>\n<style scoped>\n    .dataframe tbody tr th:only-of-type {\n        vertical-align: middle;\n    }\n\n    .dataframe tbody tr th {\n        vertical-align: top;\n    }\n\n    .dataframe thead th {\n        text-align: right;\n    }\n</style>\n<table border=\"1\" class=\"dataframe\">\n  <thead>\n    <tr style=\"text-align: right;\">\n      <th></th>\n      <th>body</th>\n      <th>brand</th>\n      <th>url</th>\n      <th>color</th>\n      <th>complectation_dict</th>\n      <th>description</th>\n      <th>displacement</th>\n      <th>power</th>\n      <th>location</th>\n      <th>equipment_dict</th>\n      <th>...</th>\n      <th>transmission</th>\n      <th>vendor</th>\n      <th>num_owners</th>\n      <th>ownership</th>\n      <th>car_license</th>\n      <th>gear</th>\n      <th>steering</th>\n      <th>condition</th>\n      <th>duties</th>\n      <th>price</th>\n    </tr>\n  </thead>\n  <tbody>\n  </tbody>\n</table>\n<p>0 rows × 32 columns</p>\n</div>"
     },
     "execution_count": 123,
     "metadata": {},
     "output_type": "execute_result"
    }
   ],
   "source": [
    "train.loc[train.body=='bodytype'].head()"
   ],
   "metadata": {
    "collapsed": false,
    "pycharm": {
     "name": "#%%\n"
    }
   }
  },
  {
   "cell_type": "markdown",
   "source": [
    "18 типов кузовов - избыточная информация. Сожмем ее с помощью словаря."
   ],
   "metadata": {
    "collapsed": false
   }
  },
  {
   "cell_type": "code",
   "execution_count": 124,
   "outputs": [],
   "source": [
    "body_dict={ 'кабриолет':'coupe', 'седан':'sedan', 'внедорожник':'SUV', 'купе':'coupe', 'родстер':'coupe',\n",
    "            'хэтчбек':'f_back', 'фастбек':'f_back', 'лифтбек': 'f_back', 'универсал': 'wagon', 'пикап' : 'SUV', 'минивэн': 'MPV', 'компактвэн': 'MPV', 'купе-хардтоп': 'coupe', 'фургон': 'MPV', 'микровэн': 'MPV', 'тарга': 'coupe', 'лимузин': 'sedan', 'седан-хардтоп': 'sedan' }"
   ],
   "metadata": {
    "collapsed": false,
    "pycharm": {
     "name": "#%%\n"
    }
   }
  },
  {
   "cell_type": "code",
   "execution_count": 125,
   "outputs": [
    {
     "data": {
      "text/plain": "SUV       0.520989\nsedan     0.270948\nf_back    0.127411\nMPV       0.030943\nwagon     0.026781\ncoupe     0.022928\nName: body_type, dtype: float64"
     },
     "execution_count": 125,
     "metadata": {},
     "output_type": "execute_result"
    }
   ],
   "source": [
    "train['body_type'] = train['body'].apply(lambda x: body_dict[x])\n",
    "train.body_type.value_counts(normalize=True)"
   ],
   "metadata": {
    "collapsed": false,
    "pycharm": {
     "name": "#%%\n"
    }
   }
  },
  {
   "cell_type": "code",
   "execution_count": 126,
   "outputs": [
    {
     "data": {
      "text/plain": "sedan     0.379721\nSUV       0.364297\nf_back    0.139595\nMPV       0.045782\nwagon     0.036787\ncoupe     0.033818\nName: body_type, dtype: float64"
     },
     "execution_count": 126,
     "metadata": {},
     "output_type": "execute_result"
    }
   ],
   "source": [
    "test['body_type'] = test['body'].apply(lambda x: body_dict[x])\n",
    "test.body_type.value_counts(normalize=True)"
   ],
   "metadata": {
    "collapsed": false,
    "pycharm": {
     "name": "#%%\n"
    }
   }
  },
  {
   "cell_type": "markdown",
   "source": [
    "В учебном и тестовом наборе несколько разное распределение по типам корпусов. Разные наборы данных."
   ],
   "metadata": {
    "collapsed": false
   }
  },
  {
   "cell_type": "code",
   "execution_count": 127,
   "outputs": [
    {
     "data": {
      "text/plain": "array(['BMW', 'Volkswagen', 'Nissan', 'Mercedes-Benz', 'Toyota', 'Audi',\n       'Mitsubishi', 'Skoda', 'Volvo', 'Honda', 'Infiniti', 'Lexus'],\n      dtype=object)"
     },
     "execution_count": 127,
     "metadata": {},
     "output_type": "execute_result"
    }
   ],
   "source": [
    "train.brand.unique()"
   ],
   "metadata": {
    "collapsed": false,
    "pycharm": {
     "name": "#%%\n"
    }
   }
  },
  {
   "cell_type": "code",
   "execution_count": 128,
   "outputs": [
    {
     "data": {
      "text/plain": "array(['SKODA', 'AUDI', 'HONDA', 'VOLVO', 'BMW', 'NISSAN', 'INFINITI',\n       'MERCEDES', 'TOYOTA', 'LEXUS', 'VOLKSWAGEN', 'MITSUBISHI'],\n      dtype=object)"
     },
     "execution_count": 128,
     "metadata": {},
     "output_type": "execute_result"
    }
   ],
   "source": [
    "test.brand.unique()"
   ],
   "metadata": {
    "collapsed": false,
    "pycharm": {
     "name": "#%%\n"
    }
   }
  },
  {
   "cell_type": "code",
   "execution_count": 129,
   "outputs": [],
   "source": [
    "train.brand = train.brand.apply(lambda x: x.upper())"
   ],
   "metadata": {
    "collapsed": false,
    "pycharm": {
     "name": "#%%\n"
    }
   }
  },
  {
   "cell_type": "code",
   "execution_count": 130,
   "outputs": [
    {
     "data": {
      "text/plain": "MERCEDES-BENZ    0.134951\nSKODA            0.103722\nNISSAN           0.102533\nBMW              0.100678\nAUDI             0.097562\nTOYOTA           0.095992\nVOLKSWAGEN       0.095017\nMITSUBISHI       0.093400\nVOLVO            0.055369\nLEXUS            0.047972\nHONDA            0.043953\nINFINITI         0.028850\nName: brand, dtype: float64"
     },
     "execution_count": 130,
     "metadata": {},
     "output_type": "execute_result"
    }
   ],
   "source": [
    "train.brand.value_counts(normalize=True)"
   ],
   "metadata": {
    "collapsed": false,
    "pycharm": {
     "name": "#%%\n"
    }
   }
  },
  {
   "cell_type": "code",
   "execution_count": 131,
   "outputs": [
    {
     "data": {
      "text/plain": "040001    12779\nFAFBFB     8992\n97948F     5934\n0000CC     4055\nCACECB     3436\n200204     1897\nEE1D19     1811\n007F00      982\nC49648      765\n22A0F8      357\nFF8649      265\n660099      245\nDEA522      186\nFFD600      171\n4A2197      162\nFFC0CB        8\nName: color, dtype: int64"
     },
     "execution_count": 131,
     "metadata": {},
     "output_type": "execute_result"
    }
   ],
   "source": [
    "train.color.value_counts()"
   ],
   "metadata": {
    "collapsed": false,
    "pycharm": {
     "name": "#%%\n"
    }
   }
  },
  {
   "cell_type": "code",
   "execution_count": 132,
   "outputs": [],
   "source": [
    "color_dict = {'040001': 'чёрный', 'FAFBFB': 'белый', '97948F': 'серый', 'CACECB': 'серебристый', '0000CC': 'синий', '200204': 'коричневый', 'EE1D19': 'красный',  '007F00': 'зелёный', 'C49648': 'бежевый', '22A0F8': 'голубой', '660099': 'пурпурный', 'DEA522': 'золотистый', '4A2197': 'фиолетовый', 'FFD600': 'жёлтый', 'FF8649': 'оранжевый', 'FFC0CB': 'розовый'}"
   ],
   "metadata": {
    "collapsed": false,
    "pycharm": {
     "name": "#%%\n"
    }
   }
  },
  {
   "cell_type": "code",
   "execution_count": 133,
   "outputs": [
    {
     "data": {
      "text/plain": "чёрный         0.303936\nбелый          0.213866\nсерый          0.141134\nсиний          0.096444\nсеребристый    0.081722\nкоричневый     0.045118\nкрасный        0.043073\nзелёный        0.023356\nбежевый        0.018195\nголубой        0.008491\nоранжевый      0.006303\nпурпурный      0.005827\nзолотистый     0.004424\nжёлтый         0.004067\nфиолетовый     0.003853\nрозовый        0.000190\nName: color, dtype: float64"
     },
     "execution_count": 133,
     "metadata": {},
     "output_type": "execute_result"
    }
   ],
   "source": [
    "train.color.replace(to_replace=color_dict, inplace=True)\n",
    "train.color.value_counts(normalize=True)"
   ],
   "metadata": {
    "collapsed": false,
    "pycharm": {
     "name": "#%%\n"
    }
   }
  },
  {
   "cell_type": "code",
   "execution_count": 134,
   "outputs": [
    {
     "data": {
      "text/plain": "чёрный         0.317419\nбелый          0.176815\nсеребристый    0.118578\nсерый          0.114859\nсиний          0.094822\nкрасный        0.044139\nкоричневый     0.043274\nзелёный        0.027446\nбежевый        0.018422\nголубой        0.013175\nзолотистый     0.007669\nпурпурный      0.007323\nфиолетовый     0.006314\nжёлтый         0.005593\nоранжевый      0.003777\nрозовый        0.000375\nName: color, dtype: float64"
     },
     "execution_count": 134,
     "metadata": {},
     "output_type": "execute_result"
    }
   ],
   "source": [
    "test.color.value_counts(normalize=True)"
   ],
   "metadata": {
    "collapsed": false,
    "pycharm": {
     "name": "#%%\n"
    }
   }
  },
  {
   "cell_type": "markdown",
   "source": [
    "\"Ваша машина может быть любого цвета, до тех пор пока этот цвет - черный!\""
   ],
   "metadata": {
    "collapsed": false
   }
  },
  {
   "cell_type": "code",
   "execution_count": 135,
   "outputs": [
    {
     "data": {
      "text/plain": "          body brand                                                url  \\\n0  внедорожник   BMW  https://auto.ru/cars/used/sale/bmw/x5/11057182...   \n1        седан   BMW  https://auto.ru/cars/used/sale/bmw/3er/1106015...   \n2        седан   BMW  https://auto.ru/cars/used/sale/bmw/m5/11057329...   \n3         купе   BMW  https://auto.ru/cars/used/sale/bmw/3er/1103184...   \n4        седан   BMW  https://auto.ru/cars/used/sale/bmw/7er/1105925...   \n\n         color                                 complectation_dict  \\\n0       чёрный                                        {'id': '0'}   \n1       чёрный  {'id': '9361242', 'name': '316i SE', 'availabl...   \n2  серебристый                                        {'id': '0'}   \n3      красный                                        {'id': '0'}   \n4       чёрный                                        {'id': '0'}   \n\n                                         description displacement    power  \\\n0  Автомобиль приобретался новым и с тех пор нахо...      3.0 LTR  249 N12   \n1  Юридически чистый и технически обслуженный авт...      1.6 LTR  136 N12   \n2  Продажа указанного БМВ осуществляется в формат...      4.4 LTR  600 N12   \n3  Бмв 316 по документам 1.8\\nПо факту был устано...      1.8 LTR   90 N12   \n4  Автомобиль в достойном состоянии. Чистый, не к...      4.8 LTR  367 N12   \n\n  location                                     equipment_dict  ...    vendor  \\\n0   Москва  {'tinted-glass': True, 'esp': True, 'adaptive-...  ...  EUROPEAN   \n1  Щелково  {'tinted-glass': True, 'esp': True, 'usb': Tru...  ...  EUROPEAN   \n2   Москва  {'cruise-control': True, 'roller-blind-for-rea...  ...  EUROPEAN   \n3   Москва  {'engine-proof': True, 'tinted-glass': True, '...  ...  EUROPEAN   \n4   Москва  {'cruise-control': True, 'asr': True, 'tinted-...  ...  EUROPEAN   \n\n  num_owners                    ownership car_license             gear  \\\n0          2   {'year': 2017, 'month': 5}    ORIGINAL  ALL_WHEEL_DRIVE   \n1          3   {'year': 2020, 'month': 5}    ORIGINAL       REAR_DRIVE   \n2          1  {'year': 2014, 'month': 12}    ORIGINAL       REAR_DRIVE   \n3          4   {'year': 2017, 'month': 7}   DUPLICATE       REAR_DRIVE   \n4          2   {'year': 2019, 'month': 1}    ORIGINAL       REAR_DRIVE   \n\n  steering condition duties     price body_type  \n0     LEFT      True   True   4350000       SUV  \n1     LEFT      True   True   1420000     sedan  \n2     LEFT      True   True  80000000     sedan  \n3     LEFT      True   True    990000     coupe  \n4     LEFT      True   True    645000     sedan  \n\n[5 rows x 33 columns]",
      "text/html": "<div>\n<style scoped>\n    .dataframe tbody tr th:only-of-type {\n        vertical-align: middle;\n    }\n\n    .dataframe tbody tr th {\n        vertical-align: top;\n    }\n\n    .dataframe thead th {\n        text-align: right;\n    }\n</style>\n<table border=\"1\" class=\"dataframe\">\n  <thead>\n    <tr style=\"text-align: right;\">\n      <th></th>\n      <th>body</th>\n      <th>brand</th>\n      <th>url</th>\n      <th>color</th>\n      <th>complectation_dict</th>\n      <th>description</th>\n      <th>displacement</th>\n      <th>power</th>\n      <th>location</th>\n      <th>equipment_dict</th>\n      <th>...</th>\n      <th>vendor</th>\n      <th>num_owners</th>\n      <th>ownership</th>\n      <th>car_license</th>\n      <th>gear</th>\n      <th>steering</th>\n      <th>condition</th>\n      <th>duties</th>\n      <th>price</th>\n      <th>body_type</th>\n    </tr>\n  </thead>\n  <tbody>\n    <tr>\n      <th>0</th>\n      <td>внедорожник</td>\n      <td>BMW</td>\n      <td>https://auto.ru/cars/used/sale/bmw/x5/11057182...</td>\n      <td>чёрный</td>\n      <td>{'id': '0'}</td>\n      <td>Автомобиль приобретался новым и с тех пор нахо...</td>\n      <td>3.0 LTR</td>\n      <td>249 N12</td>\n      <td>Москва</td>\n      <td>{'tinted-glass': True, 'esp': True, 'adaptive-...</td>\n      <td>...</td>\n      <td>EUROPEAN</td>\n      <td>2</td>\n      <td>{'year': 2017, 'month': 5}</td>\n      <td>ORIGINAL</td>\n      <td>ALL_WHEEL_DRIVE</td>\n      <td>LEFT</td>\n      <td>True</td>\n      <td>True</td>\n      <td>4350000</td>\n      <td>SUV</td>\n    </tr>\n    <tr>\n      <th>1</th>\n      <td>седан</td>\n      <td>BMW</td>\n      <td>https://auto.ru/cars/used/sale/bmw/3er/1106015...</td>\n      <td>чёрный</td>\n      <td>{'id': '9361242', 'name': '316i SE', 'availabl...</td>\n      <td>Юридически чистый и технически обслуженный авт...</td>\n      <td>1.6 LTR</td>\n      <td>136 N12</td>\n      <td>Щелково</td>\n      <td>{'tinted-glass': True, 'esp': True, 'usb': Tru...</td>\n      <td>...</td>\n      <td>EUROPEAN</td>\n      <td>3</td>\n      <td>{'year': 2020, 'month': 5}</td>\n      <td>ORIGINAL</td>\n      <td>REAR_DRIVE</td>\n      <td>LEFT</td>\n      <td>True</td>\n      <td>True</td>\n      <td>1420000</td>\n      <td>sedan</td>\n    </tr>\n    <tr>\n      <th>2</th>\n      <td>седан</td>\n      <td>BMW</td>\n      <td>https://auto.ru/cars/used/sale/bmw/m5/11057329...</td>\n      <td>серебристый</td>\n      <td>{'id': '0'}</td>\n      <td>Продажа указанного БМВ осуществляется в формат...</td>\n      <td>4.4 LTR</td>\n      <td>600 N12</td>\n      <td>Москва</td>\n      <td>{'cruise-control': True, 'roller-blind-for-rea...</td>\n      <td>...</td>\n      <td>EUROPEAN</td>\n      <td>1</td>\n      <td>{'year': 2014, 'month': 12}</td>\n      <td>ORIGINAL</td>\n      <td>REAR_DRIVE</td>\n      <td>LEFT</td>\n      <td>True</td>\n      <td>True</td>\n      <td>80000000</td>\n      <td>sedan</td>\n    </tr>\n    <tr>\n      <th>3</th>\n      <td>купе</td>\n      <td>BMW</td>\n      <td>https://auto.ru/cars/used/sale/bmw/3er/1103184...</td>\n      <td>красный</td>\n      <td>{'id': '0'}</td>\n      <td>Бмв 316 по документам 1.8\\nПо факту был устано...</td>\n      <td>1.8 LTR</td>\n      <td>90 N12</td>\n      <td>Москва</td>\n      <td>{'engine-proof': True, 'tinted-glass': True, '...</td>\n      <td>...</td>\n      <td>EUROPEAN</td>\n      <td>4</td>\n      <td>{'year': 2017, 'month': 7}</td>\n      <td>DUPLICATE</td>\n      <td>REAR_DRIVE</td>\n      <td>LEFT</td>\n      <td>True</td>\n      <td>True</td>\n      <td>990000</td>\n      <td>coupe</td>\n    </tr>\n    <tr>\n      <th>4</th>\n      <td>седан</td>\n      <td>BMW</td>\n      <td>https://auto.ru/cars/used/sale/bmw/7er/1105925...</td>\n      <td>чёрный</td>\n      <td>{'id': '0'}</td>\n      <td>Автомобиль в достойном состоянии. Чистый, не к...</td>\n      <td>4.8 LTR</td>\n      <td>367 N12</td>\n      <td>Москва</td>\n      <td>{'cruise-control': True, 'asr': True, 'tinted-...</td>\n      <td>...</td>\n      <td>EUROPEAN</td>\n      <td>2</td>\n      <td>{'year': 2019, 'month': 1}</td>\n      <td>ORIGINAL</td>\n      <td>REAR_DRIVE</td>\n      <td>LEFT</td>\n      <td>True</td>\n      <td>True</td>\n      <td>645000</td>\n      <td>sedan</td>\n    </tr>\n  </tbody>\n</table>\n<p>5 rows × 33 columns</p>\n</div>"
     },
     "execution_count": 135,
     "metadata": {},
     "output_type": "execute_result"
    }
   ],
   "source": [
    "train.head()"
   ],
   "metadata": {
    "collapsed": false,
    "pycharm": {
     "name": "#%%\n"
    }
   }
  },
  {
   "cell_type": "code",
   "execution_count": 136,
   "outputs": [
    {
     "data": {
      "text/plain": "      body  brand                                                url  \\\n0  лифтбек  SKODA  https://auto.ru/cars/used/sale/skoda/octavia/1...   \n1  лифтбек  SKODA  https://auto.ru/cars/used/sale/skoda/octavia/1...   \n2  лифтбек  SKODA  https://auto.ru/cars/used/sale/skoda/superb/11...   \n3  лифтбек  SKODA  https://auto.ru/cars/used/sale/skoda/octavia/1...   \n4  лифтбек  SKODA  https://auto.ru/cars/used/sale/skoda/octavia/1...   \n\n        color                                 complectation_dict  \\\n0       синий                                                NaN   \n1      чёрный                                                NaN   \n2       серый  {\"id\":\"20026336\",\"name\":\"Ambition\",\"available_...   \n3  коричневый  {\"id\":\"20803582\",\"name\":\"Ambition\",\"available_...   \n4       белый                                                NaN   \n\n                                         description displacement    power  \\\n0  Все автомобили, представленные в продаже, прох...      1.2 LTR  105 N12   \n1  ЛОТ: 01217195\\nАвтопрага Север\\nДанный автомоб...      1.6 LTR  110 N12   \n2  Все автомобили, представленные в продаже, прох...      1.8 LTR  152 N12   \n3  КОМПЛЕКТ ЗИМНЕЙ (ЛЕТНЕЙ) РЕЗИНЫ ПО СЕЗОНУ В ПО...      1.6 LTR  110 N12   \n4  ЛОТ: 01220889\\nАвтопрага Север\\n\\nВы можете по...      1.8 LTR  152 N12   \n\n                                      equipment_dict    fuel  ...  \\\n0  {\"engine-proof\":true,\"tinted-glass\":true,\"airb...  бензин  ...   \n1  {\"cruise-control\":true,\"asr\":true,\"esp\":true,\"...  бензин  ...   \n2  {\"cruise-control\":true,\"tinted-glass\":true,\"es...  бензин  ...   \n3  {\"cruise-control\":true,\"roller-blind-for-rear-...  бензин  ...   \n4  {\"cruise-control\":true,\"asr\":true,\"esp\":true,\"...  бензин  ...   \n\n       transmission    vendor   num_owners ownership car_license      gear  \\\n0  роботизированная  EUROPEAN  3 или более       NaN    Оригинал  передний   \n1      механическая  EUROPEAN   1 владелец       NaN    Оригинал  передний   \n2  роботизированная  EUROPEAN   1 владелец       NaN    Оригинал  передний   \n3    автоматическая  EUROPEAN   1 владелец       NaN    Оригинал  передний   \n4    автоматическая  EUROPEAN   1 владелец       NaN    Оригинал  передний   \n\n  steering           condition      duties body_type  \n0    Левый  Не требует ремонта  Растаможен    f_back  \n1    Левый  Не требует ремонта  Растаможен    f_back  \n2    Левый  Не требует ремонта  Растаможен    f_back  \n3    Левый  Не требует ремонта  Растаможен    f_back  \n4    Левый  Не требует ремонта  Растаможен    f_back  \n\n[5 rows x 31 columns]",
      "text/html": "<div>\n<style scoped>\n    .dataframe tbody tr th:only-of-type {\n        vertical-align: middle;\n    }\n\n    .dataframe tbody tr th {\n        vertical-align: top;\n    }\n\n    .dataframe thead th {\n        text-align: right;\n    }\n</style>\n<table border=\"1\" class=\"dataframe\">\n  <thead>\n    <tr style=\"text-align: right;\">\n      <th></th>\n      <th>body</th>\n      <th>brand</th>\n      <th>url</th>\n      <th>color</th>\n      <th>complectation_dict</th>\n      <th>description</th>\n      <th>displacement</th>\n      <th>power</th>\n      <th>equipment_dict</th>\n      <th>fuel</th>\n      <th>...</th>\n      <th>transmission</th>\n      <th>vendor</th>\n      <th>num_owners</th>\n      <th>ownership</th>\n      <th>car_license</th>\n      <th>gear</th>\n      <th>steering</th>\n      <th>condition</th>\n      <th>duties</th>\n      <th>body_type</th>\n    </tr>\n  </thead>\n  <tbody>\n    <tr>\n      <th>0</th>\n      <td>лифтбек</td>\n      <td>SKODA</td>\n      <td>https://auto.ru/cars/used/sale/skoda/octavia/1...</td>\n      <td>синий</td>\n      <td>NaN</td>\n      <td>Все автомобили, представленные в продаже, прох...</td>\n      <td>1.2 LTR</td>\n      <td>105 N12</td>\n      <td>{\"engine-proof\":true,\"tinted-glass\":true,\"airb...</td>\n      <td>бензин</td>\n      <td>...</td>\n      <td>роботизированная</td>\n      <td>EUROPEAN</td>\n      <td>3 или более</td>\n      <td>NaN</td>\n      <td>Оригинал</td>\n      <td>передний</td>\n      <td>Левый</td>\n      <td>Не требует ремонта</td>\n      <td>Растаможен</td>\n      <td>f_back</td>\n    </tr>\n    <tr>\n      <th>1</th>\n      <td>лифтбек</td>\n      <td>SKODA</td>\n      <td>https://auto.ru/cars/used/sale/skoda/octavia/1...</td>\n      <td>чёрный</td>\n      <td>NaN</td>\n      <td>ЛОТ: 01217195\\nАвтопрага Север\\nДанный автомоб...</td>\n      <td>1.6 LTR</td>\n      <td>110 N12</td>\n      <td>{\"cruise-control\":true,\"asr\":true,\"esp\":true,\"...</td>\n      <td>бензин</td>\n      <td>...</td>\n      <td>механическая</td>\n      <td>EUROPEAN</td>\n      <td>1 владелец</td>\n      <td>NaN</td>\n      <td>Оригинал</td>\n      <td>передний</td>\n      <td>Левый</td>\n      <td>Не требует ремонта</td>\n      <td>Растаможен</td>\n      <td>f_back</td>\n    </tr>\n    <tr>\n      <th>2</th>\n      <td>лифтбек</td>\n      <td>SKODA</td>\n      <td>https://auto.ru/cars/used/sale/skoda/superb/11...</td>\n      <td>серый</td>\n      <td>{\"id\":\"20026336\",\"name\":\"Ambition\",\"available_...</td>\n      <td>Все автомобили, представленные в продаже, прох...</td>\n      <td>1.8 LTR</td>\n      <td>152 N12</td>\n      <td>{\"cruise-control\":true,\"tinted-glass\":true,\"es...</td>\n      <td>бензин</td>\n      <td>...</td>\n      <td>роботизированная</td>\n      <td>EUROPEAN</td>\n      <td>1 владелец</td>\n      <td>NaN</td>\n      <td>Оригинал</td>\n      <td>передний</td>\n      <td>Левый</td>\n      <td>Не требует ремонта</td>\n      <td>Растаможен</td>\n      <td>f_back</td>\n    </tr>\n    <tr>\n      <th>3</th>\n      <td>лифтбек</td>\n      <td>SKODA</td>\n      <td>https://auto.ru/cars/used/sale/skoda/octavia/1...</td>\n      <td>коричневый</td>\n      <td>{\"id\":\"20803582\",\"name\":\"Ambition\",\"available_...</td>\n      <td>КОМПЛЕКТ ЗИМНЕЙ (ЛЕТНЕЙ) РЕЗИНЫ ПО СЕЗОНУ В ПО...</td>\n      <td>1.6 LTR</td>\n      <td>110 N12</td>\n      <td>{\"cruise-control\":true,\"roller-blind-for-rear-...</td>\n      <td>бензин</td>\n      <td>...</td>\n      <td>автоматическая</td>\n      <td>EUROPEAN</td>\n      <td>1 владелец</td>\n      <td>NaN</td>\n      <td>Оригинал</td>\n      <td>передний</td>\n      <td>Левый</td>\n      <td>Не требует ремонта</td>\n      <td>Растаможен</td>\n      <td>f_back</td>\n    </tr>\n    <tr>\n      <th>4</th>\n      <td>лифтбек</td>\n      <td>SKODA</td>\n      <td>https://auto.ru/cars/used/sale/skoda/octavia/1...</td>\n      <td>белый</td>\n      <td>NaN</td>\n      <td>ЛОТ: 01220889\\nАвтопрага Север\\n\\nВы можете по...</td>\n      <td>1.8 LTR</td>\n      <td>152 N12</td>\n      <td>{\"cruise-control\":true,\"asr\":true,\"esp\":true,\"...</td>\n      <td>бензин</td>\n      <td>...</td>\n      <td>автоматическая</td>\n      <td>EUROPEAN</td>\n      <td>1 владелец</td>\n      <td>NaN</td>\n      <td>Оригинал</td>\n      <td>передний</td>\n      <td>Левый</td>\n      <td>Не требует ремонта</td>\n      <td>Растаможен</td>\n      <td>f_back</td>\n    </tr>\n  </tbody>\n</table>\n<p>5 rows × 31 columns</p>\n</div>"
     },
     "execution_count": 136,
     "metadata": {},
     "output_type": "execute_result"
    }
   ],
   "source": [
    "test.head()"
   ],
   "metadata": {
    "collapsed": false,
    "pycharm": {
     "name": "#%%\n"
    }
   }
  },
  {
   "cell_type": "markdown",
   "source": [
    " Анализ текстовых признаков:\n",
    " complectation_dict - можно вытащить информацию из признака avaliable_options, если разобрать словарь в текстовом виде. Но в тестовом наборе много пропусков данных.  Столбец под удаление.\n",
    " description - с помощью NLP можно было бы что-то вытащить, но сложно. В удаление.\n",
    " location - можно в дальнейшем сделать словарик расстояния до города для корректировки цены. Но отсутствует в тестовом наборе. Под удаление.\n",
    " equipment_dict - можно вытащить информацию об опциях, если разобрать словарь в текстовом виде. Но в тестовом наборе много пропусков данных. Столбец под удаление.\n",
    " fuel - категории на разных языках.\n",
    " model_info - дублирующая информация. Под удаление.\n",
    " model - здесь была ошибка. Похоже устранена.\n",
    " name - дублирующее имя, в удаление\n",
    " curr - проверить что там всего один признак и удалить\n",
    " super_gen - описание автомобиля. Важная детальная информация, но состав полей отличается от текущего состояния к 2020 году. Ошибка сборки данных. Пока игнорирую. В дальнейшем может быть вернусь и сделаю сбор информации еще раз.\n",
    " configuration - короткое описание конфигурации дублируется - под удаление\n",
    " transmission - использованы разные языки для категорий\n",
    " vendor - проверить, вероятно унаследованный признак, аналог расположения руля.\n",
    " num_owners - разные типы информации в test и train. Объединить.\n",
    " ownership - много пустых строк, в игнор\n",
    " gear - сделать сокращения, разные языки в описании\n",
    " steering - разные языки\n",
    " condition - ????, разные языки\n",
    " duties - вероятно унаследованный признак, разные языки, убрать"
   ],
   "metadata": {
    "collapsed": false
   }
  },
  {
   "cell_type": "code",
   "execution_count": 137,
   "outputs": [],
   "source": [
    "def unique_keys(feat):\n",
    "    lbl = set()\n",
    "    for row in feat:\n",
    "        lbl.update(set(list(row.keys())))\n",
    "    return lbl"
   ],
   "metadata": {
    "collapsed": false,
    "pycharm": {
     "name": "#%%\n"
    }
   }
  },
  {
   "cell_type": "code",
   "execution_count": 138,
   "outputs": [
    {
     "data": {
      "text/plain": "{'id', 'name', 'price_segment', 'ru_name', 'year_from', 'year_to'}"
     },
     "execution_count": 138,
     "metadata": {},
     "output_type": "execute_result"
    }
   ],
   "source": [
    "train['super_gen_dict'] = train.super_gen.apply(literal_eval)\n",
    "unique_keys(train.super_gen_dict)"
   ],
   "metadata": {
    "collapsed": false,
    "pycharm": {
     "name": "#%%\n"
    }
   }
  },
  {
   "cell_type": "code",
   "execution_count": 139,
   "outputs": [
    {
     "data": {
      "text/plain": "{'acceleration',\n 'clearance_max',\n 'clearance_min',\n 'displacement',\n 'engine_type',\n 'fuel_rate',\n 'gear_type',\n 'human_name',\n 'id',\n 'name',\n 'nameplate',\n 'power',\n 'power_kvt',\n 'transmission'}"
     },
     "execution_count": 139,
     "metadata": {},
     "output_type": "execute_result"
    }
   ],
   "source": [
    "test['super_gen_dict'] = test.super_gen.apply(literal_eval)\n",
    "unique_keys(test.super_gen_dict)"
   ],
   "metadata": {
    "collapsed": false,
    "pycharm": {
     "name": "#%%\n"
    }
   }
  },
  {
   "cell_type": "code",
   "execution_count": 140,
   "outputs": [
    {
     "data": {
      "text/plain": "{'code', 'morphology', 'name', 'nameplate', 'ru_name'}"
     },
     "execution_count": 140,
     "metadata": {},
     "output_type": "execute_result"
    }
   ],
   "source": [
    "train['model_info_dict'] = train.model_info.apply(literal_eval)\n",
    "unique_keys(train.model_info_dict)"
   ],
   "metadata": {
    "collapsed": false,
    "pycharm": {
     "name": "#%%\n"
    }
   }
  },
  {
   "cell_type": "code",
   "execution_count": 143,
   "outputs": [
    {
     "data": {
      "text/plain": "{'available_options', 'id', 'name', 'vendor_colors'}"
     },
     "execution_count": 143,
     "metadata": {},
     "output_type": "execute_result"
    }
   ],
   "source": [
    "train['complectation_dict_dict'] = train.complectation_dict.apply(literal_eval)\n",
    "unique_keys(train.complectation_dict_dict)"
   ],
   "metadata": {
    "collapsed": false,
    "pycharm": {
     "name": "#%%\n"
    }
   }
  },
  {
   "cell_type": "code",
   "execution_count": 144,
   "outputs": [
    {
     "data": {
      "text/plain": "{'12-inch-wheels',\n '12v-socket',\n '13-inch-wheels',\n '14-inch-wheels',\n '15-inch-wheels',\n '16-inch-wheels',\n '17-inch-wheels',\n '18-inch-wheels',\n '19-inch-wheels',\n '20-inch-wheels',\n '21-inch-wheels',\n '218',\n '22-inch-wheels',\n '220v-socket',\n '228',\n '23-inch-wheels',\n '234',\n '239',\n '28-inch-wheels',\n '301',\n '313',\n '345',\n '357',\n '360-camera',\n '3FB',\n '3L5',\n '3S1',\n '401',\n '414',\n '41K',\n '440',\n '443',\n '4D3',\n '4X4',\n '500',\n '51U',\n '531',\n '540',\n '597',\n '608',\n '61U',\n '632',\n '6E3',\n '6NQ',\n '6XF',\n '7K1',\n '7X5',\n '810',\n '840',\n '872',\n '873',\n '881',\n '8RF',\n '8RM',\n '8T2',\n '8X1',\n '9JD',\n '9M9',\n '9R1',\n '9VS',\n 'F48',\n 'F62',\n 'KA2',\n 'N4M',\n 'PCH',\n 'PE6',\n 'PX2',\n 'U25',\n 'abs',\n 'activ-suspension',\n 'adaptive-light',\n 'adj-pedals',\n 'air-suspension',\n 'airbag-curtain',\n 'airbag-driver',\n 'airbag-passenger',\n 'airbag-rear-side',\n 'airbag-side',\n 'airbrush',\n 'alarm',\n 'alcantara',\n 'alloy-wheel-disks',\n 'android-auto',\n 'apple-carplay',\n 'armored',\n 'ashtray-and-cigarette-lighter',\n 'asr',\n 'audiopreparation',\n 'audiosystem-cd',\n 'audiosystem-tv',\n 'auto-cruise',\n 'auto-mirrors',\n 'auto-park',\n 'automatic-lighting-control',\n 'aux',\n 'bas',\n 'black-roof',\n 'blind-spot',\n 'bluetooth',\n 'body-kit',\n 'body-mouldings',\n 'climate-control-1',\n 'climate-control-2',\n 'collision-prevention-assist',\n 'combo-interior',\n 'computer',\n 'condition',\n 'cooling-box',\n 'cruise-control',\n 'dark-interior',\n 'decorative-interior-lighting',\n 'dha',\n 'door-sill-panel',\n 'drive-mode-sys',\n 'driver-seat-electric',\n 'driver-seat-memory',\n 'driver-seat-support',\n 'driver-seat-updown',\n 'drl',\n 'drowsy-driver-alert-system',\n 'dual-xenon',\n 'duo-body-color',\n 'e-adjustment-wheel',\n 'easy-trunk-opening',\n 'eco-leather',\n 'electro-mirrors',\n 'electro-rear-seat',\n 'electro-trunk',\n 'electro-window-back',\n 'electro-window-front',\n 'electronic-gage-panel',\n 'engine-proof',\n 'entertainment-system-for-rear-seat-passengers',\n 'esp',\n 'fabric-seats',\n 'feedback-alarm',\n 'folding-front-passenger-seat',\n 'folding-tables-rear',\n 'front-camera',\n 'front-centre-armrest',\n 'front-seat-support',\n 'front-seats-heat',\n 'front-seats-heat-vent',\n 'gbo',\n 'glonass',\n 'hatch',\n 'hcc',\n 'heated-wash-system',\n 'high-beam-assist',\n 'immo',\n 'isofix',\n 'isofix-front',\n 'keyless-entry',\n 'knee-airbag',\n 'laminated-safety-glass',\n 'lane-keeping-assist',\n 'laser-lights',\n 'leather',\n 'leather-gear-stick',\n 'led-lights',\n 'light-cleaner',\n 'light-interior',\n 'light-sensor',\n 'lock',\n 'massage-seats',\n 'migration-flag',\n 'mirrors-heat',\n 'multi-wheel',\n 'multizone-climate-control',\n 'music-super',\n 'navigation',\n 'night-vision',\n 'paint-metallic',\n 'panorama-roof',\n 'park-assist-f',\n 'park-assist-r',\n 'passenger-seat-electric',\n 'passenger-seat-updown',\n 'power-child-locks-rear-doors',\n 'power-latching-doors',\n 'programmed-block-heater',\n 'projection-display',\n 'ptf',\n 'rain-sensor',\n 'rcta',\n 'rear-camera',\n 'rear-seat-heat-vent',\n 'rear-seat-memory',\n 'rear-seats-heat',\n 'reduce-spare-wheel',\n 'remote-engine-start',\n 'roller-blind-for-rear-window',\n 'roller-blinds-for-rear-side-windows',\n 'roof-rails',\n 'seat-memory',\n 'seat-transformation',\n 'seats-2',\n 'seats-4',\n 'seats-5',\n 'seats-6',\n 'seats-7',\n 'seats-8',\n 'seats-9',\n 'servo',\n 'spare-wheel',\n 'sport-pedals',\n 'sport-seats',\n 'sport-suspension',\n 'start-button',\n 'start-stop-function',\n 'steel-wheels',\n 'steering-wheel-gear-shift-paddles',\n 'third-rear-headrest',\n 'third-row-seats',\n 'tinted-glass',\n 'traffic-sign-recognition',\n 'turnbuckle',\n 'tyre-pressure',\n 'usb',\n 'velvet-seats',\n 'voice-recognition',\n 'volume-sensor',\n 'vsm',\n 'wheel-configuration1',\n 'wheel-configuration2',\n 'wheel-heat',\n 'wheel-leather',\n 'wheel-memory',\n 'wheel-power',\n 'windcleaner-heat',\n 'windscreen-heat',\n 'wireless-charger',\n 'xenon',\n 'ya-auto'}"
     },
     "execution_count": 144,
     "metadata": {},
     "output_type": "execute_result"
    }
   ],
   "source": [
    "train['equipment_dict_dict'] = train.equipment_dict.apply(literal_eval)\n",
    "unique_keys(train.equipment_dict_dict)"
   ],
   "metadata": {
    "collapsed": false,
    "pycharm": {
     "name": "#%%\n"
    }
   }
  },
  {
   "cell_type": "code",
   "execution_count": 145,
   "outputs": [],
   "source": [
    "test.drop(['super_gen_dict'], axis=1, inplace=True)\n",
    "train.drop(['super_gen_dict', 'equipment_dict_dict', 'complectation_dict_dict', 'model_info_dict' ], axis=1, inplace=True)"
   ],
   "metadata": {
    "collapsed": false,
    "pycharm": {
     "name": "#%%\n"
    }
   }
  },
  {
   "cell_type": "code",
   "execution_count": 34,
   "outputs": [],
   "source": [
    "cols2drop = ['description', 'name', 'complectation_dict', 'equipment_dict', 'model_info', 'curr', 'super_gen','configuration', 'condition', 'duties']\n",
    "train.drop(cols2drop, axis=1, inplace=True)\n",
    "test.drop(cols2drop, axis=1, inplace=True)"
   ],
   "metadata": {
    "collapsed": false,
    "pycharm": {
     "name": "#%%\n"
    }
   }
  },
  {
   "cell_type": "code",
   "execution_count": 35,
   "outputs": [],
   "source": [
    "if 'location' in train.columns:\n",
    "    train.drop(['location'], axis=1, inplace=True)"
   ],
   "metadata": {
    "collapsed": false,
    "pycharm": {
     "name": "#%%\n"
    }
   }
  },
  {
   "cell_type": "code",
   "execution_count": 37,
   "outputs": [
    {
     "data": {
      "text/plain": "          body brand                                                url  \\\n0  внедорожник   BMW  https://auto.ru/cars/used/sale/bmw/x5/11057182...   \n1        седан   BMW  https://auto.ru/cars/used/sale/bmw/3er/1106015...   \n2        седан   BMW  https://auto.ru/cars/used/sale/bmw/m5/11057329...   \n3         купе   BMW  https://auto.ru/cars/used/sale/bmw/3er/1103184...   \n4        седан   BMW  https://auto.ru/cars/used/sale/bmw/7er/1105925...   \n\n         color displacement    power      fuel mileage model_year model  ...  \\\n0       чёрный      3.0 LTR  249 N12    DIESEL   99869       2013    X5  ...   \n1       чёрный      1.6 LTR  136 N12  GASOLINE  129000       2011   3ER  ...   \n2  серебристый      4.4 LTR  600 N12  GASOLINE   37000       2013    M5  ...   \n3      красный      1.8 LTR   90 N12  GASOLINE  440000       1982   3ER  ...   \n4       чёрный      4.8 LTR  367 N12  GASOLINE  129500       2005   7ER  ...   \n\n                                           super_gen transmission    vendor  \\\n0  {'id': '10382710', 'name': 'III (F15)', 'ru_na...    AUTOMATIC  EUROPEAN   \n1  {'id': '7744658', 'name': 'VI (F3x)', 'ru_name...    AUTOMATIC  EUROPEAN   \n2  {'id': '22613592', 'name': 'V (F10) Рестайлинг...        ROBOT  EUROPEAN   \n3  {'id': '3473269', 'name': 'II (E30)', 'ru_name...   MECHANICAL  EUROPEAN   \n4  {'id': '2305656', 'name': 'IV (E65/E66) Рестай...    AUTOMATIC  EUROPEAN   \n\n  num_owners                    ownership car_license             gear  \\\n0          2   {'year': 2017, 'month': 5}    ORIGINAL  ALL_WHEEL_DRIVE   \n1          3   {'year': 2020, 'month': 5}    ORIGINAL       REAR_DRIVE   \n2          1  {'year': 2014, 'month': 12}    ORIGINAL       REAR_DRIVE   \n3          4   {'year': 2017, 'month': 7}   DUPLICATE       REAR_DRIVE   \n4          2   {'year': 2019, 'month': 1}    ORIGINAL       REAR_DRIVE   \n\n  steering     price body_type  \n0     LEFT   4350000       SUV  \n1     LEFT   1420000     sedan  \n2     LEFT  80000000     sedan  \n3     LEFT    990000     coupe  \n4     LEFT    645000     sedan  \n\n[5 rows x 23 columns]",
      "text/html": "<div>\n<style scoped>\n    .dataframe tbody tr th:only-of-type {\n        vertical-align: middle;\n    }\n\n    .dataframe tbody tr th {\n        vertical-align: top;\n    }\n\n    .dataframe thead th {\n        text-align: right;\n    }\n</style>\n<table border=\"1\" class=\"dataframe\">\n  <thead>\n    <tr style=\"text-align: right;\">\n      <th></th>\n      <th>body</th>\n      <th>brand</th>\n      <th>url</th>\n      <th>color</th>\n      <th>displacement</th>\n      <th>power</th>\n      <th>fuel</th>\n      <th>mileage</th>\n      <th>model_year</th>\n      <th>model</th>\n      <th>...</th>\n      <th>super_gen</th>\n      <th>transmission</th>\n      <th>vendor</th>\n      <th>num_owners</th>\n      <th>ownership</th>\n      <th>car_license</th>\n      <th>gear</th>\n      <th>steering</th>\n      <th>price</th>\n      <th>body_type</th>\n    </tr>\n  </thead>\n  <tbody>\n    <tr>\n      <th>0</th>\n      <td>внедорожник</td>\n      <td>BMW</td>\n      <td>https://auto.ru/cars/used/sale/bmw/x5/11057182...</td>\n      <td>чёрный</td>\n      <td>3.0 LTR</td>\n      <td>249 N12</td>\n      <td>DIESEL</td>\n      <td>99869</td>\n      <td>2013</td>\n      <td>X5</td>\n      <td>...</td>\n      <td>{'id': '10382710', 'name': 'III (F15)', 'ru_na...</td>\n      <td>AUTOMATIC</td>\n      <td>EUROPEAN</td>\n      <td>2</td>\n      <td>{'year': 2017, 'month': 5}</td>\n      <td>ORIGINAL</td>\n      <td>ALL_WHEEL_DRIVE</td>\n      <td>LEFT</td>\n      <td>4350000</td>\n      <td>SUV</td>\n    </tr>\n    <tr>\n      <th>1</th>\n      <td>седан</td>\n      <td>BMW</td>\n      <td>https://auto.ru/cars/used/sale/bmw/3er/1106015...</td>\n      <td>чёрный</td>\n      <td>1.6 LTR</td>\n      <td>136 N12</td>\n      <td>GASOLINE</td>\n      <td>129000</td>\n      <td>2011</td>\n      <td>3ER</td>\n      <td>...</td>\n      <td>{'id': '7744658', 'name': 'VI (F3x)', 'ru_name...</td>\n      <td>AUTOMATIC</td>\n      <td>EUROPEAN</td>\n      <td>3</td>\n      <td>{'year': 2020, 'month': 5}</td>\n      <td>ORIGINAL</td>\n      <td>REAR_DRIVE</td>\n      <td>LEFT</td>\n      <td>1420000</td>\n      <td>sedan</td>\n    </tr>\n    <tr>\n      <th>2</th>\n      <td>седан</td>\n      <td>BMW</td>\n      <td>https://auto.ru/cars/used/sale/bmw/m5/11057329...</td>\n      <td>серебристый</td>\n      <td>4.4 LTR</td>\n      <td>600 N12</td>\n      <td>GASOLINE</td>\n      <td>37000</td>\n      <td>2013</td>\n      <td>M5</td>\n      <td>...</td>\n      <td>{'id': '22613592', 'name': 'V (F10) Рестайлинг...</td>\n      <td>ROBOT</td>\n      <td>EUROPEAN</td>\n      <td>1</td>\n      <td>{'year': 2014, 'month': 12}</td>\n      <td>ORIGINAL</td>\n      <td>REAR_DRIVE</td>\n      <td>LEFT</td>\n      <td>80000000</td>\n      <td>sedan</td>\n    </tr>\n    <tr>\n      <th>3</th>\n      <td>купе</td>\n      <td>BMW</td>\n      <td>https://auto.ru/cars/used/sale/bmw/3er/1103184...</td>\n      <td>красный</td>\n      <td>1.8 LTR</td>\n      <td>90 N12</td>\n      <td>GASOLINE</td>\n      <td>440000</td>\n      <td>1982</td>\n      <td>3ER</td>\n      <td>...</td>\n      <td>{'id': '3473269', 'name': 'II (E30)', 'ru_name...</td>\n      <td>MECHANICAL</td>\n      <td>EUROPEAN</td>\n      <td>4</td>\n      <td>{'year': 2017, 'month': 7}</td>\n      <td>DUPLICATE</td>\n      <td>REAR_DRIVE</td>\n      <td>LEFT</td>\n      <td>990000</td>\n      <td>coupe</td>\n    </tr>\n    <tr>\n      <th>4</th>\n      <td>седан</td>\n      <td>BMW</td>\n      <td>https://auto.ru/cars/used/sale/bmw/7er/1105925...</td>\n      <td>чёрный</td>\n      <td>4.8 LTR</td>\n      <td>367 N12</td>\n      <td>GASOLINE</td>\n      <td>129500</td>\n      <td>2005</td>\n      <td>7ER</td>\n      <td>...</td>\n      <td>{'id': '2305656', 'name': 'IV (E65/E66) Рестай...</td>\n      <td>AUTOMATIC</td>\n      <td>EUROPEAN</td>\n      <td>2</td>\n      <td>{'year': 2019, 'month': 1}</td>\n      <td>ORIGINAL</td>\n      <td>REAR_DRIVE</td>\n      <td>LEFT</td>\n      <td>645000</td>\n      <td>sedan</td>\n    </tr>\n  </tbody>\n</table>\n<p>5 rows × 23 columns</p>\n</div>"
     },
     "execution_count": 37,
     "metadata": {},
     "output_type": "execute_result"
    }
   ],
   "source": [
    "train.head()"
   ],
   "metadata": {
    "collapsed": false,
    "pycharm": {
     "name": "#%%\n"
    }
   }
  },
  {
   "cell_type": "code",
   "execution_count": 38,
   "outputs": [
    {
     "data": {
      "text/plain": "      body  brand                                                url  \\\n0  лифтбек  SKODA  https://auto.ru/cars/used/sale/skoda/octavia/1...   \n1  лифтбек  SKODA  https://auto.ru/cars/used/sale/skoda/octavia/1...   \n2  лифтбек  SKODA  https://auto.ru/cars/used/sale/skoda/superb/11...   \n3  лифтбек  SKODA  https://auto.ru/cars/used/sale/skoda/octavia/1...   \n4  лифтбек  SKODA  https://auto.ru/cars/used/sale/skoda/octavia/1...   \n\n        color displacement    power    fuel  mileage  model_year    model  \\\n0       синий      1.2 LTR  105 N12  бензин    74000        2013  OCTAVIA   \n1      чёрный      1.6 LTR  110 N12  бензин    60563        2017  OCTAVIA   \n2       серый      1.8 LTR  152 N12  бензин    88000        2013   SUPERB   \n3  коричневый      1.6 LTR  110 N12  бензин    95000        2013  OCTAVIA   \n4       белый      1.8 LTR  152 N12  бензин    58536        2008  OCTAVIA   \n\n   ...     sell_id                                          super_gen  \\\n0  ...  1100575026  {\"id\":\"10373605\",\"displacement\":1197,\"engine_t...   \n1  ...  1100549428  {\"id\":\"20913311\",\"displacement\":1598,\"engine_t...   \n2  ...  1100658222  {\"id\":\"20026323\",\"nameplate\":\"DSG\",\"displaceme...   \n3  ...  1100937408  {\"id\":\"20105521\",\"displacement\":1598,\"engine_t...   \n4  ...  1101037972  {\"id\":\"4561004\",\"displacement\":1798,\"engine_ty...   \n\n       transmission    vendor   num_owners ownership car_license      gear  \\\n0  роботизированная  EUROPEAN  3 или более       NaN    Оригинал  передний   \n1      механическая  EUROPEAN   1 владелец       NaN    Оригинал  передний   \n2  роботизированная  EUROPEAN   1 владелец       NaN    Оригинал  передний   \n3    автоматическая  EUROPEAN   1 владелец       NaN    Оригинал  передний   \n4    автоматическая  EUROPEAN   1 владелец       NaN    Оригинал  передний   \n\n  steering body_type  \n0    Левый    f_back  \n1    Левый    f_back  \n2    Левый    f_back  \n3    Левый    f_back  \n4    Левый    f_back  \n\n[5 rows x 22 columns]",
      "text/html": "<div>\n<style scoped>\n    .dataframe tbody tr th:only-of-type {\n        vertical-align: middle;\n    }\n\n    .dataframe tbody tr th {\n        vertical-align: top;\n    }\n\n    .dataframe thead th {\n        text-align: right;\n    }\n</style>\n<table border=\"1\" class=\"dataframe\">\n  <thead>\n    <tr style=\"text-align: right;\">\n      <th></th>\n      <th>body</th>\n      <th>brand</th>\n      <th>url</th>\n      <th>color</th>\n      <th>displacement</th>\n      <th>power</th>\n      <th>fuel</th>\n      <th>mileage</th>\n      <th>model_year</th>\n      <th>model</th>\n      <th>...</th>\n      <th>sell_id</th>\n      <th>super_gen</th>\n      <th>transmission</th>\n      <th>vendor</th>\n      <th>num_owners</th>\n      <th>ownership</th>\n      <th>car_license</th>\n      <th>gear</th>\n      <th>steering</th>\n      <th>body_type</th>\n    </tr>\n  </thead>\n  <tbody>\n    <tr>\n      <th>0</th>\n      <td>лифтбек</td>\n      <td>SKODA</td>\n      <td>https://auto.ru/cars/used/sale/skoda/octavia/1...</td>\n      <td>синий</td>\n      <td>1.2 LTR</td>\n      <td>105 N12</td>\n      <td>бензин</td>\n      <td>74000</td>\n      <td>2013</td>\n      <td>OCTAVIA</td>\n      <td>...</td>\n      <td>1100575026</td>\n      <td>{\"id\":\"10373605\",\"displacement\":1197,\"engine_t...</td>\n      <td>роботизированная</td>\n      <td>EUROPEAN</td>\n      <td>3 или более</td>\n      <td>NaN</td>\n      <td>Оригинал</td>\n      <td>передний</td>\n      <td>Левый</td>\n      <td>f_back</td>\n    </tr>\n    <tr>\n      <th>1</th>\n      <td>лифтбек</td>\n      <td>SKODA</td>\n      <td>https://auto.ru/cars/used/sale/skoda/octavia/1...</td>\n      <td>чёрный</td>\n      <td>1.6 LTR</td>\n      <td>110 N12</td>\n      <td>бензин</td>\n      <td>60563</td>\n      <td>2017</td>\n      <td>OCTAVIA</td>\n      <td>...</td>\n      <td>1100549428</td>\n      <td>{\"id\":\"20913311\",\"displacement\":1598,\"engine_t...</td>\n      <td>механическая</td>\n      <td>EUROPEAN</td>\n      <td>1 владелец</td>\n      <td>NaN</td>\n      <td>Оригинал</td>\n      <td>передний</td>\n      <td>Левый</td>\n      <td>f_back</td>\n    </tr>\n    <tr>\n      <th>2</th>\n      <td>лифтбек</td>\n      <td>SKODA</td>\n      <td>https://auto.ru/cars/used/sale/skoda/superb/11...</td>\n      <td>серый</td>\n      <td>1.8 LTR</td>\n      <td>152 N12</td>\n      <td>бензин</td>\n      <td>88000</td>\n      <td>2013</td>\n      <td>SUPERB</td>\n      <td>...</td>\n      <td>1100658222</td>\n      <td>{\"id\":\"20026323\",\"nameplate\":\"DSG\",\"displaceme...</td>\n      <td>роботизированная</td>\n      <td>EUROPEAN</td>\n      <td>1 владелец</td>\n      <td>NaN</td>\n      <td>Оригинал</td>\n      <td>передний</td>\n      <td>Левый</td>\n      <td>f_back</td>\n    </tr>\n    <tr>\n      <th>3</th>\n      <td>лифтбек</td>\n      <td>SKODA</td>\n      <td>https://auto.ru/cars/used/sale/skoda/octavia/1...</td>\n      <td>коричневый</td>\n      <td>1.6 LTR</td>\n      <td>110 N12</td>\n      <td>бензин</td>\n      <td>95000</td>\n      <td>2013</td>\n      <td>OCTAVIA</td>\n      <td>...</td>\n      <td>1100937408</td>\n      <td>{\"id\":\"20105521\",\"displacement\":1598,\"engine_t...</td>\n      <td>автоматическая</td>\n      <td>EUROPEAN</td>\n      <td>1 владелец</td>\n      <td>NaN</td>\n      <td>Оригинал</td>\n      <td>передний</td>\n      <td>Левый</td>\n      <td>f_back</td>\n    </tr>\n    <tr>\n      <th>4</th>\n      <td>лифтбек</td>\n      <td>SKODA</td>\n      <td>https://auto.ru/cars/used/sale/skoda/octavia/1...</td>\n      <td>белый</td>\n      <td>1.8 LTR</td>\n      <td>152 N12</td>\n      <td>бензин</td>\n      <td>58536</td>\n      <td>2008</td>\n      <td>OCTAVIA</td>\n      <td>...</td>\n      <td>1101037972</td>\n      <td>{\"id\":\"4561004\",\"displacement\":1798,\"engine_ty...</td>\n      <td>автоматическая</td>\n      <td>EUROPEAN</td>\n      <td>1 владелец</td>\n      <td>NaN</td>\n      <td>Оригинал</td>\n      <td>передний</td>\n      <td>Левый</td>\n      <td>f_back</td>\n    </tr>\n  </tbody>\n</table>\n<p>5 rows × 22 columns</p>\n</div>"
     },
     "execution_count": 38,
     "metadata": {},
     "output_type": "execute_result"
    }
   ],
   "source": [
    "test.head()"
   ],
   "metadata": {
    "collapsed": false,
    "pycharm": {
     "name": "#%%\n"
    }
   }
  },
  {
   "cell_type": "code",
   "execution_count": 47,
   "outputs": [
    {
     "data": {
      "text/plain": "{'id': '10373605',\n 'displacement': 1197,\n 'engine_type': 'GASOLINE',\n 'gear_type': 'FORWARD_CONTROL',\n 'transmission': 'ROBOT',\n 'power': 105,\n 'power_kvt': 77,\n 'human_name': '1.2 AMT (105 л.с.)',\n 'acceleration': 10.5,\n 'clearance_min': 155,\n 'fuel_rate': 5}"
     },
     "execution_count": 47,
     "metadata": {},
     "output_type": "execute_result"
    }
   ],
   "source": [
    "test.super_gen_dict[0]"
   ],
   "metadata": {
    "collapsed": false,
    "pycharm": {
     "name": "#%%\n"
    }
   }
  },
  {
   "cell_type": "code",
   "execution_count": 39,
   "outputs": [
    {
     "data": {
      "text/plain": "['0.0 LTR',\n '0.6 LTR',\n '0.7 LTR',\n '1.0 LTR',\n '1.1 LTR',\n '1.2 LTR',\n '1.3 LTR',\n '1.4 LTR',\n '1.5 LTR',\n '1.6 LTR',\n '1.7 LTR',\n '1.8 LTR',\n '1.9 LTR',\n '2.0 LTR',\n '2.1 LTR',\n '2.2 LTR',\n '2.3 LTR',\n '2.4 LTR',\n '2.5 LTR',\n '2.6 LTR',\n '2.7 LTR',\n '2.8 LTR',\n '2.9 LTR',\n '3.0 LTR',\n '3.1 LTR',\n '3.2 LTR',\n '3.3 LTR',\n '3.4 LTR',\n '3.5 LTR',\n '3.6 LTR',\n '3.7 LTR',\n '3.8 LTR',\n '4.0 LTR',\n '4.1 LTR',\n '4.2 LTR',\n '4.3 LTR',\n '4.4 LTR',\n '4.5 LTR',\n '4.6 LTR',\n '4.7 LTR',\n '4.8 LTR',\n '4.9 LTR',\n '5.0 LTR',\n '5.2 LTR',\n '5.4 LTR',\n '5.5 LTR',\n '5.6 LTR',\n '5.7 LTR',\n '5.8 LTR',\n '5.9 LTR',\n '6.0 LTR',\n '6.2 LTR',\n '6.3 LTR',\n '6.6 LTR']"
     },
     "execution_count": 39,
     "metadata": {},
     "output_type": "execute_result"
    }
   ],
   "source": [
    "d = list(train.displacement.unique())\n",
    "d.sort(); d"
   ],
   "metadata": {
    "collapsed": false,
    "pycharm": {
     "name": "#%%\n"
    }
   }
  },
  {
   "cell_type": "code",
   "execution_count": 40,
   "outputs": [
    {
     "data": {
      "text/plain": "        body brand                                                url   color  \\\n29   хэтчбек   BMW  https://auto.ru/cars/used/sale/bmw/i3/11041725...  чёрный   \n626  хэтчбек   BMW  https://auto.ru/cars/used/sale/bmw/i3/11060008...   синий   \n636  хэтчбек   BMW  https://auto.ru/cars/used/sale/bmw/i3/11060133...   белый   \n751  хэтчбек   BMW  https://auto.ru/cars/used/sale/bmw/i3/11059998...   белый   \n763  хэтчбек   BMW  https://auto.ru/cars/used/sale/bmw/i3/11059985...  чёрный   \n\n    displacement    power     fuel mileage model_year model  ...  \\\n29       0.0 LTR  170 N12  ELECTRO   45000       2017    I3  ...   \n626      0.0 LTR  170 N12  ELECTRO   42000       2017    I3  ...   \n636      0.0 LTR  170 N12  ELECTRO   16909       2017    I3  ...   \n751      0.0 LTR  184 N12  ELECTRO   34850       2017    I3  ...   \n763      0.0 LTR  184 N12  ELECTRO   27250       2017    I3  ...   \n\n                                             super_gen transmission    vendor  \\\n29   {'id': '21080702', 'name': 'I (I01) Рестайлинг...    AUTOMATIC  EUROPEAN   \n626  {'id': '21080702', 'name': 'I (I01) Рестайлинг...    AUTOMATIC  EUROPEAN   \n636  {'id': '21080702', 'name': 'I (I01) Рестайлинг...    AUTOMATIC  EUROPEAN   \n751  {'id': '21080702', 'name': 'I (I01) Рестайлинг...    AUTOMATIC  EUROPEAN   \n763  {'id': '21080702', 'name': 'I (I01) Рестайлинг...    AUTOMATIC  EUROPEAN   \n\n    num_owners                   ownership car_license        gear steering  \\\n29           1  {'year': 2021, 'month': 5}    ORIGINAL  REAR_DRIVE     LEFT   \n626          1  {'year': 2021, 'month': 3}    ORIGINAL  REAR_DRIVE     LEFT   \n636          4                         NaN    ORIGINAL  REAR_DRIVE     LEFT   \n751          1  {'year': 2018, 'month': 8}    ORIGINAL  REAR_DRIVE     LEFT   \n763          1  {'year': 2021, 'month': 9}    ORIGINAL  REAR_DRIVE     LEFT   \n\n       price body_type  \n29   2249998    f_back  \n626  2390000    f_back  \n636  1999000    f_back  \n751  2490000    f_back  \n763  2545000    f_back  \n\n[5 rows x 23 columns]",
      "text/html": "<div>\n<style scoped>\n    .dataframe tbody tr th:only-of-type {\n        vertical-align: middle;\n    }\n\n    .dataframe tbody tr th {\n        vertical-align: top;\n    }\n\n    .dataframe thead th {\n        text-align: right;\n    }\n</style>\n<table border=\"1\" class=\"dataframe\">\n  <thead>\n    <tr style=\"text-align: right;\">\n      <th></th>\n      <th>body</th>\n      <th>brand</th>\n      <th>url</th>\n      <th>color</th>\n      <th>displacement</th>\n      <th>power</th>\n      <th>fuel</th>\n      <th>mileage</th>\n      <th>model_year</th>\n      <th>model</th>\n      <th>...</th>\n      <th>super_gen</th>\n      <th>transmission</th>\n      <th>vendor</th>\n      <th>num_owners</th>\n      <th>ownership</th>\n      <th>car_license</th>\n      <th>gear</th>\n      <th>steering</th>\n      <th>price</th>\n      <th>body_type</th>\n    </tr>\n  </thead>\n  <tbody>\n    <tr>\n      <th>29</th>\n      <td>хэтчбек</td>\n      <td>BMW</td>\n      <td>https://auto.ru/cars/used/sale/bmw/i3/11041725...</td>\n      <td>чёрный</td>\n      <td>0.0 LTR</td>\n      <td>170 N12</td>\n      <td>ELECTRO</td>\n      <td>45000</td>\n      <td>2017</td>\n      <td>I3</td>\n      <td>...</td>\n      <td>{'id': '21080702', 'name': 'I (I01) Рестайлинг...</td>\n      <td>AUTOMATIC</td>\n      <td>EUROPEAN</td>\n      <td>1</td>\n      <td>{'year': 2021, 'month': 5}</td>\n      <td>ORIGINAL</td>\n      <td>REAR_DRIVE</td>\n      <td>LEFT</td>\n      <td>2249998</td>\n      <td>f_back</td>\n    </tr>\n    <tr>\n      <th>626</th>\n      <td>хэтчбек</td>\n      <td>BMW</td>\n      <td>https://auto.ru/cars/used/sale/bmw/i3/11060008...</td>\n      <td>синий</td>\n      <td>0.0 LTR</td>\n      <td>170 N12</td>\n      <td>ELECTRO</td>\n      <td>42000</td>\n      <td>2017</td>\n      <td>I3</td>\n      <td>...</td>\n      <td>{'id': '21080702', 'name': 'I (I01) Рестайлинг...</td>\n      <td>AUTOMATIC</td>\n      <td>EUROPEAN</td>\n      <td>1</td>\n      <td>{'year': 2021, 'month': 3}</td>\n      <td>ORIGINAL</td>\n      <td>REAR_DRIVE</td>\n      <td>LEFT</td>\n      <td>2390000</td>\n      <td>f_back</td>\n    </tr>\n    <tr>\n      <th>636</th>\n      <td>хэтчбек</td>\n      <td>BMW</td>\n      <td>https://auto.ru/cars/used/sale/bmw/i3/11060133...</td>\n      <td>белый</td>\n      <td>0.0 LTR</td>\n      <td>170 N12</td>\n      <td>ELECTRO</td>\n      <td>16909</td>\n      <td>2017</td>\n      <td>I3</td>\n      <td>...</td>\n      <td>{'id': '21080702', 'name': 'I (I01) Рестайлинг...</td>\n      <td>AUTOMATIC</td>\n      <td>EUROPEAN</td>\n      <td>4</td>\n      <td>NaN</td>\n      <td>ORIGINAL</td>\n      <td>REAR_DRIVE</td>\n      <td>LEFT</td>\n      <td>1999000</td>\n      <td>f_back</td>\n    </tr>\n    <tr>\n      <th>751</th>\n      <td>хэтчбек</td>\n      <td>BMW</td>\n      <td>https://auto.ru/cars/used/sale/bmw/i3/11059998...</td>\n      <td>белый</td>\n      <td>0.0 LTR</td>\n      <td>184 N12</td>\n      <td>ELECTRO</td>\n      <td>34850</td>\n      <td>2017</td>\n      <td>I3</td>\n      <td>...</td>\n      <td>{'id': '21080702', 'name': 'I (I01) Рестайлинг...</td>\n      <td>AUTOMATIC</td>\n      <td>EUROPEAN</td>\n      <td>1</td>\n      <td>{'year': 2018, 'month': 8}</td>\n      <td>ORIGINAL</td>\n      <td>REAR_DRIVE</td>\n      <td>LEFT</td>\n      <td>2490000</td>\n      <td>f_back</td>\n    </tr>\n    <tr>\n      <th>763</th>\n      <td>хэтчбек</td>\n      <td>BMW</td>\n      <td>https://auto.ru/cars/used/sale/bmw/i3/11059985...</td>\n      <td>чёрный</td>\n      <td>0.0 LTR</td>\n      <td>184 N12</td>\n      <td>ELECTRO</td>\n      <td>27250</td>\n      <td>2017</td>\n      <td>I3</td>\n      <td>...</td>\n      <td>{'id': '21080702', 'name': 'I (I01) Рестайлинг...</td>\n      <td>AUTOMATIC</td>\n      <td>EUROPEAN</td>\n      <td>1</td>\n      <td>{'year': 2021, 'month': 9}</td>\n      <td>ORIGINAL</td>\n      <td>REAR_DRIVE</td>\n      <td>LEFT</td>\n      <td>2545000</td>\n      <td>f_back</td>\n    </tr>\n  </tbody>\n</table>\n<p>5 rows × 23 columns</p>\n</div>"
     },
     "execution_count": 40,
     "metadata": {},
     "output_type": "execute_result"
    }
   ],
   "source": [
    "train.loc[train.displacement=='0.0 LTR'].head()"
   ],
   "metadata": {
    "collapsed": false,
    "pycharm": {
     "name": "#%%\n"
    }
   }
  },
  {
   "cell_type": "markdown",
   "source": [
    "Неожиданно наткнулся на автомобили с электродвигателем."
   ],
   "metadata": {
    "collapsed": false
   }
  },
  {
   "cell_type": "code",
   "execution_count": 41,
   "outputs": [],
   "source": [
    "train.displacement = train.displacement.apply(lambda x: x.replace(\" LTR\", \"0.0 LTR\") if x == \" LTR\" else x)\n",
    "train.displacement = train.displacement.apply(lambda x: float(x.replace(\"LTR\", \"\")) if isinstance(x, str) else x)\n",
    "test.displacement = test.displacement.apply(lambda x: x.replace(\" LTR\", \"0.0 LTR\") if x == \" LTR\" else x)\n",
    "test.displacement = test.displacement.apply(lambda x: float(x.replace(\"LTR\", \"\")) if isinstance(x, str) else x)\n"
   ],
   "metadata": {
    "collapsed": false,
    "pycharm": {
     "name": "#%%\n"
    }
   }
  },
  {
   "cell_type": "code",
   "execution_count": 42,
   "outputs": [
    {
     "data": {
      "text/plain": "2.0    0.299584\n1.6    0.124628\n3.0    0.107076\n1.4    0.067570\n2.5    0.065359\n1.8    0.050731\n2.4    0.045142\n3.5    0.037436\n4.0    0.019336\n1.9    0.017125\n2.9    0.016268\n1.5    0.014223\n1.3    0.011916\n2.8    0.009609\n4.4    0.009514\n4.5    0.009395\n2.1    0.009204\n1.2    0.008657\n4.7    0.007278\n5.7    0.005898\n5.6    0.005851\n2.7    0.005637\n5.5    0.005256\n3.7    0.005185\n3.2    0.005018\n4.6    0.004662\n0.0    0.004281\n2.3    0.003354\n4.2    0.003044\n3.6    0.002878\n2.2    0.002688\n5.0    0.001903\n3.3    0.001831\n3.4    0.001594\n1.7    0.001189\n3.8    0.001118\n1.0    0.001070\n0.7    0.000999\n3.1    0.000975\n4.8    0.000904\n4.3    0.000714\n6.2    0.000690\n6.0    0.000690\n5.4    0.000547\n2.6    0.000523\n0.6    0.000381\n4.1    0.000262\n5.9    0.000190\n5.2    0.000143\n6.6    0.000119\n4.9    0.000119\n6.3    0.000095\n1.1    0.000071\n5.8    0.000071\nName: displacement, dtype: float64"
     },
     "execution_count": 42,
     "metadata": {},
     "output_type": "execute_result"
    }
   ],
   "source": [
    "train.displacement.value_counts(normalize=True)"
   ],
   "metadata": {
    "collapsed": false,
    "pycharm": {
     "name": "#%%\n"
    }
   }
  },
  {
   "cell_type": "code",
   "execution_count": 43,
   "outputs": [
    {
     "data": {
      "text/plain": "2.0    0.213083\n1.6    0.143372\n3.0    0.112870\n1.8    0.096552\n2.5    0.071412\n2.4    0.050308\n3.5    0.049299\n1.4    0.047137\n1.5    0.020902\n1.2    0.013983\n4.4    0.012887\n2.8    0.011071\n4.7    0.010869\n1.3    0.010523\n5.5    0.010408\n4.0    0.010264\n3.2    0.010033\n4.5    0.009975\n2.1    0.007813\n3.7    0.006977\n2.2    0.006804\n4.2    0.006573\n1.9    0.006371\n2.3    0.005853\n2.7    0.005449\n3.6    0.005276\n5.6    0.004901\n5.0    0.004555\n5.7    0.003892\n2.9    0.003777\n4.6    0.003114\n3.1    0.002537\n4.8    0.002422\n1.7    0.001701\n1.0    0.001643\n3.8    0.001643\n2.6    0.001586\n0.0    0.001586\n6.0    0.001528\n0.7    0.001528\n3.3    0.001269\n3.4    0.001038\n4.1    0.001009\n4.3    0.000923\n5.4    0.000894\n6.2    0.000807\n5.2    0.000346\n5.9    0.000346\n6.3    0.000231\n5.8    0.000202\n6.6    0.000173\n4.9    0.000115\n1.1    0.000115\n3.9    0.000029\n5.3    0.000029\nName: displacement, dtype: float64"
     },
     "execution_count": 43,
     "metadata": {},
     "output_type": "execute_result"
    }
   ],
   "source": [
    "test.displacement.value_counts(normalize=True)"
   ],
   "metadata": {
    "collapsed": false,
    "pycharm": {
     "name": "#%%\n"
    }
   }
  },
  {
   "cell_type": "markdown",
   "source": [
    " Самый популярный двигатель имеет объем 2 литра."
   ],
   "metadata": {
    "collapsed": false
   }
  },
  {
   "cell_type": "code",
   "execution_count": 44,
   "outputs": [
    {
     "data": {
      "text/plain": "array(['249 N12', '136 N12', '600 N12', '90 N12', '367 N12', '400 N12',\n       '510 N12', '313 N12', '625 N12', '265 N12', '102 N12', '192 N12',\n       '320 N12', '170 N12', '258 N12', '231 N12', '544 N12', '555 N12',\n       '125 N12', '184 N12', '143 N12', '264 N12', '105 N12', '86 N12',\n       '347 N12', '575 N12', '286 N12', '218 N12', '381 N12', '272 N12',\n       '407 N12', '243 N12', '150 N12', '306 N12', '507 N12', '190 N12',\n       '560 N12', '115 N12', '118 N12', '129 N12', '431 N12', '113 N12',\n       '450 N12', '245 N12', '340 N12', '238 N12', '326 N12', '177 N12',\n       '235 N12', '355 N12', '530 N12', '360 N12', '193 N12', '448 N12',\n       '163 N12', '156 N12', '140 N12', '420 N12', '95 N12', '269 N12',\n       '100 N12', '46 N12', '204 N12', '116 N12', '333 N12', '211 N12',\n       '410 N12', '75 N12', '370 N12', '445 N12', '462 N12', '609 N12',\n       '343 N12', '300 N12', '610 N12', '139 N12', '321 N12', '315 N12',\n       '387 N12', '197 N12', '174 N12', '110 N12', '224 N12', '130 N12',\n       '122 N12', '200 N12', '180 N12', '160 N12', '210 N12', '152 N12',\n       '101 N12', '220 N12', '240 N12', '85 N12', '280 N12', '55 N12',\n       '199 N12', '69 N12', '241 N12', '84 N12', '335 N12', '80 N12',\n       '131 N12', '78 N12', '350 N12', '120 N12', '60 N12', '230 N12',\n       '64 N12', '104 N12', '310 N12', '275 N12', '70 N12', '201 N12',\n       '107 N12', '47 N12', '250 N12', '72 N12', '61 N12', '50 N12',\n       '67 N12', '54 N12', '57 N12', '256 N12', '88 N12', '68 N12',\n       '144 N12', '87 N12', '215 N12', '114 N12', '182 N12', '169 N12',\n       '141 N12', '309 N12', '173 N12', '540 N12', '109 N12', '117 N12',\n       '171 N12', '79 N12', '98 N12', '405 N12', '165 N12', '234 N12',\n       '155 N12', '49 N12', '99 N12', '148 N12', '167 N12', '270 N12',\n       '145 N12', '126 N12', '135 N12', '185 N12', '137 N12', '158 N12',\n       '147 N12', '127 N12', '485 N12', '94 N12', '317 N12', '106 N12',\n       '58 N12', '268 N12', '52 N12', '175 N12', '124 N12', '248 N12',\n       '103 N12', '97 N12', '121 N12', '260 N12', '111 N12', '149 N12',\n       '330 N12', '585 N12', '626 N12', '422 N12', '435 N12', '558 N12',\n       '639 N12', '571 N12', '612 N12', '194 N12', '469 N12', '455 N12',\n       '388 N12', '252 N12', '390 N12', '800 N12', '700 N12', '503 N12',\n       '476 N12', '525 N12', '239 N12', '500 N12', '524 N12', '421 N12',\n       '296 N12', '557 N12', '408 N12', '279 N12', '401 N12', '522 N12',\n       '517 N12', '537 N12', '166 N12', '316 N12', '82 N12', '394 N12',\n       '514 N12', '292 N12', '299 N12', '132 N12', '457 N12', '38 N12',\n       '181 N12', '186 N12', '277 N12', '74 N12', '128 N12', '288 N12',\n       '273 N12', '157 N12', '271 N12', '282 N12', '146 N12', '415 N12',\n       '284 N12', '151 N12', '212 N12', '179 N12', '318 N12', '83 N12',\n       '188 N12', '159 N12', '233 N12', '91 N12', '189 N12', '77 N12',\n       '178 N12', '76 N12', '89 N12', '71 N12', '223 N12', '161 N12',\n       '202 N12', '133 N12', '205 N12', '266 N12', '324 N12', '203 N12',\n       '225 N12', '222 N12', '301 N12', '187 N12', '242 N12', '92 N12',\n       '196 N12', '112 N12', '255 N12', '290 N12', '372 N12', '354 N12',\n       '646 N12', '520 N12', '580 N12', '254 N12', '605 N12', '460 N12',\n       '154 N12', '209 N12', '227 N12', '53 N12', '295 N12', '213 N12',\n       '208 N12', '162 N12', '304 N12', '257 N12', '142 N12', '66 N12',\n       '237 N12', '247 N12', '281 N12', '45 N12', '176 N12', '325 N12',\n       '307 N12', '302 N12', '262 N12', '283 N12', '221 N12', '278 N12',\n       '328 N12', '168 N12', '344 N12', '477 N12', '380 N12', '276 N12',\n       '263 N12', '294 N12', '417 N12', '219 N12', '228 N12', '303 N12',\n       '226 N12', '383 N12', '214 N12', '305 N12', '591 N12', '40 N12',\n       '487 N12', '670 N12', '630 N12', '51 N12'], dtype=object)"
     },
     "execution_count": 44,
     "metadata": {},
     "output_type": "execute_result"
    }
   ],
   "source": [
    "train.power.unique()"
   ],
   "metadata": {
    "collapsed": false,
    "pycharm": {
     "name": "#%%\n"
    }
   }
  },
  {
   "cell_type": "code",
   "execution_count": 45,
   "outputs": [
    {
     "data": {
      "text/plain": "array(['105 N12', '110 N12', '152 N12', '200 N12', '102 N12', '150 N12',\n       '90 N12', '180 N12', '220 N12', '122 N12', '70 N12', '140 N12',\n       '125 N12', '54 N12', '86 N12', '75 N12', '64 N12', '95 N12',\n       '260 N12', '170 N12', '80 N12', '68 N12', '160 N12', '115 N12',\n       '280 N12', '53 N12', '60 N12', '143 N12', '42 N12', '101 N12',\n       '58 N12', '193 N12', '79 N12', '30 N12', '100 N12', '50 N12',\n       '163 N12', '225 N12', '420 N12', '211 N12', '245 N12', '560 N12',\n       '500 N12', '249 N12', '450 N12', '605 N12', '250 N12', '354 N12',\n       '120 N12', '290 N12', '230 N12', '350 N12', '204 N12', '255 N12',\n       '340 N12', '177 N12', '272 N12', '372 N12', '210 N12', '130 N12',\n       '300 N12', '190 N12', '239 N12', '435 N12', '333 N12', '271 N12',\n       '326 N12', '238 N12', '310 N12', '233 N12', '252 N12', '133 N12',\n       '460 N12', '520 N12', '400 N12', '525 N12', '367 N12', '265 N12',\n       '550 N12', '580 N12', '88 N12', '165 N12', '430 N12', '335 N12',\n       '174 N12', '224 N12', '136 N12', '256 N12', '338 N12', '112 N12',\n       '218 N12', '360 N12', '93 N12', '182 N12', '113 N12', '240 N12',\n       '270 N12', '137 N12', '155 N12', '61 N12', '254 N12', '116 N12',\n       '71 N12', '285 N12', '408 N12', '166 N12', '156 N12', '257 N12',\n       '201 N12', '162 N12', '194 N12', '142 N12', '154 N12', '147 N12',\n       '281 N12', '243 N12', '118 N12', '128 N12', '91 N12', '83 N12',\n       '205 N12', '247 N12', '188 N12', '295 N12', '275 N12', '78 N12',\n       '109 N12', '94 N12', '185 N12', '258 N12', '145 N12', '132 N12',\n       '135 N12', '52 N12', '66 N12', '124 N12', '98 N12', '215 N12',\n       '158 N12', '99 N12', '103 N12', '131 N12', '126 N12', '235 N12',\n       '181 N12', '315 N12', '203 N12', '231 N12', '82 N12', '304 N12',\n       '175 N12', '320 N12', '213 N12', '144 N12', '146 N12', '151 N12',\n       '111 N12', '286 N12', '306 N12', '107 N12', '184 N12', '313 N12',\n       '264 N12', '575 N12', '407 N12', '192 N12', '129 N12', '555 N12',\n       '625 N12', '329 N12', '370 N12', '381 N12', '269 N12', '600 N12',\n       '510 N12', '544 N12', '462 N12', '355 N12', '507 N12', '609 N12',\n       '431 N12', '530 N12', '387 N12', '610 N12', '197 N12', '343 N12',\n       '445 N12', '171 N12', '51 N12', '46 N12', '347 N12', '321 N12',\n       '167 N12', '141 N12', '169 N12', '405 N12', '117 N12', '114 N12',\n       '173 N12', '234 N12', '540 N12', '106 N12', '49 N12', '248 N12',\n       '317 N12', '309 N12', '97 N12', '121 N12', '268 N12', '149 N12',\n       '87 N12', '85 N12', '65 N12', '67 N12', '127 N12', '485 N12',\n       '186 N12', '222 N12', '307 N12', '262 N12', '302 N12', '284 N12',\n       '325 N12', '168 N12', '221 N12', '330 N12', '283 N12', '328 N12',\n       '303 N12', '278 N12', '388 N12', '571 N12', '585 N12', '612 N12',\n       '401 N12', '279 N12', '455 N12', '382 N12', '557 N12', '517 N12',\n       '394 N12', '422 N12', '292 N12', '469 N12', '522 N12', '296 N12',\n       '639 N12', '390 N12', '476 N12', '630 N12', '402 N12', '487 N12',\n       '558 N12', '421 N12', '316 N12', '514 N12', '457 N12', '626 N12',\n       '242 N12', '38 N12', '32 N12', '223 N12', '72 N12', '305 N12',\n       '183 N12', '273 N12', '159 N12', '76 N12', '148 N12', '179 N12',\n       '73 N12', '277 N12', '282 N12', '178 N12', '288 N12', '199 N12',\n       '266 N12', '92 N12', '74 N12', '324 N12', '232 N12', '157 N12',\n       '69 N12', '212 N12', '276 N12', '202 N12', '77 N12', '164 N12',\n       '96 N12', '84 N12', '228 N12', '108 N12', '208 N12', '263 N12',\n       '294 N12', '318 N12', '380 N12', '219 N12', '214 N12', '383 N12',\n       '241 N12', '57 N12', '55 N12', '104 N12', '48 N12', '40 N12',\n       '44 N12', '227 N12', '139 N12', '209 N12', '195 N12', '189 N12',\n       '480 N12', '591 N12', '301 N12'], dtype=object)"
     },
     "execution_count": 45,
     "metadata": {},
     "output_type": "execute_result"
    }
   ],
   "source": [
    "test.power.unique()"
   ],
   "metadata": {
    "collapsed": false,
    "pycharm": {
     "name": "#%%\n"
    }
   }
  },
  {
   "cell_type": "code",
   "execution_count": 46,
   "outputs": [
    {
     "data": {
      "text/plain": "249.0    0.099251\n150.0    0.092686\n110.0    0.052563\n144.0    0.036865\n190.0    0.034606\n           ...   \n514.0    0.000024\n316.0    0.000024\n460.0    0.000024\n522.0    0.000024\n51.0     0.000024\nName: power, Length: 316, dtype: float64"
     },
     "execution_count": 46,
     "metadata": {},
     "output_type": "execute_result"
    }
   ],
   "source": [
    "train.power = train.power.apply(lambda x: float(x.replace(\"N12\", \"\")) if isinstance(x, str) else x)\n",
    "train.power.value_counts(normalize=True)"
   ],
   "metadata": {
    "collapsed": false,
    "pycharm": {
     "name": "#%%\n"
    }
   }
  },
  {
   "cell_type": "code",
   "execution_count": 47,
   "outputs": [
    {
     "data": {
      "text/plain": "249.0    0.049242\n150.0    0.048982\n110.0    0.029954\n170.0    0.028167\n105.0    0.027533\n           ...   \n514.0    0.000029\n626.0    0.000029\n38.0     0.000029\n32.0     0.000029\n301.0    0.000029\nName: power, Length: 315, dtype: float64"
     },
     "execution_count": 47,
     "metadata": {},
     "output_type": "execute_result"
    }
   ],
   "source": [
    "test.power = test.power.apply(lambda x: float(x.replace(\"N12\", \"\")) if isinstance(x, str) else x)\n",
    "test.power.value_counts(normalize=True)"
   ],
   "metadata": {
    "collapsed": false,
    "pycharm": {
     "name": "#%%\n"
    }
   }
  },
  {
   "cell_type": "code",
   "source": [
    "train.fuel.unique()"
   ],
   "metadata": {
    "collapsed": false,
    "pycharm": {
     "name": "#%%\n"
    }
   },
   "execution_count": 48,
   "outputs": [
    {
     "data": {
      "text/plain": "array(['DIESEL', 'GASOLINE', 'HYBRID', 'ELECTRO', 'LPG'], dtype=object)"
     },
     "execution_count": 48,
     "metadata": {},
     "output_type": "execute_result"
    }
   ]
  },
  {
   "cell_type": "code",
   "execution_count": 49,
   "outputs": [
    {
     "data": {
      "text/plain": "array(['бензин', 'дизель', 'гибрид', 'электро', 'газ'], dtype=object)"
     },
     "execution_count": 49,
     "metadata": {},
     "output_type": "execute_result"
    }
   ],
   "source": [
    "test.fuel.unique()"
   ],
   "metadata": {
    "collapsed": false,
    "pycharm": {
     "name": "#%%\n"
    }
   }
  },
  {
   "cell_type": "code",
   "execution_count": 50,
   "outputs": [],
   "source": [
    "fuel_dict={'DIESEL':'D', 'дизель':'D', 'GASOLINE':'B', 'бензин':'B', 'HYBRID':'H', 'гибрид':'H', 'ELECTRO':'E', 'электро':'E', 'LPG':'G', 'газ':'G'}\n",
    "train.fuel = train.fuel.apply(lambda x: fuel_dict[x])\n",
    "test.fuel = test.fuel.apply(lambda x: fuel_dict[x])"
   ],
   "metadata": {
    "collapsed": false,
    "pycharm": {
     "name": "#%%\n"
    }
   }
  },
  {
   "cell_type": "code",
   "execution_count": 51,
   "outputs": [
    {
     "data": {
      "text/plain": "B    0.792009\nD    0.193697\nH    0.009942\nE    0.004281\nG    0.000071\nName: fuel, dtype: float64"
     },
     "execution_count": 51,
     "metadata": {},
     "output_type": "execute_result"
    }
   ],
   "source": [
    "train.fuel.value_counts(normalize=True)"
   ],
   "metadata": {
    "collapsed": false,
    "pycharm": {
     "name": "#%%\n"
    }
   }
  },
  {
   "cell_type": "code",
   "execution_count": 52,
   "outputs": [
    {
     "data": {
      "text/plain": "B    0.824569\nD    0.167214\nH    0.006429\nE    0.001586\nG    0.000202\nName: fuel, dtype: float64"
     },
     "execution_count": 52,
     "metadata": {},
     "output_type": "execute_result"
    }
   ],
   "source": [
    "test.fuel.value_counts(normalize=True)"
   ],
   "metadata": {
    "collapsed": false,
    "pycharm": {
     "name": "#%%\n"
    }
   }
  },
  {
   "cell_type": "code",
   "execution_count": 53,
   "outputs": [],
   "source": [
    "train.mileage = train.mileage.apply(lambda x: float(x))\n",
    "train.model_year = train.model_year.apply(lambda x: int(x))\n",
    "train.manuf_year = train.manuf_year.apply(lambda x: int(x))\n",
    "train.price = train.price.apply(lambda x: int(x))\n",
    "\n",
    "test.mileage = test.mileage.apply(lambda x: float(x))\n",
    "test.model_year = test.model_year.apply(lambda x: int(x))\n",
    "test.manuf_year = test.manuf_year.apply(lambda x: int(x))\n",
    "# В test нет колонки цены!!!  Учесть в трансформере!!!!"
   ],
   "metadata": {
    "collapsed": false,
    "pycharm": {
     "name": "#%%\n"
    }
   }
  },
  {
   "cell_type": "markdown",
   "source": [
    "l = list(train.loc[train.brand=='BMW'].model_name.unique());l"
   ],
   "metadata": {
    "collapsed": false,
    "pycharm": {
     "name": "#%% md\n"
    }
   }
  },
  {
   "cell_type": "code",
   "execution_count": 54,
   "outputs": [
    {
     "data": {
      "text/plain": "array(['5', '4', '2', '3', 5, 4, 2, 3], dtype=object)"
     },
     "execution_count": 54,
     "metadata": {},
     "output_type": "execute_result"
    }
   ],
   "source": [
    "train.doors.unique()"
   ],
   "metadata": {
    "collapsed": false,
    "pycharm": {
     "name": "#%%\n"
    }
   }
  },
  {
   "cell_type": "code",
   "execution_count": 55,
   "outputs": [
    {
     "data": {
      "text/plain": "array([5, 4, 2, 3, 0])"
     },
     "execution_count": 55,
     "metadata": {},
     "output_type": "execute_result"
    }
   ],
   "source": [
    "test.doors.unique()"
   ],
   "metadata": {
    "collapsed": false,
    "pycharm": {
     "name": "#%%\n"
    }
   }
  },
  {
   "cell_type": "code",
   "execution_count": 173,
   "outputs": [
    {
     "data": {
      "text/plain": "            body     brand                                                url  \\\n16944  кабриолет  MERCEDES  https://auto.ru/cars/used/sale/mercedes/simple...   \n\n       color  displacement  power fuel  mileage  model_year    model  ...  \\\n16944  белый           5.3   32.0    B  48000.0        1904  SIMPLEX  ...   \n\n       manuf_year     sell_id  transmission    vendor  num_owners  \\\n16944        1904  1093802104  механическая  EUROPEAN  1 владелец   \n\n               ownership car_license    gear steering body_type  \n16944  6 лет и 8 месяцев    Оригинал  задний   Правый     coupe  \n\n[1 rows x 21 columns]",
      "text/html": "<div>\n<style scoped>\n    .dataframe tbody tr th:only-of-type {\n        vertical-align: middle;\n    }\n\n    .dataframe tbody tr th {\n        vertical-align: top;\n    }\n\n    .dataframe thead th {\n        text-align: right;\n    }\n</style>\n<table border=\"1\" class=\"dataframe\">\n  <thead>\n    <tr style=\"text-align: right;\">\n      <th></th>\n      <th>body</th>\n      <th>brand</th>\n      <th>url</th>\n      <th>color</th>\n      <th>displacement</th>\n      <th>power</th>\n      <th>fuel</th>\n      <th>mileage</th>\n      <th>model_year</th>\n      <th>model</th>\n      <th>...</th>\n      <th>manuf_year</th>\n      <th>sell_id</th>\n      <th>transmission</th>\n      <th>vendor</th>\n      <th>num_owners</th>\n      <th>ownership</th>\n      <th>car_license</th>\n      <th>gear</th>\n      <th>steering</th>\n      <th>body_type</th>\n    </tr>\n  </thead>\n  <tbody>\n    <tr>\n      <th>16944</th>\n      <td>кабриолет</td>\n      <td>MERCEDES</td>\n      <td>https://auto.ru/cars/used/sale/mercedes/simple...</td>\n      <td>белый</td>\n      <td>5.3</td>\n      <td>32.0</td>\n      <td>B</td>\n      <td>48000.0</td>\n      <td>1904</td>\n      <td>SIMPLEX</td>\n      <td>...</td>\n      <td>1904</td>\n      <td>1093802104</td>\n      <td>механическая</td>\n      <td>EUROPEAN</td>\n      <td>1 владелец</td>\n      <td>6 лет и 8 месяцев</td>\n      <td>Оригинал</td>\n      <td>задний</td>\n      <td>Правый</td>\n      <td>coupe</td>\n    </tr>\n  </tbody>\n</table>\n<p>1 rows × 21 columns</p>\n</div>"
     },
     "execution_count": 173,
     "metadata": {},
     "output_type": "execute_result"
    }
   ],
   "source": [
    "test.loc[test.doors==0].head()"
   ],
   "metadata": {
    "collapsed": false,
    "pycharm": {
     "name": "#%%\n"
    }
   }
  },
  {
   "cell_type": "markdown",
   "source": [
    "Это ошибка ввода данных. Надо заменить на 2"
   ],
   "metadata": {
    "collapsed": false
   }
  },
  {
   "cell_type": "code",
   "execution_count": 56,
   "outputs": [],
   "source": [
    "test.doors = test.doors.apply( lambda x: 2 if x ==0 else x)"
   ],
   "metadata": {
    "collapsed": false,
    "pycharm": {
     "name": "#%%\n"
    }
   }
  },
  {
   "cell_type": "code",
   "execution_count": 57,
   "outputs": [
    {
     "data": {
      "text/plain": "5    0.676822\n4    0.288929\n2    0.023403\n3    0.010846\nName: doors, dtype: float64"
     },
     "execution_count": 57,
     "metadata": {},
     "output_type": "execute_result"
    }
   ],
   "source": [
    "train.doors = train.doors.apply(lambda x: int(x))\n",
    "train.doors.value_counts(normalize=True)"
   ],
   "metadata": {
    "collapsed": false,
    "pycharm": {
     "name": "#%%\n"
    }
   }
  },
  {
   "cell_type": "code",
   "execution_count": 58,
   "outputs": [
    {
     "data": {
      "text/plain": "5    0.539209\n4    0.407254\n2    0.034798\n3    0.018740\nName: doors, dtype: float64"
     },
     "execution_count": 58,
     "metadata": {},
     "output_type": "execute_result"
    }
   ],
   "source": [
    "test.doors = test.doors.apply(lambda x: int(x))\n",
    "test.doors.value_counts(normalize=True)"
   ],
   "metadata": {
    "collapsed": false,
    "pycharm": {
     "name": "#%%\n"
    }
   }
  },
  {
   "cell_type": "code",
   "execution_count": 59,
   "outputs": [
    {
     "data": {
      "text/plain": "array(['2', '3', '1', '4', nan, 1.0, 2.0, 4.0, 3.0], dtype=object)"
     },
     "execution_count": 59,
     "metadata": {},
     "output_type": "execute_result"
    }
   ],
   "source": [
    "train.num_owners.unique()"
   ],
   "metadata": {
    "collapsed": false,
    "pycharm": {
     "name": "#%%\n"
    }
   }
  },
  {
   "cell_type": "code",
   "execution_count": 60,
   "outputs": [
    {
     "data": {
      "text/plain": "           body brand                                                url  \\\n5   внедорожник   BMW  https://auto.ru/cars/new/sale/bmw/x5/110595336...   \n8   внедорожник   BMW  https://auto.ru/cars/new/sale/bmw/x5/110576161...   \n14  внедорожник   BMW  https://auto.ru/cars/new/sale/bmw/x5/110602585...   \n19  внедорожник   BMW  https://auto.ru/cars/new/sale/bmw/x5/110593983...   \n24  внедорожник   BMW  https://auto.ru/cars/new/sale/bmw/x5/110592839...   \n\n         color  displacement  power fuel  mileage  model_year model  ...  \\\n5   фиолетовый           3.0  400.0    D      0.0        2018    X5  ...   \n8        серый           3.0  249.0    D      0.0        2018    X5  ...   \n14       серый           3.0  249.0    D      0.0        2018    X5  ...   \n19       серый           3.0  249.0    D      0.0        2018    X5  ...   \n24       серый           3.0  400.0    D      0.0        2018    X5  ...   \n\n                sell_id  transmission    vendor num_owners ownership  \\\n5   1105953369-4a4e8fb5     AUTOMATIC  EUROPEAN        NaN       NaN   \n8   1105761617-1c273d38     AUTOMATIC  EUROPEAN        NaN       NaN   \n14  1106025852-e958f17e     AUTOMATIC  EUROPEAN        NaN       NaN   \n19  1105939838-73c137bb     AUTOMATIC  EUROPEAN        NaN       NaN   \n24  1105928395-2644dc80     AUTOMATIC  EUROPEAN        NaN       NaN   \n\n   car_license             gear steering     price body_type  \n5     ORIGINAL  ALL_WHEEL_DRIVE     LEFT  12390000       SUV  \n8     ORIGINAL  ALL_WHEEL_DRIVE     LEFT   8950000       SUV  \n14    ORIGINAL  ALL_WHEEL_DRIVE     LEFT   9980000       SUV  \n19    ORIGINAL  ALL_WHEEL_DRIVE     LEFT   9980000       SUV  \n24    ORIGINAL  ALL_WHEEL_DRIVE     LEFT  12188400       SUV  \n\n[5 rows x 22 columns]",
      "text/html": "<div>\n<style scoped>\n    .dataframe tbody tr th:only-of-type {\n        vertical-align: middle;\n    }\n\n    .dataframe tbody tr th {\n        vertical-align: top;\n    }\n\n    .dataframe thead th {\n        text-align: right;\n    }\n</style>\n<table border=\"1\" class=\"dataframe\">\n  <thead>\n    <tr style=\"text-align: right;\">\n      <th></th>\n      <th>body</th>\n      <th>brand</th>\n      <th>url</th>\n      <th>color</th>\n      <th>displacement</th>\n      <th>power</th>\n      <th>fuel</th>\n      <th>mileage</th>\n      <th>model_year</th>\n      <th>model</th>\n      <th>...</th>\n      <th>sell_id</th>\n      <th>transmission</th>\n      <th>vendor</th>\n      <th>num_owners</th>\n      <th>ownership</th>\n      <th>car_license</th>\n      <th>gear</th>\n      <th>steering</th>\n      <th>price</th>\n      <th>body_type</th>\n    </tr>\n  </thead>\n  <tbody>\n    <tr>\n      <th>5</th>\n      <td>внедорожник</td>\n      <td>BMW</td>\n      <td>https://auto.ru/cars/new/sale/bmw/x5/110595336...</td>\n      <td>фиолетовый</td>\n      <td>3.0</td>\n      <td>400.0</td>\n      <td>D</td>\n      <td>0.0</td>\n      <td>2018</td>\n      <td>X5</td>\n      <td>...</td>\n      <td>1105953369-4a4e8fb5</td>\n      <td>AUTOMATIC</td>\n      <td>EUROPEAN</td>\n      <td>NaN</td>\n      <td>NaN</td>\n      <td>ORIGINAL</td>\n      <td>ALL_WHEEL_DRIVE</td>\n      <td>LEFT</td>\n      <td>12390000</td>\n      <td>SUV</td>\n    </tr>\n    <tr>\n      <th>8</th>\n      <td>внедорожник</td>\n      <td>BMW</td>\n      <td>https://auto.ru/cars/new/sale/bmw/x5/110576161...</td>\n      <td>серый</td>\n      <td>3.0</td>\n      <td>249.0</td>\n      <td>D</td>\n      <td>0.0</td>\n      <td>2018</td>\n      <td>X5</td>\n      <td>...</td>\n      <td>1105761617-1c273d38</td>\n      <td>AUTOMATIC</td>\n      <td>EUROPEAN</td>\n      <td>NaN</td>\n      <td>NaN</td>\n      <td>ORIGINAL</td>\n      <td>ALL_WHEEL_DRIVE</td>\n      <td>LEFT</td>\n      <td>8950000</td>\n      <td>SUV</td>\n    </tr>\n    <tr>\n      <th>14</th>\n      <td>внедорожник</td>\n      <td>BMW</td>\n      <td>https://auto.ru/cars/new/sale/bmw/x5/110602585...</td>\n      <td>серый</td>\n      <td>3.0</td>\n      <td>249.0</td>\n      <td>D</td>\n      <td>0.0</td>\n      <td>2018</td>\n      <td>X5</td>\n      <td>...</td>\n      <td>1106025852-e958f17e</td>\n      <td>AUTOMATIC</td>\n      <td>EUROPEAN</td>\n      <td>NaN</td>\n      <td>NaN</td>\n      <td>ORIGINAL</td>\n      <td>ALL_WHEEL_DRIVE</td>\n      <td>LEFT</td>\n      <td>9980000</td>\n      <td>SUV</td>\n    </tr>\n    <tr>\n      <th>19</th>\n      <td>внедорожник</td>\n      <td>BMW</td>\n      <td>https://auto.ru/cars/new/sale/bmw/x5/110593983...</td>\n      <td>серый</td>\n      <td>3.0</td>\n      <td>249.0</td>\n      <td>D</td>\n      <td>0.0</td>\n      <td>2018</td>\n      <td>X5</td>\n      <td>...</td>\n      <td>1105939838-73c137bb</td>\n      <td>AUTOMATIC</td>\n      <td>EUROPEAN</td>\n      <td>NaN</td>\n      <td>NaN</td>\n      <td>ORIGINAL</td>\n      <td>ALL_WHEEL_DRIVE</td>\n      <td>LEFT</td>\n      <td>9980000</td>\n      <td>SUV</td>\n    </tr>\n    <tr>\n      <th>24</th>\n      <td>внедорожник</td>\n      <td>BMW</td>\n      <td>https://auto.ru/cars/new/sale/bmw/x5/110592839...</td>\n      <td>серый</td>\n      <td>3.0</td>\n      <td>400.0</td>\n      <td>D</td>\n      <td>0.0</td>\n      <td>2018</td>\n      <td>X5</td>\n      <td>...</td>\n      <td>1105928395-2644dc80</td>\n      <td>AUTOMATIC</td>\n      <td>EUROPEAN</td>\n      <td>NaN</td>\n      <td>NaN</td>\n      <td>ORIGINAL</td>\n      <td>ALL_WHEEL_DRIVE</td>\n      <td>LEFT</td>\n      <td>12188400</td>\n      <td>SUV</td>\n    </tr>\n  </tbody>\n</table>\n<p>5 rows × 22 columns</p>\n</div>"
     },
     "execution_count": 60,
     "metadata": {},
     "output_type": "execute_result"
    }
   ],
   "source": [
    "train.loc[train.num_owners.isna()].head()"
   ],
   "metadata": {
    "collapsed": false,
    "pycharm": {
     "name": "#%%\n"
    }
   }
  },
  {
   "cell_type": "markdown",
   "source": [
    "Судя по всему - у новых машин с нулевым пробегом число владельцев отсутствует. Заполню пропуски нулем. А остальное в целое. В соответствующем поле таблицы test используется иной формат. Приводим все к одному значению."
   ],
   "metadata": {
    "collapsed": false
   }
  },
  {
   "cell_type": "code",
   "execution_count": 61,
   "outputs": [
    {
     "data": {
      "text/plain": "0    0.292639\n3    0.288477\n1    0.239339\n2    0.179546\nName: num_owners, dtype: float64"
     },
     "execution_count": 61,
     "metadata": {},
     "output_type": "execute_result"
    }
   ],
   "source": [
    "train.num_owners.fillna(0,inplace=True)\n",
    "train.num_owners = train.num_owners.apply( lambda x: int(x[0]) if isinstance(x, str) else int(x))\n",
    "train.num_owners = train.num_owners.apply(lambda x: 3 if x>2 else x)\n",
    "\n",
    "\n",
    "train.num_owners.value_counts(normalize=True)"
   ],
   "metadata": {
    "collapsed": false,
    "pycharm": {
     "name": "#%%\n"
    }
   }
  },
  {
   "cell_type": "code",
   "execution_count": 62,
   "outputs": [
    {
     "data": {
      "text/plain": "array(['3 или более', '1\\xa0владелец', '2\\xa0владельца'], dtype=object)"
     },
     "execution_count": 62,
     "metadata": {},
     "output_type": "execute_result"
    }
   ],
   "source": [
    "test.num_owners.unique()"
   ],
   "metadata": {
    "collapsed": false,
    "pycharm": {
     "name": "#%%\n"
    }
   }
  },
  {
   "cell_type": "code",
   "execution_count": 63,
   "outputs": [
    {
     "data": {
      "text/plain": "              body     brand  \\\n5857   внедорожник     HONDA   \n7564         седан       BMW   \n7974   внедорожник       BMW   \n7975   внедорожник       BMW   \n7993   внедорожник       BMW   \n8037         седан       BMW   \n8291   внедорожник       BMW   \n9144   внедорожник       BMW   \n9398   внедорожник       BMW   \n10270  внедорожник       BMW   \n10507        седан       BMW   \n15412  внедорожник  MERCEDES   \n15439  внедорожник  MERCEDES   \n15472      минивэн  MERCEDES   \n15640      минивэн  MERCEDES   \n15939      минивэн  MERCEDES   \n16043  внедорожник  MERCEDES   \n16166  внедорожник  MERCEDES   \n16891        седан  MERCEDES   \n18203      минивэн  MERCEDES   \n\n                                                     url    color  \\\n5857   https://auto.ru/cars/used/sale/honda/cr_v/1100...    белый   \n7564   https://auto.ru/cars/used/sale/bmw/7er/1098589...   чёрный   \n7974   https://auto.ru/cars/used/sale/bmw/x7/11011882...   чёрный   \n7975   https://auto.ru/cars/used/sale/bmw/x6_m/110118...    серый   \n7993   https://auto.ru/cars/used/sale/bmw/x4/11011882...  голубой   \n8037   https://auto.ru/cars/used/sale/bmw/7er/1101188...   чёрный   \n8291   https://auto.ru/cars/used/sale/bmw/x5/10997851...    белый   \n9144   https://auto.ru/cars/used/sale/bmw/x5/11007992...    белый   \n9398   https://auto.ru/cars/used/sale/bmw/x7/11007986...    белый   \n10270  https://auto.ru/cars/used/sale/bmw/x7/11003604...   чёрный   \n10507  https://auto.ru/cars/used/sale/bmw/7er/1099783...    серый   \n15412  https://auto.ru/cars/used/sale/mercedes/gle_kl...   чёрный   \n15439  https://auto.ru/cars/used/sale/mercedes/gle_kl...   чёрный   \n15472  https://auto.ru/cars/used/sale/mercedes/v_klas...    синий   \n15640  https://auto.ru/cars/used/sale/mercedes/v_klas...   чёрный   \n15939  https://auto.ru/cars/used/sale/mercedes/v_klas...   чёрный   \n16043  https://auto.ru/cars/used/sale/mercedes/gle_kl...    белый   \n16166  https://auto.ru/cars/used/sale/mercedes/gls_kl...   чёрный   \n16891  https://auto.ru/cars/used/sale/mercedes/w136/1...  красный   \n18203  https://auto.ru/cars/used/sale/mercedes/v_klas...   чёрный   \n\n       displacement  power fuel  mileage  model_year             model  ...  \\\n5857            2.0  150.0    B      1.0        2016              CR_V  ...   \n7564            3.0  249.0    D      7.0        2019               7ER  ...   \n7974            3.0  400.0    D      9.0        2018                X7  ...   \n7975            4.4  625.0    B      9.0        2019              X6_M  ...   \n7993            2.0  190.0    D      9.0        2018                X4  ...   \n8037            3.0  249.0    D      9.0        2019               7ER  ...   \n8291            3.0  249.0    D      6.0        2018                X5  ...   \n9144            3.0  249.0    D      6.0        2018                X5  ...   \n9398            3.0  249.0    D      6.0        2018                X7  ...   \n10270           3.0  340.0    B      9.0        2018                X7  ...   \n10507           3.0  249.0    D      6.0        2019               7ER  ...   \n15412           2.0  245.0    D      7.0        2018        GLE_KLASSE  ...   \n15439           2.9  249.0    D      7.0        2019  GLE_KLASSE_COUPE  ...   \n15472           2.1  163.0    D      1.0        2014          V_KLASSE  ...   \n15640           2.1  190.0    D      1.0        2014          V_KLASSE  ...   \n15939           2.1  190.0    D      1.0        2014          V_KLASSE  ...   \n16043           2.9  249.0    D      9.0        2019  GLE_KLASSE_COUPE  ...   \n16166           3.0  367.0    B      1.0        2019        GLS_KLASSE  ...   \n16891           1.7   38.0    B      1.0        1936              W136  ...   \n18203           2.1  190.0    D      1.0        2014          V_KLASSE  ...   \n\n       manuf_year     sell_id    transmission    vendor  num_owners  \\\n5857         2019  1100623326        вариатор  JAPANESE  1 владелец   \n7564         2020  1098589736  автоматическая  EUROPEAN  1 владелец   \n7974         2020  1101188249  автоматическая  EUROPEAN  1 владелец   \n7975         2020  1101188250  автоматическая  EUROPEAN  1 владелец   \n7993         2020  1101188254  автоматическая  EUROPEAN  1 владелец   \n8037         2020  1101188251  автоматическая  EUROPEAN  1 владелец   \n8291         2020  1099785186  автоматическая  EUROPEAN  1 владелец   \n9144         2020  1100799200  автоматическая  EUROPEAN  1 владелец   \n9398         2020  1100798608  автоматическая  EUROPEAN  1 владелец   \n10270        2020  1100360462  автоматическая  EUROPEAN  1 владелец   \n10507        2020  1099783808  автоматическая  EUROPEAN  1 владелец   \n15412        2020  1100610736  автоматическая  EUROPEAN  1 владелец   \n15439        2020  1100556714  автоматическая  EUROPEAN  1 владелец   \n15472        2019  1096713586  автоматическая  EUROPEAN  1 владелец   \n15640        2020  1101241249  автоматическая  EUROPEAN  1 владелец   \n15939        2020  1099469734  автоматическая  EUROPEAN  1 владелец   \n16043        2020  1101201277  автоматическая  EUROPEAN  1 владелец   \n16166        2020  1101142876  автоматическая  EUROPEAN  1 владелец   \n16891        1936  1099428966    механическая  EUROPEAN  1 владелец   \n18203        2020  1101081103  автоматическая  EUROPEAN  1 владелец   \n\n       ownership car_license    gear steering body_type  \n5857         NaN    Оригинал  полный    Левый       SUV  \n7564         NaN    Оригинал  полный    Левый     sedan  \n7974         NaN    Оригинал  полный    Левый       SUV  \n7975         NaN    Оригинал  полный    Левый       SUV  \n7993         NaN    Оригинал  полный    Левый       SUV  \n8037         NaN    Оригинал  полный    Левый     sedan  \n8291         NaN    Оригинал  полный    Левый       SUV  \n9144         NaN    Оригинал  полный    Левый       SUV  \n9398         NaN    Оригинал  полный    Левый       SUV  \n10270        NaN    Оригинал  полный    Левый       SUV  \n10507        NaN    Оригинал  полный    Левый     sedan  \n15412    1 месяц    Оригинал  полный    Левый       SUV  \n15439    1 месяц    Оригинал  полный    Левый       SUV  \n15472  9 месяцев    Оригинал  полный    Левый       MPV  \n15640        NaN    Оригинал  полный    Левый       MPV  \n15939   3 месяца    Оригинал  полный    Левый       MPV  \n16043        NaN    Оригинал  полный    Левый       SUV  \n16166        NaN    Оригинал  полный    Левый       SUV  \n16891        NaN    Оригинал  задний    Левый     sedan  \n18203    1 месяц    Оригинал  полный    Левый       MPV  \n\n[20 rows x 21 columns]",
      "text/html": "<div>\n<style scoped>\n    .dataframe tbody tr th:only-of-type {\n        vertical-align: middle;\n    }\n\n    .dataframe tbody tr th {\n        vertical-align: top;\n    }\n\n    .dataframe thead th {\n        text-align: right;\n    }\n</style>\n<table border=\"1\" class=\"dataframe\">\n  <thead>\n    <tr style=\"text-align: right;\">\n      <th></th>\n      <th>body</th>\n      <th>brand</th>\n      <th>url</th>\n      <th>color</th>\n      <th>displacement</th>\n      <th>power</th>\n      <th>fuel</th>\n      <th>mileage</th>\n      <th>model_year</th>\n      <th>model</th>\n      <th>...</th>\n      <th>manuf_year</th>\n      <th>sell_id</th>\n      <th>transmission</th>\n      <th>vendor</th>\n      <th>num_owners</th>\n      <th>ownership</th>\n      <th>car_license</th>\n      <th>gear</th>\n      <th>steering</th>\n      <th>body_type</th>\n    </tr>\n  </thead>\n  <tbody>\n    <tr>\n      <th>5857</th>\n      <td>внедорожник</td>\n      <td>HONDA</td>\n      <td>https://auto.ru/cars/used/sale/honda/cr_v/1100...</td>\n      <td>белый</td>\n      <td>2.0</td>\n      <td>150.0</td>\n      <td>B</td>\n      <td>1.0</td>\n      <td>2016</td>\n      <td>CR_V</td>\n      <td>...</td>\n      <td>2019</td>\n      <td>1100623326</td>\n      <td>вариатор</td>\n      <td>JAPANESE</td>\n      <td>1 владелец</td>\n      <td>NaN</td>\n      <td>Оригинал</td>\n      <td>полный</td>\n      <td>Левый</td>\n      <td>SUV</td>\n    </tr>\n    <tr>\n      <th>7564</th>\n      <td>седан</td>\n      <td>BMW</td>\n      <td>https://auto.ru/cars/used/sale/bmw/7er/1098589...</td>\n      <td>чёрный</td>\n      <td>3.0</td>\n      <td>249.0</td>\n      <td>D</td>\n      <td>7.0</td>\n      <td>2019</td>\n      <td>7ER</td>\n      <td>...</td>\n      <td>2020</td>\n      <td>1098589736</td>\n      <td>автоматическая</td>\n      <td>EUROPEAN</td>\n      <td>1 владелец</td>\n      <td>NaN</td>\n      <td>Оригинал</td>\n      <td>полный</td>\n      <td>Левый</td>\n      <td>sedan</td>\n    </tr>\n    <tr>\n      <th>7974</th>\n      <td>внедорожник</td>\n      <td>BMW</td>\n      <td>https://auto.ru/cars/used/sale/bmw/x7/11011882...</td>\n      <td>чёрный</td>\n      <td>3.0</td>\n      <td>400.0</td>\n      <td>D</td>\n      <td>9.0</td>\n      <td>2018</td>\n      <td>X7</td>\n      <td>...</td>\n      <td>2020</td>\n      <td>1101188249</td>\n      <td>автоматическая</td>\n      <td>EUROPEAN</td>\n      <td>1 владелец</td>\n      <td>NaN</td>\n      <td>Оригинал</td>\n      <td>полный</td>\n      <td>Левый</td>\n      <td>SUV</td>\n    </tr>\n    <tr>\n      <th>7975</th>\n      <td>внедорожник</td>\n      <td>BMW</td>\n      <td>https://auto.ru/cars/used/sale/bmw/x6_m/110118...</td>\n      <td>серый</td>\n      <td>4.4</td>\n      <td>625.0</td>\n      <td>B</td>\n      <td>9.0</td>\n      <td>2019</td>\n      <td>X6_M</td>\n      <td>...</td>\n      <td>2020</td>\n      <td>1101188250</td>\n      <td>автоматическая</td>\n      <td>EUROPEAN</td>\n      <td>1 владелец</td>\n      <td>NaN</td>\n      <td>Оригинал</td>\n      <td>полный</td>\n      <td>Левый</td>\n      <td>SUV</td>\n    </tr>\n    <tr>\n      <th>7993</th>\n      <td>внедорожник</td>\n      <td>BMW</td>\n      <td>https://auto.ru/cars/used/sale/bmw/x4/11011882...</td>\n      <td>голубой</td>\n      <td>2.0</td>\n      <td>190.0</td>\n      <td>D</td>\n      <td>9.0</td>\n      <td>2018</td>\n      <td>X4</td>\n      <td>...</td>\n      <td>2020</td>\n      <td>1101188254</td>\n      <td>автоматическая</td>\n      <td>EUROPEAN</td>\n      <td>1 владелец</td>\n      <td>NaN</td>\n      <td>Оригинал</td>\n      <td>полный</td>\n      <td>Левый</td>\n      <td>SUV</td>\n    </tr>\n    <tr>\n      <th>8037</th>\n      <td>седан</td>\n      <td>BMW</td>\n      <td>https://auto.ru/cars/used/sale/bmw/7er/1101188...</td>\n      <td>чёрный</td>\n      <td>3.0</td>\n      <td>249.0</td>\n      <td>D</td>\n      <td>9.0</td>\n      <td>2019</td>\n      <td>7ER</td>\n      <td>...</td>\n      <td>2020</td>\n      <td>1101188251</td>\n      <td>автоматическая</td>\n      <td>EUROPEAN</td>\n      <td>1 владелец</td>\n      <td>NaN</td>\n      <td>Оригинал</td>\n      <td>полный</td>\n      <td>Левый</td>\n      <td>sedan</td>\n    </tr>\n    <tr>\n      <th>8291</th>\n      <td>внедорожник</td>\n      <td>BMW</td>\n      <td>https://auto.ru/cars/used/sale/bmw/x5/10997851...</td>\n      <td>белый</td>\n      <td>3.0</td>\n      <td>249.0</td>\n      <td>D</td>\n      <td>6.0</td>\n      <td>2018</td>\n      <td>X5</td>\n      <td>...</td>\n      <td>2020</td>\n      <td>1099785186</td>\n      <td>автоматическая</td>\n      <td>EUROPEAN</td>\n      <td>1 владелец</td>\n      <td>NaN</td>\n      <td>Оригинал</td>\n      <td>полный</td>\n      <td>Левый</td>\n      <td>SUV</td>\n    </tr>\n    <tr>\n      <th>9144</th>\n      <td>внедорожник</td>\n      <td>BMW</td>\n      <td>https://auto.ru/cars/used/sale/bmw/x5/11007992...</td>\n      <td>белый</td>\n      <td>3.0</td>\n      <td>249.0</td>\n      <td>D</td>\n      <td>6.0</td>\n      <td>2018</td>\n      <td>X5</td>\n      <td>...</td>\n      <td>2020</td>\n      <td>1100799200</td>\n      <td>автоматическая</td>\n      <td>EUROPEAN</td>\n      <td>1 владелец</td>\n      <td>NaN</td>\n      <td>Оригинал</td>\n      <td>полный</td>\n      <td>Левый</td>\n      <td>SUV</td>\n    </tr>\n    <tr>\n      <th>9398</th>\n      <td>внедорожник</td>\n      <td>BMW</td>\n      <td>https://auto.ru/cars/used/sale/bmw/x7/11007986...</td>\n      <td>белый</td>\n      <td>3.0</td>\n      <td>249.0</td>\n      <td>D</td>\n      <td>6.0</td>\n      <td>2018</td>\n      <td>X7</td>\n      <td>...</td>\n      <td>2020</td>\n      <td>1100798608</td>\n      <td>автоматическая</td>\n      <td>EUROPEAN</td>\n      <td>1 владелец</td>\n      <td>NaN</td>\n      <td>Оригинал</td>\n      <td>полный</td>\n      <td>Левый</td>\n      <td>SUV</td>\n    </tr>\n    <tr>\n      <th>10270</th>\n      <td>внедорожник</td>\n      <td>BMW</td>\n      <td>https://auto.ru/cars/used/sale/bmw/x7/11003604...</td>\n      <td>чёрный</td>\n      <td>3.0</td>\n      <td>340.0</td>\n      <td>B</td>\n      <td>9.0</td>\n      <td>2018</td>\n      <td>X7</td>\n      <td>...</td>\n      <td>2020</td>\n      <td>1100360462</td>\n      <td>автоматическая</td>\n      <td>EUROPEAN</td>\n      <td>1 владелец</td>\n      <td>NaN</td>\n      <td>Оригинал</td>\n      <td>полный</td>\n      <td>Левый</td>\n      <td>SUV</td>\n    </tr>\n    <tr>\n      <th>10507</th>\n      <td>седан</td>\n      <td>BMW</td>\n      <td>https://auto.ru/cars/used/sale/bmw/7er/1099783...</td>\n      <td>серый</td>\n      <td>3.0</td>\n      <td>249.0</td>\n      <td>D</td>\n      <td>6.0</td>\n      <td>2019</td>\n      <td>7ER</td>\n      <td>...</td>\n      <td>2020</td>\n      <td>1099783808</td>\n      <td>автоматическая</td>\n      <td>EUROPEAN</td>\n      <td>1 владелец</td>\n      <td>NaN</td>\n      <td>Оригинал</td>\n      <td>полный</td>\n      <td>Левый</td>\n      <td>sedan</td>\n    </tr>\n    <tr>\n      <th>15412</th>\n      <td>внедорожник</td>\n      <td>MERCEDES</td>\n      <td>https://auto.ru/cars/used/sale/mercedes/gle_kl...</td>\n      <td>чёрный</td>\n      <td>2.0</td>\n      <td>245.0</td>\n      <td>D</td>\n      <td>7.0</td>\n      <td>2018</td>\n      <td>GLE_KLASSE</td>\n      <td>...</td>\n      <td>2020</td>\n      <td>1100610736</td>\n      <td>автоматическая</td>\n      <td>EUROPEAN</td>\n      <td>1 владелец</td>\n      <td>1 месяц</td>\n      <td>Оригинал</td>\n      <td>полный</td>\n      <td>Левый</td>\n      <td>SUV</td>\n    </tr>\n    <tr>\n      <th>15439</th>\n      <td>внедорожник</td>\n      <td>MERCEDES</td>\n      <td>https://auto.ru/cars/used/sale/mercedes/gle_kl...</td>\n      <td>чёрный</td>\n      <td>2.9</td>\n      <td>249.0</td>\n      <td>D</td>\n      <td>7.0</td>\n      <td>2019</td>\n      <td>GLE_KLASSE_COUPE</td>\n      <td>...</td>\n      <td>2020</td>\n      <td>1100556714</td>\n      <td>автоматическая</td>\n      <td>EUROPEAN</td>\n      <td>1 владелец</td>\n      <td>1 месяц</td>\n      <td>Оригинал</td>\n      <td>полный</td>\n      <td>Левый</td>\n      <td>SUV</td>\n    </tr>\n    <tr>\n      <th>15472</th>\n      <td>минивэн</td>\n      <td>MERCEDES</td>\n      <td>https://auto.ru/cars/used/sale/mercedes/v_klas...</td>\n      <td>синий</td>\n      <td>2.1</td>\n      <td>163.0</td>\n      <td>D</td>\n      <td>1.0</td>\n      <td>2014</td>\n      <td>V_KLASSE</td>\n      <td>...</td>\n      <td>2019</td>\n      <td>1096713586</td>\n      <td>автоматическая</td>\n      <td>EUROPEAN</td>\n      <td>1 владелец</td>\n      <td>9 месяцев</td>\n      <td>Оригинал</td>\n      <td>полный</td>\n      <td>Левый</td>\n      <td>MPV</td>\n    </tr>\n    <tr>\n      <th>15640</th>\n      <td>минивэн</td>\n      <td>MERCEDES</td>\n      <td>https://auto.ru/cars/used/sale/mercedes/v_klas...</td>\n      <td>чёрный</td>\n      <td>2.1</td>\n      <td>190.0</td>\n      <td>D</td>\n      <td>1.0</td>\n      <td>2014</td>\n      <td>V_KLASSE</td>\n      <td>...</td>\n      <td>2020</td>\n      <td>1101241249</td>\n      <td>автоматическая</td>\n      <td>EUROPEAN</td>\n      <td>1 владелец</td>\n      <td>NaN</td>\n      <td>Оригинал</td>\n      <td>полный</td>\n      <td>Левый</td>\n      <td>MPV</td>\n    </tr>\n    <tr>\n      <th>15939</th>\n      <td>минивэн</td>\n      <td>MERCEDES</td>\n      <td>https://auto.ru/cars/used/sale/mercedes/v_klas...</td>\n      <td>чёрный</td>\n      <td>2.1</td>\n      <td>190.0</td>\n      <td>D</td>\n      <td>1.0</td>\n      <td>2014</td>\n      <td>V_KLASSE</td>\n      <td>...</td>\n      <td>2020</td>\n      <td>1099469734</td>\n      <td>автоматическая</td>\n      <td>EUROPEAN</td>\n      <td>1 владелец</td>\n      <td>3 месяца</td>\n      <td>Оригинал</td>\n      <td>полный</td>\n      <td>Левый</td>\n      <td>MPV</td>\n    </tr>\n    <tr>\n      <th>16043</th>\n      <td>внедорожник</td>\n      <td>MERCEDES</td>\n      <td>https://auto.ru/cars/used/sale/mercedes/gle_kl...</td>\n      <td>белый</td>\n      <td>2.9</td>\n      <td>249.0</td>\n      <td>D</td>\n      <td>9.0</td>\n      <td>2019</td>\n      <td>GLE_KLASSE_COUPE</td>\n      <td>...</td>\n      <td>2020</td>\n      <td>1101201277</td>\n      <td>автоматическая</td>\n      <td>EUROPEAN</td>\n      <td>1 владелец</td>\n      <td>NaN</td>\n      <td>Оригинал</td>\n      <td>полный</td>\n      <td>Левый</td>\n      <td>SUV</td>\n    </tr>\n    <tr>\n      <th>16166</th>\n      <td>внедорожник</td>\n      <td>MERCEDES</td>\n      <td>https://auto.ru/cars/used/sale/mercedes/gls_kl...</td>\n      <td>чёрный</td>\n      <td>3.0</td>\n      <td>367.0</td>\n      <td>B</td>\n      <td>1.0</td>\n      <td>2019</td>\n      <td>GLS_KLASSE</td>\n      <td>...</td>\n      <td>2020</td>\n      <td>1101142876</td>\n      <td>автоматическая</td>\n      <td>EUROPEAN</td>\n      <td>1 владелец</td>\n      <td>NaN</td>\n      <td>Оригинал</td>\n      <td>полный</td>\n      <td>Левый</td>\n      <td>SUV</td>\n    </tr>\n    <tr>\n      <th>16891</th>\n      <td>седан</td>\n      <td>MERCEDES</td>\n      <td>https://auto.ru/cars/used/sale/mercedes/w136/1...</td>\n      <td>красный</td>\n      <td>1.7</td>\n      <td>38.0</td>\n      <td>B</td>\n      <td>1.0</td>\n      <td>1936</td>\n      <td>W136</td>\n      <td>...</td>\n      <td>1936</td>\n      <td>1099428966</td>\n      <td>механическая</td>\n      <td>EUROPEAN</td>\n      <td>1 владелец</td>\n      <td>NaN</td>\n      <td>Оригинал</td>\n      <td>задний</td>\n      <td>Левый</td>\n      <td>sedan</td>\n    </tr>\n    <tr>\n      <th>18203</th>\n      <td>минивэн</td>\n      <td>MERCEDES</td>\n      <td>https://auto.ru/cars/used/sale/mercedes/v_klas...</td>\n      <td>чёрный</td>\n      <td>2.1</td>\n      <td>190.0</td>\n      <td>D</td>\n      <td>1.0</td>\n      <td>2014</td>\n      <td>V_KLASSE</td>\n      <td>...</td>\n      <td>2020</td>\n      <td>1101081103</td>\n      <td>автоматическая</td>\n      <td>EUROPEAN</td>\n      <td>1 владелец</td>\n      <td>1 месяц</td>\n      <td>Оригинал</td>\n      <td>полный</td>\n      <td>Левый</td>\n      <td>MPV</td>\n    </tr>\n  </tbody>\n</table>\n<p>20 rows × 21 columns</p>\n</div>"
     },
     "execution_count": 63,
     "metadata": {},
     "output_type": "execute_result"
    }
   ],
   "source": [
    "test.loc[test.mileage<10.0].head(20)"
   ],
   "metadata": {
    "collapsed": false,
    "pycharm": {
     "name": "#%%\n"
    }
   }
  },
  {
   "cell_type": "markdown",
   "source": [
    "В тестовый набор добавлены придуманные данные. Не бывает не новых автомобилей с пробегом 1 км. Обычно разъезды по производственным территориям и т.д. у новой машины формируют показания типа 15-25 км. Необходимо учесть это при создании признака. Есть смысл заполнить километраж вместо нуля значением 10 и потом может быть взять натуральный логарифм.\n",
    "\n",
    "Примечание:  На самом деле это оказалась ошибка восприятия данных. Я не учел, что по данным, собранным в 2020 году не могут быть представлены а/м выпуска 2021 года, все автомобили 2020 года - новые.  Позже я исправил эту ошибку."
   ],
   "metadata": {
    "collapsed": false
   }
  },
  {
   "cell_type": "code",
   "execution_count": 64,
   "outputs": [
    {
     "data": {
      "text/plain": "3    0.460042\n1    0.272704\n2    0.267255\nName: num_owners, dtype: float64"
     },
     "execution_count": 64,
     "metadata": {},
     "output_type": "execute_result"
    }
   ],
   "source": [
    "test.num_owners = test.num_owners.apply( lambda x: int(x[0]) if isinstance(x, str) else int(x))\n",
    "test.num_owners = test.num_owners.apply(lambda x: 3 if x>2 else x)\n",
    "test.num_owners.value_counts(normalize=True)"
   ],
   "metadata": {
    "collapsed": false,
    "pycharm": {
     "name": "#%%\n"
    }
   }
  },
  {
   "cell_type": "code",
   "execution_count": 65,
   "outputs": [],
   "source": [
    "train.mileage = train.mileage.apply(lambda x: 10.0 if x < 10.0 else x)\n",
    "test.mileage = test.mileage.apply(lambda x: 10.0 if x < 10.0 else x)"
   ],
   "metadata": {
    "collapsed": false,
    "pycharm": {
     "name": "#%%\n"
    }
   }
  },
  {
   "cell_type": "markdown",
   "source": [
    "В признаке ownership содержится информация о дате начала эксплуатации вероятно первым владельцем. Информация интересная, но очень много пропусков. Просто удалю ее.\n"
   ],
   "metadata": {
    "collapsed": false
   }
  },
  {
   "cell_type": "code",
   "execution_count": 66,
   "outputs": [],
   "source": [
    "train.drop(['ownership'], axis=1, inplace=True)\n",
    "test.drop(['ownership'], axis=1, inplace=True)"
   ],
   "metadata": {
    "collapsed": false,
    "pycharm": {
     "name": "#%%\n"
    }
   }
  },
  {
   "cell_type": "code",
   "execution_count": 67,
   "outputs": [
    {
     "data": {
      "text/plain": "array(['роботизированная', 'механическая', 'автоматическая', 'вариатор'],\n      dtype=object)"
     },
     "execution_count": 67,
     "metadata": {},
     "output_type": "execute_result"
    }
   ],
   "source": [
    "test.transmission.unique()"
   ],
   "metadata": {
    "collapsed": false,
    "pycharm": {
     "name": "#%%\n"
    }
   }
  },
  {
   "cell_type": "code",
   "execution_count": 68,
   "outputs": [
    {
     "data": {
      "text/plain": "array(['AUTOMATIC', 'ROBOT', 'MECHANICAL', 'VARIATOR'], dtype=object)"
     },
     "execution_count": 68,
     "metadata": {},
     "output_type": "execute_result"
    }
   ],
   "source": [
    "train.transmission.unique()"
   ],
   "metadata": {
    "collapsed": false,
    "pycharm": {
     "name": "#%%\n"
    }
   }
  },
  {
   "cell_type": "code",
   "execution_count": 69,
   "outputs": [
    {
     "data": {
      "text/plain": "AT     0.564954\nMT     0.207836\nCVT    0.115291\nAMT    0.111918\nName: transmission, dtype: float64"
     },
     "execution_count": 69,
     "metadata": {},
     "output_type": "execute_result"
    }
   ],
   "source": [
    "transmission_dict = {'AUTOMATIC':'AT', 'автоматическая':'AT', 'ROBOT': 'AMT', 'роботизированная':'AMT', 'MECHANICAL':'MT', 'механическая':'MT', 'VARIATOR':'CVT', 'вариатор':'CVT'}\n",
    "test.transmission = test.transmission.apply(lambda x: transmission_dict[x])\n",
    "train.transmission = train.transmission.apply(lambda x: transmission_dict[x])\n",
    "test.transmission.value_counts(normalize=True)"
   ],
   "metadata": {
    "collapsed": false,
    "pycharm": {
     "name": "#%%\n"
    }
   }
  },
  {
   "cell_type": "code",
   "execution_count": 70,
   "outputs": [
    {
     "data": {
      "text/plain": "AT     0.570674\nCVT    0.154406\nAMT    0.144631\nMT     0.130289\nName: transmission, dtype: float64"
     },
     "execution_count": 70,
     "metadata": {},
     "output_type": "execute_result"
    }
   ],
   "source": [
    "train.transmission.value_counts(normalize=True)"
   ],
   "metadata": {
    "collapsed": false,
    "pycharm": {
     "name": "#%%\n"
    }
   }
  },
  {
   "cell_type": "code",
   "execution_count": 71,
   "outputs": [
    {
     "data": {
      "text/plain": "array(['Оригинал', 'Дубликат', nan], dtype=object)"
     },
     "execution_count": 71,
     "metadata": {},
     "output_type": "execute_result"
    }
   ],
   "source": [
    "test.car_license.unique()"
   ],
   "metadata": {
    "collapsed": false,
    "pycharm": {
     "name": "#%%\n"
    }
   }
  },
  {
   "cell_type": "code",
   "execution_count": 72,
   "outputs": [
    {
     "data": {
      "text/plain": "        body brand                                                url  color  \\\n10412  седан   BMW  https://auto.ru/cars/used/sale/bmw/3er/3350400...  синий   \n\n       displacement  power fuel   mileage  model_year model  doors  \\\n10412           2.5  170.0    B  276000.0        1998   3ER      4   \n\n       manuf_year   sell_id transmission    vendor  num_owners car_license  \\\n10412        1999  33504008           AT  EUROPEAN           3         NaN   \n\n         gear steering body_type  \n10412  задний    Левый     sedan  ",
      "text/html": "<div>\n<style scoped>\n    .dataframe tbody tr th:only-of-type {\n        vertical-align: middle;\n    }\n\n    .dataframe tbody tr th {\n        vertical-align: top;\n    }\n\n    .dataframe thead th {\n        text-align: right;\n    }\n</style>\n<table border=\"1\" class=\"dataframe\">\n  <thead>\n    <tr style=\"text-align: right;\">\n      <th></th>\n      <th>body</th>\n      <th>brand</th>\n      <th>url</th>\n      <th>color</th>\n      <th>displacement</th>\n      <th>power</th>\n      <th>fuel</th>\n      <th>mileage</th>\n      <th>model_year</th>\n      <th>model</th>\n      <th>doors</th>\n      <th>manuf_year</th>\n      <th>sell_id</th>\n      <th>transmission</th>\n      <th>vendor</th>\n      <th>num_owners</th>\n      <th>car_license</th>\n      <th>gear</th>\n      <th>steering</th>\n      <th>body_type</th>\n    </tr>\n  </thead>\n  <tbody>\n    <tr>\n      <th>10412</th>\n      <td>седан</td>\n      <td>BMW</td>\n      <td>https://auto.ru/cars/used/sale/bmw/3er/3350400...</td>\n      <td>синий</td>\n      <td>2.5</td>\n      <td>170.0</td>\n      <td>B</td>\n      <td>276000.0</td>\n      <td>1998</td>\n      <td>3ER</td>\n      <td>4</td>\n      <td>1999</td>\n      <td>33504008</td>\n      <td>AT</td>\n      <td>EUROPEAN</td>\n      <td>3</td>\n      <td>NaN</td>\n      <td>задний</td>\n      <td>Левый</td>\n      <td>sedan</td>\n    </tr>\n  </tbody>\n</table>\n</div>"
     },
     "execution_count": 72,
     "metadata": {},
     "output_type": "execute_result"
    }
   ],
   "source": [
    "test.loc[test.car_license.isna()].head(10)"
   ],
   "metadata": {
    "collapsed": false,
    "pycharm": {
     "name": "#%%\n"
    }
   }
  },
  {
   "cell_type": "markdown",
   "source": [
    "В данном случае это просто пропуск значения. Заполним по аналогии с train."
   ],
   "metadata": {
    "collapsed": false
   }
  },
  {
   "cell_type": "code",
   "execution_count": 73,
   "outputs": [
    {
     "data": {
      "text/plain": "array(['ORIGINAL', 'DUPLICATE', nan], dtype=object)"
     },
     "execution_count": 73,
     "metadata": {},
     "output_type": "execute_result"
    }
   ],
   "source": [
    "train.car_license.unique()"
   ],
   "metadata": {
    "collapsed": false,
    "pycharm": {
     "name": "#%%\n"
    }
   }
  },
  {
   "cell_type": "code",
   "execution_count": 74,
   "outputs": [],
   "source": [
    "license_dict={'ORIGINAL':'ORG', 'Оригинал':'ORG', 'DUPLICATE':'DPL', 'Дубликат':'DPL'}"
   ],
   "metadata": {
    "collapsed": false,
    "pycharm": {
     "name": "#%%\n"
    }
   }
  },
  {
   "cell_type": "code",
   "source": [
    "train.loc[(train.num_owners==0)&train.car_license.isna()].head()"
   ],
   "metadata": {
    "collapsed": false,
    "pycharm": {
     "name": "#%%\n"
    }
   },
   "execution_count": 75,
   "outputs": [
    {
     "data": {
      "text/plain": "             body       brand  \\\n3397        седан         BMW   \n3940      лифтбек  VOLKSWAGEN   \n3946      лифтбек  VOLKSWAGEN   \n3960      лифтбек  VOLKSWAGEN   \n4963  внедорожник  VOLKSWAGEN   \n\n                                                    url        color  \\\n3397  https://auto.ru/cars/new/sale/bmw/8er/11053123...        синий   \n3940  https://auto.ru/cars/new/sale/volkswagen/polo/...        белый   \n3946  https://auto.ru/cars/new/sale/volkswagen/polo/...       чёрный   \n3960  https://auto.ru/cars/new/sale/volkswagen/polo/...  серебристый   \n4963  https://auto.ru/cars/new/sale/volkswagen/tigua...        синий   \n\n      displacement  power fuel  mileage  model_year   model  ...  manuf_year  \\\n3397           4.4  530.0    B     10.0        2018     8ER  ...        2021   \n3940           1.6  110.0    B     10.0        2020    POLO  ...        2021   \n3946           1.6  110.0    B     10.0        2020    POLO  ...        2021   \n3960           1.6  110.0    B     10.0        2020    POLO  ...        2021   \n4963           1.4  150.0    B     10.0        2020  TIGUAN  ...        2021   \n\n                  sell_id transmission    vendor num_owners  car_license  \\\n3397  1105312324-6da8535e           AT  EUROPEAN          0          NaN   \n3940  1105982265-b00cbcf5           AT  EUROPEAN          0          NaN   \n3946  1105956689-0c2d7fab           AT  EUROPEAN          0          NaN   \n3960  1105956428-d8af50d2           AT  EUROPEAN          0          NaN   \n4963  1105956483-a208d986          AMT  EUROPEAN          0          NaN   \n\n                 gear steering     price  body_type  \n3397  ALL_WHEEL_DRIVE     LEFT  11770600      sedan  \n3940  FORWARD_CONTROL     LEFT   1617196     f_back  \n3946  FORWARD_CONTROL     LEFT   1799742     f_back  \n3960  FORWARD_CONTROL     LEFT   1631811     f_back  \n4963  FORWARD_CONTROL     LEFT   3031372        SUV  \n\n[5 rows x 21 columns]",
      "text/html": "<div>\n<style scoped>\n    .dataframe tbody tr th:only-of-type {\n        vertical-align: middle;\n    }\n\n    .dataframe tbody tr th {\n        vertical-align: top;\n    }\n\n    .dataframe thead th {\n        text-align: right;\n    }\n</style>\n<table border=\"1\" class=\"dataframe\">\n  <thead>\n    <tr style=\"text-align: right;\">\n      <th></th>\n      <th>body</th>\n      <th>brand</th>\n      <th>url</th>\n      <th>color</th>\n      <th>displacement</th>\n      <th>power</th>\n      <th>fuel</th>\n      <th>mileage</th>\n      <th>model_year</th>\n      <th>model</th>\n      <th>...</th>\n      <th>manuf_year</th>\n      <th>sell_id</th>\n      <th>transmission</th>\n      <th>vendor</th>\n      <th>num_owners</th>\n      <th>car_license</th>\n      <th>gear</th>\n      <th>steering</th>\n      <th>price</th>\n      <th>body_type</th>\n    </tr>\n  </thead>\n  <tbody>\n    <tr>\n      <th>3397</th>\n      <td>седан</td>\n      <td>BMW</td>\n      <td>https://auto.ru/cars/new/sale/bmw/8er/11053123...</td>\n      <td>синий</td>\n      <td>4.4</td>\n      <td>530.0</td>\n      <td>B</td>\n      <td>10.0</td>\n      <td>2018</td>\n      <td>8ER</td>\n      <td>...</td>\n      <td>2021</td>\n      <td>1105312324-6da8535e</td>\n      <td>AT</td>\n      <td>EUROPEAN</td>\n      <td>0</td>\n      <td>NaN</td>\n      <td>ALL_WHEEL_DRIVE</td>\n      <td>LEFT</td>\n      <td>11770600</td>\n      <td>sedan</td>\n    </tr>\n    <tr>\n      <th>3940</th>\n      <td>лифтбек</td>\n      <td>VOLKSWAGEN</td>\n      <td>https://auto.ru/cars/new/sale/volkswagen/polo/...</td>\n      <td>белый</td>\n      <td>1.6</td>\n      <td>110.0</td>\n      <td>B</td>\n      <td>10.0</td>\n      <td>2020</td>\n      <td>POLO</td>\n      <td>...</td>\n      <td>2021</td>\n      <td>1105982265-b00cbcf5</td>\n      <td>AT</td>\n      <td>EUROPEAN</td>\n      <td>0</td>\n      <td>NaN</td>\n      <td>FORWARD_CONTROL</td>\n      <td>LEFT</td>\n      <td>1617196</td>\n      <td>f_back</td>\n    </tr>\n    <tr>\n      <th>3946</th>\n      <td>лифтбек</td>\n      <td>VOLKSWAGEN</td>\n      <td>https://auto.ru/cars/new/sale/volkswagen/polo/...</td>\n      <td>чёрный</td>\n      <td>1.6</td>\n      <td>110.0</td>\n      <td>B</td>\n      <td>10.0</td>\n      <td>2020</td>\n      <td>POLO</td>\n      <td>...</td>\n      <td>2021</td>\n      <td>1105956689-0c2d7fab</td>\n      <td>AT</td>\n      <td>EUROPEAN</td>\n      <td>0</td>\n      <td>NaN</td>\n      <td>FORWARD_CONTROL</td>\n      <td>LEFT</td>\n      <td>1799742</td>\n      <td>f_back</td>\n    </tr>\n    <tr>\n      <th>3960</th>\n      <td>лифтбек</td>\n      <td>VOLKSWAGEN</td>\n      <td>https://auto.ru/cars/new/sale/volkswagen/polo/...</td>\n      <td>серебристый</td>\n      <td>1.6</td>\n      <td>110.0</td>\n      <td>B</td>\n      <td>10.0</td>\n      <td>2020</td>\n      <td>POLO</td>\n      <td>...</td>\n      <td>2021</td>\n      <td>1105956428-d8af50d2</td>\n      <td>AT</td>\n      <td>EUROPEAN</td>\n      <td>0</td>\n      <td>NaN</td>\n      <td>FORWARD_CONTROL</td>\n      <td>LEFT</td>\n      <td>1631811</td>\n      <td>f_back</td>\n    </tr>\n    <tr>\n      <th>4963</th>\n      <td>внедорожник</td>\n      <td>VOLKSWAGEN</td>\n      <td>https://auto.ru/cars/new/sale/volkswagen/tigua...</td>\n      <td>синий</td>\n      <td>1.4</td>\n      <td>150.0</td>\n      <td>B</td>\n      <td>10.0</td>\n      <td>2020</td>\n      <td>TIGUAN</td>\n      <td>...</td>\n      <td>2021</td>\n      <td>1105956483-a208d986</td>\n      <td>AMT</td>\n      <td>EUROPEAN</td>\n      <td>0</td>\n      <td>NaN</td>\n      <td>FORWARD_CONTROL</td>\n      <td>LEFT</td>\n      <td>3031372</td>\n      <td>SUV</td>\n    </tr>\n  </tbody>\n</table>\n<p>5 rows × 21 columns</p>\n</div>"
     },
     "execution_count": 75,
     "metadata": {},
     "output_type": "execute_result"
    }
   ]
  },
  {
   "cell_type": "code",
   "execution_count": 76,
   "outputs": [
    {
     "data": {
      "text/plain": "Empty DataFrame\nColumns: [body, brand, url, color, displacement, power, fuel, mileage, model_year, model, doors, manuf_year, sell_id, transmission, vendor, num_owners, car_license, gear, steering, price, body_type]\nIndex: []\n\n[0 rows x 21 columns]",
      "text/html": "<div>\n<style scoped>\n    .dataframe tbody tr th:only-of-type {\n        vertical-align: middle;\n    }\n\n    .dataframe tbody tr th {\n        vertical-align: top;\n    }\n\n    .dataframe thead th {\n        text-align: right;\n    }\n</style>\n<table border=\"1\" class=\"dataframe\">\n  <thead>\n    <tr style=\"text-align: right;\">\n      <th></th>\n      <th>body</th>\n      <th>brand</th>\n      <th>url</th>\n      <th>color</th>\n      <th>displacement</th>\n      <th>power</th>\n      <th>fuel</th>\n      <th>mileage</th>\n      <th>model_year</th>\n      <th>model</th>\n      <th>...</th>\n      <th>manuf_year</th>\n      <th>sell_id</th>\n      <th>transmission</th>\n      <th>vendor</th>\n      <th>num_owners</th>\n      <th>car_license</th>\n      <th>gear</th>\n      <th>steering</th>\n      <th>price</th>\n      <th>body_type</th>\n    </tr>\n  </thead>\n  <tbody>\n  </tbody>\n</table>\n<p>0 rows × 21 columns</p>\n</div>"
     },
     "execution_count": 76,
     "metadata": {},
     "output_type": "execute_result"
    }
   ],
   "source": [
    "train.loc[(train.num_owners>0)&train.car_license.isna()].head()"
   ],
   "metadata": {
    "collapsed": false,
    "pycharm": {
     "name": "#%%\n"
    }
   }
  },
  {
   "cell_type": "code",
   "execution_count": 77,
   "outputs": [
    {
     "data": {
      "text/plain": "             body       brand  \\\n3397        седан         BMW   \n3940      лифтбек  VOLKSWAGEN   \n3946      лифтбек  VOLKSWAGEN   \n3960      лифтбек  VOLKSWAGEN   \n4963  внедорожник  VOLKSWAGEN   \n\n                                                    url        color  \\\n3397  https://auto.ru/cars/new/sale/bmw/8er/11053123...        синий   \n3940  https://auto.ru/cars/new/sale/volkswagen/polo/...        белый   \n3946  https://auto.ru/cars/new/sale/volkswagen/polo/...       чёрный   \n3960  https://auto.ru/cars/new/sale/volkswagen/polo/...  серебристый   \n4963  https://auto.ru/cars/new/sale/volkswagen/tigua...        синий   \n\n      displacement  power fuel  mileage  model_year   model  ...  manuf_year  \\\n3397           4.4  530.0    B     10.0        2018     8ER  ...        2021   \n3940           1.6  110.0    B     10.0        2020    POLO  ...        2021   \n3946           1.6  110.0    B     10.0        2020    POLO  ...        2021   \n3960           1.6  110.0    B     10.0        2020    POLO  ...        2021   \n4963           1.4  150.0    B     10.0        2020  TIGUAN  ...        2021   \n\n                  sell_id transmission    vendor num_owners  car_license  \\\n3397  1105312324-6da8535e           AT  EUROPEAN          0          NaN   \n3940  1105982265-b00cbcf5           AT  EUROPEAN          0          NaN   \n3946  1105956689-0c2d7fab           AT  EUROPEAN          0          NaN   \n3960  1105956428-d8af50d2           AT  EUROPEAN          0          NaN   \n4963  1105956483-a208d986          AMT  EUROPEAN          0          NaN   \n\n                 gear steering     price  body_type  \n3397  ALL_WHEEL_DRIVE     LEFT  11770600      sedan  \n3940  FORWARD_CONTROL     LEFT   1617196     f_back  \n3946  FORWARD_CONTROL     LEFT   1799742     f_back  \n3960  FORWARD_CONTROL     LEFT   1631811     f_back  \n4963  FORWARD_CONTROL     LEFT   3031372        SUV  \n\n[5 rows x 21 columns]",
      "text/html": "<div>\n<style scoped>\n    .dataframe tbody tr th:only-of-type {\n        vertical-align: middle;\n    }\n\n    .dataframe tbody tr th {\n        vertical-align: top;\n    }\n\n    .dataframe thead th {\n        text-align: right;\n    }\n</style>\n<table border=\"1\" class=\"dataframe\">\n  <thead>\n    <tr style=\"text-align: right;\">\n      <th></th>\n      <th>body</th>\n      <th>brand</th>\n      <th>url</th>\n      <th>color</th>\n      <th>displacement</th>\n      <th>power</th>\n      <th>fuel</th>\n      <th>mileage</th>\n      <th>model_year</th>\n      <th>model</th>\n      <th>...</th>\n      <th>manuf_year</th>\n      <th>sell_id</th>\n      <th>transmission</th>\n      <th>vendor</th>\n      <th>num_owners</th>\n      <th>car_license</th>\n      <th>gear</th>\n      <th>steering</th>\n      <th>price</th>\n      <th>body_type</th>\n    </tr>\n  </thead>\n  <tbody>\n    <tr>\n      <th>3397</th>\n      <td>седан</td>\n      <td>BMW</td>\n      <td>https://auto.ru/cars/new/sale/bmw/8er/11053123...</td>\n      <td>синий</td>\n      <td>4.4</td>\n      <td>530.0</td>\n      <td>B</td>\n      <td>10.0</td>\n      <td>2018</td>\n      <td>8ER</td>\n      <td>...</td>\n      <td>2021</td>\n      <td>1105312324-6da8535e</td>\n      <td>AT</td>\n      <td>EUROPEAN</td>\n      <td>0</td>\n      <td>NaN</td>\n      <td>ALL_WHEEL_DRIVE</td>\n      <td>LEFT</td>\n      <td>11770600</td>\n      <td>sedan</td>\n    </tr>\n    <tr>\n      <th>3940</th>\n      <td>лифтбек</td>\n      <td>VOLKSWAGEN</td>\n      <td>https://auto.ru/cars/new/sale/volkswagen/polo/...</td>\n      <td>белый</td>\n      <td>1.6</td>\n      <td>110.0</td>\n      <td>B</td>\n      <td>10.0</td>\n      <td>2020</td>\n      <td>POLO</td>\n      <td>...</td>\n      <td>2021</td>\n      <td>1105982265-b00cbcf5</td>\n      <td>AT</td>\n      <td>EUROPEAN</td>\n      <td>0</td>\n      <td>NaN</td>\n      <td>FORWARD_CONTROL</td>\n      <td>LEFT</td>\n      <td>1617196</td>\n      <td>f_back</td>\n    </tr>\n    <tr>\n      <th>3946</th>\n      <td>лифтбек</td>\n      <td>VOLKSWAGEN</td>\n      <td>https://auto.ru/cars/new/sale/volkswagen/polo/...</td>\n      <td>чёрный</td>\n      <td>1.6</td>\n      <td>110.0</td>\n      <td>B</td>\n      <td>10.0</td>\n      <td>2020</td>\n      <td>POLO</td>\n      <td>...</td>\n      <td>2021</td>\n      <td>1105956689-0c2d7fab</td>\n      <td>AT</td>\n      <td>EUROPEAN</td>\n      <td>0</td>\n      <td>NaN</td>\n      <td>FORWARD_CONTROL</td>\n      <td>LEFT</td>\n      <td>1799742</td>\n      <td>f_back</td>\n    </tr>\n    <tr>\n      <th>3960</th>\n      <td>лифтбек</td>\n      <td>VOLKSWAGEN</td>\n      <td>https://auto.ru/cars/new/sale/volkswagen/polo/...</td>\n      <td>серебристый</td>\n      <td>1.6</td>\n      <td>110.0</td>\n      <td>B</td>\n      <td>10.0</td>\n      <td>2020</td>\n      <td>POLO</td>\n      <td>...</td>\n      <td>2021</td>\n      <td>1105956428-d8af50d2</td>\n      <td>AT</td>\n      <td>EUROPEAN</td>\n      <td>0</td>\n      <td>NaN</td>\n      <td>FORWARD_CONTROL</td>\n      <td>LEFT</td>\n      <td>1631811</td>\n      <td>f_back</td>\n    </tr>\n    <tr>\n      <th>4963</th>\n      <td>внедорожник</td>\n      <td>VOLKSWAGEN</td>\n      <td>https://auto.ru/cars/new/sale/volkswagen/tigua...</td>\n      <td>синий</td>\n      <td>1.4</td>\n      <td>150.0</td>\n      <td>B</td>\n      <td>10.0</td>\n      <td>2020</td>\n      <td>TIGUAN</td>\n      <td>...</td>\n      <td>2021</td>\n      <td>1105956483-a208d986</td>\n      <td>AMT</td>\n      <td>EUROPEAN</td>\n      <td>0</td>\n      <td>NaN</td>\n      <td>FORWARD_CONTROL</td>\n      <td>LEFT</td>\n      <td>3031372</td>\n      <td>SUV</td>\n    </tr>\n  </tbody>\n</table>\n<p>5 rows × 21 columns</p>\n</div>"
     },
     "execution_count": 77,
     "metadata": {},
     "output_type": "execute_result"
    }
   ],
   "source": [
    "train.loc[(train.car_license.isna())].head()"
   ],
   "metadata": {
    "collapsed": false,
    "pycharm": {
     "name": "#%%\n"
    }
   }
  },
  {
   "cell_type": "markdown",
   "source": [
    "Оказалось, что при отсутствии владельца в графу ПТС может быть внесена ошибочная информация. Заполняю пропуски на ORIGINAL"
   ],
   "metadata": {
    "collapsed": false
   }
  },
  {
   "cell_type": "code",
   "execution_count": 78,
   "outputs": [
    {
     "data": {
      "text/plain": "ORG    0.867756\nDPL    0.132244\nName: car_license, dtype: float64"
     },
     "execution_count": 78,
     "metadata": {},
     "output_type": "execute_result"
    }
   ],
   "source": [
    "train.car_license.fillna('ORIGINAL', inplace=True)\n",
    "train.car_license = train.car_license.apply(lambda x: license_dict[x])\n",
    "test.car_license.fillna('ORIGINAL', inplace=True)\n",
    "test.car_license = test.car_license.apply(lambda x: license_dict[x])\n",
    "\n",
    "test.car_license.value_counts(normalize=True)"
   ],
   "metadata": {
    "collapsed": false,
    "pycharm": {
     "name": "#%%\n"
    }
   }
  },
  {
   "cell_type": "code",
   "execution_count": 79,
   "outputs": [
    {
     "data": {
      "text/plain": "ORG    0.906553\nDPL    0.093447\nName: car_license, dtype: float64"
     },
     "execution_count": 79,
     "metadata": {},
     "output_type": "execute_result"
    }
   ],
   "source": [
    "train.car_license.value_counts(normalize=True)"
   ],
   "metadata": {
    "collapsed": false,
    "pycharm": {
     "name": "#%%\n"
    }
   }
  },
  {
   "cell_type": "code",
   "execution_count": 80,
   "outputs": [
    {
     "data": {
      "text/plain": "array(['ALL_WHEEL_DRIVE', 'REAR_DRIVE', 'FORWARD_CONTROL'], dtype=object)"
     },
     "execution_count": 80,
     "metadata": {},
     "output_type": "execute_result"
    }
   ],
   "source": [
    "train.gear.unique()"
   ],
   "metadata": {
    "collapsed": false,
    "pycharm": {
     "name": "#%%\n"
    }
   }
  },
  {
   "cell_type": "code",
   "execution_count": 81,
   "outputs": [
    {
     "data": {
      "text/plain": "array(['передний', 'полный', 'задний'], dtype=object)"
     },
     "execution_count": 81,
     "metadata": {},
     "output_type": "execute_result"
    }
   ],
   "source": [
    "test.gear.unique()"
   ],
   "metadata": {
    "collapsed": false,
    "pycharm": {
     "name": "#%%\n"
    }
   }
  },
  {
   "cell_type": "code",
   "execution_count": 82,
   "outputs": [
    {
     "data": {
      "text/plain": "['ALL_WHEEL_DRIVE', 'REAR_DRIVE', 'FORWARD_CONTROL']"
     },
     "execution_count": 82,
     "metadata": {},
     "output_type": "execute_result"
    }
   ],
   "source": [
    "l=list(train.gear.unique()); l"
   ],
   "metadata": {
    "collapsed": false,
    "pycharm": {
     "name": "#%%\n"
    }
   }
  },
  {
   "cell_type": "code",
   "execution_count": 83,
   "outputs": [
    {
     "data": {
      "text/plain": "AWD    0.547794\nFWD    0.388560\nRWD    0.063646\nName: gear, dtype: float64"
     },
     "execution_count": 83,
     "metadata": {},
     "output_type": "execute_result"
    }
   ],
   "source": [
    "gear_dict = {'REAR_DRIVE':'RWD', 'ALL_WHEEL_DRIVE':'AWD', 'FORWARD_CONTROL': 'FWD', 'задний':'RWD', 'полный':'AWD', 'передний': 'FWD'}\n",
    "train.gear = train.gear.apply(lambda x: gear_dict[x])\n",
    "test.gear = test.gear.apply(lambda x: gear_dict[x])\n",
    "train.gear.value_counts(normalize=True)"
   ],
   "metadata": {
    "collapsed": false,
    "pycharm": {
     "name": "#%%\n"
    }
   }
  },
  {
   "cell_type": "code",
   "execution_count": 84,
   "outputs": [
    {
     "data": {
      "text/plain": "FWD    0.448740\nAWD    0.433028\nRWD    0.118232\nName: gear, dtype: float64"
     },
     "execution_count": 84,
     "metadata": {},
     "output_type": "execute_result"
    }
   ],
   "source": [
    "test.gear.value_counts(normalize=True)"
   ],
   "metadata": {
    "collapsed": false,
    "pycharm": {
     "name": "#%%\n"
    }
   }
  },
  {
   "cell_type": "code",
   "execution_count": 85,
   "outputs": [
    {
     "data": {
      "text/plain": "array(['LEFT', 'RIGHT'], dtype=object)"
     },
     "execution_count": 85,
     "metadata": {},
     "output_type": "execute_result"
    }
   ],
   "source": [
    "train.steering.unique()"
   ],
   "metadata": {
    "collapsed": false,
    "pycharm": {
     "name": "#%%\n"
    }
   }
  },
  {
   "cell_type": "code",
   "execution_count": 86,
   "outputs": [
    {
     "data": {
      "text/plain": "array(['Левый', 'Правый'], dtype=object)"
     },
     "execution_count": 86,
     "metadata": {},
     "output_type": "execute_result"
    }
   ],
   "source": [
    "test.steering.unique()"
   ],
   "metadata": {
    "collapsed": false,
    "pycharm": {
     "name": "#%%\n"
    }
   }
  },
  {
   "cell_type": "code",
   "execution_count": 87,
   "outputs": [
    {
     "data": {
      "text/plain": "L    0.959667\nR    0.040333\nName: steering, dtype: float64"
     },
     "execution_count": 87,
     "metadata": {},
     "output_type": "execute_result"
    }
   ],
   "source": [
    "steering_dict = {'LEFT':'L', 'RIGHT':'R', 'Левый':'L', 'Правый':'R'}\n",
    "test.steering = test.steering.apply(lambda x: steering_dict[x])\n",
    "train.steering = train.steering.apply(lambda x: steering_dict[x])\n",
    "test.steering.value_counts(normalize=True)"
   ],
   "metadata": {
    "collapsed": false,
    "pycharm": {
     "name": "#%%\n"
    }
   }
  },
  {
   "cell_type": "code",
   "execution_count": 88,
   "outputs": [
    {
     "data": {
      "text/plain": "L    0.974908\nR    0.025092\nName: steering, dtype: float64"
     },
     "execution_count": 88,
     "metadata": {},
     "output_type": "execute_result"
    }
   ],
   "source": [
    "train.steering.value_counts(normalize=True)"
   ],
   "metadata": {
    "collapsed": false,
    "pycharm": {
     "name": "#%%\n"
    }
   }
  },
  {
   "cell_type": "code",
   "execution_count": 89,
   "outputs": [
    {
     "data": {
      "text/plain": "EUROPEAN    0.596264\nJAPANESE    0.403736\nName: vendor, dtype: float64"
     },
     "execution_count": 89,
     "metadata": {},
     "output_type": "execute_result"
    }
   ],
   "source": [
    "test.vendor.value_counts(normalize=True)"
   ],
   "metadata": {
    "collapsed": false,
    "pycharm": {
     "name": "#%%\n"
    }
   }
  },
  {
   "cell_type": "code",
   "execution_count": 90,
   "outputs": [
    {
     "data": {
      "text/plain": "EUROPEAN    0.587252\nJAPANESE    0.412701\nAMERICAN    0.000048\nName: vendor, dtype: float64"
     },
     "execution_count": 90,
     "metadata": {},
     "output_type": "execute_result"
    }
   ],
   "source": [
    "train.vendor.value_counts(normalize=True)"
   ],
   "metadata": {
    "collapsed": false,
    "pycharm": {
     "name": "#%%\n"
    }
   }
  },
  {
   "cell_type": "code",
   "execution_count": 91,
   "outputs": [
    {
     "data": {
      "text/plain": "         body       brand                                                url  \\\n5197  минивэн  VOLKSWAGEN  https://auto.ru/cars/used/sale/volkswagen/euro...   \n6646  минивэн  VOLKSWAGEN  https://auto.ru/cars/used/sale/volkswagen/euro...   \n\n        color  displacement  power fuel   mileage  model_year    model  ...  \\\n5197  зелёный           2.8  201.0    B  388500.0        1997  EUROVAN  ...   \n6646    синий           2.8  201.0    B  240082.0        1997  EUROVAN  ...   \n\n      manuf_year              sell_id transmission    vendor num_owners  \\\n5197        2002  1105556887-b2652d4d           AT  AMERICAN          3   \n6646        2002  1105220954-e7371936           AT  AMERICAN          3   \n\n      car_license gear steering   price  body_type  \n5197          ORG  FWD        L  650000        MPV  \n6646          ORG  FWD        L  770000        MPV  \n\n[2 rows x 21 columns]",
      "text/html": "<div>\n<style scoped>\n    .dataframe tbody tr th:only-of-type {\n        vertical-align: middle;\n    }\n\n    .dataframe tbody tr th {\n        vertical-align: top;\n    }\n\n    .dataframe thead th {\n        text-align: right;\n    }\n</style>\n<table border=\"1\" class=\"dataframe\">\n  <thead>\n    <tr style=\"text-align: right;\">\n      <th></th>\n      <th>body</th>\n      <th>brand</th>\n      <th>url</th>\n      <th>color</th>\n      <th>displacement</th>\n      <th>power</th>\n      <th>fuel</th>\n      <th>mileage</th>\n      <th>model_year</th>\n      <th>model</th>\n      <th>...</th>\n      <th>manuf_year</th>\n      <th>sell_id</th>\n      <th>transmission</th>\n      <th>vendor</th>\n      <th>num_owners</th>\n      <th>car_license</th>\n      <th>gear</th>\n      <th>steering</th>\n      <th>price</th>\n      <th>body_type</th>\n    </tr>\n  </thead>\n  <tbody>\n    <tr>\n      <th>5197</th>\n      <td>минивэн</td>\n      <td>VOLKSWAGEN</td>\n      <td>https://auto.ru/cars/used/sale/volkswagen/euro...</td>\n      <td>зелёный</td>\n      <td>2.8</td>\n      <td>201.0</td>\n      <td>B</td>\n      <td>388500.0</td>\n      <td>1997</td>\n      <td>EUROVAN</td>\n      <td>...</td>\n      <td>2002</td>\n      <td>1105556887-b2652d4d</td>\n      <td>AT</td>\n      <td>AMERICAN</td>\n      <td>3</td>\n      <td>ORG</td>\n      <td>FWD</td>\n      <td>L</td>\n      <td>650000</td>\n      <td>MPV</td>\n    </tr>\n    <tr>\n      <th>6646</th>\n      <td>минивэн</td>\n      <td>VOLKSWAGEN</td>\n      <td>https://auto.ru/cars/used/sale/volkswagen/euro...</td>\n      <td>синий</td>\n      <td>2.8</td>\n      <td>201.0</td>\n      <td>B</td>\n      <td>240082.0</td>\n      <td>1997</td>\n      <td>EUROVAN</td>\n      <td>...</td>\n      <td>2002</td>\n      <td>1105220954-e7371936</td>\n      <td>AT</td>\n      <td>AMERICAN</td>\n      <td>3</td>\n      <td>ORG</td>\n      <td>FWD</td>\n      <td>L</td>\n      <td>770000</td>\n      <td>MPV</td>\n    </tr>\n  </tbody>\n</table>\n<p>2 rows × 21 columns</p>\n</div>"
     },
     "execution_count": 91,
     "metadata": {},
     "output_type": "execute_result"
    }
   ],
   "source": [
    "train.loc[train.vendor=='AMERICAN'].head()"
   ],
   "metadata": {
    "collapsed": false,
    "pycharm": {
     "name": "#%%\n"
    }
   }
  },
  {
   "cell_type": "markdown",
   "source": [
    "В train и test представлены только европейские и японские автомобили. Фургоны модели Eurovan выпускались VW для американского рынка. Но в данном случае есть всего две записи с таким значением, что является выбросом. Откорректирую их на европейцев."
   ],
   "metadata": {
    "collapsed": false
   }
  },
  {
   "cell_type": "code",
   "execution_count": 92,
   "outputs": [
    {
     "data": {
      "text/plain": "EUROPEAN    0.587299\nJAPANESE    0.412701\nName: vendor, dtype: float64"
     },
     "execution_count": 92,
     "metadata": {},
     "output_type": "execute_result"
    }
   ],
   "source": [
    "train.vendor = train.vendor.apply(lambda x: 'EUROPEAN' if x == 'AMERICAN' else x)\n",
    "train.vendor.value_counts(normalize=True)"
   ],
   "metadata": {
    "collapsed": false,
    "pycharm": {
     "name": "#%%\n"
    }
   }
  },
  {
   "cell_type": "code",
   "execution_count": 93,
   "outputs": [
    {
     "name": "stdout",
     "output_type": "stream",
     "text": [
      "<class 'pandas.core.frame.DataFrame'>\n",
      "Int64Index: 42045 entries, 0 to 42045\n",
      "Data columns (total 21 columns):\n",
      " #   Column        Non-Null Count  Dtype  \n",
      "---  ------        --------------  -----  \n",
      " 0   body          42045 non-null  object \n",
      " 1   brand         42045 non-null  object \n",
      " 2   url           42045 non-null  object \n",
      " 3   color         42045 non-null  object \n",
      " 4   displacement  42045 non-null  float64\n",
      " 5   power         42045 non-null  float64\n",
      " 6   fuel          42045 non-null  object \n",
      " 7   mileage       42045 non-null  float64\n",
      " 8   model_year    42045 non-null  int64  \n",
      " 9   model         42045 non-null  object \n",
      " 10  doors         42045 non-null  int64  \n",
      " 11  manuf_year    42045 non-null  int64  \n",
      " 12  sell_id       42045 non-null  object \n",
      " 13  transmission  42045 non-null  object \n",
      " 14  vendor        42045 non-null  object \n",
      " 15  num_owners    42045 non-null  int64  \n",
      " 16  car_license   42045 non-null  object \n",
      " 17  gear          42045 non-null  object \n",
      " 18  steering      42045 non-null  object \n",
      " 19  price         42045 non-null  int64  \n",
      " 20  body_type     42045 non-null  object \n",
      "dtypes: float64(3), int64(5), object(13)\n",
      "memory usage: 7.1+ MB\n"
     ]
    }
   ],
   "source": [
    "train.info()"
   ],
   "metadata": {
    "collapsed": false,
    "pycharm": {
     "name": "#%%\n"
    }
   }
  },
  {
   "cell_type": "markdown",
   "source": [
    "После проведенных обработок еще раз посмотрю на исходные данные с помощью генератора отчетов."
   ],
   "metadata": {
    "collapsed": false
   }
  },
  {
   "cell_type": "code",
   "execution_count": 94,
   "outputs": [],
   "source": [
    "# train_profile =  train.profile_report()\n",
    "# train_profile.to_file(\"12 Brans Train Review Upd.html\")"
   ],
   "metadata": {
    "collapsed": false,
    "pycharm": {
     "name": "#%%\n"
    }
   }
  },
  {
   "cell_type": "markdown",
   "source": [
    "Выводы - ошибка исходных данных (не поддерживаемые типы данных) устранена.  В таблице много коррелирующих признаков.  Разделим все признаки по типам"
   ],
   "metadata": {
    "collapsed": false
   }
  },
  {
   "cell_type": "code",
   "execution_count": 95,
   "outputs": [
    {
     "data": {
      "text/plain": "Index(['body', 'brand', 'url', 'color', 'displacement', 'power', 'fuel',\n       'mileage', 'model_year', 'model', 'doors', 'manuf_year', 'sell_id',\n       'transmission', 'vendor', 'num_owners', 'car_license', 'gear',\n       'steering', 'price', 'body_type'],\n      dtype='object')"
     },
     "execution_count": 95,
     "metadata": {},
     "output_type": "execute_result"
    }
   ],
   "source": [
    "train.columns"
   ],
   "metadata": {
    "collapsed": false,
    "pycharm": {
     "name": "#%%\n"
    }
   }
  },
  {
   "cell_type": "code",
   "execution_count": 96,
   "outputs": [],
   "source": [
    "target = ['price']\n",
    "cat_cols = ['brand', 'color', 'fuel', 'model', 'doors', 'transmission', 'vendor', 'num_owners',  'car_license', 'gear', 'steering', 'body_type']\n",
    "num_cols = [ 'displacement', 'power', 'mileage', 'model_year','manuf_year' ]\n",
    "help_cols = ['sell_id','body','url', ]"
   ],
   "metadata": {
    "collapsed": false,
    "pycharm": {
     "name": "#%%\n"
    }
   }
  },
  {
   "cell_type": "markdown",
   "source": [
    "Проверим корреляцию"
   ],
   "metadata": {
    "collapsed": false
   }
  },
  {
   "cell_type": "code",
   "execution_count": 97,
   "outputs": [],
   "source": [
    "plt.figure(figsize=(15, 8))\n",
    "sns.heatmap(train[num_cols + target].corr().abs(), vmin=0, vmax=1, annot=True);"
   ],
   "metadata": {
    "collapsed": false,
    "pycharm": {
     "name": "#%%\n"
    }
   }
  },
  {
   "cell_type": "markdown",
   "source": [
    "Здесь у меня не было графика - модули отказались \"рисовать\"."
   ],
   "metadata": {
    "collapsed": false
   }
  },
  {
   "cell_type": "code",
   "execution_count": 98,
   "outputs": [
    {
     "data": {
      "text/plain": "              displacement     power   mileage  model_year  manuf_year  \\\ndisplacement      1.000000  0.752856  0.088105   -0.048290   -0.068342   \npower             0.752856  1.000000 -0.170633    0.215469    0.189726   \nmileage           0.088105 -0.170633  1.000000   -0.784805   -0.807301   \nmodel_year       -0.048290  0.215469 -0.784805    1.000000    0.979226   \nmanuf_year       -0.068342  0.189726 -0.807301    0.979226    1.000000   \nprice             0.321948  0.636815 -0.490443    0.471123    0.477412   \n\n                 price  \ndisplacement  0.321948  \npower         0.636815  \nmileage      -0.490443  \nmodel_year    0.471123  \nmanuf_year    0.477412  \nprice         1.000000  ",
      "text/html": "<div>\n<style scoped>\n    .dataframe tbody tr th:only-of-type {\n        vertical-align: middle;\n    }\n\n    .dataframe tbody tr th {\n        vertical-align: top;\n    }\n\n    .dataframe thead th {\n        text-align: right;\n    }\n</style>\n<table border=\"1\" class=\"dataframe\">\n  <thead>\n    <tr style=\"text-align: right;\">\n      <th></th>\n      <th>displacement</th>\n      <th>power</th>\n      <th>mileage</th>\n      <th>model_year</th>\n      <th>manuf_year</th>\n      <th>price</th>\n    </tr>\n  </thead>\n  <tbody>\n    <tr>\n      <th>displacement</th>\n      <td>1.000000</td>\n      <td>0.752856</td>\n      <td>0.088105</td>\n      <td>-0.048290</td>\n      <td>-0.068342</td>\n      <td>0.321948</td>\n    </tr>\n    <tr>\n      <th>power</th>\n      <td>0.752856</td>\n      <td>1.000000</td>\n      <td>-0.170633</td>\n      <td>0.215469</td>\n      <td>0.189726</td>\n      <td>0.636815</td>\n    </tr>\n    <tr>\n      <th>mileage</th>\n      <td>0.088105</td>\n      <td>-0.170633</td>\n      <td>1.000000</td>\n      <td>-0.784805</td>\n      <td>-0.807301</td>\n      <td>-0.490443</td>\n    </tr>\n    <tr>\n      <th>model_year</th>\n      <td>-0.048290</td>\n      <td>0.215469</td>\n      <td>-0.784805</td>\n      <td>1.000000</td>\n      <td>0.979226</td>\n      <td>0.471123</td>\n    </tr>\n    <tr>\n      <th>manuf_year</th>\n      <td>-0.068342</td>\n      <td>0.189726</td>\n      <td>-0.807301</td>\n      <td>0.979226</td>\n      <td>1.000000</td>\n      <td>0.477412</td>\n    </tr>\n    <tr>\n      <th>price</th>\n      <td>0.321948</td>\n      <td>0.636815</td>\n      <td>-0.490443</td>\n      <td>0.471123</td>\n      <td>0.477412</td>\n      <td>1.000000</td>\n    </tr>\n  </tbody>\n</table>\n</div>"
     },
     "execution_count": 98,
     "metadata": {},
     "output_type": "execute_result"
    }
   ],
   "source": [
    "train[num_cols+target].corr()"
   ],
   "metadata": {
    "collapsed": false,
    "pycharm": {
     "name": "#%%\n"
    }
   }
  },
  {
   "cell_type": "markdown",
   "source": [
    "Похоже, что существенная корреляция между model_year и manuf_year будет мешать. Есть смысл в будущем сделать разницу между модельным годом и годом выпуска.\n",
    "\n",
    "Примечание.  В данном случае была невыявлена еще одна ошибка. Если в сборе данных была допущена ошибка и в столбцах будут содержатся данные разных типов - происходит \"магическое\" воздействие на модули построения графики и они перестают работать.   Пришлось сначала убрать ошибку из исходных данных и пересохранить их, и тогда графики стали отображаться."
   ],
   "metadata": {
    "collapsed": false
   }
  },
  {
   "cell_type": "code",
   "execution_count": 99,
   "outputs": [],
   "source": [
    "num_cols = [ 'displacement', 'power', 'mileage', 'manuf_year' ]"
   ],
   "metadata": {
    "collapsed": false,
    "pycharm": {
     "name": "#%%\n"
    }
   }
  },
  {
   "cell_type": "markdown",
   "source": [
    "#### Кодирование категориальных переменных"
   ],
   "metadata": {
    "collapsed": false
   }
  },
  {
   "cell_type": "code",
   "execution_count": 100,
   "outputs": [],
   "source": [
    "for colum in cat_cols:\n",
    "    train[colum] = train[colum].astype('category').cat.codes\n"
   ],
   "metadata": {
    "collapsed": false,
    "pycharm": {
     "name": "#%%\n"
    }
   }
  },
  {
   "cell_type": "code",
   "execution_count": 101,
   "outputs": [
    {
     "name": "stdout",
     "output_type": "stream",
     "text": [
      "<class 'pandas.core.frame.DataFrame'>\n",
      "Int64Index: 42045 entries, 0 to 42045\n",
      "Data columns (total 16 columns):\n",
      " #   Column        Non-Null Count  Dtype  \n",
      "---  ------        --------------  -----  \n",
      " 0   displacement  42045 non-null  float64\n",
      " 1   power         42045 non-null  float64\n",
      " 2   mileage       42045 non-null  float64\n",
      " 3   manuf_year    42045 non-null  int64  \n",
      " 4   brand         42045 non-null  int8   \n",
      " 5   color         42045 non-null  int8   \n",
      " 6   fuel          42045 non-null  int8   \n",
      " 7   model         42045 non-null  int16  \n",
      " 8   doors         42045 non-null  int8   \n",
      " 9   transmission  42045 non-null  int8   \n",
      " 10  vendor        42045 non-null  int8   \n",
      " 11  num_owners    42045 non-null  int8   \n",
      " 12  car_license   42045 non-null  int8   \n",
      " 13  gear          42045 non-null  int8   \n",
      " 14  steering      42045 non-null  int8   \n",
      " 15  body_type     42045 non-null  int8   \n",
      "dtypes: float64(3), int16(1), int64(1), int8(11)\n",
      "memory usage: 2.1 MB\n"
     ]
    }
   ],
   "source": [
    "X = train[num_cols+cat_cols]\n",
    "y = train.price\n",
    "X.info()"
   ],
   "metadata": {
    "collapsed": false,
    "pycharm": {
     "name": "#%%\n"
    }
   }
  },
  {
   "cell_type": "code",
   "execution_count": 102,
   "outputs": [],
   "source": [
    "X_train, X_test, y_train, y_test = train_test_split( X, y, test_size=0.2, shuffle=True, random_state=42)"
   ],
   "metadata": {
    "collapsed": false,
    "pycharm": {
     "name": "#%%\n"
    }
   }
  },
  {
   "cell_type": "markdown",
   "source": [
    "Обучение некоторых моделей"
   ],
   "metadata": {
    "collapsed": false
   }
  },
  {
   "cell_type": "code",
   "execution_count": 103,
   "outputs": [
    {
     "name": "stderr",
     "output_type": "stream",
     "text": [
      "[Parallel(n_jobs=-1)]: Using backend ThreadingBackend with 8 concurrent workers.\n",
      "[Parallel(n_jobs=-1)]: Done  34 tasks      | elapsed:    1.0s\n",
      "[Parallel(n_jobs=-1)]: Done 100 out of 100 | elapsed:    2.5s finished\n",
      "[Parallel(n_jobs=8)]: Using backend ThreadingBackend with 8 concurrent workers.\n",
      "[Parallel(n_jobs=8)]: Done  34 tasks      | elapsed:    0.0s\n",
      "[Parallel(n_jobs=8)]: Done 100 out of 100 | elapsed:    0.1s finished\n",
      "[Parallel(n_jobs=-1)]: Using backend ThreadingBackend with 8 concurrent workers.\n"
     ]
    },
    {
     "name": "stdout",
     "output_type": "stream",
     "text": [
      "The MAPE mertics of the Random Forest model: 13.16%.\n"
     ]
    },
    {
     "name": "stderr",
     "output_type": "stream",
     "text": [
      "[Parallel(n_jobs=-1)]: Done  34 tasks      | elapsed:    0.9s\n"
     ]
    },
    {
     "name": "stdout",
     "output_type": "stream",
     "text": [
      "The MAPE mertic for the Random Forest model on ln(price) : 11.58%.\n"
     ]
    },
    {
     "name": "stderr",
     "output_type": "stream",
     "text": [
      "[Parallel(n_jobs=-1)]: Done 100 out of 100 | elapsed:    2.2s finished\n",
      "[Parallel(n_jobs=8)]: Using backend ThreadingBackend with 8 concurrent workers.\n",
      "[Parallel(n_jobs=8)]: Done  34 tasks      | elapsed:    0.0s\n",
      "[Parallel(n_jobs=8)]: Done 100 out of 100 | elapsed:    0.1s finished\n"
     ]
    }
   ],
   "source": [
    "rfr = RandomForestRegressor(random_state=42, n_jobs=-1, verbose=1)\n",
    "rfr.fit(X_train, y_train)\n",
    "predict_rf = rfr.predict(X_test)\n",
    "\n",
    "print(f\"The MAPE mertics of the Random Forest model: {(mape(y_test, predict_rf) * 100):0.2f}%.\")\n",
    "\n",
    "rfr_log = RandomForestRegressor(random_state=42, n_jobs=-1, verbose=1)\n",
    "rfr_log.fit(X_train, np.log(y_train))\n",
    "predict_rf_log = np.exp(rfr_log.predict(X_test))\n",
    "\n",
    "print(f\"The MAPE mertic for the Random Forest model on ln(price) : {(mape(y_test, predict_rf_log) * 100):0.2f}%.\")"
   ],
   "metadata": {
    "collapsed": false,
    "pycharm": {
     "name": "#%%\n"
    }
   }
  },
  {
   "cell_type": "markdown",
   "source": [
    "Получен хороший промежуточный результат.  Метрика для RandomForestRegressor для случая натурального логарифмирования цены оказалась на уровне 11.58%  (В прошлой итерации у меня был признак location, который сейчас стерт, так как отсутствует в test и метрика была еще лучше - 11.26%)\n",
    "Задача состоит в том, чтобы сделать функцию-трансформер для данных, применить ее к большому набору из 36 брендов и посмотреть на изменение итогового результата."
   ],
   "metadata": {
    "collapsed": false
   }
  },
  {
   "cell_type": "code",
   "execution_count": 131,
   "outputs": [],
   "source": [
    "def initial_transformation(data):\n",
    "\n",
    "    rename_dict= {'bodyType':'body', 'car_url': 'url', 'engineDisplacement':'displacement', 'enginePower':'power',  'fuelType':'fuel', 'modelDate':'model_year', 'model_name':'model', 'numberOfDoors': 'doors', 'priceCurrency':'curr', 'productionDate':'manuf_year', 'vehicleConfiguration' : 'configuration', 'vehicleTransmission': 'transmission', 'Владельцы':'num_owners', 'Владение':'ownership', 'ПТС':'car_license', 'Привод':'gear', 'Руль':'steering', 'Состояние':'condition', 'Таможня':'duties'}\n",
    "    data.rename( columns= rename_dict, inplace=True)\n",
    "\n",
    "    # print(data.columns)\n",
    "    cols2drop = ['image', 'parsing_unixtime', 'description', 'name', 'complectation_dict', 'equipment_dict', 'model_info', 'curr', 'super_gen', 'configuration', 'condition', 'duties', 'ownership']\n",
    "    data.drop(cols2drop, axis=1, inplace=True )\n",
    "    if 'location' in data.columns:\n",
    "        data.drop(['location'], axis=1, inplace=True)\n",
    "\n",
    "\n",
    "    data.body = data.body.apply(lambda x: x.lower().split()[0].strip() if isinstance(x, str) else x)\n",
    "    bt = 'bodytype'; btl = list(data.body.unique())\n",
    "    if bt in btl :\n",
    "        data.drop(data.loc[data.body==bt].index, inplace=True)\n",
    "    # print(list(data.body.unique()))\n",
    "    body_dict = {'кабриолет': 'coupe', 'седан': 'sedan', 'внедорожник': 'SUV', 'купе': 'coupe', 'родстер': 'coupe',\n",
    "                 'хэтчбек': 'f_back', 'лифтбек': 'f_back', 'универсал': 'wagon', 'пикап': 'SUV', 'минивэн': 'MPV',\n",
    "                 'компактвэн': 'MPV', 'купе-хардтоп': 'coupe', 'фургон': 'MPV', 'микровэн': 'MPV', 'тарга': 'coupe', 'фастбек': 'f_back', 'лимузин': 'sedan', 'седан-хардтоп': 'sedan'}\n",
    "    data['body_type'] = data['body'].apply(lambda x: body_dict[x])\n",
    "    data.brand = data.brand.apply(lambda x: x.upper())\n",
    "    data.brand = data.brand.apply(lambda x: 'MERCEDES-BENZ' if x == 'MERCEDES' else x)\n",
    "    color_dict = {'040001': 'чёрный', 'FAFBFB': 'белый', '97948F': 'серый', 'CACECB': 'серебристый', '0000CC': 'синий',\n",
    "              '200204': 'коричневый', 'EE1D19': 'красный', '007F00': 'зелёный', 'C49648': 'бежевый',\n",
    "              '22A0F8': 'голубой', '660099': 'пурпурный', 'DEA522': 'золотистый', '4A2197': 'фиолетовый',\n",
    "              'FFD600': 'жёлтый', 'FF8649': 'оранжевый', 'FFC0CB': 'розовый'}\n",
    "    data.color.replace(to_replace=color_dict, inplace=True)\n",
    "    data.displacement = data.displacement.apply(lambda x: x.replace(\" LTR\", \"0.0 LTR\") if x == \" LTR\" else x)\n",
    "    data.displacement = data.displacement.apply(lambda x: float(x.replace(\"LTR\", \"\")) if isinstance(x, str) else x)\n",
    "    data.power = data.power.apply(lambda x: float(x.replace(\"N12\", \"\")) if isinstance(x, str) else x)\n",
    "\n",
    "    fuel_dict={'DIESEL':'D', 'дизель':'D', 'GASOLINE':'B', 'бензин':'B', 'HYBRID':'H', 'гибрид':'H', 'ELECTRO':'E', 'электро':'E', 'LPG':'G', 'газ':'G'}\n",
    "    data.fuel = data.fuel.apply(lambda x: fuel_dict[x])\n",
    "\n",
    "    data.mileage = data.mileage.apply(lambda x: float(x))\n",
    "    data.mileage = data.mileage.apply(lambda x: 10.0 if x < 10.0 else x)\n",
    "\n",
    "    data.model_year = data.model_year.apply(lambda x: int(x))\n",
    "    data.manuf_year = data.manuf_year.apply(lambda x: int(x))\n",
    "    if 'price' in data.columns:\n",
    "            data.price = data.price.apply(lambda x: int(x))\n",
    "\n",
    "    data.model = data.model.apply(lambda x: x.upper())\n",
    "\n",
    "    data.doors = data.doors.apply(lambda x: int(x))\n",
    "    data.doors = data.doors.apply( lambda x: 2 if x ==0 else x)\n",
    "\n",
    "    data.num_owners.fillna(0, inplace=True)\n",
    "    data.num_owners = data.num_owners.apply( lambda x: int(x[0]) if isinstance(x, str) else int(x))\n",
    "    data.num_owners = data.num_owners.apply(lambda x: 3 if x>2 else x)\n",
    "\n",
    "    transmission_dict = {'AUTOMATIC':'AT', 'автоматическая':'AT', 'ROBOT': 'AMT', 'роботизированная':'AMT', 'MECHANICAL':'MT', 'механическая':'MT', 'VARIATOR':'CVT', 'вариатор':'CVT'}\n",
    "    data.transmission = data.transmission.apply(lambda x: transmission_dict[x])\n",
    "\n",
    "    data.car_license.fillna('ORIGINAL', inplace=True)\n",
    "    license_dict={'ORIGINAL':'ORG', 'Оригинал':'ORG', 'DUPLICATE':'DPL', 'Дубликат':'DPL'}\n",
    "    data.car_license = data.car_license.apply(lambda x: license_dict[x])\n",
    "\n",
    "    gear_dict = {'REAR_DRIVE':'RWD', 'ALL_WHEEL_DRIVE':'AWD', 'FORWARD_CONTROL': 'FWD', 'задний':'RWD', 'полный':'AWD', 'передний': 'FWD'}\n",
    "    data.gear = data.gear.apply(lambda x: gear_dict[x])\n",
    "\n",
    "    steering_dict = {'LEFT':'L', 'RIGHT':'R', 'Левый':'L', 'Правый':'R'}\n",
    "    data.steering = data.steering.apply(lambda x: steering_dict[x])\n",
    "\n",
    "    data.vendor = data.vendor.apply(lambda x: 'EUROPEAN' if x == 'AMERICAN' else x)\n",
    "\n",
    "    return data"
   ],
   "metadata": {
    "collapsed": false,
    "pycharm": {
     "name": "#%%\n"
    }
   }
  },
  {
   "cell_type": "markdown",
   "source": [
    "В дальнешем функция перекочевала в модуль P05_01_Lib.py"
   ],
   "metadata": {
    "collapsed": false
   }
  },
  {
   "cell_type": "markdown",
   "source": [
    "####  Построение прототипа модели\n",
    "\n",
    "Сначала проверю функцию первоначальной обработки данных еще раз на тех же данных."
   ],
   "metadata": {
    "collapsed": false
   }
  },
  {
   "cell_type": "code",
   "execution_count": 132,
   "outputs": [
    {
     "name": "stderr",
     "output_type": "stream",
     "text": [
      "/opt/anaconda3/lib/python3.8/site-packages/IPython/core/interactiveshell.py:3444: DtypeWarning: Columns (14,15,19,20,22,28,33,34,35) have mixed types.Specify dtype option on import or set low_memory=False.\n",
      "  exec(code_obj, self.user_global_ns, self.user_ns)\n"
     ]
    },
    {
     "name": "stdout",
     "output_type": "stream",
     "text": [
      "<class 'pandas.core.frame.DataFrame'>\n",
      "Int64Index: 42045 entries, 0 to 42045\n",
      "Data columns (total 16 columns):\n",
      " #   Column        Non-Null Count  Dtype  \n",
      "---  ------        --------------  -----  \n",
      " 0   displacement  42045 non-null  float64\n",
      " 1   power         42045 non-null  float64\n",
      " 2   mileage       42045 non-null  float64\n",
      " 3   manuf_year    42045 non-null  int64  \n",
      " 4   brand         42045 non-null  int8   \n",
      " 5   color         42045 non-null  int8   \n",
      " 6   fuel          42045 non-null  int8   \n",
      " 7   model         42045 non-null  int16  \n",
      " 8   doors         42045 non-null  int8   \n",
      " 9   transmission  42045 non-null  int8   \n",
      " 10  vendor        42045 non-null  int8   \n",
      " 11  num_owners    42045 non-null  int8   \n",
      " 12  car_license   42045 non-null  int8   \n",
      " 13  gear          42045 non-null  int8   \n",
      " 14  steering      42045 non-null  int8   \n",
      " 15  body_type     42045 non-null  int8   \n",
      "dtypes: float64(3), int16(1), int64(1), int8(11)\n",
      "memory usage: 2.1 MB\n"
     ]
    }
   ],
   "source": [
    "df =  pd.read_csv('input/211121-12brands.csv')\n",
    "df = initial_transformation(df)\n",
    "for colum in cat_cols:\n",
    "    df[colum] = df[colum].astype('category').cat.codes\n",
    "\n",
    "X = df[num_cols + cat_cols]\n",
    "y = df.price\n",
    "X.info()"
   ],
   "metadata": {
    "collapsed": false,
    "pycharm": {
     "name": "#%%\n"
    }
   }
  },
  {
   "cell_type": "code",
   "execution_count": 133,
   "outputs": [
    {
     "name": "stdout",
     "output_type": "stream",
     "text": [
      "The MAPE mertic for the Random Forest model on ln(price) : 11.5815%.\n"
     ]
    }
   ],
   "source": [
    "X_train, X_test, y_train, y_test = train_test_split( X, y, test_size=0.2, shuffle=True, random_state=42)\n",
    "rfr_log = RandomForestRegressor(random_state=42, n_jobs=-1)\n",
    "rfr_log.fit(X_train, np.log(y_train))\n",
    "predict_rf_log = np.exp(rfr_log.predict(X_test))\n",
    "\n",
    "print(f\"The MAPE mertic for the Random Forest model on ln(price) : {(mape(y_test, predict_rf_log) * 100):0.4f}%.\")"
   ],
   "metadata": {
    "collapsed": false,
    "pycharm": {
     "name": "#%%\n"
    }
   }
  },
  {
   "cell_type": "markdown",
   "source": [
    "Вызывает подозрения своей стабильностью кодировщик категорийных признаков. Перепишу его под фиксированные категории. Категории после присвоения номеров оказываются упорядочены.  Первый кодировщик будет брать последовательность случайно. Второй - по возрастанию частоты использования (чаще - больше номер)."
   ],
   "metadata": {
    "collapsed": false
   }
  },
  {
   "cell_type": "code",
   "execution_count": 134,
   "outputs": [],
   "source": [
    "def parse_simple_encoder(data, cols):\n",
    "    parse_dict = dict()\n",
    "    for col in cols:\n",
    "        di = dict()\n",
    "        li = list(data[col].unique())\n",
    "        n = 0\n",
    "        for v in li:\n",
    "            di[v]=n\n",
    "            n+=1\n",
    "        parse_dict[col] = di\n",
    "    return parse_dict"
   ],
   "metadata": {
    "collapsed": false,
    "pycharm": {
     "name": "#%%\n"
    }
   }
  },
  {
   "cell_type": "code",
   "execution_count": 135,
   "outputs": [
    {
     "name": "stderr",
     "output_type": "stream",
     "text": [
      "/opt/anaconda3/lib/python3.8/site-packages/IPython/core/interactiveshell.py:3444: DtypeWarning: Columns (14,15,19,20,22,28,33,34,35) have mixed types.Specify dtype option on import or set low_memory=False.\n",
      "  exec(code_obj, self.user_global_ns, self.user_ns)\n"
     ]
    }
   ],
   "source": [
    "df = pd.read_csv('input/211121-12brands.csv')\n",
    "df = initial_transformation(df)\n",
    "se_dict = parse_simple_encoder(df,cat_cols)\n",
    "# df.head()"
   ],
   "metadata": {
    "collapsed": false,
    "pycharm": {
     "name": "#%%\n"
    }
   }
  },
  {
   "cell_type": "code",
   "execution_count": 144,
   "outputs": [],
   "source": [
    "def apply_encoder(data, cols, enc_dic):\n",
    "    li = []\n",
    "    for c in cols:\n",
    "        enc = enc_dic[c]\n",
    "        vals = enc.keys()\n",
    "        # print(enc)\n",
    "        nc = c+'_enc'\n",
    "        data[nc] = data[c].apply(lambda x: enc[x] if x in vals else 0)\n",
    "        li.append(nc)\n",
    "    return li, data"
   ],
   "metadata": {
    "collapsed": false,
    "pycharm": {
     "name": "#%%\n"
    }
   }
  },
  {
   "cell_type": "code",
   "execution_count": 137,
   "outputs": [],
   "source": [
    "new_cat_cols, df = apply_encoder(df, cat_cols, se_dict)"
   ],
   "metadata": {
    "collapsed": false,
    "pycharm": {
     "name": "#%%\n"
    }
   }
  },
  {
   "cell_type": "code",
   "execution_count": 138,
   "outputs": [
    {
     "data": {
      "text/plain": "   Unnamed: 0  index         body brand  \\\n0           0      0  внедорожник   BMW   \n1           1      1        седан   BMW   \n2           2      2        седан   BMW   \n3           3      3         купе   BMW   \n4           4      4        седан   BMW   \n\n                                                 url        color  \\\n0  https://auto.ru/cars/used/sale/bmw/x5/11057182...       чёрный   \n1  https://auto.ru/cars/used/sale/bmw/3er/1106015...       чёрный   \n2  https://auto.ru/cars/used/sale/bmw/m5/11057329...  серебристый   \n3  https://auto.ru/cars/used/sale/bmw/3er/1103184...      красный   \n4  https://auto.ru/cars/used/sale/bmw/7er/1105925...       чёрный   \n\n   displacement  power fuel   mileage  ...  fuel_enc model_enc  doors_enc  \\\n0           3.0  249.0    D   99869.0  ...         0         0          0   \n1           1.6  136.0    B  129000.0  ...         1         1          1   \n2           4.4  600.0    B   37000.0  ...         1         2          1   \n3           1.8   90.0    B  440000.0  ...         1         1          2   \n4           4.8  367.0    B  129500.0  ...         1         3          1   \n\n   transmission_enc vendor_enc num_owners_enc car_license_enc  gear_enc  \\\n0                 0          0              0               0         0   \n1                 0          0              1               0         1   \n2                 1          0              2               0         1   \n3                 2          0              1               1         1   \n4                 0          0              0               0         1   \n\n  steering_enc body_type_enc  \n0            0             0  \n1            0             1  \n2            0             1  \n3            0             2  \n4            0             1  \n\n[5 rows x 35 columns]",
      "text/html": "<div>\n<style scoped>\n    .dataframe tbody tr th:only-of-type {\n        vertical-align: middle;\n    }\n\n    .dataframe tbody tr th {\n        vertical-align: top;\n    }\n\n    .dataframe thead th {\n        text-align: right;\n    }\n</style>\n<table border=\"1\" class=\"dataframe\">\n  <thead>\n    <tr style=\"text-align: right;\">\n      <th></th>\n      <th>Unnamed: 0</th>\n      <th>index</th>\n      <th>body</th>\n      <th>brand</th>\n      <th>url</th>\n      <th>color</th>\n      <th>displacement</th>\n      <th>power</th>\n      <th>fuel</th>\n      <th>mileage</th>\n      <th>...</th>\n      <th>fuel_enc</th>\n      <th>model_enc</th>\n      <th>doors_enc</th>\n      <th>transmission_enc</th>\n      <th>vendor_enc</th>\n      <th>num_owners_enc</th>\n      <th>car_license_enc</th>\n      <th>gear_enc</th>\n      <th>steering_enc</th>\n      <th>body_type_enc</th>\n    </tr>\n  </thead>\n  <tbody>\n    <tr>\n      <th>0</th>\n      <td>0</td>\n      <td>0</td>\n      <td>внедорожник</td>\n      <td>BMW</td>\n      <td>https://auto.ru/cars/used/sale/bmw/x5/11057182...</td>\n      <td>чёрный</td>\n      <td>3.0</td>\n      <td>249.0</td>\n      <td>D</td>\n      <td>99869.0</td>\n      <td>...</td>\n      <td>0</td>\n      <td>0</td>\n      <td>0</td>\n      <td>0</td>\n      <td>0</td>\n      <td>0</td>\n      <td>0</td>\n      <td>0</td>\n      <td>0</td>\n      <td>0</td>\n    </tr>\n    <tr>\n      <th>1</th>\n      <td>1</td>\n      <td>1</td>\n      <td>седан</td>\n      <td>BMW</td>\n      <td>https://auto.ru/cars/used/sale/bmw/3er/1106015...</td>\n      <td>чёрный</td>\n      <td>1.6</td>\n      <td>136.0</td>\n      <td>B</td>\n      <td>129000.0</td>\n      <td>...</td>\n      <td>1</td>\n      <td>1</td>\n      <td>1</td>\n      <td>0</td>\n      <td>0</td>\n      <td>1</td>\n      <td>0</td>\n      <td>1</td>\n      <td>0</td>\n      <td>1</td>\n    </tr>\n    <tr>\n      <th>2</th>\n      <td>2</td>\n      <td>2</td>\n      <td>седан</td>\n      <td>BMW</td>\n      <td>https://auto.ru/cars/used/sale/bmw/m5/11057329...</td>\n      <td>серебристый</td>\n      <td>4.4</td>\n      <td>600.0</td>\n      <td>B</td>\n      <td>37000.0</td>\n      <td>...</td>\n      <td>1</td>\n      <td>2</td>\n      <td>1</td>\n      <td>1</td>\n      <td>0</td>\n      <td>2</td>\n      <td>0</td>\n      <td>1</td>\n      <td>0</td>\n      <td>1</td>\n    </tr>\n    <tr>\n      <th>3</th>\n      <td>3</td>\n      <td>3</td>\n      <td>купе</td>\n      <td>BMW</td>\n      <td>https://auto.ru/cars/used/sale/bmw/3er/1103184...</td>\n      <td>красный</td>\n      <td>1.8</td>\n      <td>90.0</td>\n      <td>B</td>\n      <td>440000.0</td>\n      <td>...</td>\n      <td>1</td>\n      <td>1</td>\n      <td>2</td>\n      <td>2</td>\n      <td>0</td>\n      <td>1</td>\n      <td>1</td>\n      <td>1</td>\n      <td>0</td>\n      <td>2</td>\n    </tr>\n    <tr>\n      <th>4</th>\n      <td>4</td>\n      <td>4</td>\n      <td>седан</td>\n      <td>BMW</td>\n      <td>https://auto.ru/cars/used/sale/bmw/7er/1105925...</td>\n      <td>чёрный</td>\n      <td>4.8</td>\n      <td>367.0</td>\n      <td>B</td>\n      <td>129500.0</td>\n      <td>...</td>\n      <td>1</td>\n      <td>3</td>\n      <td>1</td>\n      <td>0</td>\n      <td>0</td>\n      <td>0</td>\n      <td>0</td>\n      <td>1</td>\n      <td>0</td>\n      <td>1</td>\n    </tr>\n  </tbody>\n</table>\n<p>5 rows × 35 columns</p>\n</div>"
     },
     "execution_count": 138,
     "metadata": {},
     "output_type": "execute_result"
    }
   ],
   "source": [
    "df.head()"
   ],
   "metadata": {
    "collapsed": false,
    "pycharm": {
     "name": "#%%\n"
    }
   }
  },
  {
   "cell_type": "code",
   "execution_count": 139,
   "outputs": [
    {
     "name": "stdout",
     "output_type": "stream",
     "text": [
      "['brand_enc', 'color_enc', 'fuel_enc', 'model_enc', 'doors_enc', 'transmission_enc', 'vendor_enc', 'num_owners_enc', 'car_license_enc', 'gear_enc', 'steering_enc', 'body_type_enc']\n"
     ]
    }
   ],
   "source": [
    "print(new_cat_cols)"
   ],
   "metadata": {
    "collapsed": false,
    "pycharm": {
     "name": "#%%\n"
    }
   }
  },
  {
   "cell_type": "code",
   "execution_count": 140,
   "outputs": [
    {
     "name": "stdout",
     "output_type": "stream",
     "text": [
      "<class 'pandas.core.frame.DataFrame'>\n",
      "Int64Index: 42045 entries, 0 to 42045\n",
      "Data columns (total 16 columns):\n",
      " #   Column            Non-Null Count  Dtype  \n",
      "---  ------            --------------  -----  \n",
      " 0   displacement      42045 non-null  float64\n",
      " 1   power             42045 non-null  float64\n",
      " 2   mileage           42045 non-null  float64\n",
      " 3   manuf_year        42045 non-null  int64  \n",
      " 4   brand_enc         42045 non-null  int64  \n",
      " 5   color_enc         42045 non-null  int64  \n",
      " 6   fuel_enc          42045 non-null  int64  \n",
      " 7   model_enc         42045 non-null  int64  \n",
      " 8   doors_enc         42045 non-null  int64  \n",
      " 9   transmission_enc  42045 non-null  int64  \n",
      " 10  vendor_enc        42045 non-null  int64  \n",
      " 11  num_owners_enc    42045 non-null  int64  \n",
      " 12  car_license_enc   42045 non-null  int64  \n",
      " 13  gear_enc          42045 non-null  int64  \n",
      " 14  steering_enc      42045 non-null  int64  \n",
      " 15  body_type_enc     42045 non-null  int64  \n",
      "dtypes: float64(3), int64(13)\n",
      "memory usage: 5.5 MB\n"
     ]
    }
   ],
   "source": [
    "X = df[num_cols + new_cat_cols]\n",
    "y = df.price\n",
    "X.info()"
   ],
   "metadata": {
    "collapsed": false,
    "pycharm": {
     "name": "#%%\n"
    }
   }
  },
  {
   "cell_type": "code",
   "execution_count": 141,
   "outputs": [
    {
     "name": "stdout",
     "output_type": "stream",
     "text": [
      "The MAPE mertic for the Random Forest model on ln(price) : 11.7016%.\n"
     ]
    }
   ],
   "source": [
    "\n",
    "X_train, X_test, y_train, y_test = train_test_split( X, y, test_size=0.2, shuffle=True, random_state=42)\n",
    "rfr_log = RandomForestRegressor(random_state=42, n_jobs=-1)\n",
    "rfr_log.fit(X_train, np.log(y_train))\n",
    "predict_rf_log = np.exp(rfr_log.predict(X_test))\n",
    "\n",
    "print(f\"The MAPE mertic for the Random Forest model on ln(price) : {(mape(y_test, predict_rf_log) * 100):0.4f}%.\")"
   ],
   "metadata": {
    "collapsed": false,
    "pycharm": {
     "name": "#%%\n"
    }
   }
  },
  {
   "cell_type": "markdown",
   "source": [
    "Простая, почти случайнай кодировка столбцов ухудшила значение метрики. Попробую сделать ранжирующий кодировщик.\n",
    "Идея ранжирующего кодировщика состоит в том, чтобы сначала отсортировать значения признака по количеству значений с этим признаком, а потом присваивать больший номер категории значению с большим количеством значений."
   ],
   "metadata": {
    "collapsed": false
   }
  },
  {
   "cell_type": "code",
   "execution_count": 123,
   "outputs": [],
   "source": [
    "def parse_ranging_encoder(data, cols):\n",
    "    parse_dict = dict()\n",
    "    for c in cols:\n",
    "        di = dict()\n",
    "        li = list(data[c].value_counts(ascending=True).index)\n",
    "        n = 0\n",
    "        for v in li:\n",
    "            di[v]=n\n",
    "            n+=1\n",
    "        parse_dict[c] = di\n",
    "    return parse_dict"
   ],
   "metadata": {
    "collapsed": false,
    "pycharm": {
     "name": "#%%\n"
    }
   }
  },
  {
   "cell_type": "code",
   "execution_count": 124,
   "outputs": [],
   "source": [
    "rg_dict = parse_ranging_encoder(df, cat_cols)\n",
    "new_cat_cols, df = apply_encoder(df, cat_cols, rg_dict)"
   ],
   "metadata": {
    "collapsed": false,
    "pycharm": {
     "name": "#%%\n"
    }
   }
  },
  {
   "cell_type": "code",
   "execution_count": 125,
   "outputs": [
    {
     "name": "stdout",
     "output_type": "stream",
     "text": [
      "The MAPE mertic for the Random Forest model on ln(price) : 11.5731%.\n"
     ]
    }
   ],
   "source": [
    "X = df[num_cols + new_cat_cols]\n",
    "y = df.price\n",
    "X_train, X_test, y_train, y_test = train_test_split( X, y, test_size=0.2, shuffle=True, random_state=42)\n",
    "rfr_log = RandomForestRegressor(random_state=42, n_jobs=-1)\n",
    "rfr_log.fit(X_train, np.log(y_train))\n",
    "predict_rf_log = np.exp(rfr_log.predict(X_test))\n",
    "\n",
    "print(f\"The MAPE mertic for the Random Forest model on ln(price) : {(mape(y_test, predict_rf_log) * 100):0.4f}%.\")"
   ],
   "metadata": {
    "collapsed": false,
    "pycharm": {
     "name": "#%%\n"
    }
   }
  },
  {
   "cell_type": "markdown",
   "source": [
    "Кодировка с помощью ранжирующего кодировщика незначительно, на 100 б.п. улучшила значение метрики. \"По зернышку\"."
   ],
   "metadata": {
    "collapsed": false
   }
  },
  {
   "cell_type": "markdown",
   "source": [
    "\n",
    "Теперь проверка наивной модели на большом наборе."
   ],
   "metadata": {
    "collapsed": false
   }
  },
  {
   "cell_type": "code",
   "execution_count": 126,
   "outputs": [
    {
     "name": "stderr",
     "output_type": "stream",
     "text": [
      "/opt/anaconda3/lib/python3.8/site-packages/IPython/core/interactiveshell.py:3444: DtypeWarning: Columns (15,16,20,21,23,29,34,35,36) have mixed types.Specify dtype option on import or set low_memory=False.\n",
      "  exec(code_obj, self.user_global_ns, self.user_ns)\n"
     ]
    },
    {
     "name": "stdout",
     "output_type": "stream",
     "text": [
      "<class 'pandas.core.frame.DataFrame'>\n",
      "Int64Index: 90999 entries, 0 to 90999\n",
      "Data columns (total 16 columns):\n",
      " #   Column            Non-Null Count  Dtype  \n",
      "---  ------            --------------  -----  \n",
      " 0   displacement      90999 non-null  float64\n",
      " 1   power             90999 non-null  float64\n",
      " 2   mileage           90999 non-null  float64\n",
      " 3   manuf_year        90999 non-null  int64  \n",
      " 4   brand_enc         90999 non-null  int64  \n",
      " 5   color_enc         90999 non-null  int64  \n",
      " 6   fuel_enc          90999 non-null  int64  \n",
      " 7   model_enc         90999 non-null  int64  \n",
      " 8   doors_enc         90999 non-null  int64  \n",
      " 9   transmission_enc  90999 non-null  int64  \n",
      " 10  vendor_enc        90999 non-null  int64  \n",
      " 11  num_owners_enc    90999 non-null  int64  \n",
      " 12  car_license_enc   90999 non-null  int64  \n",
      " 13  gear_enc          90999 non-null  int64  \n",
      " 14  steering_enc      90999 non-null  int64  \n",
      " 15  body_type_enc     90999 non-null  int64  \n",
      "dtypes: float64(3), int64(13)\n",
      "memory usage: 11.8 MB\n"
     ]
    }
   ],
   "source": [
    "df36 =  pd.read_csv('input/211121-36brands.csv')\n",
    "df36 = initial_transformation(df36)\n",
    "rg_dict36 = parse_ranging_encoder(df36,cat_cols)\n",
    "new_cat_cols, df36 = apply_encoder(df36, cat_cols, rg_dict36)\n",
    "X36 = df36[num_cols + new_cat_cols]\n",
    "y36 = df36.price\n",
    "X36.info()"
   ],
   "metadata": {
    "collapsed": false,
    "pycharm": {
     "name": "#%%\n"
    }
   }
  },
  {
   "cell_type": "code",
   "execution_count": 127,
   "outputs": [
    {
     "name": "stdout",
     "output_type": "stream",
     "text": [
      "The MAPE mertic for the Random Forest model on ln(price) with 36 brands: 13.1359%.\n",
      "The MAPE mertic for the Random Forest model on ln(price), trained on 36 brands, and predicting on 12 brands : 32.5796%.\n"
     ]
    }
   ],
   "source": [
    "X_train36, X_test36, y_train36, y_test36 = train_test_split( X36, y36, test_size=0.2, shuffle=True, random_state=42)\n",
    "rfr_log36 = RandomForestRegressor(random_state=42, n_jobs=-1)\n",
    "rfr_log36.fit(X_train36, np.log(y_train36))\n",
    "predict_rf_log36 = np.exp(rfr_log36.predict(X_test36))\n",
    "predict_rf_log12_36 = np.exp(rfr_log36.predict(X_test))\n",
    "print(f\"The MAPE mertic for the Random Forest model on ln(price) with 36 brands: {(mape(y_test36, predict_rf_log36) * 100):0.4f}%.\")\n",
    "print(f\"The MAPE mertic for the Random Forest model on ln(price), trained on 36 brands, and predicting on 12 brands : {(mape(y_test, predict_rf_log12_36) * 100):0.4f}%.\")\n"
   ],
   "metadata": {
    "collapsed": false,
    "pycharm": {
     "name": "#%%\n"
    }
   }
  },
  {
   "cell_type": "markdown",
   "source": [
    "Первоначальное значение МАРЕ оказалось хуже - 12.5316%, но я сравнивал на отложенной части большего объема.\n",
    "Предпринята попытка обучить на 36 брендах и затем проверить на 12. Результат оказался еще хуже.\n",
    "Ситуация естественная. В случае данных по 36 брендам имеем в среднем 2.5к записей на бренд.  В случае данных по 12 брендам получается 3.5к записей на бренд, т.е. при обучении на сфокусированном наборе результат получается лучше.  (("
   ],
   "metadata": {
    "collapsed": false
   }
  },
  {
   "cell_type": "code",
   "execution_count": 142,
   "outputs": [
    {
     "name": "stdout",
     "output_type": "stream",
     "text": [
      "brand {'INFINITI': 0, 'HONDA': 1, 'LEXUS': 2, 'VOLVO': 3, 'MITSUBISHI': 4, 'VOLKSWAGEN': 5, 'TOYOTA': 6, 'AUDI': 7, 'BMW': 8, 'NISSAN': 9, 'SKODA': 10, 'MERCEDES-BENZ': 11}\n",
      "color {'розовый': 0, 'фиолетовый': 1, 'жёлтый': 2, 'золотистый': 3, 'пурпурный': 4, 'оранжевый': 5, 'голубой': 6, 'бежевый': 7, 'зелёный': 8, 'красный': 9, 'коричневый': 10, 'серебристый': 11, 'синий': 12, 'серый': 13, 'белый': 14, 'чёрный': 15}\n",
      "fuel {'G': 0, 'E': 1, 'H': 2, 'D': 3, 'B': 4}\n",
      "model {'AVENSIS_VERSO': 0, 'PRIUSPLUS': 1, 'PIXIS_EPOCH': 2, 'CELSIOR': 3, 'MR_S': 4, 'CAVALIER': 5, 'PASEO': 6, 'OPA': 7, 'CARINA_ED': 8, 'RNESSA': 9, 'TACOMA': 10, 'IST': 11, 'CORONA_EXIV': 12, 'PIXO': 13, 'PLATZ': 14, 'VEROSSA': 15, 'TOURING_HIACE': 16, 'SCEPTER_SEDAN': 17, 'SPARKY': 18, 'SPRINTER_TRUENO': 19, 'MASTER_ACE_SURF': 20, 'AYGO': 21, 'LAFESTA': 22, 'ROOMY': 23, 'POLO_GTI': 24, 'ALLEX': 25, 'CRESSIDA': 26, 'ARMADA': 27, 'BLUEBIRD_SYLPHY': 28, 'REGIUSACE': 29, 'PULSAR': 30, 'EXPERT': 31, 'QUEST': 32, 'CLC_KLASSE': 33, 'ROGUE': 34, 'PRESEA': 35, 'EQS': 36, 'W128': 37, 'EQA': 38, 'SLC_KLASSE_AMG': 39, 'W114': 40, 'CARAVAN_COACH': 41, 'W189': 42, '180SX': 43, '300ZX': 44, 'FUGA': 45, 'STAGEA': 46, 'MOCO': 47, '200SX': 48, 'AVALON': 49, 'SPRINTER_CARIB': 50, 'TERCEL': 51, 'PRESIDENT': 52, 'DUET': 53, 'ARISTO': 54, 'TITAN': 55, 'PROACE': 56, 'NADIA': 57, 'RS_E_TRON_GT': 58, 'GOLF_R32': 59, 'PREMIO': 60, 'CORRADO': 61, '502': 62, 'Z1': 63, 'TYPE_2': 64, 'PASSPORT': 65, 'BEAT': 66, 'EDIX': 67, 'VEZEL': 68, 'S660': 69, 'ZEST': 70, 'VIGOR': 71, 'Z3M': 72, 'RAFAGA': 73, 'S_MX': 74, 'LC': 75, 'GS_F': 76, 'RC_F': 77, 'NP300': 78, 'W142': 79, 'W108': 80, '90': 81, '340': 82, 'K70': 83, 'MOBILIO_SPIKE': 84, 'CR_Z': 85, 'NV350_CARAVAN': 86, 'SPACE_RUNNER': 87, 'Q2': 88, '164': 89, 'SAPPORO': 90, 'EK_CUSTOM': 91, 'ENDEAVOR': 92, 'CHALLENGER': 93, 'FORMAN': 94, 'EK_SPACE': 95, 'DELICA_D_5': 96, 'A2': 97, 'FOX': 98, 'S7': 99, 'TOWN_BOX': 100, 'WINDOM': 101, '3000_GT': 102, 'W136': 103, 'REGIUS': 104, 'RS4': 105, 'EQC': 106, 'SLC_KLASSE': 107, '190_SL': 108, 'SQ5': 109, 'SLR_KLASSE': 110, 'S3': 111, 'CITAN': 112, 'FIT_SHUTTLE': 113, 'FIT_ARIA': 114, '760': 115, 'ACTY': 116, 'MR2': 117, 'GT86': 118, 'FAVORIT': 119, 'JADE': 120, 'VAMOS': 121, 'FABIA_RS': 122, 'DION': 123, 'HILUX_SURF': 124, 'CYNOS': 125, 'RACTIS': 126, 'SPADE': 127, 'CITY': 128, 'FUNCARGO': 129, 'FCX_CLARITY': 130, 'DINGO': 131, 'CROSSROAD': 132, 'MATRIX': 133, 'PRIUS_ALPHA': 134, 'TORNEO': 135, 'CAMI': 136, '321': 137, 'TINO': 138, 'DAYZ': 139, 'BASSARA': 140, 'PRESAGE': 141, 'FAIRLADY_Z': 142, 'ALMERA_TINO': 143, 'EUROVAN': 144, 'SOARER': 145, 'L400': 146, 'R_KLASSE': 147, 'S4': 148, 'MARK_X': 149, 'RAUM': 150, 'EK_WAGON': 151, 'BLUEBIRD': 152, 'PICNIC': 153, 'GLORIA': 154, 'SUCCEED': 155, 'PREVIA': 156, 'SUPRA': 157, 'LIBERTY': 158, 'COROLLA_VERSO': 159, 'EOS': 160, 'ISIS': 161, '350Z': 162, 'Q': 163, 'TANK': 164, 'SPRINTER_MARINO': 165, 'PASSO': 166, 'AIRWAVE': 167, 'ELYSION': 168, 'RASHEEN': 169, 'WISH': 170, 'LOGO': 171, 'CROWN_MAJESTA': 172, 'SLS_AMG': 173, 'VELLFIRE': 174, 'RVR': 175, 'PRAIRIE': 176, 'W111': 177, 'CLIPPER': 178, 'SLK_KLASSE_AMG': 179, 'HS': 180, 'FTO': 181, 'L300': 182, 'SILVIA': 183, 'PAJERO_IO': 184, 'CABRIOLET': 185, 'GOLF_R': 186, 'R8': 187, 'AVANCIER': 188, 'CEFIRO': 189, 'TT_RS': 190, 'CR_X': 191, 'CORSA': 192, '2ACTIVETOURER': 193, 'ALTIMA': 194, 'TTS': 195, 'ODYSSEY_NA': 196, 'LIBERO': 197, 'ORTHIA': 198, 'DIAMANTE': 199, 'ASCOT': 200, 'X_KLASSE': 201, 'CONCERTO': 202, 'VITZ': 203, 'WILL': 204, 'DOMANI': 205, 'ELGRAND': 206, 'ARTEON': 207, 'EQV': 208, 'ESQUIRE': 209, 'M6': 210, 'I8': 211, 'PARTNER': 212, 'AD': 213, 'I_MIEV': 214, 'DAYZ_ROOX': 215, 'HARRIER': 216, 'GAIA': 217, 'CAMRY_SOLARA': 218, 'SPRINTER': 219, 'LAUREL': 220, 'IPSUM': 221, 'NV200': 222, 'W123': 223, '200': 224, 'IQ': 225, '440': 226, 'S6': 227, 'CIVIC_TYPE_R': 228, 'AQUA': 229, 'MOBILIO': 230, 'VANETTE': 231, 'CHARIOT': 232, 'BB': 233, 'SIENTA': 234, 'SL_KLASSE_AMG': 235, 'SPACE_GEAR': 236, 'CL_KLASSE': 237, 'ECHO': 238, 'M8': 239, 'JUKE_NISMO': 240, 'N_BOX': 241, 'FJ_CRUISER': 242, 'V90': 243, 'N_WGN': 244, 'PAJERO_MINI': 245, 'INSPIRE': 246, 'CARINA': 247, '2GRANDTOURER': 248, 'VERSO': 249, 'QX30': 250, 'VOXY': 251, 'COROLLA_LEVIN': 252, 'W201': 253, 'CEDRIC': 254, 'POINTER': 255, 'LUPO': 256, '4RUNNER': 257, 'AIRTREK': 258, 'S2000': 259, 'VENTO': 260, 'ELEMENT': 261, 'TOWN_ACE': 262, '460': 263, 'CORONA': 264, 'SL_KLASSE': 265, 'CLS_KLASSE_AMG': 266, 'RS3': 267, 'Q3_SPORTBACK': 268, 'RSQ3': 269, 'CIVIC_FERIO': 270, 'VISTA': 271, 'NOAH': 272, 'STARLET': 273, 'PROBOX': 274, 'RC': 275, 'MARCH': 276, 'CL_KLASSE_AMG': 277, 'SUNNY': 278, 'CRESTA': 279, 'Q30': 280, 'GT_R': 281, 'SLK_KLASSE': 282, 'WINGROAD': 283, 'PHAETON': 284, 'V60': 285, 'DELICA': 286, 'E_TRON_S_SPORTBACK': 287, 'MIRAGE': 288, 'CLK_KLASSE': 289, 'SQ7': 290, 'QX4': 291, 'CT': 292, 'ALTEZZA': 293, 'LITE_ACE': 294, 'ESTIMA': 295, 'AVENIR': 296, 'C_HR': 297, 'C70': 298, 'LEGNUM': 299, 'UX': 300, 'INSIGHT': 301, 'M2': 302, 'SQ8': 303, 'CALDINA': 304, 'INTEGRA': 305, 'SPACE_WAGON': 306, 'CUBE': 307, 'Q60': 308, 'W124': 309, 'LANCER_EVOLUTION': 310, 'RIDGELINE': 311, 'RS7': 312, 'SC': 313, 'GLA_CLASS_AMG': 314, '240_SERIES': 315, 'S8': 316, 'HIACE': 317, 'CLA_KLASSE_AMG': 318, 'GL_KLASSE_AMG': 319, 'QASHQAI_PLUS_2': 320, 'V60_CROSS_COUNTRY': 321, 'S5': 322, 'BORA': 323, 'SEQUOIA': 324, 'RS5': 325, 'BEETLE': 326, 'A_KLASSE_AMG': 327, 'LEGEND': 328, 'ECLIPSE': 329, 'PAJERO_PININ': 330, 'SHUTTLE': 331, '740': 332, 'CROSSTOUR': 333, 'M3': 334, 'CHASER': 335, 'MONTERO': 336, 'SENTRA': 337, '960': 338, 'CARINA_E': 339, 'SERENA': 340, 'S70': 341, 'STREAM': 342, 'M4': 343, 'TUNDRA': 344, 'V50': 345, 'C_KLASSE_AMG': 346, 'SCIROCCO': 347, 'GRANDIS': 348, 'SKYLINE': 349, 'Z4': 350, 'ROOMSTER': 351, 'JX': 352, 'PRELUDE': 353, 'CROWN': 354, 'V70': 355, 'Q70': 356, 'VENZA': 357, 'V40': 358, 'X2': 359, 'RS6': 360, 'AMG_GLC_COUPE': 361, 'ODYSSEY': 362, 'MONTERO_SPORT': 363, 'FREED': 364, 'CELICA': 365, 'RS_Q8': 366, 'GOLF_GTI': 367, 'SIENNA': 368, '8ER': 369, 'SPACE_STAR': 370, 'GLS_KLASSE_AMG': 371, 'LEAF': 372, 'TT': 373, 'FELICIA': 374, '2ER': 375, 'FIT': 376, '940': 377, 'NAVARA': 378, 'SHARAN': 379, 'A4_ALLROAD': 380, 'OCTAVIA_RS': 381, 'I3': 382, 'ALPHARD': 383, '850': 384, 'M5': 385, 'JAZZ': 386, 'A1': 387, 'M_KLASSE_AMG': 388, 'S_KLASSE_AMG': 389, 'MICRA': 390, 'V90_CROSS_COUNTRY': 391, 'YARIS': 392, 'B_KLASSE': 393, 'GOLF_PLUS': 394, 'E_TRON_SPORTBACK': 395, 'GLC_KLASSE_AMG': 396, 'XC40': 397, 'STEPWAGON': 398, 'AMAROK': 399, 'COLT': 400, 'C30': 401, 'VITO': 402, 'TOURAN': 403, 'V40_CC': 404, 'AURIS': 405, 'E_KLASSE_AMG': 406, 'PRIUS': 407, 'QX60': 408, 'TERAMONT': 409, 'S_CLASS_MAYBACH': 410, 'EX': 411, 'MAXIMA': 412, 'HILUX': 413, 'ALLROAD': 414, 'MARK_II': 415, '100': 416, 'AMG_GT': 417, 'VIANO': 418, 'PILOT': 419, 'G_KLASSE': 420, 'HR_V': 421, 'CLS_KLASSE': 422, 'M': 423, 'Q50': 424, 'E_TRON': 425, 'TRANSPORTER': 426, 'CARISMA': 427, '80': 428, 'X6_M': 429, 'PATROL': 430, 'AVENSIS': 431, 'A_KLASSE': 432, 'FORTUNER': 433, 'X5_M': 434, 'CADDY': 435, 'PASSAT_CC': 436, 'NOTE': 437, 'PRIMERA': 438, '4': 439, 'IS': 440, 'GLK_KLASSE': 441, 'ALMERA_CLASSIC': 442, 'S90': 443, 'X4': 444, 'CLA_KLASSE': 445, 'GALANT': 446, 'QX55': 447, '6ER': 448, 'G35': 449, 'GLA_CLASS': 450, 'QX56': 451, 'HIGHLANDER': 452, 'QX70': 453, 'L200': 454, 'LS': 455, 'GLC_COUPE': 456, 'GLE_KLASSE_AMG': 457, '1ER': 458, 'QX80': 459, 'X7': 460, 'A7': 461, 'GS': 462, 'GX': 463, 'TAOS': 464, 'M_KLASSE': 465, 'MULTIVAN': 466, 'PATHFINDER': 467, 'GLE_KLASSE_COUPE_AMG': 468, 'TIIDA': 469, 'ECLIPSE_CROSS': 470, 'G_KLASSE_AMG': 471, 'CARAVELLE': 472, 'S40': 473, 'MAYBACH_GLS': 474, 'Q5_SPORTBACK': 475, 'A8': 476, 'GL_KLASSE': 477, 'Q8': 478, 'GLE_KLASSE_COUPE': 479, 'QX50': 480, 'TEANA': 481, 'XC70': 482, 'NX': 483, 'JUKE': 484, 'Q3': 485, 'S80': 486, 'JETTA': 487, 'YETI': 488, 'V_KLASSE': 489, 'SUPERB': 490, 'GLE_KLASSE': 491, 'TERRANO': 492, 'ALMERA': 493, 'ES': 494, 'A5': 495, 'C_KLASSE': 496, 'X1': 497, 'FABIA': 498, 'FX': 499, 'GLB_KLASSE': 500, 'S60': 501, 'MURANO': 502, 'COROLLA': 503, 'GOLF': 504, 'A3': 505, '7ER': 506, 'PAJERO': 507, 'PAJERO_SPORT': 508, 'X3': 509, 'X6': 510, 'LX': 511, 'ACCORD': 512, 'TOUAREG': 513, 'GLS_KLASSE': 514, 'Q7': 515, 'PASSAT': 516, 'CIVIC': 517, 'CR_V': 518, 'A4': 519, 'XC60': 520, 'GLC_KLASSE': 521, 'LAND_CRUISER_PRADO': 522, 'LAND_CRUISER': 523, 'KODIAQ': 524, 'XC90': 525, 'LANCER': 526, 'ASX': 527, 'S_KLASSE': 528, 'A6': 529, '3ER': 530, 'Q5': 531, 'RAV_4': 532, 'X5': 533, 'TIGUAN': 534, '5ER': 535, 'KAROQ': 536, 'RX': 537, 'CAMRY': 538, 'POLO': 539, 'E_KLASSE': 540, 'X_TRAIL': 541, 'RAPID': 542, 'OCTAVIA': 543, 'QASHQAI': 544, 'OUTLANDER': 545}\n",
      "doors {3: 0, 2: 1, 4: 2, 5: 3}\n",
      "transmission {'MT': 0, 'AMT': 1, 'CVT': 2, 'AT': 3}\n",
      "vendor {'JAPANESE': 0, 'EUROPEAN': 1}\n",
      "num_owners {2: 0, 1: 1, 3: 2, 0: 3}\n",
      "car_license {'DPL': 0, 'ORG': 1}\n",
      "gear {'RWD': 0, 'FWD': 1, 'AWD': 2}\n",
      "steering {'R': 0, 'L': 1}\n",
      "body_type {'coupe': 0, 'wagon': 1, 'MPV': 2, 'f_back': 3, 'sedan': 4, 'SUV': 5}\n"
     ]
    }
   ],
   "source": [
    "for c in cat_cols:\n",
    "    print(c, rg_dict[c])"
   ],
   "metadata": {
    "collapsed": false,
    "pycharm": {
     "name": "#%%\n"
    }
   }
  },
  {
   "cell_type": "code",
   "execution_count": 145,
   "outputs": [
    {
     "name": "stdout",
     "output_type": "stream",
     "text": [
      "<class 'pandas.core.frame.DataFrame'>\n",
      "RangeIndex: 34686 entries, 0 to 34685\n",
      "Data columns (total 16 columns):\n",
      " #   Column            Non-Null Count  Dtype  \n",
      "---  ------            --------------  -----  \n",
      " 0   displacement      34686 non-null  float64\n",
      " 1   power             34686 non-null  float64\n",
      " 2   mileage           34686 non-null  float64\n",
      " 3   manuf_year        34686 non-null  int64  \n",
      " 4   brand_enc         34686 non-null  int64  \n",
      " 5   color_enc         34686 non-null  int64  \n",
      " 6   fuel_enc          34686 non-null  int64  \n",
      " 7   model_enc         34686 non-null  int64  \n",
      " 8   doors_enc         34686 non-null  int64  \n",
      " 9   transmission_enc  34686 non-null  int64  \n",
      " 10  vendor_enc        34686 non-null  int64  \n",
      " 11  num_owners_enc    34686 non-null  int64  \n",
      " 12  car_license_enc   34686 non-null  int64  \n",
      " 13  gear_enc          34686 non-null  int64  \n",
      " 14  steering_enc      34686 non-null  int64  \n",
      " 15  body_type_enc     34686 non-null  int64  \n",
      "dtypes: float64(3), int64(13)\n",
      "memory usage: 4.2 MB\n"
     ]
    }
   ],
   "source": [
    "tdf =  pd.read_csv('input/test.csv')\n",
    "tdf = initial_transformation(tdf)\n",
    "# rg_dict36 = parse_ranging_encoder(df36,cat_cols)  - словарь использую со времени обучения\n",
    "new_cat_cols, tdf = apply_encoder(tdf, cat_cols, rg_dict)\n",
    "Xt = tdf[num_cols + new_cat_cols]\n",
    "Xt.info()"
   ],
   "metadata": {
    "collapsed": false,
    "pycharm": {
     "name": "#%%\n"
    }
   }
  },
  {
   "cell_type": "code",
   "execution_count": 146,
   "outputs": [
    {
     "data": {
      "text/plain": "Index(['body', 'brand', 'url', 'color', 'displacement', 'power', 'fuel',\n       'mileage', 'model_year', 'model', 'doors', 'manuf_year', 'sell_id',\n       'transmission', 'vendor', 'num_owners', 'car_license', 'gear',\n       'steering', 'body_type', 'brand_enc', 'color_enc', 'fuel_enc',\n       'model_enc', 'doors_enc', 'transmission_enc', 'vendor_enc',\n       'num_owners_enc', 'car_license_enc', 'gear_enc', 'steering_enc',\n       'body_type_enc'],\n      dtype='object')"
     },
     "execution_count": 146,
     "metadata": {},
     "output_type": "execute_result"
    }
   ],
   "source": [
    "tdf.columns"
   ],
   "metadata": {
    "collapsed": false,
    "pycharm": {
     "name": "#%%\n"
    }
   }
  },
  {
   "cell_type": "code",
   "execution_count": 148,
   "outputs": [
    {
     "data": {
      "text/plain": "      sell_id         price\n0  1100575026  1.102437e+06\n1  1100549428  1.199589e+06\n2  1100658222  1.881145e+06\n3  1100937408  1.059686e+06\n4  1101037972  1.126483e+06\n5  1100912634  1.284442e+06\n6  1101228730  9.849121e+05\n7  1100165896  6.332180e+05\n8  1100768262  2.680414e+06\n9  1101218501  1.113166e+06",
      "text/html": "<div>\n<style scoped>\n    .dataframe tbody tr th:only-of-type {\n        vertical-align: middle;\n    }\n\n    .dataframe tbody tr th {\n        vertical-align: top;\n    }\n\n    .dataframe thead th {\n        text-align: right;\n    }\n</style>\n<table border=\"1\" class=\"dataframe\">\n  <thead>\n    <tr style=\"text-align: right;\">\n      <th></th>\n      <th>sell_id</th>\n      <th>price</th>\n    </tr>\n  </thead>\n  <tbody>\n    <tr>\n      <th>0</th>\n      <td>1100575026</td>\n      <td>1.102437e+06</td>\n    </tr>\n    <tr>\n      <th>1</th>\n      <td>1100549428</td>\n      <td>1.199589e+06</td>\n    </tr>\n    <tr>\n      <th>2</th>\n      <td>1100658222</td>\n      <td>1.881145e+06</td>\n    </tr>\n    <tr>\n      <th>3</th>\n      <td>1100937408</td>\n      <td>1.059686e+06</td>\n    </tr>\n    <tr>\n      <th>4</th>\n      <td>1101037972</td>\n      <td>1.126483e+06</td>\n    </tr>\n    <tr>\n      <th>5</th>\n      <td>1100912634</td>\n      <td>1.284442e+06</td>\n    </tr>\n    <tr>\n      <th>6</th>\n      <td>1101228730</td>\n      <td>9.849121e+05</td>\n    </tr>\n    <tr>\n      <th>7</th>\n      <td>1100165896</td>\n      <td>6.332180e+05</td>\n    </tr>\n    <tr>\n      <th>8</th>\n      <td>1100768262</td>\n      <td>2.680414e+06</td>\n    </tr>\n    <tr>\n      <th>9</th>\n      <td>1101218501</td>\n      <td>1.113166e+06</td>\n    </tr>\n  </tbody>\n</table>\n</div>"
     },
     "execution_count": 148,
     "metadata": {},
     "output_type": "execute_result"
    }
   ],
   "source": [
    "tdf['price'] = np.exp(rfr_log.predict(Xt))\n",
    "subm = tdf[['sell_id','price']]\n",
    "subm.head(10)"
   ],
   "metadata": {
    "collapsed": false,
    "pycharm": {
     "name": "#%%\n"
    }
   }
  },
  {
   "cell_type": "code",
   "execution_count": 149,
   "outputs": [],
   "source": [
    "subm.to_csv(f'211123_subm_MVP.csv', index=False)"
   ],
   "metadata": {
    "collapsed": false,
    "pycharm": {
     "name": "#%%\n"
    }
   }
  },
  {
   "cell_type": "markdown",
   "source": [
    "Счет на Kaggle  - 53.46337.  Разочаровывает."
   ],
   "metadata": {
    "collapsed": false
   }
  },
  {
   "cell_type": "markdown",
   "source": [
    "### Промежуточные выводы\n",
    "\n",
    "Прототип для оценивания сделан. Необходимо скорректировать данные на инфляцию и создать новые признаки, в том числе с помощью данных, полученных из паутины.\n",
    "\n",
    "Принято решение отказаться от данных по 36 брендам (возможно ошибочно) и сосредоточиться на построении и обучении модели по 12 брендам."
   ],
   "metadata": {
    "collapsed": false
   }
  },
  {
   "cell_type": "code",
   "execution_count": null,
   "outputs": [],
   "source": [],
   "metadata": {
    "collapsed": false,
    "pycharm": {
     "name": "#%%\n"
    }
   }
  }
 ],
 "metadata": {
  "kernelspec": {
   "display_name": "Python 3",
   "language": "python",
   "name": "python3"
  },
  "language_info": {
   "codemirror_mode": {
    "name": "ipython",
    "version": 2
   },
   "file_extension": ".py",
   "mimetype": "text/x-python",
   "name": "python",
   "nbconvert_exporter": "python",
   "pygments_lexer": "ipython2",
   "version": "2.7.6"
  }
 },
 "nbformat": 4,
 "nbformat_minor": 0
}